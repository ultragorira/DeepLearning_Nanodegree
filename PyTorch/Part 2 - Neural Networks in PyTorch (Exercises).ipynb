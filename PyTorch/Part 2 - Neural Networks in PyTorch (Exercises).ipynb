{
 "cells": [
  {
   "cell_type": "markdown",
   "metadata": {},
   "source": [
    "# Neural networks with PyTorch\n",
    "\n",
    "Deep learning networks tend to be massive with dozens or hundreds of layers, that's where the term \"deep\" comes from. You can build one of these deep networks using only weight matrices as we did in the previous notebook, but in general it's very cumbersome and difficult to implement. PyTorch has a nice module `nn` that provides a nice way to efficiently build large neural networks."
   ]
  },
  {
   "cell_type": "code",
   "execution_count": 2,
   "metadata": {},
   "outputs": [],
   "source": [
    "# Import necessary packages\n",
    "\n",
    "%matplotlib inline\n",
    "%config InlineBackend.figure_format = 'retina'\n",
    "\n",
    "import numpy as np\n",
    "import torch\n",
    "\n",
    "import helper\n",
    "\n",
    "import matplotlib.pyplot as plt"
   ]
  },
  {
   "cell_type": "markdown",
   "metadata": {},
   "source": [
    "\n",
    "Now we're going to build a larger network that can solve a (formerly) difficult problem, identifying text in an image. Here we'll use the MNIST dataset which consists of greyscale handwritten digits. Each image is 28x28 pixels, you can see a sample below\n",
    "\n",
    "<img src='assets/mnist.png'>\n",
    "\n",
    "Our goal is to build a neural network that can take one of these images and predict the digit in the image.\n",
    "\n",
    "First up, we need to get our dataset. This is provided through the `torchvision` package. The code below will download the MNIST dataset, then create training and test datasets for us. Don't worry too much about the details here, you'll learn more about this later."
   ]
  },
  {
   "cell_type": "code",
   "execution_count": 3,
   "metadata": {},
   "outputs": [
    {
     "name": "stdout",
     "output_type": "stream",
     "text": [
      "Downloading http://yann.lecun.com/exdb/mnist/train-images-idx3-ubyte.gz\n",
      "Downloading http://yann.lecun.com/exdb/mnist/train-labels-idx1-ubyte.gz\n",
      "Downloading http://yann.lecun.com/exdb/mnist/t10k-images-idx3-ubyte.gz\n",
      "Downloading http://yann.lecun.com/exdb/mnist/t10k-labels-idx1-ubyte.gz\n",
      "Processing...\n",
      "Done!\n"
     ]
    }
   ],
   "source": [
    "### Run this cell\n",
    "\n",
    "from torchvision import datasets, transforms\n",
    "\n",
    "# Define a transform to normalize the data\n",
    "transform = transforms.Compose([transforms.ToTensor(),\n",
    "                              transforms.Normalize((0.5,), (0.5,)),\n",
    "                              ])\n",
    "\n",
    "# Download and load the training data\n",
    "trainset = datasets.MNIST('~/.pytorch/MNIST_data/', download=True, train=True, transform=transform)\n",
    "trainloader = torch.utils.data.DataLoader(trainset, batch_size=64, shuffle=True)"
   ]
  },
  {
   "cell_type": "markdown",
   "metadata": {},
   "source": [
    "We have the training data loaded into `trainloader` and we make that an iterator with `iter(trainloader)`. Later, we'll use this to loop through the dataset for training, like\n",
    "\n",
    "```python\n",
    "for image, label in trainloader:\n",
    "    ## do things with images and labels\n",
    "```\n",
    "\n",
    "You'll notice I created the `trainloader` with a batch size of 64, and `shuffle=True`. The batch size is the number of images we get in one iteration from the data loader and pass through our network, often called a *batch*. And `shuffle=True` tells it to shuffle the dataset every time we start going through the data loader again. But here I'm just grabbing the first batch so we can check out the data. We can see below that `images` is just a tensor with size `(64, 1, 28, 28)`. So, 64 images per batch, 1 color channel, and 28x28 images."
   ]
  },
  {
   "cell_type": "code",
   "execution_count": 4,
   "metadata": {},
   "outputs": [
    {
     "name": "stdout",
     "output_type": "stream",
     "text": [
      "<class 'torch.Tensor'>\n",
      "torch.Size([64, 1, 28, 28])\n",
      "torch.Size([64])\n"
     ]
    }
   ],
   "source": [
    "dataiter = iter(trainloader)\n",
    "images, labels = dataiter.next()\n",
    "print(type(images))\n",
    "print(images.shape)\n",
    "print(labels.shape)"
   ]
  },
  {
   "cell_type": "markdown",
   "metadata": {},
   "source": [
    "This is what one of the images looks like. "
   ]
  },
  {
   "cell_type": "code",
   "execution_count": 5,
   "metadata": {},
   "outputs": [
    {
     "data": {
      "image/png": "[encoded data removed]",
      "text/plain": [
       "<matplotlib.figure.Figure at 0x7f427c105908>"
      ]
     },
     "metadata": {
      "image/png": {
       "height": 250,
       "width": 253
      },
      "needs_background": "light"
     },
     "output_type": "display_data"
    }
   ],
   "source": [
    "plt.imshow(images[1].numpy().squeeze(), cmap='Greys_r');"
   ]
  },
  {
   "cell_type": "markdown",
   "metadata": {},
   "source": [
    "First, let's try to build a simple network for this dataset using weight matrices and matrix multiplications. Then, we'll see how to do it using PyTorch's `nn` module which provides a much more convenient and powerful method for defining network architectures.\n",
    "\n",
    "The networks you've seen so far are called *fully-connected* or *dense* networks. Each unit in one layer is connected to each unit in the next layer. In fully-connected networks, the input to each layer must be a one-dimensional vector (which can be stacked into a 2D tensor as a batch of multiple examples). However, our images are 28x28 2D tensors, so we need to convert them into 1D vectors. Thinking about sizes, we need to convert the batch of images with shape `(64, 1, 28, 28)` to a have a shape of `(64, 784)`, 784 is 28 times 28. This is typically called *flattening*, we flattened the 2D images into 1D vectors.\n",
    "\n",
    "Previously you built a network with one output unit. Here we need 10 output units, one for each digit. We want our network to predict the digit shown in an image, so what we'll do is calculate probabilities that the image is of any one digit or class. This ends up being a discrete probability distribution over the classes (digits) that tells us the most likely class for the image. That means we need 10 output units for the 10 classes (digits). We'll see how to convert the network output into a probability distribution next.\n",
    "\n",
    "> **Exercise:** Flatten the batch of images `images`. Then build a multi-layer network with 784 input units, 256 hidden units, and 10 output units using random tensors for the weights and biases. For now, use a sigmoid activation for the hidden layer. Leave the output layer without an activation, we'll add one that gives us a probability distribution next."
   ]
  },
  {
   "cell_type": "code",
   "execution_count": 14,
   "metadata": {},
   "outputs": [
    {
     "data": {
      "text/plain": [
       "64"
      ]
     },
     "execution_count": 14,
     "metadata": {},
     "output_type": "execute_result"
    }
   ],
   "source": [
    "images.shape[0]"
   ]
  },
  {
   "cell_type": "code",
   "execution_count": 6,
   "metadata": {},
   "outputs": [],
   "source": [
    "## Your solution\n",
    "    \n",
    "def activation(x):\n",
    "    return 1/ (1+torch.exp(-x))\n",
    "\n",
    "#Flatten images\n",
    "\n",
    "inputs = images.view(images.shape[0], -1) ###-1 would figure out by itself what shape to give, in this case 784, so the inputs will be now (64,784)\n",
    "\n",
    "weights_i_h = torch.randn(784, 256)\n",
    "weights_h_o = torch.randn(256,10)\n",
    "bias_i_h = torch.randn(256)\n",
    "bias_h_o = torch.randn(10)\n",
    "\n",
    "hidden = activation(torch.mm(inputs, weights_i_h)+bias_i_h)\n",
    "out = torch.mm(hidden, weights_h_o)+bias_h_o"
   ]
  },
  {
   "cell_type": "code",
   "execution_count": 7,
   "metadata": {},
   "outputs": [
    {
     "data": {
      "text/plain": [
       "tensor([[ -7.6303,  13.6901, -13.3648,  13.4561, -12.7894,  -1.4111,\n",
       "          -6.9836, -15.2211, -12.8859, -12.0025],\n",
       "        [ -7.1904,  13.5894,  -6.4963,  -2.9787,  -4.5484,   8.5846,\n",
       "           2.2293, -23.0862,  -5.0310,  -6.4411],\n",
       "        [-18.9122,   9.5773, -17.4604,  21.6500, -13.5022,   0.4343,\n",
       "          -1.7922, -20.2423,  -8.5444, -20.6702],\n",
       "        [ -5.6651,  11.1181,  -5.6965,  13.0846, -13.2727,   2.4142,\n",
       "          -7.6200, -29.0494,  -6.5906, -11.0623],\n",
       "        [ -4.8083,  18.1225,  -6.2186,  17.8434, -16.8262,   8.7541,\n",
       "          -0.9443,  -8.0093,  -9.8585, -20.7639],\n",
       "        [-12.3478,  18.7749, -12.7797,  16.3136, -24.4902,  -3.5191,\n",
       "          -3.8014, -14.8219,   1.1277, -12.4672],\n",
       "        [-16.3078,  13.2480,  -8.7059,  13.6635, -21.4410,  -5.1578,\n",
       "          -7.8297,  -9.2843, -11.7407,  -6.6924],\n",
       "        [ -6.2491,   5.3579,   6.0768,  17.4996, -17.4672,   5.7209,\n",
       "         -10.3570,  -8.6653,  -6.7625,  -4.8922],\n",
       "        [-15.4542,  19.7369, -12.2949,  15.6886, -22.9323,  -8.5880,\n",
       "          -5.1222, -18.1792,  -8.7167, -11.9428],\n",
       "        [-17.0271,  17.9743, -15.5795,  12.7432, -17.8239,  -0.6067,\n",
       "         -10.5396, -21.6376,  -2.5629, -15.8944],\n",
       "        [ -8.8669,  17.8593, -15.9283,  20.7737, -12.3078,  -4.6522,\n",
       "          -4.5943, -11.9143,  -9.1637, -16.9444],\n",
       "        [-12.5750,   4.8735, -13.1336,  22.3014,  -9.3105,   3.3930,\n",
       "          -5.8482, -29.1911,  -8.2519, -13.7695],\n",
       "        [-13.2352,  16.3401,  -1.6288,  14.3249, -16.3494,   0.7789,\n",
       "          10.5203, -17.3852,   3.4096, -12.1106],\n",
       "        [-23.2814,  11.6546,  -2.2674,  24.3236, -20.6447,  -0.7618,\n",
       "          -5.1453, -18.5200,  -7.2472,  -6.9267],\n",
       "        [-22.2376,  17.3412, -16.1403,  14.9184, -20.0913,   6.7811,\n",
       "          -0.5663, -13.1210,  -6.2488, -12.6993],\n",
       "        [-14.8910,  20.7421, -18.3720,  18.6436, -13.0435,   5.6457,\n",
       "          -5.0430, -16.2732,  -7.6423, -16.2278],\n",
       "        [-15.6814,  19.0791,  -9.3903,  12.7295, -16.6187,  10.9896,\n",
       "          -6.1773, -22.5084,  -4.3058, -24.2707],\n",
       "        [-12.3629,  20.5948,  -5.0176,  28.4847, -14.6213,   2.5615,\n",
       "          -0.9461,  -9.2988,   4.5279,  -9.1076],\n",
       "        [-20.9982,  11.6996, -15.2055,  19.6815, -10.7519,   0.3650,\n",
       "          -2.5268,  -6.9235,  -4.9249, -15.3196],\n",
       "        [-16.8012,   9.3751, -23.9164,  20.0012, -17.9731,   0.3943,\n",
       "          -4.6572, -16.0419, -15.5107, -11.4055],\n",
       "        [-16.9260,  11.2824,  -6.1456,  19.0018,  -5.6022,  -6.0327,\n",
       "          -5.8844, -13.8875,  -4.4151,  -5.5676],\n",
       "        [-19.7021,  13.6336, -22.0785,  15.4093, -18.6501,  -1.5443,\n",
       "          -3.2510, -11.1671, -16.5718, -11.8662],\n",
       "        [-20.3093,   6.9909, -10.7733,  31.7757, -19.5702,   0.3383,\n",
       "          -9.3839, -19.8654,  -6.6508, -18.3641],\n",
       "        [ -8.2385,  12.9618,  -7.0301,  24.4557, -11.6753,  -2.9767,\n",
       "          -1.4002, -14.2637,   0.6535, -10.9418],\n",
       "        [-27.2985,  14.1566, -11.3847,  19.7008, -16.1688,   1.7197,\n",
       "          -3.4393, -11.4103, -10.5622, -17.4260],\n",
       "        [-17.0000,  17.0471, -15.7441,  24.1165,  -9.2540,   6.2772,\n",
       "          -1.0556,  -4.3067, -10.8268, -11.0623],\n",
       "        [ -4.6506,  15.4437,  -4.9458,  12.1102, -16.4621,   4.4140,\n",
       "           1.1615, -13.4380,   5.4923,   2.9807],\n",
       "        [-15.8315,  17.5695,  -6.7427,  14.4391, -12.9498,   0.8667,\n",
       "          -5.2603, -21.5065, -12.7592,  -5.8618],\n",
       "        [-16.5450,  13.7879, -15.2866,  12.7533, -14.7034,   7.0526,\n",
       "          -3.8370, -27.7870,  -2.7164, -18.9892],\n",
       "        [-19.0004,  12.5554, -16.7340,  13.4068, -13.2156,   2.1194,\n",
       "          -4.2391,  -8.2253,  -8.1158, -15.4358],\n",
       "        [-22.3863,  12.3261,  -7.9315,  23.2672, -18.3871,  -1.5816,\n",
       "          -0.4505, -13.6501,  -6.1482, -18.0769],\n",
       "        [-17.3904,  12.4811,  -8.2826,  24.5145, -15.6245,   5.3421,\n",
       "          -3.5886, -21.4036,  -3.0437, -11.3587],\n",
       "        [-18.4008,  14.5969,  -3.0724,  21.9128, -17.2422,  -9.2276,\n",
       "          -1.7762, -23.6185, -11.2685, -13.8461],\n",
       "        [-26.2101,  17.8210, -13.4622,  20.2002, -14.7868,  -0.6371,\n",
       "          -6.6274, -18.3603,   3.9576, -12.6819],\n",
       "        [-12.3081,  20.4719,  -8.6736,  27.2870, -20.7033,  -2.2794,\n",
       "          -1.4171, -18.0268,   5.6361,  -4.2662],\n",
       "        [-13.9525,   7.9090,  -9.5922,  15.8377, -10.3020,  -2.2997,\n",
       "          -3.0534,  -8.7925,  -9.1792,  -0.7119],\n",
       "        [ -9.9817,  19.7873, -19.6187,  27.5092, -19.7745,  -1.0276,\n",
       "           1.6833, -15.6287,  -5.9453,  -9.9022],\n",
       "        [-19.1995,  10.9689, -15.9795,  16.7591, -17.3723,  13.8719,\n",
       "          -3.9598,  -9.0719,  -2.0620,  -9.4390],\n",
       "        [ -1.2750,   5.5956,  -3.4975,  12.5642, -19.3979,   6.4757,\n",
       "         -12.4150, -22.8375, -11.5522,  -8.0715],\n",
       "        [-18.4925,  10.7033, -14.1830,  15.1647, -11.8499,   1.4316,\n",
       "          -3.2523,  -8.9146,  -7.9117, -12.8114],\n",
       "        [-22.3060,   4.6584,  -8.0243,  12.4869, -21.7867,  -0.8129,\n",
       "           1.3863, -17.8852,  -6.5933, -21.6571],\n",
       "        [ -9.8829,  10.7474,  -5.8055,   7.7760, -16.3107,   3.9386,\n",
       "           8.7582, -12.6428,  -2.0716, -13.0146],\n",
       "        [-13.1060,  17.8297,  -6.7902,  25.7518, -11.2049,   1.6548,\n",
       "         -14.4964,  -9.1825, -10.5612, -10.4992],\n",
       "        [-20.7886,  14.5090, -12.6599,  17.5134, -17.2974,  -3.1637,\n",
       "          -8.7890, -22.0723, -13.1266, -13.8130],\n",
       "        [-14.8993,  13.7862, -11.5510,  24.9858, -18.9193,  -1.4501,\n",
       "           3.7674, -17.4900,  -5.4325,  -5.9758],\n",
       "        [-16.1389,  13.3227,  -6.1888,  12.9457, -17.1508,  -2.1308,\n",
       "         -10.7178, -21.8070, -10.4786, -13.2872],\n",
       "        [-11.7614,  18.0681,  -8.1288,  14.4696, -15.5995,  -1.7384,\n",
       "          -7.4172, -15.0617, -10.8405, -10.9163],\n",
       "        [-13.5765,  14.6452,  -6.3285,  22.3412, -15.1436,   2.5956,\n",
       "          -4.8311, -10.4435,  -2.2127, -11.3626],\n",
       "        [ -9.8187,  10.8717,  -7.6563,   7.5935, -23.5071,   0.2865,\n",
       "         -10.4092, -17.6784,  -8.1308, -11.0489],\n",
       "        [-18.6943,  15.1520, -21.0551,  17.6341, -17.0843,   9.5527,\n",
       "          -5.6042, -16.2346, -14.0780, -10.7171],\n",
       "        [ -7.6831,   7.1903,  -5.2905,  14.4398, -11.6893,   2.1816,\n",
       "         -10.1411, -14.8126,  -7.2392, -11.7249],\n",
       "        [-16.1812,  18.6081,  -9.7524,  18.9085, -23.2554,   3.9152,\n",
       "          -3.0770, -16.0238,  -9.7956, -13.0303],\n",
       "        [-10.6791,   7.8039,  -2.0489,  14.7987, -24.6969,  -2.6813,\n",
       "           1.3190, -19.4234,   0.8134,  -6.1273],\n",
       "        [-18.6098,  10.7696,  -9.6360,  23.1356, -13.0471,  -2.2890,\n",
       "          -0.1656, -22.4348,  -7.2845, -19.4449],\n",
       "        [-15.1755,  19.9312, -12.3566,  28.9913, -21.0453,   0.5992,\n",
       "         -11.3733,  -7.4334,  -7.5572,  -5.0216],\n",
       "        [-23.9920,  11.3505,  -9.3495,  22.0546,  -6.9693,  -0.5318,\n",
       "          -1.2786,  -5.8327,  -4.0163,  -9.9066],\n",
       "        [-28.0905,  12.4447,  -2.9829,  17.8563, -14.2609,  -2.3558,\n",
       "          -1.8466, -14.9896,  -3.1236, -12.9297],\n",
       "        [-14.9268,  19.8584,  -5.8534,  21.1255, -12.7942,  -4.4043,\n",
       "          -6.8342,  -9.6957,   0.3475,  -2.2402],\n",
       "        [-17.8687,  13.6368, -18.0128,  20.3103, -11.9209,  -4.9127,\n",
       "          -8.7891, -12.5877,  -2.2843, -13.4100],\n",
       "        [-14.8337,  20.3607, -18.9206,  22.8068,  -8.5026,   4.2716,\n",
       "          -4.2328, -13.1548, -13.4358, -12.1633],\n",
       "        [ -8.6333,   8.6737,  -3.6041,  20.7812, -13.0074,   3.8348,\n",
       "          -2.6709,  -9.9316,  -7.6721, -11.3413],\n",
       "        [ -7.4891,  13.1592,  -4.3789,  23.0446, -16.1339,   5.8023,\n",
       "          -9.3107, -16.9874,  -3.8549,   1.9166],\n",
       "        [-19.1859,   5.4001, -14.5445,  26.6787,  -9.1187,   1.2205,\n",
       "          -6.9829, -11.5104,   8.5387, -10.6463],\n",
       "        [-13.7110,  18.5916,  -2.8272,  10.9700, -12.2142, -10.7850,\n",
       "           6.9043, -17.8459,  -0.2615, -16.6146]])"
      ]
     },
     "execution_count": 7,
     "metadata": {},
     "output_type": "execute_result"
    }
   ],
   "source": [
    "out"
   ]
  },
  {
   "cell_type": "code",
   "execution_count": 16,
   "metadata": {},
   "outputs": [
    {
     "data": {
      "text/plain": [
       "torch.Size([64, 10])"
      ]
     },
     "execution_count": 16,
     "metadata": {},
     "output_type": "execute_result"
    }
   ],
   "source": [
    "out.shape"
   ]
  },
  {
   "cell_type": "markdown",
   "metadata": {},
   "source": [
    "Now we have 10 outputs for our network. We want to pass in an image to our network and get out a probability distribution over the classes that tells us the likely class(es) the image belongs to. Something that looks like this:\n",
    "<img src='assets/image_distribution.png' width=500px>\n",
    "\n",
    "Here we see that the probability for each class is roughly the same. This is representing an untrained network, it hasn't seen any data yet so it just returns a uniform distribution with equal probabilities for each class.\n",
    "\n",
    "To calculate this probability distribution, we often use the [**softmax** function](https://en.wikipedia.org/wiki/Softmax_function). Mathematically this looks like\n",
    "\n",
    "$$\n",
    "\\Large \\sigma(x_i) = \\cfrac{e^{x_i}}{\\sum_k^K{e^{x_k}}}\n",
    "$$\n",
    "\n",
    "What this does is squish each input $x_i$ between 0 and 1 and normalizes the values to give you a proper probability distribution where the probabilites sum up to one.\n",
    "\n",
    "> **Exercise:** Implement a function `softmax` that performs the softmax calculation and returns probability distributions for each example in the batch. Note that you'll need to pay attention to the shapes when doing this. If you have a tensor `a` with shape `(64, 10)` and a tensor `b` with shape `(64,)`, doing `a/b` will give you an error because PyTorch will try to do the division across the columns (called broadcasting) but you'll get a size mismatch. The way to think about this is for each of the 64 examples, you only want to divide by one value, the sum in the denominator. So you need `b` to have a shape of `(64, 1)`. This way PyTorch will divide the 10 values in each row of `a` by the one value in each row of `b`. Pay attention to how you take the sum as well. You'll need to define the `dim` keyword in `torch.sum`. Setting `dim=0` takes the sum across the rows while `dim=1` takes the sum across the columns."
   ]
  },
  {
   "cell_type": "code",
   "execution_count": 17,
   "metadata": {},
   "outputs": [
    {
     "name": "stdout",
     "output_type": "stream",
     "text": [
      "torch.Size([64, 10])\n",
      "tensor([ 1.0000,  1.0000,  1.0000,  1.0000,  1.0000,  1.0000,  1.0000,\n",
      "         1.0000,  1.0000,  1.0000,  1.0000,  1.0000,  1.0000,  1.0000,\n",
      "         1.0000,  1.0000,  1.0000,  1.0000,  1.0000,  1.0000,  1.0000,\n",
      "         1.0000,  1.0000,  1.0000,  1.0000,  1.0000,  1.0000,  1.0000,\n",
      "         1.0000,  1.0000,  1.0000,  1.0000,  1.0000,  1.0000,  1.0000,\n",
      "         1.0000,  1.0000,  1.0000,  1.0000,  1.0000,  1.0000,  1.0000,\n",
      "         1.0000,  1.0000,  1.0000,  1.0000,  1.0000,  1.0000,  1.0000,\n",
      "         1.0000,  1.0000,  1.0000,  1.0000,  1.0000,  1.0000,  1.0000,\n",
      "         1.0000,  1.0000,  1.0000,  1.0000,  1.0000,  1.0000,  1.0000,\n",
      "         1.0000])\n"
     ]
    }
   ],
   "source": [
    "def softmax(x):\n",
    "    ## TODO: Implement the softmax function here\n",
    "    return torch.exp(x)/torch.sum(torch.exp(x),dim=1).view(-1,1) #we want the sum of all column in one single row.\n",
    "    #Since torch.sum gives back a tensor we need to reshape it so that it is of shape 64, 10\n",
    "\n",
    "# Here, out should be the output of the network in the previous excercise with shape (64,10)\n",
    "probabilities = softmax(out)\n",
    "\n",
    "# Does it have the right shape? Should be (64, 10)\n",
    "print(probabilities.shape)\n",
    "# Does it sum to 1?\n",
    "print(probabilities.sum(dim=1))"
   ]
  },
  {
   "cell_type": "markdown",
   "metadata": {},
   "source": [
    "## Building networks with PyTorch\n",
    "\n",
    "PyTorch provides a module `nn` that makes building networks much simpler. Here I'll show you how to build the same one as above with 784 inputs, 256 hidden units, 10 output units and a softmax output."
   ]
  },
  {
   "cell_type": "code",
   "execution_count": 18,
   "metadata": {},
   "outputs": [],
   "source": [
    "from torch import nn"
   ]
  },
  {
   "cell_type": "code",
   "execution_count": 19,
   "metadata": {},
   "outputs": [],
   "source": [
    "class Network(nn.Module):\n",
    "    def __init__(self):\n",
    "        super().__init__()\n",
    "        \n",
    "        # Inputs to hidden layer linear transformation\n",
    "        self.hidden = nn.Linear(784, 256)\n",
    "        # Output layer, 10 units - one for each digit\n",
    "        self.output = nn.Linear(256, 10)\n",
    "        \n",
    "        # Define sigmoid activation and softmax output \n",
    "        self.sigmoid = nn.Sigmoid()\n",
    "        self.softmax = nn.Softmax(dim=1)\n",
    "        \n",
    "    def forward(self, x):\n",
    "        # Pass the input tensor through each of our operations\n",
    "        x = self.hidden(x)\n",
    "        x = self.sigmoid(x)\n",
    "        x = self.output(x)\n",
    "        x = self.softmax(x)\n",
    "        \n",
    "        return x"
   ]
  },
  {
   "cell_type": "markdown",
   "metadata": {},
   "source": [
    "Let's go through this bit by bit.\n",
    "\n",
    "```python\n",
    "class Network(nn.Module):\n",
    "```\n",
    "\n",
    "Here we're inheriting from `nn.Module`. Combined with `super().__init__()` this creates a class that tracks the architecture and provides a lot of useful methods and attributes. It is mandatory to inherit from `nn.Module` when you're creating a class for your network. The name of the class itself can be anything.\n",
    "\n",
    "```python\n",
    "self.hidden = nn.Linear(784, 256)\n",
    "```\n",
    "\n",
    "This line creates a module for a linear transformation, $x\\mathbf{W} + b$, with 784 inputs and 256 outputs and assigns it to `self.hidden`. The module automatically creates the weight and bias tensors which we'll use in the `forward` method. You can access the weight and bias tensors once the network (`net`) is created with `net.hidden.weight` and `net.hidden.bias`.\n",
    "\n",
    "```python\n",
    "self.output = nn.Linear(256, 10)\n",
    "```\n",
    "\n",
    "Similarly, this creates another linear transformation with 256 inputs and 10 outputs.\n",
    "\n",
    "```python\n",
    "self.sigmoid = nn.Sigmoid()\n",
    "self.softmax = nn.Softmax(dim=1)\n",
    "```\n",
    "\n",
    "Here I defined operations for the sigmoid activation and softmax output. Setting `dim=1` in `nn.Softmax(dim=1)` calculates softmax across the columns.\n",
    "\n",
    "```python\n",
    "def forward(self, x):\n",
    "```\n",
    "\n",
    "PyTorch networks created with `nn.Module` must have a `forward` method defined. It takes in a tensor `x` and passes it through the operations you defined in the `__init__` method.\n",
    "\n",
    "```python\n",
    "x = self.hidden(x)\n",
    "x = self.sigmoid(x)\n",
    "x = self.output(x)\n",
    "x = self.softmax(x)\n",
    "```\n",
    "\n",
    "Here the input tensor `x` is passed through each operation a reassigned to `x`. We can see that the input tensor goes through the hidden layer, then a sigmoid function, then the output layer, and finally the softmax function. It doesn't matter what you name the variables here, as long as the inputs and outputs of the operations match the network architecture you want to build. The order in which you define things in the `__init__` method doesn't matter, but you'll need to sequence the operations correctly in the `forward` method.\n",
    "\n",
    "Now we can create a `Network` object."
   ]
  },
  {
   "cell_type": "code",
   "execution_count": 20,
   "metadata": {},
   "outputs": [
    {
     "data": {
      "text/plain": [
       "Network(\n",
       "  (hidden): Linear(in_features=784, out_features=256, bias=True)\n",
       "  (output): Linear(in_features=256, out_features=10, bias=True)\n",
       "  (sigmoid): Sigmoid()\n",
       "  (softmax): Softmax()\n",
       ")"
      ]
     },
     "execution_count": 20,
     "metadata": {},
     "output_type": "execute_result"
    }
   ],
   "source": [
    "# Create the network and look at it's text representation\n",
    "model = Network()\n",
    "model"
   ]
  },
  {
   "cell_type": "code",
   "execution_count": 21,
   "metadata": {},
   "outputs": [
    {
     "data": {
      "text/plain": [
       "Parameter containing:\n",
       "tensor([[ 2.3504e-02, -2.5320e-03, -1.4902e-02,  ..., -1.8926e-04,\n",
       "         -1.4926e-03, -2.5491e-02],\n",
       "        [ 5.9310e-03,  1.5621e-03,  2.7122e-02,  ...,  3.3961e-02,\n",
       "          2.6278e-03, -7.9260e-03],\n",
       "        [ 3.1586e-02,  2.8507e-02, -3.0077e-02,  ..., -3.0667e-02,\n",
       "          1.5031e-02, -8.6270e-03],\n",
       "        ...,\n",
       "        [ 1.3179e-02, -3.4567e-02,  2.9666e-02,  ...,  1.1340e-02,\n",
       "          2.3937e-02, -3.2516e-03],\n",
       "        [ 1.5007e-02,  1.6310e-02,  9.1647e-03,  ..., -2.4810e-03,\n",
       "          1.0496e-02, -7.5476e-03],\n",
       "        [-1.8101e-02,  1.5013e-05,  3.2962e-02,  ...,  1.2715e-02,\n",
       "         -3.3062e-02, -9.3759e-03]])"
      ]
     },
     "execution_count": 21,
     "metadata": {},
     "output_type": "execute_result"
    }
   ],
   "source": [
    "model.hidden.weight"
   ]
  },
  {
   "cell_type": "code",
   "execution_count": 24,
   "metadata": {},
   "outputs": [
    {
     "data": {
      "text/plain": [
       "Parameter containing:\n",
       "tensor(1.00000e-02 *\n",
       "       [-0.4470,  1.1065,  0.8518,  0.2554, -1.4026, -1.3294,  0.2153,\n",
       "         0.4869, -1.7687, -1.8696,  0.8386, -2.4617,  2.5672,  1.5587,\n",
       "        -1.0052, -1.1390, -1.6650,  3.2396, -2.0028,  2.6899, -3.0296,\n",
       "        -0.3455, -2.6993,  1.5153,  1.3845, -2.9291, -2.7666,  2.4229,\n",
       "        -1.7662,  1.5356,  2.0857, -3.0447,  3.3180, -2.8310,  1.7671,\n",
       "        -3.4785,  2.5717,  2.9412,  1.2898, -1.2235,  0.9161, -3.3673,\n",
       "        -1.9669, -1.2550,  1.1540,  0.9540,  3.5065,  3.2418, -0.9497,\n",
       "         1.4849,  2.2650, -1.3443,  3.5521, -3.5341, -1.9530, -3.0123,\n",
       "        -0.4851,  3.0088,  3.5211, -1.9312, -2.2051,  1.4840, -0.6930,\n",
       "        -3.3065, -0.6962, -1.3415,  0.0428,  2.8929, -1.6404, -0.9275,\n",
       "        -1.6969, -2.8651,  0.7798,  0.3813,  1.7809,  2.9193,  1.9756,\n",
       "         1.4755,  0.8580,  0.7704,  0.3586, -1.0829,  3.3409, -0.5923,\n",
       "        -3.0992,  3.5124, -1.1272,  1.9929, -3.0966, -2.6708,  0.3531,\n",
       "        -3.2432, -2.7672,  1.7727,  0.9341,  3.4241, -1.8653,  1.1070,\n",
       "         2.2488, -2.6869, -3.1932, -1.1015,  1.5808,  1.6505, -2.4829,\n",
       "         2.1907, -0.4482,  3.0195, -1.1982,  2.6196, -1.9642,  3.4810,\n",
       "        -0.3056,  2.9073,  0.5200,  0.4060, -0.9076, -0.9664, -3.0486,\n",
       "         3.3053, -1.9968,  1.4432,  1.6536,  2.2031,  3.3446,  0.1777,\n",
       "        -0.3902,  1.8269,  2.0690, -0.7288,  1.8484,  1.3963, -1.0910,\n",
       "         0.0436, -2.2536, -0.8020,  2.4019,  3.0390,  2.8428,  1.6088,\n",
       "        -1.6486,  0.8390, -0.9960,  1.4765,  1.8923,  2.5814,  0.5867,\n",
       "         0.3279, -0.3723, -1.1437,  1.3661,  2.9720, -1.1463, -3.1531,\n",
       "         1.9581,  1.7089, -0.2368, -1.3691,  3.0486,  3.0671,  2.3597,\n",
       "         3.4195,  0.5919, -2.7982,  1.7296,  1.6857, -0.9279,  3.0944,\n",
       "        -2.2273,  1.6580,  1.9937,  0.2417,  0.9573,  2.0548,  2.9843,\n",
       "         0.2590,  3.5013, -0.5888,  3.0500, -2.8547,  1.4410,  2.9182,\n",
       "        -1.8407,  1.3619,  2.4583,  2.4061, -2.7582,  2.1790,  1.4849,\n",
       "         0.0154, -2.9965,  0.2632, -1.9793, -2.9286, -1.6502, -2.3808,\n",
       "        -2.3318, -0.4866,  1.1783, -1.4597, -0.6080, -1.1728, -3.3578,\n",
       "        -3.2704,  0.6321, -0.8732,  3.3121,  3.3199,  2.4677,  2.5846,\n",
       "        -3.3350, -2.4548,  1.9694,  2.6099,  2.5736, -2.8634,  0.1928,\n",
       "         3.0957, -3.0909, -0.2213, -3.0640, -1.9140, -0.9868, -0.3998,\n",
       "        -2.1035, -3.0317, -1.8420, -1.4417,  1.6859,  3.2438, -3.0516,\n",
       "         3.3179, -0.6128, -0.5643,  2.0007, -1.8635, -2.8894, -0.4853,\n",
       "        -1.8197, -1.6259,  1.4824,  1.7552,  0.7276,  2.0257, -0.1600,\n",
       "         0.4070, -3.4048, -2.9108, -1.4808,  0.0568,  2.8605,  1.3467,\n",
       "        -1.8392, -0.2432,  1.0586, -2.9326])"
      ]
     },
     "execution_count": 24,
     "metadata": {},
     "output_type": "execute_result"
    }
   ],
   "source": [
    "model.hidden.bias"
   ]
  },
  {
   "cell_type": "markdown",
   "metadata": {},
   "source": [
    "You can define the network somewhat more concisely and clearly using the `torch.nn.functional` module. This is the most common way you'll see networks defined as many operations are simple element-wise functions. We normally import this module as `F`, `import torch.nn.functional as F`."
   ]
  },
  {
   "cell_type": "code",
   "execution_count": null,
   "metadata": {
    "collapsed": true
   },
   "outputs": [],
   "source": [
    "import torch.nn.functional as F\n",
    "\n",
    "class Network(nn.Module):\n",
    "    def __init__(self):\n",
    "        super().__init__()\n",
    "        # Inputs to hidden layer linear transformation\n",
    "        self.hidden = nn.Linear(784, 256)\n",
    "        # Output layer, 10 units - one for each digit\n",
    "        self.output = nn.Linear(256, 10)\n",
    "        \n",
    "    def forward(self, x):\n",
    "        # Hidden layer with sigmoid activation\n",
    "        x = F.sigmoid(self.hidden(x))\n",
    "        # Output layer with softmax activation\n",
    "        x = F.softmax(self.output(x), dim=1)\n",
    "        \n",
    "        return x"
   ]
  },
  {
   "cell_type": "markdown",
   "metadata": {},
   "source": [
    "### Activation functions\n",
    "\n",
    "So far we've only been looking at the softmax activation, but in general any function can be used as an activation function. The only requirement is that for a network to approximate a non-linear function, the activation functions must be non-linear. Here are a few more examples of common activation functions: Tanh (hyperbolic tangent), and ReLU (rectified linear unit).\n",
    "\n",
    "<img src=\"assets/activation.png\" width=700px>\n",
    "\n",
    "In practice, the ReLU function is used almost exclusively as the activation function for hidden layers."
   ]
  },
  {
   "cell_type": "markdown",
   "metadata": {},
   "source": [
    "### Your Turn to Build a Network\n",
    "\n",
    "<img src=\"assets/mlp_mnist.png\" width=600px>\n",
    "\n",
    "> **Exercise:** Create a network with 784 input units, a hidden layer with 128 units and a ReLU activation, then a hidden layer with 64 units and a ReLU activation, and finally an output layer with a softmax activation as shown above. You can use a ReLU activation with the `nn.ReLU` module or `F.relu` function."
   ]
  },
  {
   "cell_type": "code",
   "execution_count": 40,
   "metadata": {
    "scrolled": true
   },
   "outputs": [
    {
     "data": {
      "text/plain": [
       "Classifier(\n",
       "  (fc1): Linear(in_features=784, out_features=128, bias=True)\n",
       "  (fc2): Linear(in_features=128, out_features=64, bias=True)\n",
       "  (fc3): Linear(in_features=64, out_features=10, bias=True)\n",
       ")"
      ]
     },
     "execution_count": 40,
     "metadata": {},
     "output_type": "execute_result"
    }
   ],
   "source": [
    "## Your solution here\n",
    "from torch import nn\n",
    "import torch.nn.functional as F\n",
    "\n",
    "class Classifier(nn.Module):\n",
    "    def __init__(self):\n",
    "        super().__init__()\n",
    "        self.fc1 = nn.Linear(784,128)\n",
    "        self.fc2 = nn.Linear(128,64)\n",
    "        self.fc3 = nn.Linear(64,10)\n",
    "    \n",
    "    def forward(self,x):\n",
    "        \n",
    "        x = F.relu(self.fc1(x))\n",
    "        x = F.relu(self.fc2(x))\n",
    "        x = F.softmax(self.fc3(x), dim=1)\n",
    "        \n",
    "        return x\n",
    "        \n",
    "model = Classifier()\n",
    "model"
   ]
  },
  {
   "cell_type": "markdown",
   "metadata": {},
   "source": [
    "### Initializing weights and biases\n",
    "\n",
    "The weights and such are automatically initialized for you, but it's possible to customize how they are initialized. The weights and biases are tensors attached to the layer you defined, you can get them with `model.fc1.weight` for instance."
   ]
  },
  {
   "cell_type": "code",
   "execution_count": 41,
   "metadata": {},
   "outputs": [
    {
     "name": "stdout",
     "output_type": "stream",
     "text": [
      "Parameter containing:\n",
      "tensor([[ 3.0924e-02, -2.2681e-02, -2.3103e-02,  ..., -2.8005e-02,\n",
      "          2.8694e-03, -1.4513e-02],\n",
      "        [-8.1821e-03, -2.2360e-02, -1.7646e-02,  ...,  2.5375e-02,\n",
      "         -1.4079e-02, -3.1166e-02],\n",
      "        [-1.9931e-02, -3.3609e-02, -1.4033e-02,  ...,  1.2376e-03,\n",
      "         -3.4972e-02,  3.4784e-02],\n",
      "        ...,\n",
      "        [ 7.2744e-03,  1.8843e-03, -2.0063e-02,  ..., -2.0960e-02,\n",
      "          1.6078e-02, -1.1488e-02],\n",
      "        [ 1.4445e-02,  1.7713e-03,  2.3245e-02,  ...,  3.3939e-02,\n",
      "         -2.9723e-02, -2.1574e-02],\n",
      "        [ 3.0222e-02, -9.4485e-03,  3.1688e-02,  ...,  1.9216e-02,\n",
      "          2.3884e-02,  2.0617e-02]])\n",
      "Parameter containing:\n",
      "tensor([ 1.3827e-02, -3.3130e-02, -2.3769e-04, -1.9441e-02, -2.7126e-02,\n",
      "        -2.7132e-02,  2.2417e-02,  2.1400e-02, -3.1302e-02,  1.8730e-02,\n",
      "        -3.0323e-02, -2.6038e-02,  2.3583e-03, -1.5638e-02,  2.9848e-02,\n",
      "        -2.3134e-02, -3.0214e-02,  2.7634e-02,  2.8236e-03, -1.6184e-02,\n",
      "        -3.1357e-02,  1.5340e-02, -3.1559e-02, -3.0689e-02, -3.2961e-02,\n",
      "         2.7008e-02,  1.2181e-02,  2.0910e-03,  3.5606e-02, -2.9474e-02,\n",
      "         3.2522e-02,  1.1224e-02, -2.7024e-02,  3.4796e-02, -9.0181e-03,\n",
      "        -4.1628e-03, -1.5313e-02,  2.3080e-02, -2.9144e-02, -6.0722e-07,\n",
      "         4.5285e-03, -4.4815e-03,  2.8487e-02, -9.5170e-04,  1.2948e-02,\n",
      "         8.9895e-03, -2.3086e-02, -2.3542e-02,  1.3985e-02, -1.7981e-02,\n",
      "        -2.1240e-03,  2.5304e-02,  1.1737e-02, -2.7770e-02,  2.8139e-02,\n",
      "         1.9339e-03, -1.2046e-02, -3.2364e-02, -1.1144e-02, -8.0668e-03,\n",
      "         5.0895e-03, -3.4103e-02, -3.5943e-03,  1.9318e-02, -2.2611e-02,\n",
      "         3.0639e-02, -1.5235e-03,  2.6122e-02,  1.5068e-02, -3.0706e-03,\n",
      "         2.4846e-03, -2.2164e-02,  2.3312e-02, -1.3771e-02, -2.5431e-02,\n",
      "         1.9480e-02, -1.9122e-02,  6.1694e-03, -1.8022e-02, -2.6887e-02,\n",
      "        -1.1981e-03,  1.2297e-02,  2.5363e-02,  1.8415e-02,  3.0794e-03,\n",
      "         2.7895e-02, -3.5310e-02,  2.1557e-02, -1.0425e-02,  3.8772e-03,\n",
      "        -1.9014e-02,  2.4148e-02,  3.0897e-03, -1.2004e-02,  1.5707e-02,\n",
      "         3.2381e-02,  1.4405e-02,  2.6757e-02, -5.6666e-03, -2.0259e-02,\n",
      "         3.1499e-02, -2.0012e-02,  2.0484e-02, -3.1794e-03,  8.7049e-03,\n",
      "        -7.4804e-03,  3.3318e-02, -1.0876e-02, -1.0732e-02,  3.0584e-02,\n",
      "         1.2542e-02, -2.8078e-02, -3.2830e-03, -2.6445e-02, -9.5421e-03,\n",
      "        -1.8181e-02,  1.3309e-02, -1.1471e-02, -2.8596e-02, -2.4477e-03,\n",
      "        -2.8459e-03,  9.1134e-03, -1.0609e-02,  2.7494e-02, -1.2543e-02,\n",
      "        -3.4876e-03,  9.5721e-03,  2.7552e-02])\n"
     ]
    }
   ],
   "source": [
    "print(model.fc1.weight)\n",
    "print(model.fc1.bias)"
   ]
  },
  {
   "cell_type": "markdown",
   "metadata": {},
   "source": [
    "For custom initialization, we want to modify these tensors in place. These are actually autograd *Variables*, so we need to get back the actual tensors with `model.fc1.weight.data`. Once we have the tensors, we can fill them with zeros (for biases) or random normal values."
   ]
  },
  {
   "cell_type": "code",
   "execution_count": 42,
   "metadata": {},
   "outputs": [
    {
     "data": {
      "text/plain": [
       "tensor([ 0.,  0.,  0.,  0.,  0.,  0.,  0.,  0.,  0.,  0.,  0.,  0.,\n",
       "         0.,  0.,  0.,  0.,  0.,  0.,  0.,  0.,  0.,  0.,  0.,  0.,\n",
       "         0.,  0.,  0.,  0.,  0.,  0.,  0.,  0.,  0.,  0.,  0.,  0.,\n",
       "         0.,  0.,  0.,  0.,  0.,  0.,  0.,  0.,  0.,  0.,  0.,  0.,\n",
       "         0.,  0.,  0.,  0.,  0.,  0.,  0.,  0.,  0.,  0.,  0.,  0.,\n",
       "         0.,  0.,  0.,  0.,  0.,  0.,  0.,  0.,  0.,  0.,  0.,  0.,\n",
       "         0.,  0.,  0.,  0.,  0.,  0.,  0.,  0.,  0.,  0.,  0.,  0.,\n",
       "         0.,  0.,  0.,  0.,  0.,  0.,  0.,  0.,  0.,  0.,  0.,  0.,\n",
       "         0.,  0.,  0.,  0.,  0.,  0.,  0.,  0.,  0.,  0.,  0.,  0.,\n",
       "         0.,  0.,  0.,  0.,  0.,  0.,  0.,  0.,  0.,  0.,  0.,  0.,\n",
       "         0.,  0.,  0.,  0.,  0.,  0.,  0.,  0.])"
      ]
     },
     "execution_count": 42,
     "metadata": {},
     "output_type": "execute_result"
    }
   ],
   "source": [
    "# Set biases to all zeros\n",
    "model.fc1.bias.data.fill_(0)"
   ]
  },
  {
   "cell_type": "code",
   "execution_count": 43,
   "metadata": {},
   "outputs": [
    {
     "data": {
      "text/plain": [
       "tensor([[-4.6636e-03, -1.0744e-02, -1.3023e-02,  ...,  8.5225e-03,\n",
       "          3.9237e-03, -6.8536e-03],\n",
       "        [ 2.2829e-03, -1.1144e-02,  6.2079e-03,  ..., -4.4658e-03,\n",
       "         -1.6924e-03, -8.2127e-03],\n",
       "        [ 2.6085e-03, -8.9555e-03,  2.0046e-03,  ..., -5.4994e-03,\n",
       "         -6.9098e-03, -3.8127e-04],\n",
       "        ...,\n",
       "        [ 1.1736e-03, -5.8838e-03,  1.1331e-02,  ..., -3.3751e-03,\n",
       "         -4.7728e-03, -2.2977e-03],\n",
       "        [-9.3598e-04,  5.7429e-03,  1.4837e-02,  ...,  2.3902e-02,\n",
       "         -3.4723e-03, -1.4170e-02],\n",
       "        [-5.6742e-03, -4.2550e-03, -1.6051e-02,  ..., -1.1124e-03,\n",
       "         -1.3012e-02, -6.8189e-03]])"
      ]
     },
     "execution_count": 43,
     "metadata": {},
     "output_type": "execute_result"
    }
   ],
   "source": [
    "# sample from random normal with standard dev = 0.01\n",
    "model.fc1.weight.data.normal_(std=0.01)"
   ]
  },
  {
   "cell_type": "markdown",
   "metadata": {},
   "source": [
    "### Forward pass\n",
    "\n",
    "Now that we have a network, let's see what happens when we pass in an image."
   ]
  },
  {
   "cell_type": "code",
   "execution_count": 44,
   "metadata": {},
   "outputs": [
    {
     "data": {
      "image/png": "[encoded data removed]",
      "text/plain": [
       "<matplotlib.figure.Figure at 0x7f42814c00f0>"
      ]
     },
     "metadata": {
      "image/png": {
       "height": 224,
       "width": 423
      },
      "needs_background": "light"
     },
     "output_type": "display_data"
    }
   ],
   "source": [
    "# Grab some data \n",
    "dataiter = iter(trainloader)\n",
    "images, labels = dataiter.next()\n",
    "\n",
    "# Resize images into a 1D vector, new shape is (batch size, color channels, image pixels) \n",
    "images.resize_(64, 1, 784)\n",
    "# or images.resize_(images.shape[0], 1, 784) to automatically get batch size\n",
    "\n",
    "# Forward pass through the network\n",
    "img_idx = 0\n",
    "ps = model.forward(images[img_idx,:])\n",
    "\n",
    "img = images[img_idx]\n",
    "helper.view_classify(img.view(1, 28, 28), ps)"
   ]
  },
  {
   "cell_type": "markdown",
   "metadata": {},
   "source": [
    "As you can see above, our network has basically no idea what this digit is. It's because we haven't trained it yet, all the weights are random!\n",
    "\n",
    "### Using `nn.Sequential`\n",
    "\n",
    "PyTorch provides a convenient way to build networks like this where a tensor is passed sequentially through operations, `nn.Sequential` ([documentation](https://pytorch.org/docs/master/nn.html#torch.nn.Sequential)). Using this to build the equivalent network:"
   ]
  },
  {
   "cell_type": "code",
   "execution_count": 45,
   "metadata": {},
   "outputs": [
    {
     "name": "stdout",
     "output_type": "stream",
     "text": [
      "Sequential(\n",
      "  (0): Linear(in_features=784, out_features=128, bias=True)\n",
      "  (1): ReLU()\n",
      "  (2): Linear(in_features=128, out_features=64, bias=True)\n",
      "  (3): ReLU()\n",
      "  (4): Linear(in_features=64, out_features=10, bias=True)\n",
      "  (5): Softmax()\n",
      ")\n"
     ]
    },
    {
     "data": {
      "image/png": "[encoded data removed]",
      "text/plain": [
       "<matplotlib.figure.Figure at 0x7f42299b2898>"
      ]
     },
     "metadata": {
      "image/png": {
       "height": 224,
       "width": 423
      },
      "needs_background": "light"
     },
     "output_type": "display_data"
    }
   ],
   "source": [
    "# Hyperparameters for our network\n",
    "input_size = 784\n",
    "hidden_sizes = [128, 64]\n",
    "output_size = 10\n",
    "\n",
    "# Build a feed-forward network\n",
    "model = nn.Sequential(nn.Linear(input_size, hidden_sizes[0]),\n",
    "                      nn.ReLU(),\n",
    "                      nn.Linear(hidden_sizes[0], hidden_sizes[1]),\n",
    "                      nn.ReLU(),\n",
    "                      nn.Linear(hidden_sizes[1], output_size),\n",
    "                      nn.Softmax(dim=1))\n",
    "print(model)\n",
    "\n",
    "# Forward pass through the network and display output\n",
    "images, labels = next(iter(trainloader))\n",
    "images.resize_(images.shape[0], 1, 784)\n",
    "ps = model.forward(images[0,:])\n",
    "helper.view_classify(images[0].view(1, 28, 28), ps)"
   ]
  },
  {
   "cell_type": "markdown",
   "metadata": {},
   "source": [
    "Here our model is the same as before: 784 input units, a hidden layer with 128 units, ReLU activation, 64 unit hidden layer, another ReLU, then the output layer with 10 units, and the softmax output.\n",
    "\n",
    "The operations are availble by passing in the appropriate index. For example, if you want to get first Linear operation and look at the weights, you'd use `model[0]`."
   ]
  },
  {
   "cell_type": "code",
   "execution_count": 48,
   "metadata": {},
   "outputs": [
    {
     "name": "stdout",
     "output_type": "stream",
     "text": [
      "Linear(in_features=784, out_features=128, bias=True)\n"
     ]
    },
    {
     "data": {
      "text/plain": [
       "Parameter containing:\n",
       "tensor([[ 1.6524e-02,  3.0663e-02,  3.1863e-03,  ...,  1.1318e-03,\n",
       "         -1.4023e-02,  6.5346e-03],\n",
       "        [-1.5376e-03,  2.6083e-02,  5.3379e-03,  ..., -3.0445e-02,\n",
       "         -3.2744e-03,  1.1767e-02],\n",
       "        [ 3.0635e-02,  2.4436e-02,  3.0371e-02,  ...,  1.8127e-02,\n",
       "         -5.3831e-03, -2.5622e-02],\n",
       "        ...,\n",
       "        [ 2.1853e-02,  1.5190e-03,  3.5391e-02,  ...,  1.2176e-02,\n",
       "          2.5281e-02,  1.7013e-02],\n",
       "        [ 2.0505e-03, -2.5746e-02,  2.0960e-02,  ...,  1.3181e-02,\n",
       "         -2.9642e-02, -3.3174e-02],\n",
       "        [ 7.1053e-03,  3.0337e-02, -4.2942e-03,  ...,  3.3953e-02,\n",
       "          7.9444e-03, -5.2521e-03]])"
      ]
     },
     "execution_count": 48,
     "metadata": {},
     "output_type": "execute_result"
    }
   ],
   "source": [
    "print(model[0])\n",
    "model[0].weight"
   ]
  },
  {
   "cell_type": "markdown",
   "metadata": {},
   "source": [
    "You can also pass in an `OrderedDict` to name the individual layers and operations, instead of using incremental integers. Note that dictionary keys must be unique, so _each operation must have a different name_."
   ]
  },
  {
   "cell_type": "code",
   "execution_count": 46,
   "metadata": {},
   "outputs": [
    {
     "data": {
      "text/plain": [
       "Sequential(\n",
       "  (fc1): Linear(in_features=784, out_features=128, bias=True)\n",
       "  (relu1): ReLU()\n",
       "  (fc2): Linear(in_features=128, out_features=64, bias=True)\n",
       "  (relu2): ReLU()\n",
       "  (output): Linear(in_features=64, out_features=10, bias=True)\n",
       "  (softmax): Softmax()\n",
       ")"
      ]
     },
     "execution_count": 46,
     "metadata": {},
     "output_type": "execute_result"
    }
   ],
   "source": [
    "from collections import OrderedDict\n",
    "model = nn.Sequential(OrderedDict([\n",
    "                      ('fc1', nn.Linear(input_size, hidden_sizes[0])),\n",
    "                      ('relu1', nn.ReLU()),\n",
    "                      ('fc2', nn.Linear(hidden_sizes[0], hidden_sizes[1])),\n",
    "                      ('relu2', nn.ReLU()),\n",
    "                      ('output', nn.Linear(hidden_sizes[1], output_size)),\n",
    "                      ('softmax', nn.Softmax(dim=1))]))\n",
    "model"
   ]
  },
  {
   "cell_type": "markdown",
   "metadata": {},
   "source": [
    "Now you can access layers either by integer or the name"
   ]
  },
  {
   "cell_type": "code",
   "execution_count": 47,
   "metadata": {},
   "outputs": [
    {
     "name": "stdout",
     "output_type": "stream",
     "text": [
      "Linear(in_features=784, out_features=128, bias=True)\n",
      "Linear(in_features=784, out_features=128, bias=True)\n"
     ]
    }
   ],
   "source": [
    "print(model[0])\n",
    "print(model.fc1)"
   ]
  },
  {
   "cell_type": "markdown",
   "metadata": {},
   "source": [
    "In the next notebook, we'll see how we can train a neural network to accuractly predict the numbers appearing in the MNIST images."
   ]
  }
 ],
 "metadata": {
  "kernelspec": {
   "display_name": "Python 3",
   "language": "python",
   "name": "python3"
  },
  "language_info": {
   "codemirror_mode": {
    "name": "ipython",
    "version": 3
   },
   "file_extension": ".py",
   "mimetype": "text/x-python",
   "name": "python",
   "nbconvert_exporter": "python",
   "pygments_lexer": "ipython3",
   "version": "3.6.3"
  }
 },
 "nbformat": 4,
 "nbformat_minor": 2
}
