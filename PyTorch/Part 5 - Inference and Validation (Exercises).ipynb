{
 "cells": [
  {
   "cell_type": "markdown",
   "metadata": {},
   "source": [
    "# Inference and Validation\n",
    "\n",
    "Now that you have a trained network, you can use it for making predictions. This is typically called **inference**, a term borrowed from statistics. However, neural networks have a tendency to perform *too well* on the training data and aren't able to generalize to data that hasn't been seen before. This is called **overfitting** and it impairs inference performance. To test for overfitting while training, we measure the performance on data not in the training set called the **validation** set. We avoid overfitting through regularization such as dropout while monitoring the validation performance during training. In this notebook, I'll show you how to do this in PyTorch. \n",
    "\n",
    "As usual, let's start by loading the dataset through torchvision. You'll learn more about torchvision and loading data in a later part. This time we'll be taking advantage of the test set which you can get by setting `train=False` here:\n",
    "\n",
    "```python\n",
    "testset = datasets.FashionMNIST('~/.pytorch/F_MNIST_data/', download=True, train=False, transform=transform)\n",
    "```\n",
    "\n",
    "The test set contains images just like the training set. Typically you'll see 10-20% of the original dataset held out for testing and validation with the rest being used for training."
   ]
  },
  {
   "cell_type": "code",
   "execution_count": 1,
   "metadata": {},
   "outputs": [
    {
     "name": "stdout",
     "output_type": "stream",
     "text": [
      "Downloading http://fashion-mnist.s3-website.eu-central-1.amazonaws.com/train-images-idx3-ubyte.gz\n",
      "Downloading http://fashion-mnist.s3-website.eu-central-1.amazonaws.com/train-labels-idx1-ubyte.gz\n",
      "Downloading http://fashion-mnist.s3-website.eu-central-1.amazonaws.com/t10k-images-idx3-ubyte.gz\n",
      "Downloading http://fashion-mnist.s3-website.eu-central-1.amazonaws.com/t10k-labels-idx1-ubyte.gz\n",
      "Processing...\n",
      "Done!\n"
     ]
    }
   ],
   "source": [
    "import torch\n",
    "from torchvision import datasets, transforms\n",
    "\n",
    "# Define a transform to normalize the data\n",
    "transform = transforms.Compose([transforms.ToTensor(),\n",
    "                                transforms.Normalize((0.5, 0.5, 0.5), (0.5, 0.5, 0.5))])\n",
    "# Download and load the training data\n",
    "trainset = datasets.FashionMNIST('~/.pytorch/F_MNIST_data/', download=True, train=True, transform=transform)\n",
    "trainloader = torch.utils.data.DataLoader(trainset, batch_size=64, shuffle=True)\n",
    "\n",
    "# Download and load the test data\n",
    "testset = datasets.FashionMNIST('~/.pytorch/F_MNIST_data/', download=True, train=False, transform=transform)\n",
    "testloader = torch.utils.data.DataLoader(testset, batch_size=64, shuffle=True)"
   ]
  },
  {
   "cell_type": "markdown",
   "metadata": {},
   "source": [
    "Here I'll create a model like normal, using the same one from my solution for part 4."
   ]
  },
  {
   "cell_type": "code",
   "execution_count": 3,
   "metadata": {},
   "outputs": [],
   "source": [
    "from torch import nn, optim\n",
    "import torch.nn.functional as F\n",
    "\n",
    "class Classifier(nn.Module):\n",
    "    def __init__(self):\n",
    "        super().__init__()\n",
    "        self.fc1 = nn.Linear(784, 256)\n",
    "        self.fc2 = nn.Linear(256, 128)\n",
    "        self.fc3 = nn.Linear(128, 64)\n",
    "        self.fc4 = nn.Linear(64, 10)\n",
    "        \n",
    "    def forward(self, x):\n",
    "        # make sure input tensor is flattened\n",
    "        x = x.view(x.shape[0], -1)\n",
    "        \n",
    "        x = F.relu(self.fc1(x))\n",
    "        x = F.relu(self.fc2(x))\n",
    "        x = F.relu(self.fc3(x))\n",
    "        x = F.log_softmax(self.fc4(x), dim=1)\n",
    "        \n",
    "        return x"
   ]
  },
  {
   "cell_type": "markdown",
   "metadata": {},
   "source": [
    "The goal of validation is to measure the model's performance on data that isn't part of the training set. Performance here is up to the developer to define though. Typically this is just accuracy, the percentage of classes the network predicted correctly. Other options are [precision and recall](https://en.wikipedia.org/wiki/Precision_and_recall#Definition_(classification_context)) and top-5 error rate. We'll focus on accuracy here. First I'll do a forward pass with one batch from the test set."
   ]
  },
  {
   "cell_type": "code",
   "execution_count": 4,
   "metadata": {},
   "outputs": [
    {
     "name": "stdout",
     "output_type": "stream",
     "text": [
      "torch.Size([64, 10])\n"
     ]
    }
   ],
   "source": [
    "model = Classifier()\n",
    "\n",
    "images, labels = next(iter(testloader))\n",
    "# Get the class probabilities\n",
    "ps = torch.exp(model(images))\n",
    "# Make sure the shape is appropriate, we should get 10 class probabilities for 64 examples\n",
    "print(ps.shape)"
   ]
  },
  {
   "cell_type": "markdown",
   "metadata": {},
   "source": [
    "With the probabilities, we can get the most likely class using the `ps.topk` method. This returns the $k$ highest values. Since we just want the most likely class, we can use `ps.topk(1)`. This returns a tuple of the top-$k$ values and the top-$k$ indices. If the highest value is the fifth element, we'll get back 4 as the index."
   ]
  },
  {
   "cell_type": "code",
   "execution_count": 5,
   "metadata": {},
   "outputs": [
    {
     "name": "stdout",
     "output_type": "stream",
     "text": [
      "tensor([[ 5],\n",
      "        [ 4],\n",
      "        [ 2],\n",
      "        [ 5],\n",
      "        [ 4],\n",
      "        [ 2],\n",
      "        [ 4],\n",
      "        [ 5],\n",
      "        [ 5],\n",
      "        [ 5]])\n"
     ]
    }
   ],
   "source": [
    "top_p, top_class = ps.topk(1, dim=1)\n",
    "# Look at the most likely classes for the first 10 examples\n",
    "print(top_class[:10,:])"
   ]
  },
  {
   "cell_type": "code",
   "execution_count": 7,
   "metadata": {},
   "outputs": [
    {
     "data": {
      "text/plain": [
       "tensor([[ 0.1096],\n",
       "        [ 0.1098],\n",
       "        [ 0.1087],\n",
       "        [ 0.1090],\n",
       "        [ 0.1079],\n",
       "        [ 0.1101],\n",
       "        [ 0.1063],\n",
       "        [ 0.1077],\n",
       "        [ 0.1103],\n",
       "        [ 0.1098]])"
      ]
     },
     "execution_count": 7,
     "metadata": {},
     "output_type": "execute_result"
    }
   ],
   "source": [
    "top_p[:10,:]"
   ]
  },
  {
   "cell_type": "markdown",
   "metadata": {},
   "source": [
    "Now we can check if the predicted classes match the labels. This is simple to do by equating `top_class` and `labels`, but we have to be careful of the shapes. Here `top_class` is a 2D tensor with shape `(64, 1)` while `labels` is 1D with shape `(64)`. To get the equality to work out the way we want, `top_class` and `labels` must have the same shape.\n",
    "\n",
    "If we do\n",
    "\n",
    "```python\n",
    "equals = top_class == labels\n",
    "```\n",
    "\n",
    "`equals` will have shape `(64, 64)`, try it yourself. What it's doing is comparing the one element in each row of `top_class` with each element in `labels` which returns 64 True/False boolean values for each row."
   ]
  },
  {
   "cell_type": "code",
   "execution_count": 13,
   "metadata": {},
   "outputs": [],
   "source": [
    "equals = top_class == labels.view(*top_class.shape)\n"
   ]
  },
  {
   "cell_type": "markdown",
   "metadata": {},
   "source": [
    "Now we need to calculate the percentage of correct predictions. `equals` has binary values, either 0 or 1. This means that if we just sum up all the values and divide by the number of values, we get the percentage of correct predictions. This is the same operation as taking the mean, so we can get the accuracy with a call to `torch.mean`. If only it was that simple. If you try `torch.mean(equals)`, you'll get an error\n",
    "\n",
    "```\n",
    "RuntimeError: mean is not implemented for type torch.ByteTensor\n",
    "```\n",
    "\n",
    "This happens because `equals` has type `torch.ByteTensor` but `torch.mean` isn't implemented for tensors with that type. So we'll need to convert `equals` to a float tensor. Note that when we take `torch.mean` it returns a scalar tensor, to get the actual value as a float we'll need to do `accuracy.item()`."
   ]
  },
  {
   "cell_type": "code",
   "execution_count": 14,
   "metadata": {},
   "outputs": [
    {
     "name": "stdout",
     "output_type": "stream",
     "text": [
      "Accuracy: 7.8125%\n"
     ]
    }
   ],
   "source": [
    "accuracy = torch.mean(equals.type(torch.FloatTensor))\n",
    "print(f'Accuracy: {accuracy.item()*100}%')"
   ]
  },
  {
   "cell_type": "markdown",
   "metadata": {},
   "source": [
    "The network is untrained so it's making random guesses and we should see an accuracy around 10%. Now let's train our network and include our validation pass so we can measure how well the network is performing on the test set. Since we're not updating our parameters in the validation pass, we can speed up our code by turning off gradients using `torch.no_grad()`:\n",
    "\n",
    "```python\n",
    "# turn off gradients\n",
    "with torch.no_grad():\n",
    "    # validation pass here\n",
    "    for images, labels in testloader:\n",
    "        ...\n",
    "```\n",
    "\n",
    ">**Exercise:** Implement the validation loop below and print out the total accuracy after the loop. You can largely copy and paste the code from above, but I suggest typing it in because writing it out yourself is essential for building the skill. In general you'll always learn more by typing it rather than copy-pasting. You should be able to get an accuracy above 80%."
   ]
  },
  {
   "cell_type": "code",
   "execution_count": 25,
   "metadata": {},
   "outputs": [
    {
     "name": "stdout",
     "output_type": "stream",
     "text": [
      "Epoch: 1 Training loss: 51.70244263020406 Test loss: 49.02806091308594 Test Accuracy: 81.65804290771484\n",
      "Epoch: 2 Training loss: 39.18759263019318 Test loss: 41.76369857788086 Test Accuracy: 85.26074981689453\n",
      "Epoch: 3 Training loss: 35.76405877704178 Test loss: 38.87940216064453 Test Accuracy: 85.9972152709961\n",
      "Epoch: 4 Training loss: 33.118169679284605 Test loss: 39.268131256103516 Test Accuracy: 85.83797454833984\n",
      "Epoch: 5 Training loss: 31.807059507920286 Test loss: 37.246986389160156 Test Accuracy: 86.83320617675781\n",
      "Epoch: 6 Training loss: 30.4845049246542 Test loss: 37.606109619140625 Test Accuracy: 86.42516326904297\n",
      "Epoch: 7 Training loss: 29.340365916681186 Test loss: 35.646446228027344 Test Accuracy: 87.51990509033203\n",
      "Epoch: 8 Training loss: 28.26080173730596 Test loss: 35.766475677490234 Test Accuracy: 87.42037963867188\n",
      "Epoch: 9 Training loss: 27.534892298837203 Test loss: 35.90386199951172 Test Accuracy: 87.46018981933594\n",
      "Epoch: 10 Training loss: 26.244886750891517 Test loss: 36.279632568359375 Test Accuracy: 87.98766326904297\n",
      "Epoch: 11 Training loss: 26.1607143646682 Test loss: 38.18144226074219 Test Accuracy: 87.63932800292969\n",
      "Epoch: 12 Training loss: 25.37449886168498 Test loss: 39.98545455932617 Test Accuracy: 86.9128189086914\n",
      "Epoch: 13 Training loss: 24.88419972836717 Test loss: 37.74284362792969 Test Accuracy: 87.98766326904297\n",
      "Epoch: 14 Training loss: 24.399416631599987 Test loss: 37.574920654296875 Test Accuracy: 88.54498291015625\n",
      "Epoch: 15 Training loss: 23.741276860872564 Test loss: 35.90117263793945 Test Accuracy: 88.10708618164062\n",
      "Epoch: 16 Training loss: 23.20782719477852 Test loss: 38.90027618408203 Test Accuracy: 87.669189453125\n",
      "Epoch: 17 Training loss: 22.870708549661295 Test loss: 37.006507873535156 Test Accuracy: 87.87818908691406\n",
      "Epoch: 18 Training loss: 22.477207613239155 Test loss: 37.01325988769531 Test Accuracy: 88.28622436523438\n",
      "Epoch: 19 Training loss: 21.57309058148152 Test loss: 40.53789520263672 Test Accuracy: 87.99761199951172\n",
      "Epoch: 20 Training loss: 21.944350715893417 Test loss: 40.122406005859375 Test Accuracy: 88.22651672363281\n",
      "Epoch: 21 Training loss: 20.689166886116396 Test loss: 38.433013916015625 Test Accuracy: 88.83360290527344\n",
      "Epoch: 22 Training loss: 20.888976005714206 Test loss: 38.94647979736328 Test Accuracy: 88.90326690673828\n",
      "Epoch: 23 Training loss: 20.289418746087787 Test loss: 38.10892868041992 Test Accuracy: 88.5947494506836\n",
      "Epoch: 24 Training loss: 20.452506704402886 Test loss: 41.649169921875 Test Accuracy: 87.87818908691406\n",
      "Epoch: 25 Training loss: 20.18034773578903 Test loss: 40.97935104370117 Test Accuracy: 88.46537017822266\n",
      "Epoch: 26 Training loss: 18.991838449211134 Test loss: 41.73957824707031 Test Accuracy: 88.27627563476562\n",
      "Epoch: 27 Training loss: 19.41087689679632 Test loss: 40.35886764526367 Test Accuracy: 88.56488800048828\n",
      "Epoch: 28 Training loss: 18.939859897835547 Test loss: 39.08774948120117 Test Accuracy: 88.49522399902344\n",
      "Epoch: 29 Training loss: 18.608472650564874 Test loss: 43.03774642944336 Test Accuracy: 88.16679382324219\n",
      "Epoch: 30 Training loss: 18.092887656195266 Test loss: 45.164344787597656 Test Accuracy: 88.00756072998047\n"
     ]
    }
   ],
   "source": [
    "model = Classifier()\n",
    "criterion = nn.NLLLoss()\n",
    "optimizer = optim.Adam(model.parameters(), lr=0.003)\n",
    "\n",
    "epochs = 30\n",
    "steps = 0\n",
    "\n",
    "train_losses, test_losses = [], []\n",
    "for e in range(epochs):\n",
    "    running_loss = 0\n",
    "    for images, labels in trainloader:\n",
    "        \n",
    "        optimizer.zero_grad()\n",
    "        \n",
    "        log_ps = model(images)\n",
    "        loss = criterion(log_ps, labels)\n",
    "        loss.backward()\n",
    "        optimizer.step()\n",
    "        \n",
    "        running_loss += loss.item()\n",
    "        \n",
    "    else:\n",
    "        test_loss = 0\n",
    "        accuracy = 0\n",
    "        with torch.no_grad():\n",
    "            for images, labels in testloader:\n",
    "        ## TODO: Implement the validation pass and print out the validation accuracy\n",
    "                #feed network\n",
    "                log_probabilities = model(images)\n",
    "                #Calculating the loss. We do not backrprogate now\n",
    "                test_loss += criterion(log_probabilities, labels)\n",
    "                #Get probabilities\n",
    "                ps = torch.exp(log_probabilities)\n",
    "                #Get top class tuple and get only second value\n",
    "                top_p, top_class = ps.topk(1, dim=1)\n",
    "                #Check if top class is matching with label. Make sure to have both tensors with same shape\n",
    "                equals = top_class == labels.view(*top_class.shape)\n",
    "                #Calculate the accuracy with the mean. Make sure to convert the equals to FloatTensor else torch.mean will not work\n",
    "                accuracy += torch.mean(equals.type(torch.FloatTensor))\n",
    "                \n",
    "        train_losses.append(running_loss/len(trainloader))\n",
    "        test_losses.append(test_loss/len(testloader))\n",
    "        \n",
    "        print(f'Epoch: {e+1}',\n",
    "              f'Training loss: {running_loss/len(trainloader)*100}',\n",
    "              f'Test loss: {test_loss/len(testloader)*100}',\n",
    "              f'Test Accuracy: {accuracy/len(testloader)*100}')"
   ]
  },
  {
   "cell_type": "code",
   "execution_count": 26,
   "metadata": {},
   "outputs": [],
   "source": [
    "%matplotlib inline\n",
    "%config InLineBackend.figure_format = 'retina'\n",
    "\n",
    "import matplotlib.pyplot as plt"
   ]
  },
  {
   "cell_type": "code",
   "execution_count": 28,
   "metadata": {},
   "outputs": [
    {
     "data": {
      "text/plain": [
       "<matplotlib.legend.Legend at 0x7fec6ca32eb8>"
      ]
     },
     "execution_count": 28,
     "metadata": {},
     "output_type": "execute_result"
    },
    {
     "data": {
      "image/png": "[encoded data removed]",
      "text/plain": [
       "<matplotlib.figure.Figure at 0x7fec6cb4c518>"
      ]
     },
     "metadata": {
      "needs_background": "light"
     },
     "output_type": "display_data"
    }
   ],
   "source": [
    "plt.plot(train_losses, label='Training loss')\n",
    "plt.plot(test_losses, label='Test/Validation loss')\n",
    "plt.legend(frameon=False)"
   ]
  },
  {
   "cell_type": "markdown",
   "metadata": {},
   "source": [
    "## Overfitting\n",
    "\n",
    "If we look at the training and validation losses as we train the network, we can see a phenomenon known as overfitting.\n",
    "\n",
    "<img src='assets/overfitting.png' width=450px>\n",
    "\n",
    "The network learns the training set better and better, resulting in lower training losses. However, it starts having problems generalizing to data outside the training set leading to the validation loss increasing. The ultimate goal of any deep learning model is to make predictions on new data, so we should strive to get the lowest validation loss possible. One option is to use the version of the model with the lowest validation loss, here the one around 8-10 training epochs. This strategy is called *early-stopping*. In practice, you'd save the model frequently as you're training then later choose the model with the lowest validation loss.\n",
    "\n",
    "The most common method to reduce overfitting (outside of early-stopping) is *dropout*, where we randomly drop input units. This forces the network to share information between weights, increasing it's ability to generalize to new data. Adding dropout in PyTorch is straightforward using the [`nn.Dropout`](https://pytorch.org/docs/stable/nn.html#torch.nn.Dropout) module.\n",
    "\n",
    "```python\n",
    "class Classifier(nn.Module):\n",
    "    def __init__(self):\n",
    "        super().__init__()\n",
    "        self.fc1 = nn.Linear(784, 256)\n",
    "        self.fc2 = nn.Linear(256, 128)\n",
    "        self.fc3 = nn.Linear(128, 64)\n",
    "        self.fc4 = nn.Linear(64, 10)\n",
    "        \n",
    "        # Dropout module with 0.2 drop probability\n",
    "        self.dropout = nn.Dropout(p=0.2)\n",
    "        \n",
    "    def forward(self, x):\n",
    "        # make sure input tensor is flattened\n",
    "        x = x.view(x.shape[0], -1)\n",
    "        \n",
    "        # Now with dropout\n",
    "        x = self.dropout(F.relu(self.fc1(x)))\n",
    "        x = self.dropout(F.relu(self.fc2(x)))\n",
    "        x = self.dropout(F.relu(self.fc3(x)))\n",
    "        \n",
    "        # output so no dropout here\n",
    "        x = F.log_softmax(self.fc4(x), dim=1)\n",
    "        \n",
    "        return x\n",
    "```\n",
    "\n",
    "During training we want to use dropout to prevent overfitting, but during inference we want to use the entire network. So, we need to turn off dropout during validation, testing, and whenever we're using the network to make predictions. To do this, you use `model.eval()`. This sets the model to evaluation mode where the dropout probability is 0. You can turn dropout back on by setting the model to train mode with `model.train()`. In general, the pattern for the validation loop will look like this, where you turn off gradients, set the model to evaluation mode, calculate the validation loss and metric, then set the model back to train mode.\n",
    "\n",
    "```python\n",
    "# turn off gradients\n",
    "with torch.no_grad():\n",
    "    \n",
    "    # set model to evaluation mode\n",
    "    model.eval()\n",
    "    \n",
    "    # validation pass here\n",
    "    for images, labels in testloader:\n",
    "        ...\n",
    "\n",
    "# set model back to train mode\n",
    "model.train()\n",
    "```"
   ]
  },
  {
   "cell_type": "markdown",
   "metadata": {},
   "source": [
    "> **Exercise:** Add dropout to your model and train it on Fashion-MNIST again. See if you can get a lower validation loss or higher accuracy."
   ]
  },
  {
   "cell_type": "code",
   "execution_count": 35,
   "metadata": {},
   "outputs": [],
   "source": [
    "## TODO: Define your model with dropout added\n",
    "from torch import nn, optim\n",
    "\n",
    "model = nn.Sequential(nn.Linear(784,256),\n",
    "                      nn.Dropout(p=0.2),\n",
    "                      nn.ReLU(),\n",
    "                      nn.Linear(256,128),\n",
    "                      nn.Dropout(p=0.2),\n",
    "                      nn.ReLU(),\n",
    "                      nn.Linear(128,64),\n",
    "                      nn.Dropout(p=0.2),\n",
    "                      nn.ReLU(),\n",
    "                      nn.Linear(64,10),\n",
    "                      nn.LogSoftmax(dim=1)\n",
    "                     )\n",
    "\n",
    "criterion = nn.NLLLoss()\n",
    "optimizer = optim.Adam(model.parameters(), lr=0.003)"
   ]
  },
  {
   "cell_type": "code",
   "execution_count": 40,
   "metadata": {},
   "outputs": [
    {
     "name": "stdout",
     "output_type": "stream",
     "text": [
      "Epoch: 1 Training loss: 40.05813789583726 Test loss: 39.31580352783203 Test Accuracy: 85.67874145507812\n",
      "Epoch: 2 Training loss: 40.07900492913687 Test loss: 41.1368293762207 Test Accuracy: 85.22093963623047\n",
      "Epoch: 3 Training loss: 39.26236195160128 Test loss: 40.39742660522461 Test Accuracy: 85.44983673095703\n",
      "Epoch: 4 Training loss: 38.543043191086 Test loss: 39.39864730834961 Test Accuracy: 86.27587890625\n",
      "Epoch: 5 Training loss: 38.01979497631095 Test loss: 39.39632797241211 Test Accuracy: 86.37539672851562\n",
      "Epoch: 6 Training loss: 37.85255921881463 Test loss: 37.654624938964844 Test Accuracy: 86.76353454589844\n",
      "Epoch: 7 Training loss: 37.91324263061288 Test loss: 39.99370193481445 Test Accuracy: 86.72372436523438\n",
      "Epoch: 8 Training loss: 36.885183624653166 Test loss: 37.093223571777344 Test Accuracy: 87.17157745361328\n",
      "Epoch: 9 Training loss: 36.87666953007168 Test loss: 36.588897705078125 Test Accuracy: 87.32086181640625\n",
      "Epoch: 10 Training loss: 37.4632673969528 Test loss: 42.069480895996094 Test Accuracy: 85.3204574584961\n",
      "Epoch: 11 Training loss: 36.65844378853912 Test loss: 36.030643463134766 Test Accuracy: 87.56966400146484\n",
      "Epoch: 12 Training loss: 35.870708290860854 Test loss: 37.86560821533203 Test Accuracy: 86.68391418457031\n",
      "Epoch: 13 Training loss: 36.233369443716526 Test loss: 37.410675048828125 Test Accuracy: 87.06210327148438\n",
      "Epoch: 14 Training loss: 35.817600569046384 Test loss: 39.15511703491211 Test Accuracy: 86.56449127197266\n",
      "Epoch: 15 Training loss: 36.011342945764824 Test loss: 38.63267517089844 Test Accuracy: 87.35071563720703\n",
      "Epoch: 16 Training loss: 35.31193345117925 Test loss: 39.889591217041016 Test Accuracy: 85.54936218261719\n",
      "Epoch: 17 Training loss: 35.109880113843154 Test loss: 37.68946075439453 Test Accuracy: 87.16162109375\n",
      "Epoch: 18 Training loss: 36.179954406898666 Test loss: 38.8326301574707 Test Accuracy: 87.21138000488281\n",
      "Epoch: 19 Training loss: 34.746027459054865 Test loss: 38.34698486328125 Test Accuracy: 87.330810546875\n",
      "Epoch: 20 Training loss: 34.61774562451758 Test loss: 39.46810531616211 Test Accuracy: 87.00238800048828\n",
      "Epoch: 21 Training loss: 34.94180343203199 Test loss: 37.4290657043457 Test Accuracy: 87.34076690673828\n",
      "Epoch: 22 Training loss: 34.109188445897374 Test loss: 37.87065887451172 Test Accuracy: 86.9128189086914\n",
      "Epoch: 23 Training loss: 34.933092875648406 Test loss: 38.23322677612305 Test Accuracy: 86.95262908935547\n",
      "Epoch: 24 Training loss: 34.223007858752695 Test loss: 37.51946258544922 Test Accuracy: 87.40047454833984\n",
      "Epoch: 25 Training loss: 34.17494057782932 Test loss: 37.44016647338867 Test Accuracy: 87.36067199707031\n",
      "Epoch: 26 Training loss: 33.4472398656899 Test loss: 37.490657806396484 Test Accuracy: 87.46018981933594\n",
      "Epoch: 27 Training loss: 33.62124744238757 Test loss: 36.91786575317383 Test Accuracy: 87.30095672607422\n",
      "Epoch: 28 Training loss: 34.45750837530027 Test loss: 44.237648010253906 Test Accuracy: 85.94745635986328\n",
      "Epoch: 29 Training loss: 33.7850910625351 Test loss: 37.40494155883789 Test Accuracy: 87.3109130859375\n",
      "Epoch: 30 Training loss: 32.71243238071008 Test loss: 36.27333450317383 Test Accuracy: 87.74880981445312\n"
     ]
    }
   ],
   "source": [
    "## TODO: Train your model with dropout, and monitor the training progress with the validation loss and accuracy\n",
    "\n",
    "epochs = 30\n",
    "\n",
    "train_losses, test_losses = [], [] #will keep track of all the losses per epoch\n",
    "\n",
    "for e in range(epochs):\n",
    "    #Training\n",
    "    running_loss=0\n",
    "    for images, labels in trainloader:\n",
    "        #Reshape input\n",
    "        images = images.view(images.shape[0], -1)\n",
    "        optimizer.zero_grad() #Zero optimizer\n",
    "        log_ps = model(images) #Feed Forward\n",
    "        loss = criterion(log_ps, labels) #Get loss\n",
    "        loss.backward() #Backpropagate\n",
    "        optimizer.step() #Adjust weights\n",
    "        \n",
    "        running_loss += loss.item()\n",
    "    else:\n",
    "        test_loss = 0\n",
    "        accuracy = 0\n",
    "        #Deactivate the autograd\n",
    "        with torch.no_grad():\n",
    "            #Turn off the dropout\n",
    "            model.eval()\n",
    "            for images, labels in testloader:\n",
    "                images = images.view(images.shape[0], -1)\n",
    "                log_ps = model(images)\n",
    "                test_loss += criterion(log_ps, labels)\n",
    "                ps = torch.exp(log_ps)\n",
    "                _, top_class = ps.topk(1, dim=1)\n",
    "                equals = top_class == labels.view(*top_class.shape)\n",
    "                accuracy += torch.mean(equals.type(torch.FloatTensor))\n",
    "                \n",
    "        train_losses.append(running_loss/len(trainloader))\n",
    "        test_losses.append(test_loss/len(testloader))\n",
    "        #Reactivate Dropout\n",
    "        model.train()\n",
    "        \n",
    "        print(f'Epoch: {e+1}',\n",
    "              f'Training loss: {running_loss/len(trainloader)*100}',\n",
    "              f'Test loss: {test_loss/len(testloader)*100}',\n",
    "              f'Test Accuracy: {accuracy/len(testloader)*100}')\n",
    "                \n",
    "            \n"
   ]
  },
  {
   "cell_type": "code",
   "execution_count": 41,
   "metadata": {},
   "outputs": [
    {
     "data": {
      "text/plain": [
       "<matplotlib.legend.Legend at 0x7fec6c5b1ef0>"
      ]
     },
     "execution_count": 41,
     "metadata": {},
     "output_type": "execute_result"
    },
    {
     "data": {
      "image/png": "[encoded data removed]",
      "text/plain": [
       "<matplotlib.figure.Figure at 0x7fec6c7fd588>"
      ]
     },
     "metadata": {
      "needs_background": "light"
     },
     "output_type": "display_data"
    }
   ],
   "source": [
    "plt.plot(train_losses, label='Training loss')\n",
    "plt.plot(test_losses, label='Test/Validation loss')\n",
    "plt.legend(frameon=False)"
   ]
  },
  {
   "cell_type": "markdown",
   "metadata": {},
   "source": [
    "## Inference\n",
    "\n",
    "Now that the model is trained, we can use it for inference. We've done this before, but now we need to remember to set the model in inference mode with `model.eval()`. You'll also want to turn off autograd with the `torch.no_grad()` context."
   ]
  },
  {
   "cell_type": "code",
   "execution_count": 44,
   "metadata": {},
   "outputs": [
    {
     "data": {
      "image/png": "[encoded data removed]",
      "text/plain": [
       "<matplotlib.figure.Figure at 0x7fec6c5a1f60>"
      ]
     },
     "metadata": {
      "needs_background": "light"
     },
     "output_type": "display_data"
    }
   ],
   "source": [
    "# Import helper module (should be in the repo)\n",
    "import helper\n",
    "\n",
    "# Test out your network!\n",
    "\n",
    "model.eval()\n",
    "\n",
    "dataiter = iter(testloader)\n",
    "images, labels = dataiter.next()\n",
    "img = images[0]\n",
    "# Convert 2D image to 1D vector\n",
    "img = img.view(1, 784)\n",
    "\n",
    "# Calculate the class probabilities (softmax) for img\n",
    "with torch.no_grad():\n",
    "    output = model.forward(img)\n",
    "\n",
    "ps = torch.exp(output)\n",
    "\n",
    "# Plot the image and probabilities\n",
    "helper.view_classify(img.view(1, 28, 28), ps, version='Fashion')"
   ]
  },
  {
   "cell_type": "markdown",
   "metadata": {},
   "source": [
    "## Next Up!\n",
    "\n",
    "In the next part, I'll show you how to save your trained models. In general, you won't want to train a model everytime you need it. Instead, you'll train once, save it, then load the model when you want to train more or use if for inference."
   ]
  }
 ],
 "metadata": {
  "kernelspec": {
   "display_name": "Python 3",
   "language": "python",
   "name": "python3"
  },
  "language_info": {
   "codemirror_mode": {
    "name": "ipython",
    "version": 3
   },
   "file_extension": ".py",
   "mimetype": "text/x-python",
   "name": "python",
   "nbconvert_exporter": "python",
   "pygments_lexer": "ipython3",
   "version": "3.6.3"
  }
 },
 "nbformat": 4,
 "nbformat_minor": 2
}
