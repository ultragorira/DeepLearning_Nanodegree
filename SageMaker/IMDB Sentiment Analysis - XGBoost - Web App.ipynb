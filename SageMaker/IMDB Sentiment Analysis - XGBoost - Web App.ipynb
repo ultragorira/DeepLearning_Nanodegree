{
 "cells": [
  {
   "cell_type": "markdown",
   "metadata": {},
   "source": [
    "# Sentiment Analysis Web App\n",
    "\n",
    "_Deep Learning Nanodegree Program | Deployment_\n",
    "\n",
    "---\n",
    "\n",
    "In this notebook we will use Amazon's SageMaker service to construct a random tree model to predict the sentiment of a movie review. In addition, we will deploy this model to an endpoint and construct a very simple web app which will interact with our model's deployed endpoint.\n",
    "\n",
    "## General Outline\n",
    "\n",
    "Typically, when using a notebook instance with SageMaker, you will proceed through the following steps. Of course, not every step will need to be done with each project. Also, there is quite a lot of room for variation in many of the steps, as you will see throughout these lessons.\n",
    "\n",
    "1. Download or otherwise retrieve the data.\n",
    "2. Process / Prepare the data.\n",
    "3. Upload the processed data to S3.\n",
    "4. Train a chosen model.\n",
    "5. Test the trained model (typically using a batch transform job).\n",
    "6. Deploy the trained model.\n",
    "7. Use the deployed model.\n",
    "\n",
    "In this notebook we will progress through each of the steps above. We will also see that the final step, using the deployed model, can be quite challenging."
   ]
  },
  {
   "cell_type": "code",
   "execution_count": 20,
   "metadata": {},
   "outputs": [
    {
     "name": "stdout",
     "output_type": "stream",
     "text": [
      "Collecting sagemaker==1.72.0\n",
      "  Downloading sagemaker-1.72.0.tar.gz (297 kB)\n",
      "     |████████████████████████████████| 297 kB 25.9 MB/s            \n",
      "\u001b[?25h  Preparing metadata (setup.py) ... \u001b[?25ldone\n",
      "\u001b[?25hRequirement already satisfied: boto3>=1.14.12 in /home/ec2-user/anaconda3/envs/python3/lib/python3.6/site-packages (from sagemaker==1.72.0) (1.21.42)\n",
      "Requirement already satisfied: numpy>=1.9.0 in /home/ec2-user/anaconda3/envs/python3/lib/python3.6/site-packages (from sagemaker==1.72.0) (1.19.5)\n",
      "Requirement already satisfied: protobuf>=3.1 in /home/ec2-user/anaconda3/envs/python3/lib/python3.6/site-packages (from sagemaker==1.72.0) (3.15.2)\n",
      "Requirement already satisfied: scipy>=0.19.0 in /home/ec2-user/anaconda3/envs/python3/lib/python3.6/site-packages (from sagemaker==1.72.0) (1.5.3)\n",
      "Requirement already satisfied: protobuf3-to-dict>=0.1.5 in /home/ec2-user/anaconda3/envs/python3/lib/python3.6/site-packages (from sagemaker==1.72.0) (0.1.5)\n",
      "Collecting smdebug-rulesconfig==0.1.4\n",
      "  Downloading smdebug_rulesconfig-0.1.4-py2.py3-none-any.whl (10 kB)\n",
      "Requirement already satisfied: importlib-metadata>=1.4.0 in /home/ec2-user/anaconda3/envs/python3/lib/python3.6/site-packages (from sagemaker==1.72.0) (3.7.0)\n",
      "Requirement already satisfied: packaging>=20.0 in /home/ec2-user/anaconda3/envs/python3/lib/python3.6/site-packages (from sagemaker==1.72.0) (21.3)\n",
      "Requirement already satisfied: jmespath<2.0.0,>=0.7.1 in /home/ec2-user/anaconda3/envs/python3/lib/python3.6/site-packages (from boto3>=1.14.12->sagemaker==1.72.0) (0.10.0)\n",
      "Requirement already satisfied: s3transfer<0.6.0,>=0.5.0 in /home/ec2-user/anaconda3/envs/python3/lib/python3.6/site-packages (from boto3>=1.14.12->sagemaker==1.72.0) (0.5.0)\n",
      "Requirement already satisfied: botocore<1.25.0,>=1.24.42 in /home/ec2-user/anaconda3/envs/python3/lib/python3.6/site-packages (from boto3>=1.14.12->sagemaker==1.72.0) (1.24.42)\n",
      "Requirement already satisfied: typing-extensions>=3.6.4 in /home/ec2-user/anaconda3/envs/python3/lib/python3.6/site-packages (from importlib-metadata>=1.4.0->sagemaker==1.72.0) (4.0.1)\n",
      "Requirement already satisfied: zipp>=0.5 in /home/ec2-user/anaconda3/envs/python3/lib/python3.6/site-packages (from importlib-metadata>=1.4.0->sagemaker==1.72.0) (3.4.0)\n",
      "Requirement already satisfied: pyparsing!=3.0.5,>=2.0.2 in /home/ec2-user/anaconda3/envs/python3/lib/python3.6/site-packages (from packaging>=20.0->sagemaker==1.72.0) (2.4.7)\n",
      "Requirement already satisfied: six>=1.9 in /home/ec2-user/anaconda3/envs/python3/lib/python3.6/site-packages (from protobuf>=3.1->sagemaker==1.72.0) (1.15.0)\n",
      "Requirement already satisfied: python-dateutil<3.0.0,>=2.1 in /home/ec2-user/anaconda3/envs/python3/lib/python3.6/site-packages (from botocore<1.25.0,>=1.24.42->boto3>=1.14.12->sagemaker==1.72.0) (2.8.1)\n",
      "Requirement already satisfied: urllib3<1.27,>=1.25.4 in /home/ec2-user/anaconda3/envs/python3/lib/python3.6/site-packages (from botocore<1.25.0,>=1.24.42->boto3>=1.14.12->sagemaker==1.72.0) (1.26.8)\n",
      "Building wheels for collected packages: sagemaker\n",
      "  Building wheel for sagemaker (setup.py) ... \u001b[?25ldone\n",
      "\u001b[?25h  Created wheel for sagemaker: filename=sagemaker-1.72.0-py2.py3-none-any.whl size=386358 sha256=cb5d3ff0b2b3a97d206c0b64c39e7f826a763bce14eaa025e62c2527ae29a19d\n",
      "  Stored in directory: /home/ec2-user/.cache/pip/wheels/c3/58/70/85faf4437568bfaa4c419937569ba1fe54d44c5db42406bbd7\n",
      "Successfully built sagemaker\n",
      "Installing collected packages: smdebug-rulesconfig, sagemaker\n",
      "  Attempting uninstall: smdebug-rulesconfig\n",
      "    Found existing installation: smdebug-rulesconfig 1.0.1\n",
      "    Uninstalling smdebug-rulesconfig-1.0.1:\n",
      "      Successfully uninstalled smdebug-rulesconfig-1.0.1\n",
      "  Attempting uninstall: sagemaker\n",
      "    Found existing installation: sagemaker 2.86.2\n",
      "    Uninstalling sagemaker-2.86.2:\n",
      "      Successfully uninstalled sagemaker-2.86.2\n",
      "Successfully installed sagemaker-1.72.0 smdebug-rulesconfig-0.1.4\n"
     ]
    }
   ],
   "source": [
    "# Make sure that we use SageMaker 1.x\n",
    "!pip install sagemaker==1.72.0"
   ]
  },
  {
   "cell_type": "markdown",
   "metadata": {},
   "source": [
    "## Step 1: Downloading the data\n",
    "\n",
    "The dataset we are going to use is very popular among researchers in Natural Language Processing, usually referred to as the [IMDb dataset](http://ai.stanford.edu/~amaas/data/sentiment/). It consists of movie reviews from the website [imdb.com](http://www.imdb.com/), each labeled as either '**pos**itive', if the reviewer enjoyed the film, or '**neg**ative' otherwise.\n",
    "\n",
    "> Maas, Andrew L., et al. [Learning Word Vectors for Sentiment Analysis](http://ai.stanford.edu/~amaas/data/sentiment/). In _Proceedings of the 49th Annual Meeting of the Association for Computational Linguistics: Human Language Technologies_. Association for Computational Linguistics, 2011.\n",
    "\n",
    "We begin by using some Jupyter Notebook magic to download and extract the dataset."
   ]
  },
  {
   "cell_type": "code",
   "execution_count": 21,
   "metadata": {},
   "outputs": [
    {
     "name": "stdout",
     "output_type": "stream",
     "text": [
      "mkdir: cannot create directory ‘../data’: File exists\n",
      "--2022-04-25 17:37:34--  http://ai.stanford.edu/~amaas/data/sentiment/aclImdb_v1.tar.gz\n",
      "Resolving ai.stanford.edu (ai.stanford.edu)... 171.64.68.10\n",
      "Connecting to ai.stanford.edu (ai.stanford.edu)|171.64.68.10|:80... connected.\n",
      "HTTP request sent, awaiting response... 200 OK\n",
      "Length: 84125825 (80M) [application/x-gzip]\n",
      "Saving to: ‘../data/aclImdb_v1.tar.gz’\n",
      "\n",
      "../data/aclImdb_v1. 100%[===================>]  80.23M  14.4MB/s    in 9.1s    \n",
      "\n",
      "2022-04-25 17:37:43 (8.77 MB/s) - ‘../data/aclImdb_v1.tar.gz’ saved [84125825/84125825]\n",
      "\n"
     ]
    }
   ],
   "source": [
    "%mkdir ../data\n",
    "!wget -O ../data/aclImdb_v1.tar.gz http://ai.stanford.edu/~amaas/data/sentiment/aclImdb_v1.tar.gz\n",
    "!tar -zxf ../data/aclImdb_v1.tar.gz -C ../data"
   ]
  },
  {
   "cell_type": "markdown",
   "metadata": {},
   "source": [
    "## Step 2: Preparing and Processing the data\n",
    "\n",
    "The data we have downloaded is split into various files, each of which contains a single review. It will be much easier going forward if we combine these individual files into two large files, one for training and one for testing."
   ]
  },
  {
   "cell_type": "code",
   "execution_count": 22,
   "metadata": {},
   "outputs": [],
   "source": [
    "import os\n",
    "import glob\n",
    "\n",
    "def read_imdb_data(data_dir='../data/aclImdb'):\n",
    "    data = {}\n",
    "    labels = {}\n",
    "    \n",
    "    for data_type in ['train', 'test']:\n",
    "        data[data_type] = {}\n",
    "        labels[data_type] = {}\n",
    "        \n",
    "        for sentiment in ['pos', 'neg']:\n",
    "            data[data_type][sentiment] = []\n",
    "            labels[data_type][sentiment] = []\n",
    "            \n",
    "            path = os.path.join(data_dir, data_type, sentiment, '*.txt')\n",
    "            files = glob.glob(path)\n",
    "            \n",
    "            for f in files:\n",
    "                with open(f) as review:\n",
    "                    data[data_type][sentiment].append(review.read())\n",
    "                    # Here we represent a positive review by '1' and a negative review by '0'\n",
    "                    labels[data_type][sentiment].append(1 if sentiment == 'pos' else 0)\n",
    "                    \n",
    "            assert len(data[data_type][sentiment]) == len(labels[data_type][sentiment]), \\\n",
    "                    \"{}/{} data size does not match labels size\".format(data_type, sentiment)\n",
    "                \n",
    "    return data, labels"
   ]
  },
  {
   "cell_type": "code",
   "execution_count": 23,
   "metadata": {},
   "outputs": [
    {
     "name": "stdout",
     "output_type": "stream",
     "text": [
      "IMDB reviews: train = 12500 pos / 12500 neg, test = 12500 pos / 12500 neg\n"
     ]
    }
   ],
   "source": [
    "data, labels = read_imdb_data()\n",
    "print(\"IMDB reviews: train = {} pos / {} neg, test = {} pos / {} neg\".format(\n",
    "            len(data['train']['pos']), len(data['train']['neg']),\n",
    "            len(data['test']['pos']), len(data['test']['neg'])))"
   ]
  },
  {
   "cell_type": "code",
   "execution_count": 24,
   "metadata": {},
   "outputs": [],
   "source": [
    "from sklearn.utils import shuffle\n",
    "\n",
    "def prepare_imdb_data(data, labels):\n",
    "    \"\"\"Prepare training and test sets from IMDb movie reviews.\"\"\"\n",
    "    \n",
    "    #Combine positive and negative reviews and labels\n",
    "    data_train = data['train']['pos'] + data['train']['neg']\n",
    "    data_test = data['test']['pos'] + data['test']['neg']\n",
    "    labels_train = labels['train']['pos'] + labels['train']['neg']\n",
    "    labels_test = labels['test']['pos'] + labels['test']['neg']\n",
    "    \n",
    "    #Shuffle reviews and corresponding labels within training and test sets\n",
    "    data_train, labels_train = shuffle(data_train, labels_train)\n",
    "    data_test, labels_test = shuffle(data_test, labels_test)\n",
    "    \n",
    "    # Return a unified training data, test data, training labels, test labets\n",
    "    return data_train, data_test, labels_train, labels_test"
   ]
  },
  {
   "cell_type": "code",
   "execution_count": 25,
   "metadata": {},
   "outputs": [
    {
     "name": "stdout",
     "output_type": "stream",
     "text": [
      "IMDb reviews (combined): train = 25000, test = 25000\n"
     ]
    }
   ],
   "source": [
    "train_X, test_X, train_y, test_y = prepare_imdb_data(data, labels)\n",
    "print(\"IMDb reviews (combined): train = {}, test = {}\".format(len(train_X), len(test_X)))"
   ]
  },
  {
   "cell_type": "code",
   "execution_count": 26,
   "metadata": {},
   "outputs": [
    {
     "data": {
      "text/plain": [
       "'The story of Cinderella is one of my favorites from Charles Perrault, with Sleeping Beauty which was also made into a Disney film in 1959; this film is a sweet, enchanting masterpiece from Disney.<br /><br />The film has a great soundtrack; that\\'s one I like in a movie is a very good soundtrack, and I love the songs too; my favorite song is the romantic \"So This is Love.\" I love the mice from the film too, they are cute. My favorite scene is the scene after the narration, the little birds tried to wake Cinderella up in the morning; I also love it when Cinderella\\'s animal friends (the mice and birds) fix up Cinderella\\'s birth-mother\\'s dress, so she could go to the ball...until Drizella & Anastasia tore it to bits, the b****es!'"
      ]
     },
     "execution_count": 26,
     "metadata": {},
     "output_type": "execute_result"
    }
   ],
   "source": [
    "train_X[100]"
   ]
  },
  {
   "cell_type": "markdown",
   "metadata": {},
   "source": [
    "## Processing the data\n",
    "\n",
    "Now that we have our training and testing datasets merged and ready to use, we need to start processing the raw data into something that will be useable by our machine learning algorithm. To begin with, we remove any html formatting and any non-alpha numeric characters that may appear in the reviews. We will do this in a very simplistic way using Python's regular expression module. We will discuss the reason for this rather simplistic pre-processing later on."
   ]
  },
  {
   "cell_type": "code",
   "execution_count": 27,
   "metadata": {},
   "outputs": [],
   "source": [
    "import re\n",
    "\n",
    "REPLACE_NO_SPACE = re.compile(\"(\\.)|(\\;)|(\\:)|(\\!)|(\\')|(\\?)|(\\,)|(\\\")|(\\()|(\\))|(\\[)|(\\])\")\n",
    "REPLACE_WITH_SPACE = re.compile(\"(<br\\s*/><br\\s*/>)|(\\-)|(\\/)\")\n",
    "\n",
    "def review_to_words(review):\n",
    "    words = REPLACE_NO_SPACE.sub(\"\", review.lower())\n",
    "    words = REPLACE_WITH_SPACE.sub(\" \", words)\n",
    "    return words"
   ]
  },
  {
   "cell_type": "code",
   "execution_count": 28,
   "metadata": {},
   "outputs": [
    {
     "data": {
      "text/plain": [
       "'the story of cinderella is one of my favorites from charles perrault with sleeping beauty which was also made into a disney film in 1959 this film is a sweet enchanting masterpiece from disney the film has a great soundtrack thats one i like in a movie is a very good soundtrack and i love the songs too my favorite song is the romantic so this is love i love the mice from the film too they are cute my favorite scene is the scene after the narration the little birds tried to wake cinderella up in the morning i also love it when cinderellas animal friends the mice and birds fix up cinderellas birth mothers dress so she could go to the balluntil drizella & anastasia tore it to bits the b****es'"
      ]
     },
     "execution_count": 28,
     "metadata": {},
     "output_type": "execute_result"
    }
   ],
   "source": [
    "review_to_words(train_X[100])"
   ]
  },
  {
   "cell_type": "code",
   "execution_count": 29,
   "metadata": {},
   "outputs": [],
   "source": [
    "import pickle\n",
    "\n",
    "cache_dir = os.path.join(\"../cache\", \"sentiment_web_app\")  # where to store cache files\n",
    "os.makedirs(cache_dir, exist_ok=True)  # ensure cache directory exists\n",
    "\n",
    "def preprocess_data(data_train, data_test, labels_train, labels_test,\n",
    "                    cache_dir=cache_dir, cache_file=\"preprocessed_data.pkl\"):\n",
    "    \"\"\"Convert each review to words; read from cache if available.\"\"\"\n",
    "\n",
    "    # If cache_file is not None, try to read from it first\n",
    "    cache_data = None\n",
    "    if cache_file is not None:\n",
    "        try:\n",
    "            with open(os.path.join(cache_dir, cache_file), \"rb\") as f:\n",
    "                cache_data = pickle.load(f)\n",
    "            print(\"Read preprocessed data from cache file:\", cache_file)\n",
    "        except:\n",
    "            pass  # unable to read from cache, but that's okay\n",
    "    \n",
    "    # If cache is missing, then do the heavy lifting\n",
    "    if cache_data is None:\n",
    "        # Preprocess training and test data to obtain words for each review\n",
    "        #words_train = list(map(review_to_words, data_train))\n",
    "        #words_test = list(map(review_to_words, data_test))\n",
    "        words_train = [review_to_words(review) for review in data_train]\n",
    "        words_test = [review_to_words(review) for review in data_test]\n",
    "        \n",
    "        # Write to cache file for future runs\n",
    "        if cache_file is not None:\n",
    "            cache_data = dict(words_train=words_train, words_test=words_test,\n",
    "                              labels_train=labels_train, labels_test=labels_test)\n",
    "            with open(os.path.join(cache_dir, cache_file), \"wb\") as f:\n",
    "                pickle.dump(cache_data, f)\n",
    "            print(\"Wrote preprocessed data to cache file:\", cache_file)\n",
    "    else:\n",
    "        # Unpack data loaded from cache file\n",
    "        words_train, words_test, labels_train, labels_test = (cache_data['words_train'],\n",
    "                cache_data['words_test'], cache_data['labels_train'], cache_data['labels_test'])\n",
    "    \n",
    "    return words_train, words_test, labels_train, labels_test"
   ]
  },
  {
   "cell_type": "code",
   "execution_count": 30,
   "metadata": {},
   "outputs": [
    {
     "name": "stdout",
     "output_type": "stream",
     "text": [
      "Read preprocessed data from cache file: preprocessed_data.pkl\n"
     ]
    }
   ],
   "source": [
    "# Preprocess data\n",
    "train_X, test_X, train_y, test_y = preprocess_data(train_X, test_X, train_y, test_y)"
   ]
  },
  {
   "cell_type": "markdown",
   "metadata": {},
   "source": [
    "### Extract Bag-of-Words features\n",
    "\n",
    "For the model we will be implementing, rather than using the reviews directly, we are going to transform each review into a Bag-of-Words feature representation. Keep in mind that 'in the wild' we will only have access to the training set so our transformer can only use the training set to construct a representation."
   ]
  },
  {
   "cell_type": "code",
   "execution_count": 31,
   "metadata": {},
   "outputs": [],
   "source": [
    "import numpy as np\n",
    "from sklearn.feature_extraction.text import CountVectorizer\n",
    "\n",
    "# sklearn.externals.joblib is deprecated in 0.21 and will be removed in 0.23. \n",
    "# from sklearn.externals import joblib\n",
    "\n",
    "# Import joblib package directly\n",
    "import joblib\n",
    "# joblib is an enhanced version of pickle that is more efficient for storing NumPy arrays\n",
    "\n",
    "def extract_BoW_features(words_train, words_test, vocabulary_size=5000,\n",
    "                         cache_dir=cache_dir, cache_file=\"bow_features.pkl\"):\n",
    "    \"\"\"Extract Bag-of-Words for a given set of documents, already preprocessed into words.\"\"\"\n",
    "    \n",
    "    # If cache_file is not None, try to read from it first\n",
    "    cache_data = None\n",
    "    if cache_file is not None:\n",
    "        try:\n",
    "            with open(os.path.join(cache_dir, cache_file), \"rb\") as f:\n",
    "                cache_data = joblib.load(f)\n",
    "            print(\"Read features from cache file:\", cache_file)\n",
    "        except:\n",
    "            pass  # unable to read from cache, but that's okay\n",
    "    \n",
    "    # If cache is missing, then do the heavy lifting\n",
    "    if cache_data is None:\n",
    "        # Fit a vectorizer to training documents and use it to transform them\n",
    "        # NOTE: Training documents have already been preprocessed and tokenized into words;\n",
    "        #       pass in dummy functions to skip those steps, e.g. preprocessor=lambda x: x\n",
    "        vectorizer = CountVectorizer(max_features=vocabulary_size)\n",
    "        features_train = vectorizer.fit_transform(words_train).toarray()\n",
    "\n",
    "        # Apply the same vectorizer to transform the test documents (ignore unknown words)\n",
    "        features_test = vectorizer.transform(words_test).toarray()\n",
    "        \n",
    "        # NOTE: Remember to convert the features using .toarray() for a compact representation\n",
    "        \n",
    "        # Write to cache file for future runs (store vocabulary as well)\n",
    "        if cache_file is not None:\n",
    "            vocabulary = vectorizer.vocabulary_\n",
    "            cache_data = dict(features_train=features_train, features_test=features_test,\n",
    "                             vocabulary=vocabulary)\n",
    "            with open(os.path.join(cache_dir, cache_file), \"wb\") as f:\n",
    "                joblib.dump(cache_data, f)\n",
    "            print(\"Wrote features to cache file:\", cache_file)\n",
    "    else:\n",
    "        # Unpack data loaded from cache file\n",
    "        features_train, features_test, vocabulary = (cache_data['features_train'],\n",
    "                cache_data['features_test'], cache_data['vocabulary'])\n",
    "    \n",
    "    # Return both the extracted features as well as the vocabulary\n",
    "    return features_train, features_test, vocabulary"
   ]
  },
  {
   "cell_type": "code",
   "execution_count": 32,
   "metadata": {},
   "outputs": [
    {
     "name": "stdout",
     "output_type": "stream",
     "text": [
      "Read features from cache file: bow_features.pkl\n"
     ]
    }
   ],
   "source": [
    "# Extract Bag of Words features for both training and test datasets\n",
    "train_X, test_X, vocabulary = extract_BoW_features(train_X, test_X)"
   ]
  },
  {
   "cell_type": "code",
   "execution_count": 33,
   "metadata": {},
   "outputs": [
    {
     "data": {
      "text/plain": [
       "5000"
      ]
     },
     "execution_count": 33,
     "metadata": {},
     "output_type": "execute_result"
    }
   ],
   "source": [
    "len(train_X[100])"
   ]
  },
  {
   "cell_type": "markdown",
   "metadata": {},
   "source": [
    "## Step 3: Upload data to S3\n",
    "\n",
    "Now that we have created the feature representation of our training (and testing) data, it is time to start setting up and using the XGBoost classifier provided by SageMaker.\n",
    "\n",
    "### Writing the datasets\n",
    "\n",
    "The XGBoost classifier that we will be using requires the dataset to be written to a file and stored using Amazon S3. To do this, we will start by splitting the training dataset into two parts, the data we will train the model with and a validation set. Then, we will write those datasets to a file locally and then upload the files to S3. In addition, we will write the test set to a file and upload that file to S3. This is so that we can use SageMakers Batch Transform functionality to test our model once we've fit it."
   ]
  },
  {
   "cell_type": "code",
   "execution_count": 34,
   "metadata": {},
   "outputs": [],
   "source": [
    "import pandas as pd\n",
    "\n",
    "# Earlier we shuffled the training dataset so to make things simple we can just assign\n",
    "# the first 10 000 reviews to the validation set and use the remaining reviews for training.\n",
    "val_X = pd.DataFrame(train_X[:10000])\n",
    "train_X = pd.DataFrame(train_X[10000:])\n",
    "\n",
    "val_y = pd.DataFrame(train_y[:10000])\n",
    "train_y = pd.DataFrame(train_y[10000:])"
   ]
  },
  {
   "cell_type": "markdown",
   "metadata": {},
   "source": [
    "The documentation for the XGBoost algorithm in SageMaker requires that the training and validation datasets should contain no headers or index and that the label should occur first for each sample.\n",
    "\n",
    "For more information about this and other algorithms, the SageMaker developer documentation can be found on __[Amazon's website.](https://docs.aws.amazon.com/sagemaker/latest/dg/)__"
   ]
  },
  {
   "cell_type": "code",
   "execution_count": 35,
   "metadata": {},
   "outputs": [],
   "source": [
    "# First we make sure that the local directory in which we'd like to store the training and validation csv files exists.\n",
    "data_dir = '../data/sentiment_web_app'\n",
    "if not os.path.exists(data_dir):\n",
    "    os.makedirs(data_dir)"
   ]
  },
  {
   "cell_type": "code",
   "execution_count": 36,
   "metadata": {},
   "outputs": [],
   "source": [
    "pd.DataFrame(test_X).to_csv(os.path.join(data_dir, 'test.csv'), header=False, index=False)\n",
    "\n",
    "pd.concat([val_y, val_X], axis=1).to_csv(os.path.join(data_dir, 'validation.csv'), header=False, index=False)\n",
    "pd.concat([train_y, train_X], axis=1).to_csv(os.path.join(data_dir, 'train.csv'), header=False, index=False)"
   ]
  },
  {
   "cell_type": "code",
   "execution_count": 37,
   "metadata": {},
   "outputs": [],
   "source": [
    "# To save a bit of memory we can set text_X, train_X, val_X, train_y and val_y to None.\n",
    "\n",
    "test_X = train_X = val_X = train_y = val_y = None"
   ]
  },
  {
   "cell_type": "markdown",
   "metadata": {},
   "source": [
    "### Uploading Training / Validation files to S3\n",
    "\n",
    "Amazon's S3 service allows us to store files that can be accessed by both the built-in training models such as the XGBoost model we will be using as well as custom models such as the one we will see a little later.\n",
    "\n",
    "For this and most other tasks we will be doing using SageMaker, there are two methods we could use. The first is to use the low level functionality of SageMaker which requires knowing each of the objects involved in the SageMaker environment. The second is to use the high level functionality in which certain choices have been made on the user's behalf. The low level approach benefits from allowing the user a great deal of flexibility while the high level approach makes development much quicker. For our purposes we will opt to use the high level approach although using the low-level approach is certainly an option.\n",
    "\n",
    "Recall the method `upload_data()` which is a member of the object representing our current SageMaker session. What this method does is upload the data to the default bucket (which is created if it does not exist) into the path described by the key_prefix variable. To see this for yourself, once you have uploaded the data files, go to the S3 console and look to see where the files have been uploaded.\n",
    "\n",
    "For additional resources, see the __[SageMaker API documentation](http://sagemaker.readthedocs.io/en/latest/)__ and in addition the __[SageMaker Developer Guide.](https://docs.aws.amazon.com/sagemaker/latest/dg/)__"
   ]
  },
  {
   "cell_type": "code",
   "execution_count": 38,
   "metadata": {},
   "outputs": [],
   "source": [
    "import sagemaker\n",
    "\n",
    "session = sagemaker.Session() # Store the current SageMaker session\n",
    "\n",
    "# S3 prefix (which folder will we use)\n",
    "prefix = 'sentiment-web-app'\n",
    "\n",
    "test_location = session.upload_data(os.path.join(data_dir, 'test.csv'), key_prefix=prefix)\n",
    "val_location = session.upload_data(os.path.join(data_dir, 'validation.csv'), key_prefix=prefix)\n",
    "train_location = session.upload_data(os.path.join(data_dir, 'train.csv'), key_prefix=prefix)"
   ]
  },
  {
   "cell_type": "markdown",
   "metadata": {},
   "source": [
    "## Step 4: Creating the XGBoost model\n",
    "\n",
    "Now that the data has been uploaded it is time to create the XGBoost model. To begin with, we need to do some setup. At this point it is worth discussing what a model is in SageMaker. It is easiest to think of a model of comprising three different objects in the SageMaker ecosystem, which interact with one another.\n",
    "\n",
    "- Model Artifacts\n",
    "- Training Code (Container)\n",
    "- Inference Code (Container)\n",
    "\n",
    "The Model Artifacts are what you might think of as the actual model itself. For example, if you were building a neural network, the model artifacts would be the weights of the various layers. In our case, for an XGBoost model, the artifacts are the actual trees that are created during training.\n",
    "\n",
    "The other two objects, the training code and the inference code are then used to manipulate the training artifacts. More precisely, the training code uses the training data that is provided and creates the model artifacts, while the inference code uses the model artifacts to make predictions on new data.\n",
    "\n",
    "The way that SageMaker runs the training and inference code is by making use of Docker containers. For now, think of a container as being a way of packaging code up so that dependencies aren't an issue."
   ]
  },
  {
   "cell_type": "code",
   "execution_count": 39,
   "metadata": {},
   "outputs": [],
   "source": [
    "from sagemaker import get_execution_role\n",
    "\n",
    "# Our current execution role is required when creating the model as the training\n",
    "# and inference code will need to access the model artifacts.\n",
    "role = get_execution_role()"
   ]
  },
  {
   "cell_type": "code",
   "execution_count": 40,
   "metadata": {},
   "outputs": [
    {
     "name": "stderr",
     "output_type": "stream",
     "text": [
      "'get_image_uri' method will be deprecated in favor of 'ImageURIProvider' class in SageMaker Python SDK v2.\n",
      "There is a more up to date SageMaker XGBoost image. To use the newer image, please set 'repo_version'='1.0-1'. For example:\n",
      "\tget_image_uri(region, 'xgboost', '1.0-1').\n"
     ]
    }
   ],
   "source": [
    "# We need to retrieve the location of the container which is provided by Amazon for using XGBoost.\n",
    "# As a matter of convenience, the training and inference code both use the same container.\n",
    "from sagemaker.amazon.amazon_estimator import get_image_uri\n",
    "\n",
    "container = get_image_uri(session.boto_region_name, 'xgboost')"
   ]
  },
  {
   "cell_type": "code",
   "execution_count": 41,
   "metadata": {},
   "outputs": [
    {
     "name": "stderr",
     "output_type": "stream",
     "text": [
      "Parameter image_name will be renamed to image_uri in SageMaker Python SDK v2.\n"
     ]
    }
   ],
   "source": [
    "# First we create a SageMaker estimator object for our model.\n",
    "xgb = sagemaker.estimator.Estimator(container, # The location of the container we wish to use\n",
    "                                    role,                                    # What is our current IAM Role\n",
    "                                    train_instance_count=1,                  # How many compute instances\n",
    "                                    train_instance_type='ml.m4.xlarge',      # What kind of compute instances\n",
    "                                    output_path='s3://{}/{}/output'.format(session.default_bucket(), prefix),\n",
    "                                    sagemaker_session=session)\n",
    "\n",
    "# And then set the algorithm specific parameters.\n",
    "xgb.set_hyperparameters(max_depth=5,\n",
    "                        eta=0.2,\n",
    "                        gamma=4,\n",
    "                        min_child_weight=6,\n",
    "                        subsample=0.8,\n",
    "                        silent=0,\n",
    "                        objective='binary:logistic',\n",
    "                        early_stopping_rounds=10,\n",
    "                        num_round=500)"
   ]
  },
  {
   "cell_type": "markdown",
   "metadata": {},
   "source": [
    "### Fit the XGBoost model\n",
    "\n",
    "Now that our model has been set up we simply need to attach the training and validation datasets and then ask SageMaker to set up the computation."
   ]
  },
  {
   "cell_type": "code",
   "execution_count": 42,
   "metadata": {},
   "outputs": [
    {
     "name": "stderr",
     "output_type": "stream",
     "text": [
      "'s3_input' class will be renamed to 'TrainingInput' in SageMaker Python SDK v2.\n",
      "'s3_input' class will be renamed to 'TrainingInput' in SageMaker Python SDK v2.\n"
     ]
    }
   ],
   "source": [
    "s3_input_train = sagemaker.s3_input(s3_data=train_location, content_type='csv')\n",
    "s3_input_validation = sagemaker.s3_input(s3_data=val_location, content_type='csv')"
   ]
  },
  {
   "cell_type": "code",
   "execution_count": 43,
   "metadata": {},
   "outputs": [
    {
     "name": "stdout",
     "output_type": "stream",
     "text": [
      "2022-04-25 17:44:48 Starting - Starting the training job...\n",
      "2022-04-25 17:45:18 Starting - Preparing the instances for training.........\n",
      "2022-04-25 17:46:46 Downloading - Downloading input data......\n",
      "2022-04-25 17:47:27 Training - Downloading the training image......\n",
      "2022-04-25 17:48:33 Training - Training image download completed. Training in progress.\u001b[34mArguments: train\u001b[0m\n",
      "\u001b[34m[2022-04-25:17:48:37:INFO] Running standalone xgboost training.\u001b[0m\n",
      "\u001b[34m[2022-04-25:17:48:37:INFO] File size need to be processed in the node: 238.5mb. Available memory size in the node: 8506.05mb\u001b[0m\n",
      "\u001b[34m[2022-04-25:17:48:37:INFO] Determined delimiter of CSV input is ','\u001b[0m\n",
      "\u001b[34m[17:48:37] S3DistributionType set as FullyReplicated\u001b[0m\n",
      "\u001b[34m[17:48:39] 15000x5000 matrix with 75000000 entries loaded from /opt/ml/input/data/train?format=csv&label_column=0&delimiter=,\u001b[0m\n",
      "\u001b[34m[2022-04-25:17:48:39:INFO] Determined delimiter of CSV input is ','\u001b[0m\n",
      "\u001b[34m[17:48:39] S3DistributionType set as FullyReplicated\u001b[0m\n",
      "\u001b[34m[17:48:41] 10000x5000 matrix with 50000000 entries loaded from /opt/ml/input/data/validation?format=csv&label_column=0&delimiter=,\u001b[0m\n",
      "\u001b[34m[17:48:45] src/tree/updater_prune.cc:74: tree pruning end, 1 roots, 38 extra nodes, 10 pruned nodes, max_depth=5\u001b[0m\n",
      "\u001b[34m[0]#011train-error:0.3048#011validation-error:0.3136\u001b[0m\n",
      "\u001b[34mMultiple eval metrics have been passed: 'validation-error' will be used for early stopping.\u001b[0m\n",
      "\u001b[34mWill train until validation-error hasn't improved in 10 rounds.\u001b[0m\n",
      "\u001b[34m[17:48:47] src/tree/updater_prune.cc:74: tree pruning end, 1 roots, 42 extra nodes, 0 pruned nodes, max_depth=5\u001b[0m\n",
      "\u001b[34m[1]#011train-error:0.276933#011validation-error:0.2914\u001b[0m\n",
      "\u001b[34m[17:48:49] src/tree/updater_prune.cc:74: tree pruning end, 1 roots, 34 extra nodes, 10 pruned nodes, max_depth=5\u001b[0m\n",
      "\u001b[34m[2]#011train-error:0.275667#011validation-error:0.2916\u001b[0m\n",
      "\u001b[34m[17:48:51] src/tree/updater_prune.cc:74: tree pruning end, 1 roots, 30 extra nodes, 10 pruned nodes, max_depth=5\u001b[0m\n",
      "\u001b[34m[3]#011train-error:0.266133#011validation-error:0.2812\u001b[0m\n",
      "\u001b[34m[17:48:53] src/tree/updater_prune.cc:74: tree pruning end, 1 roots, 54 extra nodes, 2 pruned nodes, max_depth=5\u001b[0m\n",
      "\u001b[34m[4]#011train-error:0.261067#011validation-error:0.2786\u001b[0m\n",
      "\u001b[34m[17:48:55] src/tree/updater_prune.cc:74: tree pruning end, 1 roots, 32 extra nodes, 0 pruned nodes, max_depth=5\u001b[0m\n",
      "\u001b[34m[5]#011train-error:0.254133#011validation-error:0.273\u001b[0m\n",
      "\u001b[34m[17:48:57] src/tree/updater_prune.cc:74: tree pruning end, 1 roots, 36 extra nodes, 6 pruned nodes, max_depth=5\u001b[0m\n",
      "\u001b[34m[6]#011train-error:0.248333#011validation-error:0.2643\u001b[0m\n",
      "\u001b[34m[17:48:58] src/tree/updater_prune.cc:74: tree pruning end, 1 roots, 26 extra nodes, 14 pruned nodes, max_depth=5\u001b[0m\n",
      "\u001b[34m[7]#011train-error:0.2444#011validation-error:0.2627\u001b[0m\n",
      "\u001b[34m[17:49:00] src/tree/updater_prune.cc:74: tree pruning end, 1 roots, 36 extra nodes, 4 pruned nodes, max_depth=5\u001b[0m\n",
      "\u001b[34m[8]#011train-error:0.2336#011validation-error:0.2539\u001b[0m\n",
      "\u001b[34m[17:49:02] src/tree/updater_prune.cc:74: tree pruning end, 1 roots, 32 extra nodes, 0 pruned nodes, max_depth=5\u001b[0m\n",
      "\u001b[34m[9]#011train-error:0.2286#011validation-error:0.2502\u001b[0m\n",
      "\u001b[34m[17:49:04] src/tree/updater_prune.cc:74: tree pruning end, 1 roots, 48 extra nodes, 8 pruned nodes, max_depth=5\u001b[0m\n",
      "\u001b[34m[10]#011train-error:0.223333#011validation-error:0.2417\u001b[0m\n",
      "\u001b[34m[17:49:06] src/tree/updater_prune.cc:74: tree pruning end, 1 roots, 30 extra nodes, 12 pruned nodes, max_depth=5\u001b[0m\n",
      "\u001b[34m[11]#011train-error:0.218533#011validation-error:0.2397\u001b[0m\n",
      "\u001b[34m[17:49:08] src/tree/updater_prune.cc:74: tree pruning end, 1 roots, 32 extra nodes, 6 pruned nodes, max_depth=5\u001b[0m\n",
      "\u001b[34m[12]#011train-error:0.2178#011validation-error:0.2396\u001b[0m\n",
      "\u001b[34m[17:49:10] src/tree/updater_prune.cc:74: tree pruning end, 1 roots, 28 extra nodes, 8 pruned nodes, max_depth=5\u001b[0m\n",
      "\u001b[34m[13]#011train-error:0.2118#011validation-error:0.2325\u001b[0m\n",
      "\u001b[34m[17:49:12] src/tree/updater_prune.cc:74: tree pruning end, 1 roots, 22 extra nodes, 10 pruned nodes, max_depth=5\u001b[0m\n",
      "\u001b[34m[14]#011train-error:0.2094#011validation-error:0.2305\u001b[0m\n",
      "\u001b[34m[17:49:14] src/tree/updater_prune.cc:74: tree pruning end, 1 roots, 24 extra nodes, 10 pruned nodes, max_depth=5\u001b[0m\n",
      "\u001b[34m[15]#011train-error:0.208467#011validation-error:0.2293\u001b[0m\n",
      "\u001b[34m[17:49:15] src/tree/updater_prune.cc:74: tree pruning end, 1 roots, 30 extra nodes, 2 pruned nodes, max_depth=5\u001b[0m\n",
      "\u001b[34m[16]#011train-error:0.203267#011validation-error:0.2261\u001b[0m\n",
      "\u001b[34m[17:49:17] src/tree/updater_prune.cc:74: tree pruning end, 1 roots, 30 extra nodes, 4 pruned nodes, max_depth=5\u001b[0m\n",
      "\u001b[34m[17]#011train-error:0.200533#011validation-error:0.2241\u001b[0m\n",
      "\u001b[34m[17:49:19] src/tree/updater_prune.cc:74: tree pruning end, 1 roots, 30 extra nodes, 8 pruned nodes, max_depth=5\u001b[0m\n",
      "\u001b[34m[18]#011train-error:0.198267#011validation-error:0.2189\u001b[0m\n",
      "\u001b[34m[17:49:20] src/tree/updater_prune.cc:74: tree pruning end, 1 roots, 38 extra nodes, 6 pruned nodes, max_depth=5\u001b[0m\n",
      "\u001b[34m[19]#011train-error:0.193867#011validation-error:0.217\u001b[0m\n",
      "\u001b[34m[17:49:22] src/tree/updater_prune.cc:74: tree pruning end, 1 roots, 24 extra nodes, 10 pruned nodes, max_depth=5\u001b[0m\n",
      "\u001b[34m[20]#011train-error:0.192267#011validation-error:0.2147\u001b[0m\n",
      "\u001b[34m[17:49:24] src/tree/updater_prune.cc:74: tree pruning end, 1 roots, 16 extra nodes, 10 pruned nodes, max_depth=5\u001b[0m\n",
      "\u001b[34m[21]#011train-error:0.190533#011validation-error:0.2126\u001b[0m\n",
      "\u001b[34m[17:49:26] src/tree/updater_prune.cc:74: tree pruning end, 1 roots, 16 extra nodes, 8 pruned nodes, max_depth=5\u001b[0m\n",
      "\u001b[34m[22]#011train-error:0.1876#011validation-error:0.211\u001b[0m\n",
      "\u001b[34m[17:49:28] src/tree/updater_prune.cc:74: tree pruning end, 1 roots, 32 extra nodes, 2 pruned nodes, max_depth=5\u001b[0m\n",
      "\u001b[34m[23]#011train-error:0.184867#011validation-error:0.2096\u001b[0m\n",
      "\u001b[34m[17:49:30] src/tree/updater_prune.cc:74: tree pruning end, 1 roots, 42 extra nodes, 12 pruned nodes, max_depth=5\u001b[0m\n",
      "\u001b[34m[24]#011train-error:0.181267#011validation-error:0.2075\u001b[0m\n",
      "\u001b[34m[17:49:32] src/tree/updater_prune.cc:74: tree pruning end, 1 roots, 32 extra nodes, 4 pruned nodes, max_depth=5\u001b[0m\n",
      "\u001b[34m[25]#011train-error:0.178333#011validation-error:0.206\u001b[0m\n",
      "\u001b[34m[17:49:34] src/tree/updater_prune.cc:74: tree pruning end, 1 roots, 20 extra nodes, 10 pruned nodes, max_depth=5\u001b[0m\n",
      "\u001b[34m[26]#011train-error:0.177#011validation-error:0.2043\u001b[0m\n",
      "\u001b[34m[17:49:36] src/tree/updater_prune.cc:74: tree pruning end, 1 roots, 32 extra nodes, 12 pruned nodes, max_depth=5\u001b[0m\n",
      "\u001b[34m[27]#011train-error:0.174667#011validation-error:0.2021\u001b[0m\n",
      "\u001b[34m[17:49:37] src/tree/updater_prune.cc:74: tree pruning end, 1 roots, 22 extra nodes, 10 pruned nodes, max_depth=5\u001b[0m\n",
      "\u001b[34m[28]#011train-error:0.1724#011validation-error:0.2016\u001b[0m\n",
      "\u001b[34m[17:49:39] src/tree/updater_prune.cc:74: tree pruning end, 1 roots, 30 extra nodes, 8 pruned nodes, max_depth=5\u001b[0m\n",
      "\u001b[34m[29]#011train-error:0.170333#011validation-error:0.2001\u001b[0m\n",
      "\u001b[34m[17:49:41] src/tree/updater_prune.cc:74: tree pruning end, 1 roots, 30 extra nodes, 6 pruned nodes, max_depth=5\u001b[0m\n",
      "\u001b[34m[30]#011train-error:0.170133#011validation-error:0.1962\u001b[0m\n",
      "\u001b[34m[17:49:43] src/tree/updater_prune.cc:74: tree pruning end, 1 roots, 16 extra nodes, 16 pruned nodes, max_depth=5\u001b[0m\n",
      "\u001b[34m[31]#011train-error:0.168267#011validation-error:0.1969\u001b[0m\n",
      "\u001b[34m[17:49:45] src/tree/updater_prune.cc:74: tree pruning end, 1 roots, 40 extra nodes, 8 pruned nodes, max_depth=5\u001b[0m\n",
      "\u001b[34m[32]#011train-error:0.164867#011validation-error:0.1931\u001b[0m\n",
      "\u001b[34m[17:49:47] src/tree/updater_prune.cc:74: tree pruning end, 1 roots, 20 extra nodes, 12 pruned nodes, max_depth=5\u001b[0m\n",
      "\u001b[34m[33]#011train-error:0.164067#011validation-error:0.1928\u001b[0m\n",
      "\u001b[34m[17:49:49] src/tree/updater_prune.cc:74: tree pruning end, 1 roots, 40 extra nodes, 10 pruned nodes, max_depth=5\u001b[0m\n",
      "\u001b[34m[34]#011train-error:0.1628#011validation-error:0.1928\u001b[0m\n",
      "\u001b[34m[17:49:50] src/tree/updater_prune.cc:74: tree pruning end, 1 roots, 28 extra nodes, 10 pruned nodes, max_depth=5\u001b[0m\n",
      "\u001b[34m[35]#011train-error:0.161133#011validation-error:0.1914\u001b[0m\n",
      "\u001b[34m[17:49:52] src/tree/updater_prune.cc:74: tree pruning end, 1 roots, 30 extra nodes, 10 pruned nodes, max_depth=5\u001b[0m\n",
      "\u001b[34m[36]#011train-error:0.1586#011validation-error:0.1887\u001b[0m\n",
      "\u001b[34m[17:49:54] src/tree/updater_prune.cc:74: tree pruning end, 1 roots, 22 extra nodes, 2 pruned nodes, max_depth=5\u001b[0m\n",
      "\u001b[34m[37]#011train-error:0.156867#011validation-error:0.1874\u001b[0m\n",
      "\u001b[34m[17:49:56] src/tree/updater_prune.cc:74: tree pruning end, 1 roots, 24 extra nodes, 12 pruned nodes, max_depth=5\u001b[0m\n",
      "\u001b[34m[38]#011train-error:0.155467#011validation-error:0.1866\u001b[0m\n",
      "\u001b[34m[17:49:58] src/tree/updater_prune.cc:74: tree pruning end, 1 roots, 26 extra nodes, 8 pruned nodes, max_depth=5\u001b[0m\n",
      "\u001b[34m[39]#011train-error:0.154133#011validation-error:0.1855\u001b[0m\n",
      "\u001b[34m[17:50:00] src/tree/updater_prune.cc:74: tree pruning end, 1 roots, 26 extra nodes, 8 pruned nodes, max_depth=5\u001b[0m\n",
      "\u001b[34m[40]#011train-error:0.151867#011validation-error:0.1846\u001b[0m\n",
      "\u001b[34m[17:50:02] src/tree/updater_prune.cc:74: tree pruning end, 1 roots, 26 extra nodes, 8 pruned nodes, max_depth=5\u001b[0m\n",
      "\u001b[34m[41]#011train-error:0.150867#011validation-error:0.1828\u001b[0m\n",
      "\u001b[34m[17:50:04] src/tree/updater_prune.cc:74: tree pruning end, 1 roots, 36 extra nodes, 6 pruned nodes, max_depth=5\u001b[0m\n",
      "\u001b[34m[42]#011train-error:0.147933#011validation-error:0.1824\u001b[0m\n",
      "\u001b[34m[17:50:06] src/tree/updater_prune.cc:74: tree pruning end, 1 roots, 20 extra nodes, 12 pruned nodes, max_depth=5\u001b[0m\n",
      "\u001b[34m[43]#011train-error:0.1478#011validation-error:0.1835\u001b[0m\n",
      "\u001b[34m[17:50:07] src/tree/updater_prune.cc:74: tree pruning end, 1 roots, 24 extra nodes, 8 pruned nodes, max_depth=5\u001b[0m\n",
      "\u001b[34m[44]#011train-error:0.1468#011validation-error:0.1823\u001b[0m\n",
      "\u001b[34m[17:50:09] src/tree/updater_prune.cc:74: tree pruning end, 1 roots, 24 extra nodes, 12 pruned nodes, max_depth=5\u001b[0m\n",
      "\u001b[34m[45]#011train-error:0.146133#011validation-error:0.1817\u001b[0m\n",
      "\u001b[34m[17:50:11] src/tree/updater_prune.cc:74: tree pruning end, 1 roots, 22 extra nodes, 10 pruned nodes, max_depth=5\u001b[0m\n",
      "\u001b[34m[46]#011train-error:0.145533#011validation-error:0.1807\u001b[0m\n",
      "\u001b[34m[17:50:13] src/tree/updater_prune.cc:74: tree pruning end, 1 roots, 34 extra nodes, 4 pruned nodes, max_depth=5\u001b[0m\n",
      "\u001b[34m[47]#011train-error:0.144067#011validation-error:0.1789\u001b[0m\n",
      "\u001b[34m[17:50:15] src/tree/updater_prune.cc:74: tree pruning end, 1 roots, 26 extra nodes, 10 pruned nodes, max_depth=5\u001b[0m\n",
      "\u001b[34m[48]#011train-error:0.143067#011validation-error:0.1778\u001b[0m\n",
      "\u001b[34m[17:50:17] src/tree/updater_prune.cc:74: tree pruning end, 1 roots, 32 extra nodes, 10 pruned nodes, max_depth=5\u001b[0m\n",
      "\u001b[34m[49]#011train-error:0.141133#011validation-error:0.1766\u001b[0m\n",
      "\u001b[34m[17:50:18] src/tree/updater_prune.cc:74: tree pruning end, 1 roots, 18 extra nodes, 6 pruned nodes, max_depth=5\u001b[0m\n",
      "\u001b[34m[50]#011train-error:0.1406#011validation-error:0.1751\u001b[0m\n",
      "\u001b[34m[17:50:20] src/tree/updater_prune.cc:74: tree pruning end, 1 roots, 30 extra nodes, 12 pruned nodes, max_depth=5\u001b[0m\n",
      "\u001b[34m[51]#011train-error:0.140133#011validation-error:0.1736\u001b[0m\n",
      "\u001b[34m[17:50:22] src/tree/updater_prune.cc:74: tree pruning end, 1 roots, 30 extra nodes, 2 pruned nodes, max_depth=5\u001b[0m\n",
      "\u001b[34m[52]#011train-error:0.1382#011validation-error:0.1738\u001b[0m\n",
      "\u001b[34m[17:50:24] src/tree/updater_prune.cc:74: tree pruning end, 1 roots, 32 extra nodes, 6 pruned nodes, max_depth=5\u001b[0m\n",
      "\u001b[34m[53]#011train-error:0.136133#011validation-error:0.1734\u001b[0m\n",
      "\u001b[34m[17:50:25] src/tree/updater_prune.cc:74: tree pruning end, 1 roots, 14 extra nodes, 20 pruned nodes, max_depth=5\u001b[0m\n",
      "\u001b[34m[54]#011train-error:0.1356#011validation-error:0.1726\u001b[0m\n",
      "\u001b[34m[17:50:27] src/tree/updater_prune.cc:74: tree pruning end, 1 roots, 20 extra nodes, 12 pruned nodes, max_depth=5\u001b[0m\n",
      "\u001b[34m[55]#011train-error:0.1344#011validation-error:0.1709\u001b[0m\n",
      "\u001b[34m[17:50:29] src/tree/updater_prune.cc:74: tree pruning end, 1 roots, 10 extra nodes, 16 pruned nodes, max_depth=5\u001b[0m\n",
      "\u001b[34m[56]#011train-error:0.134533#011validation-error:0.1705\u001b[0m\n",
      "\u001b[34m[17:50:31] src/tree/updater_prune.cc:74: tree pruning end, 1 roots, 36 extra nodes, 8 pruned nodes, max_depth=5\u001b[0m\n",
      "\u001b[34m[57]#011train-error:0.133267#011validation-error:0.1679\u001b[0m\n",
      "\u001b[34m[17:50:33] src/tree/updater_prune.cc:74: tree pruning end, 1 roots, 26 extra nodes, 4 pruned nodes, max_depth=5\u001b[0m\n",
      "\u001b[34m[58]#011train-error:0.131467#011validation-error:0.1683\u001b[0m\n",
      "\u001b[34m[17:50:34] src/tree/updater_prune.cc:74: tree pruning end, 1 roots, 24 extra nodes, 2 pruned nodes, max_depth=5\u001b[0m\n",
      "\u001b[34m[59]#011train-error:0.1308#011validation-error:0.1681\u001b[0m\n",
      "\u001b[34m[17:50:37] src/tree/updater_prune.cc:74: tree pruning end, 1 roots, 16 extra nodes, 8 pruned nodes, max_depth=5\u001b[0m\n",
      "\u001b[34m[60]#011train-error:0.1308#011validation-error:0.1668\u001b[0m\n",
      "\u001b[34m[17:50:39] src/tree/updater_prune.cc:74: tree pruning end, 1 roots, 22 extra nodes, 2 pruned nodes, max_depth=5\u001b[0m\n",
      "\u001b[34m[61]#011train-error:0.129733#011validation-error:0.1667\u001b[0m\n",
      "\u001b[34m[17:50:40] src/tree/updater_prune.cc:74: tree pruning end, 1 roots, 28 extra nodes, 10 pruned nodes, max_depth=5\u001b[0m\n",
      "\u001b[34m[62]#011train-error:0.128067#011validation-error:0.1677\u001b[0m\n",
      "\u001b[34m[17:50:42] src/tree/updater_prune.cc:74: tree pruning end, 1 roots, 14 extra nodes, 4 pruned nodes, max_depth=5\u001b[0m\n",
      "\u001b[34m[63]#011train-error:0.126933#011validation-error:0.1667\u001b[0m\n",
      "\u001b[34m[17:50:44] src/tree/updater_prune.cc:74: tree pruning end, 1 roots, 40 extra nodes, 8 pruned nodes, max_depth=5\u001b[0m\n",
      "\u001b[34m[64]#011train-error:0.1252#011validation-error:0.1657\u001b[0m\n",
      "\u001b[34m[17:50:46] src/tree/updater_prune.cc:74: tree pruning end, 1 roots, 14 extra nodes, 10 pruned nodes, max_depth=5\u001b[0m\n",
      "\u001b[34m[65]#011train-error:0.1242#011validation-error:0.1653\u001b[0m\n",
      "\u001b[34m[17:50:48] src/tree/updater_prune.cc:74: tree pruning end, 1 roots, 12 extra nodes, 4 pruned nodes, max_depth=5\u001b[0m\n",
      "\u001b[34m[66]#011train-error:0.123333#011validation-error:0.1654\u001b[0m\n",
      "\u001b[34m[17:50:50] src/tree/updater_prune.cc:74: tree pruning end, 1 roots, 14 extra nodes, 8 pruned nodes, max_depth=5\u001b[0m\n",
      "\u001b[34m[67]#011train-error:0.122867#011validation-error:0.1645\u001b[0m\n",
      "\u001b[34m[17:50:52] src/tree/updater_prune.cc:74: tree pruning end, 1 roots, 16 extra nodes, 8 pruned nodes, max_depth=5\u001b[0m\n",
      "\u001b[34m[68]#011train-error:0.122867#011validation-error:0.164\u001b[0m\n",
      "\u001b[34m[17:50:54] src/tree/updater_prune.cc:74: tree pruning end, 1 roots, 14 extra nodes, 2 pruned nodes, max_depth=5\u001b[0m\n",
      "\u001b[34m[69]#011train-error:0.122733#011validation-error:0.1635\u001b[0m\n",
      "\u001b[34m[17:50:56] src/tree/updater_prune.cc:74: tree pruning end, 1 roots, 18 extra nodes, 8 pruned nodes, max_depth=5\u001b[0m\n",
      "\u001b[34m[70]#011train-error:0.122467#011validation-error:0.1636\u001b[0m\n",
      "\u001b[34m[17:50:58] src/tree/updater_prune.cc:74: tree pruning end, 1 roots, 18 extra nodes, 12 pruned nodes, max_depth=5\u001b[0m\n",
      "\u001b[34m[71]#011train-error:0.121733#011validation-error:0.1627\u001b[0m\n",
      "\u001b[34m[17:51:00] src/tree/updater_prune.cc:74: tree pruning end, 1 roots, 18 extra nodes, 4 pruned nodes, max_depth=5\u001b[0m\n",
      "\u001b[34m[72]#011train-error:0.121133#011validation-error:0.1626\u001b[0m\n",
      "\u001b[34m[17:51:02] src/tree/updater_prune.cc:74: tree pruning end, 1 roots, 16 extra nodes, 16 pruned nodes, max_depth=5\u001b[0m\n",
      "\u001b[34m[73]#011train-error:0.120067#011validation-error:0.1621\u001b[0m\n",
      "\u001b[34m[17:51:04] src/tree/updater_prune.cc:74: tree pruning end, 1 roots, 22 extra nodes, 6 pruned nodes, max_depth=5\u001b[0m\n",
      "\u001b[34m[74]#011train-error:0.119533#011validation-error:0.1614\u001b[0m\n",
      "\u001b[34m[17:51:06] src/tree/updater_prune.cc:74: tree pruning end, 1 roots, 20 extra nodes, 16 pruned nodes, max_depth=5\u001b[0m\n",
      "\u001b[34m[75]#011train-error:0.119067#011validation-error:0.1609\u001b[0m\n",
      "\u001b[34m[17:51:08] src/tree/updater_prune.cc:74: tree pruning end, 1 roots, 22 extra nodes, 10 pruned nodes, max_depth=5\u001b[0m\n",
      "\u001b[34m[76]#011train-error:0.1184#011validation-error:0.1601\u001b[0m\n",
      "\u001b[34m[17:51:10] src/tree/updater_prune.cc:74: tree pruning end, 1 roots, 38 extra nodes, 6 pruned nodes, max_depth=5\u001b[0m\n",
      "\u001b[34m[77]#011train-error:0.117867#011validation-error:0.1596\u001b[0m\n",
      "\u001b[34m[17:51:11] src/tree/updater_prune.cc:74: tree pruning end, 1 roots, 26 extra nodes, 4 pruned nodes, max_depth=5\u001b[0m\n",
      "\u001b[34m[78]#011train-error:0.115867#011validation-error:0.1584\u001b[0m\n",
      "\u001b[34m[17:51:13] src/tree/updater_prune.cc:74: tree pruning end, 1 roots, 16 extra nodes, 0 pruned nodes, max_depth=5\u001b[0m\n",
      "\u001b[34m[79]#011train-error:0.115133#011validation-error:0.1581\u001b[0m\n",
      "\u001b[34m[17:51:15] src/tree/updater_prune.cc:74: tree pruning end, 1 roots, 20 extra nodes, 10 pruned nodes, max_depth=5\u001b[0m\n",
      "\u001b[34m[80]#011train-error:0.115067#011validation-error:0.1574\u001b[0m\n",
      "\u001b[34m[17:51:17] src/tree/updater_prune.cc:74: tree pruning end, 1 roots, 12 extra nodes, 6 pruned nodes, max_depth=5\u001b[0m\n",
      "\u001b[34m[81]#011train-error:0.114467#011validation-error:0.1571\u001b[0m\n",
      "\u001b[34m[17:51:19] src/tree/updater_prune.cc:74: tree pruning end, 1 roots, 30 extra nodes, 14 pruned nodes, max_depth=5\u001b[0m\n",
      "\u001b[34m[82]#011train-error:0.113#011validation-error:0.158\u001b[0m\n",
      "\u001b[34m[17:51:21] src/tree/updater_prune.cc:74: tree pruning end, 1 roots, 12 extra nodes, 14 pruned nodes, max_depth=5\u001b[0m\n",
      "\u001b[34m[83]#011train-error:0.1128#011validation-error:0.1578\u001b[0m\n",
      "\u001b[34m[17:51:23] src/tree/updater_prune.cc:74: tree pruning end, 1 roots, 16 extra nodes, 4 pruned nodes, max_depth=5\u001b[0m\n",
      "\u001b[34m[84]#011train-error:0.112067#011validation-error:0.1582\u001b[0m\n",
      "\u001b[34m[17:51:25] src/tree/updater_prune.cc:74: tree pruning end, 1 roots, 14 extra nodes, 10 pruned nodes, max_depth=5\u001b[0m\n",
      "\u001b[34m[85]#011train-error:0.111733#011validation-error:0.1575\u001b[0m\n",
      "\u001b[34m[17:51:27] src/tree/updater_prune.cc:74: tree pruning end, 1 roots, 18 extra nodes, 8 pruned nodes, max_depth=5\u001b[0m\n",
      "\u001b[34m[86]#011train-error:0.1112#011validation-error:0.1571\u001b[0m\n",
      "\u001b[34m[17:51:29] src/tree/updater_prune.cc:74: tree pruning end, 1 roots, 22 extra nodes, 14 pruned nodes, max_depth=5\u001b[0m\n",
      "\u001b[34m[87]#011train-error:0.111067#011validation-error:0.1565\u001b[0m\n",
      "\u001b[34m[17:51:31] src/tree/updater_prune.cc:74: tree pruning end, 1 roots, 26 extra nodes, 6 pruned nodes, max_depth=5\u001b[0m\n",
      "\u001b[34m[88]#011train-error:0.109333#011validation-error:0.1565\u001b[0m\n",
      "\u001b[34m[17:51:33] src/tree/updater_prune.cc:74: tree pruning end, 1 roots, 22 extra nodes, 8 pruned nodes, max_depth=5\u001b[0m\n",
      "\u001b[34m[89]#011train-error:0.109533#011validation-error:0.1554\u001b[0m\n",
      "\u001b[34m[17:51:35] src/tree/updater_prune.cc:74: tree pruning end, 1 roots, 12 extra nodes, 4 pruned nodes, max_depth=5\u001b[0m\n",
      "\u001b[34m[90]#011train-error:0.1094#011validation-error:0.1553\u001b[0m\n",
      "\u001b[34m[17:51:37] src/tree/updater_prune.cc:74: tree pruning end, 1 roots, 18 extra nodes, 12 pruned nodes, max_depth=5\u001b[0m\n",
      "\u001b[34m[91]#011train-error:0.109#011validation-error:0.1543\u001b[0m\n",
      "\u001b[34m[17:51:38] src/tree/updater_prune.cc:74: tree pruning end, 1 roots, 28 extra nodes, 6 pruned nodes, max_depth=5\u001b[0m\n",
      "\u001b[34m[92]#011train-error:0.107467#011validation-error:0.1541\u001b[0m\n",
      "\u001b[34m[17:51:40] src/tree/updater_prune.cc:74: tree pruning end, 1 roots, 20 extra nodes, 8 pruned nodes, max_depth=5\u001b[0m\n",
      "\u001b[34m[93]#011train-error:0.107267#011validation-error:0.1538\u001b[0m\n",
      "\u001b[34m[17:51:42] src/tree/updater_prune.cc:74: tree pruning end, 1 roots, 22 extra nodes, 10 pruned nodes, max_depth=5\u001b[0m\n",
      "\u001b[34m[94]#011train-error:0.1068#011validation-error:0.1536\u001b[0m\n",
      "\u001b[34m[17:51:44] src/tree/updater_prune.cc:74: tree pruning end, 1 roots, 14 extra nodes, 6 pruned nodes, max_depth=5\u001b[0m\n",
      "\u001b[34m[95]#011train-error:0.1068#011validation-error:0.154\u001b[0m\n",
      "\u001b[34m[17:51:46] src/tree/updater_prune.cc:74: tree pruning end, 1 roots, 12 extra nodes, 4 pruned nodes, max_depth=5\u001b[0m\n",
      "\u001b[34m[96]#011train-error:0.106067#011validation-error:0.1534\u001b[0m\n",
      "\u001b[34m[17:51:48] src/tree/updater_prune.cc:74: tree pruning end, 1 roots, 28 extra nodes, 4 pruned nodes, max_depth=5\u001b[0m\n",
      "\u001b[34m[97]#011train-error:0.105933#011validation-error:0.1541\u001b[0m\n",
      "\u001b[34m[17:51:50] src/tree/updater_prune.cc:74: tree pruning end, 1 roots, 20 extra nodes, 12 pruned nodes, max_depth=5\u001b[0m\n",
      "\u001b[34m[98]#011train-error:0.105867#011validation-error:0.1546\u001b[0m\n",
      "\u001b[34m[17:51:52] src/tree/updater_prune.cc:74: tree pruning end, 1 roots, 14 extra nodes, 4 pruned nodes, max_depth=5\u001b[0m\n",
      "\u001b[34m[99]#011train-error:0.105067#011validation-error:0.1546\u001b[0m\n",
      "\u001b[34m[17:51:54] src/tree/updater_prune.cc:74: tree pruning end, 1 roots, 14 extra nodes, 4 pruned nodes, max_depth=5\u001b[0m\n",
      "\u001b[34m[100]#011train-error:0.104733#011validation-error:0.1539\u001b[0m\n",
      "\u001b[34m[17:51:56] src/tree/updater_prune.cc:74: tree pruning end, 1 roots, 12 extra nodes, 4 pruned nodes, max_depth=5\u001b[0m\n",
      "\u001b[34m[101]#011train-error:0.103933#011validation-error:0.153\u001b[0m\n",
      "\u001b[34m[17:51:58] src/tree/updater_prune.cc:74: tree pruning end, 1 roots, 12 extra nodes, 10 pruned nodes, max_depth=5\u001b[0m\n",
      "\u001b[34m[102]#011train-error:0.103733#011validation-error:0.153\u001b[0m\n",
      "\u001b[34m[17:52:00] src/tree/updater_prune.cc:74: tree pruning end, 1 roots, 10 extra nodes, 4 pruned nodes, max_depth=5\u001b[0m\n",
      "\u001b[34m[103]#011train-error:0.1036#011validation-error:0.1532\u001b[0m\n",
      "\u001b[34m[17:52:02] src/tree/updater_prune.cc:74: tree pruning end, 1 roots, 18 extra nodes, 14 pruned nodes, max_depth=5\u001b[0m\n",
      "\u001b[34m[104]#011train-error:0.102733#011validation-error:0.1524\u001b[0m\n",
      "\u001b[34m[17:52:04] src/tree/updater_prune.cc:74: tree pruning end, 1 roots, 30 extra nodes, 14 pruned nodes, max_depth=5\u001b[0m\n",
      "\u001b[34m[105]#011train-error:0.1036#011validation-error:0.1522\u001b[0m\n",
      "\u001b[34m[17:52:06] src/tree/updater_prune.cc:74: tree pruning end, 1 roots, 18 extra nodes, 10 pruned nodes, max_depth=5\u001b[0m\n",
      "\u001b[34m[106]#011train-error:0.1026#011validation-error:0.1533\u001b[0m\n",
      "\u001b[34m[17:52:08] src/tree/updater_prune.cc:74: tree pruning end, 1 roots, 12 extra nodes, 4 pruned nodes, max_depth=5\u001b[0m\n",
      "\u001b[34m[107]#011train-error:0.101333#011validation-error:0.153\u001b[0m\n",
      "\u001b[34m[17:52:10] src/tree/updater_prune.cc:74: tree pruning end, 1 roots, 20 extra nodes, 6 pruned nodes, max_depth=5\u001b[0m\n",
      "\u001b[34m[108]#011train-error:0.100733#011validation-error:0.1532\u001b[0m\n",
      "\u001b[34m[17:52:12] src/tree/updater_prune.cc:74: tree pruning end, 1 roots, 14 extra nodes, 6 pruned nodes, max_depth=5\u001b[0m\n",
      "\u001b[34m[109]#011train-error:0.100533#011validation-error:0.1522\u001b[0m\n",
      "\u001b[34m[17:52:14] src/tree/updater_prune.cc:74: tree pruning end, 1 roots, 24 extra nodes, 8 pruned nodes, max_depth=5\u001b[0m\n",
      "\u001b[34m[110]#011train-error:0.100333#011validation-error:0.1521\u001b[0m\n",
      "\u001b[34m[17:52:16] src/tree/updater_prune.cc:74: tree pruning end, 1 roots, 14 extra nodes, 8 pruned nodes, max_depth=5\u001b[0m\n",
      "\u001b[34m[111]#011train-error:0.099467#011validation-error:0.152\u001b[0m\n",
      "\u001b[34m[17:52:18] src/tree/updater_prune.cc:74: tree pruning end, 1 roots, 12 extra nodes, 8 pruned nodes, max_depth=5\u001b[0m\n",
      "\u001b[34m[112]#011train-error:0.099133#011validation-error:0.1532\u001b[0m\n",
      "\u001b[34m[17:52:19] src/tree/updater_prune.cc:74: tree pruning end, 1 roots, 18 extra nodes, 6 pruned nodes, max_depth=5\u001b[0m\n",
      "\u001b[34m[113]#011train-error:0.098733#011validation-error:0.1528\u001b[0m\n",
      "\u001b[34m[17:52:21] src/tree/updater_prune.cc:74: tree pruning end, 1 roots, 14 extra nodes, 8 pruned nodes, max_depth=5\u001b[0m\n",
      "\u001b[34m[114]#011train-error:0.098333#011validation-error:0.1525\u001b[0m\n",
      "\u001b[34m[17:52:23] src/tree/updater_prune.cc:74: tree pruning end, 1 roots, 18 extra nodes, 10 pruned nodes, max_depth=5\u001b[0m\n",
      "\u001b[34m[115]#011train-error:0.097533#011validation-error:0.1524\u001b[0m\n",
      "\u001b[34m[17:52:25] src/tree/updater_prune.cc:74: tree pruning end, 1 roots, 20 extra nodes, 10 pruned nodes, max_depth=5\u001b[0m\n",
      "\u001b[34m[116]#011train-error:0.0978#011validation-error:0.1517\u001b[0m\n",
      "\u001b[34m[17:52:27] src/tree/updater_prune.cc:74: tree pruning end, 1 roots, 20 extra nodes, 10 pruned nodes, max_depth=5\u001b[0m\n",
      "\u001b[34m[117]#011train-error:0.0982#011validation-error:0.1499\u001b[0m\n",
      "\u001b[34m[17:52:29] src/tree/updater_prune.cc:74: tree pruning end, 1 roots, 22 extra nodes, 6 pruned nodes, max_depth=5\u001b[0m\n",
      "\u001b[34m[118]#011train-error:0.0968#011validation-error:0.1493\u001b[0m\n",
      "\u001b[34m[17:52:31] src/tree/updater_prune.cc:74: tree pruning end, 1 roots, 10 extra nodes, 10 pruned nodes, max_depth=5\u001b[0m\n",
      "\u001b[34m[119]#011train-error:0.0964#011validation-error:0.1489\u001b[0m\n",
      "\u001b[34m[17:52:33] src/tree/updater_prune.cc:74: tree pruning end, 1 roots, 12 extra nodes, 2 pruned nodes, max_depth=5\u001b[0m\n",
      "\u001b[34m[120]#011train-error:0.095933#011validation-error:0.1487\u001b[0m\n",
      "\u001b[34m[17:52:35] src/tree/updater_prune.cc:74: tree pruning end, 1 roots, 14 extra nodes, 4 pruned nodes, max_depth=5\u001b[0m\n",
      "\u001b[34m[121]#011train-error:0.095267#011validation-error:0.1481\u001b[0m\n",
      "\u001b[34m[17:52:37] src/tree/updater_prune.cc:74: tree pruning end, 1 roots, 20 extra nodes, 14 pruned nodes, max_depth=5\u001b[0m\n",
      "\u001b[34m[122]#011train-error:0.094467#011validation-error:0.1476\u001b[0m\n",
      "\u001b[34m[17:52:38] src/tree/updater_prune.cc:74: tree pruning end, 1 roots, 14 extra nodes, 16 pruned nodes, max_depth=5\u001b[0m\n",
      "\u001b[34m[123]#011train-error:0.094067#011validation-error:0.1469\u001b[0m\n",
      "\u001b[34m[17:52:40] src/tree/updater_prune.cc:74: tree pruning end, 1 roots, 22 extra nodes, 4 pruned nodes, max_depth=5\u001b[0m\n",
      "\u001b[34m[124]#011train-error:0.093667#011validation-error:0.1468\u001b[0m\n",
      "\u001b[34m[17:52:42] src/tree/updater_prune.cc:74: tree pruning end, 1 roots, 16 extra nodes, 8 pruned nodes, max_depth=5\u001b[0m\n",
      "\u001b[34m[125]#011train-error:0.093067#011validation-error:0.147\u001b[0m\n",
      "\u001b[34m[17:52:44] src/tree/updater_prune.cc:74: tree pruning end, 1 roots, 20 extra nodes, 6 pruned nodes, max_depth=5\u001b[0m\n",
      "\u001b[34m[126]#011train-error:0.092533#011validation-error:0.1456\u001b[0m\n",
      "\u001b[34m[17:52:46] src/tree/updater_prune.cc:74: tree pruning end, 1 roots, 18 extra nodes, 14 pruned nodes, max_depth=5\u001b[0m\n",
      "\u001b[34m[127]#011train-error:0.091867#011validation-error:0.1454\u001b[0m\n",
      "\u001b[34m[17:52:48] src/tree/updater_prune.cc:74: tree pruning end, 1 roots, 12 extra nodes, 8 pruned nodes, max_depth=5\u001b[0m\n",
      "\u001b[34m[128]#011train-error:0.091533#011validation-error:0.1451\u001b[0m\n",
      "\u001b[34m[17:52:50] src/tree/updater_prune.cc:74: tree pruning end, 1 roots, 20 extra nodes, 0 pruned nodes, max_depth=5\u001b[0m\n",
      "\u001b[34m[129]#011train-error:0.090733#011validation-error:0.1448\u001b[0m\n",
      "\u001b[34m[17:52:52] src/tree/updater_prune.cc:74: tree pruning end, 1 roots, 20 extra nodes, 16 pruned nodes, max_depth=5\u001b[0m\n",
      "\u001b[34m[130]#011train-error:0.091#011validation-error:0.1444\u001b[0m\n",
      "\u001b[34m[17:52:54] src/tree/updater_prune.cc:74: tree pruning end, 1 roots, 10 extra nodes, 6 pruned nodes, max_depth=5\u001b[0m\n",
      "\u001b[34m[131]#011train-error:0.0906#011validation-error:0.144\u001b[0m\n",
      "\u001b[34m[17:52:55] src/tree/updater_prune.cc:74: tree pruning end, 1 roots, 16 extra nodes, 8 pruned nodes, max_depth=5\u001b[0m\n",
      "\u001b[34m[132]#011train-error:0.09#011validation-error:0.1434\u001b[0m\n",
      "\u001b[34m[17:52:57] src/tree/updater_prune.cc:74: tree pruning end, 1 roots, 10 extra nodes, 2 pruned nodes, max_depth=5\u001b[0m\n",
      "\u001b[34m[133]#011train-error:0.089867#011validation-error:0.1434\u001b[0m\n",
      "\u001b[34m[17:52:59] src/tree/updater_prune.cc:74: tree pruning end, 1 roots, 18 extra nodes, 2 pruned nodes, max_depth=5\u001b[0m\n",
      "\u001b[34m[134]#011train-error:0.0898#011validation-error:0.144\u001b[0m\n",
      "\u001b[34m[17:53:00] src/tree/updater_prune.cc:74: tree pruning end, 1 roots, 20 extra nodes, 8 pruned nodes, max_depth=5\u001b[0m\n",
      "\u001b[34m[135]#011train-error:0.089467#011validation-error:0.144\u001b[0m\n",
      "\u001b[34m[17:53:02] src/tree/updater_prune.cc:74: tree pruning end, 1 roots, 20 extra nodes, 10 pruned nodes, max_depth=5\u001b[0m\n",
      "\u001b[34m[136]#011train-error:0.0892#011validation-error:0.144\u001b[0m\n",
      "\u001b[34m[17:53:04] src/tree/updater_prune.cc:74: tree pruning end, 1 roots, 18 extra nodes, 12 pruned nodes, max_depth=5\u001b[0m\n",
      "\u001b[34m[137]#011train-error:0.089067#011validation-error:0.1427\u001b[0m\n",
      "\u001b[34m[17:53:06] src/tree/updater_prune.cc:74: tree pruning end, 1 roots, 14 extra nodes, 8 pruned nodes, max_depth=5\u001b[0m\n",
      "\u001b[34m[138]#011train-error:0.088533#011validation-error:0.143\u001b[0m\n",
      "\u001b[34m[17:53:08] src/tree/updater_prune.cc:74: tree pruning end, 1 roots, 16 extra nodes, 12 pruned nodes, max_depth=5\u001b[0m\n",
      "\u001b[34m[139]#011train-error:0.088067#011validation-error:0.1437\u001b[0m\n",
      "\u001b[34m[17:53:10] src/tree/updater_prune.cc:74: tree pruning end, 1 roots, 12 extra nodes, 2 pruned nodes, max_depth=5\u001b[0m\n",
      "\u001b[34m[140]#011train-error:0.087933#011validation-error:0.1439\u001b[0m\n",
      "\u001b[34m[17:53:12] src/tree/updater_prune.cc:74: tree pruning end, 1 roots, 12 extra nodes, 6 pruned nodes, max_depth=5\u001b[0m\n",
      "\u001b[34m[141]#011train-error:0.087867#011validation-error:0.1438\u001b[0m\n",
      "\n",
      "2022-04-25 17:53:25 Uploading - Uploading generated training model\u001b[34m[17:53:14] src/tree/updater_prune.cc:74: tree pruning end, 1 roots, 12 extra nodes, 8 pruned nodes, max_depth=5\u001b[0m\n",
      "\u001b[34m[142]#011train-error:0.087133#011validation-error:0.1442\u001b[0m\n",
      "\u001b[34m[17:53:15] src/tree/updater_prune.cc:74: tree pruning end, 1 roots, 16 extra nodes, 18 pruned nodes, max_depth=5\u001b[0m\n",
      "\u001b[34m[143]#011train-error:0.086933#011validation-error:0.1433\u001b[0m\n",
      "\u001b[34m[17:53:17] src/tree/updater_prune.cc:74: tree pruning end, 1 roots, 10 extra nodes, 14 pruned nodes, max_depth=5\u001b[0m\n",
      "\u001b[34m[144]#011train-error:0.086867#011validation-error:0.1433\u001b[0m\n",
      "\u001b[34m[17:53:19] src/tree/updater_prune.cc:74: tree pruning end, 1 roots, 12 extra nodes, 14 pruned nodes, max_depth=5\u001b[0m\n",
      "\u001b[34m[145]#011train-error:0.086733#011validation-error:0.1429\u001b[0m\n",
      "\u001b[34m[17:53:21] src/tree/updater_prune.cc:74: tree pruning end, 1 roots, 10 extra nodes, 4 pruned nodes, max_depth=5\u001b[0m\n",
      "\u001b[34m[146]#011train-error:0.0866#011validation-error:0.1431\u001b[0m\n",
      "\u001b[34m[17:53:23] src/tree/updater_prune.cc:74: tree pruning end, 1 roots, 26 extra nodes, 8 pruned nodes, max_depth=5\u001b[0m\n",
      "\u001b[34m[147]#011train-error:0.086333#011validation-error:0.1432\u001b[0m\n",
      "\u001b[34mStopping. Best iteration:\u001b[0m\n",
      "\u001b[34m[137]#011train-error:0.089067#011validation-error:0.1427\u001b[0m\n",
      "\n",
      "2022-04-25 17:53:31 Completed - Training job completed\n",
      "Training seconds: 405\n",
      "Billable seconds: 405\n"
     ]
    }
   ],
   "source": [
    "xgb.fit({'train': s3_input_train, 'validation': s3_input_validation})"
   ]
  },
  {
   "cell_type": "markdown",
   "metadata": {},
   "source": [
    "## Step 5: Testing the model\n",
    "\n",
    "Now that we've fit our XGBoost model, it's time to see how well it performs. To do this we will use SageMakers Batch Transform functionality. Batch Transform is a convenient way to perform inference on a large dataset in a way that is not realtime. That is, we don't necessarily need to use our model's results immediately and instead we can perform inference on a large number of samples. An example of this in industry might be performing an end of month report. This method of inference can also be useful to us as it means that we can perform inference on our entire test set. \n",
    "\n",
    "To perform a Batch Transformation we need to first create a transformer objects from our trained estimator object."
   ]
  },
  {
   "cell_type": "code",
   "execution_count": 44,
   "metadata": {},
   "outputs": [
    {
     "name": "stderr",
     "output_type": "stream",
     "text": [
      "Parameter image will be renamed to image_uri in SageMaker Python SDK v2.\n"
     ]
    }
   ],
   "source": [
    "xgb_transformer = xgb.transformer(instance_count = 1, instance_type = 'ml.m4.xlarge')"
   ]
  },
  {
   "cell_type": "markdown",
   "metadata": {},
   "source": [
    "Next we actually perform the transform job. When doing so we need to make sure to specify the type of data we are sending so that it is serialized correctly in the background. In our case we are providing our model with csv data so we specify `text/csv`. Also, if the test data that we have provided is too large to process all at once then we need to specify how the data file should be split up. Since each line is a single entry in our data set we tell SageMaker that it can split the input on each line."
   ]
  },
  {
   "cell_type": "code",
   "execution_count": 45,
   "metadata": {},
   "outputs": [],
   "source": [
    "xgb_transformer.transform(test_location, content_type='text/csv', split_type='Line')"
   ]
  },
  {
   "cell_type": "markdown",
   "metadata": {},
   "source": [
    "Currently the transform job is running but it is doing so in the background. Since we wish to wait until the transform job is done and we would like a bit of feedback we can run the `wait()` method."
   ]
  },
  {
   "cell_type": "code",
   "execution_count": 46,
   "metadata": {},
   "outputs": [
    {
     "name": "stdout",
     "output_type": "stream",
     "text": [
      "...................................\u001b[34mArguments: serve\u001b[0m\n",
      "\u001b[34m[2022-04-25 17:59:46 +0000] [1] [INFO] Starting gunicorn 19.9.0\u001b[0m\n",
      "\u001b[34m[2022-04-25 17:59:46 +0000] [1] [INFO] Listening at: http://0.0.0.0:8080 (1)\u001b[0m\n",
      "\u001b[34m[2022-04-25 17:59:46 +0000] [1] [INFO] Using worker: gevent\u001b[0m\n",
      "\u001b[34m[2022-04-25 17:59:46 +0000] [21] [INFO] Booting worker with pid: 21\u001b[0m\n",
      "\u001b[34m[2022-04-25 17:59:46 +0000] [22] [INFO] Booting worker with pid: 22\u001b[0m\n",
      "\u001b[34m[2022-04-25 17:59:46 +0000] [23] [INFO] Booting worker with pid: 23\u001b[0m\n",
      "\u001b[34m[2022-04-25 17:59:46 +0000] [24] [INFO] Booting worker with pid: 24\u001b[0m\n",
      "\u001b[34m/opt/amazon/lib/python3.7/site-packages/gunicorn/workers/ggevent.py:65: MonkeyPatchWarning: Monkey-patching ssl after ssl has already been imported may lead to errors, including RecursionError on Python 3.6. It may also silently lead to incorrect behaviour on Python 3.7. Please monkey-patch earlier. See https://github.com/gevent/gevent/issues/1016. Modules that had direct imports (NOT patched): ['urllib3.util (/opt/amazon/lib/python3.7/site-packages/urllib3/util/__init__.py)', 'urllib3.util.ssl_ (/opt/amazon/lib/python3.7/site-packages/urllib3/util/ssl_.py)']. \n",
      "  monkey.patch_all(subprocess=True)\u001b[0m\n",
      "\u001b[34m/opt/amazon/lib/python3.7/site-packages/gunicorn/workers/ggevent.py:65: MonkeyPatchWarning: Monkey-patching ssl after ssl has already been imported may lead to errors, including RecursionError on Python 3.6. It may also silently lead to incorrect behaviour on Python 3.7. Please monkey-patch earlier. See https://github.com/gevent/gevent/issues/1016. Modules that had direct imports (NOT patched): ['urllib3.util (/opt/amazon/lib/python3.7/site-packages/urllib3/util/__init__.py)', 'urllib3.util.ssl_ (/opt/amazon/lib/python3.7/site-packages/urllib3/util/ssl_.py)']. \n",
      "  monkey.patch_all(subprocess=True)\u001b[0m\n",
      "\u001b[34m/opt/amazon/lib/python3.7/site-packages/gunicorn/workers/ggevent.py:65: MonkeyPatchWarning: Monkey-patching ssl after ssl has already been imported may lead to errors, including RecursionError on Python 3.6. It may also silently lead to incorrect behaviour on Python 3.7. Please monkey-patch earlier. See https://github.com/gevent/gevent/issues/1016. Modules that had direct imports (NOT patched): ['urllib3.util (/opt/amazon/lib/python3.7/site-packages/urllib3/util/__init__.py)', 'urllib3.util.ssl_ (/opt/amazon/lib/python3.7/site-packages/urllib3/util/ssl_.py)']. \n",
      "  monkey.patch_all(subprocess=True)\u001b[0m\n",
      "\u001b[34m[2022-04-25:17:59:46:INFO] Model loaded successfully for worker : 22\u001b[0m\n",
      "\u001b[35mArguments: serve\u001b[0m\n",
      "\u001b[35m[2022-04-25 17:59:46 +0000] [1] [INFO] Starting gunicorn 19.9.0\u001b[0m\n",
      "\u001b[35m[2022-04-25 17:59:46 +0000] [1] [INFO] Listening at: http://0.0.0.0:8080 (1)\u001b[0m\n",
      "\u001b[35m[2022-04-25 17:59:46 +0000] [1] [INFO] Using worker: gevent\u001b[0m\n",
      "\u001b[35m[2022-04-25 17:59:46 +0000] [21] [INFO] Booting worker with pid: 21\u001b[0m\n",
      "\u001b[35m[2022-04-25 17:59:46 +0000] [22] [INFO] Booting worker with pid: 22\u001b[0m\n",
      "\u001b[35m[2022-04-25 17:59:46 +0000] [23] [INFO] Booting worker with pid: 23\u001b[0m\n",
      "\u001b[35m[2022-04-25 17:59:46 +0000] [24] [INFO] Booting worker with pid: 24\u001b[0m\n",
      "\u001b[35m/opt/amazon/lib/python3.7/site-packages/gunicorn/workers/ggevent.py:65: MonkeyPatchWarning: Monkey-patching ssl after ssl has already been imported may lead to errors, including RecursionError on Python 3.6. It may also silently lead to incorrect behaviour on Python 3.7. Please monkey-patch earlier. See https://github.com/gevent/gevent/issues/1016. Modules that had direct imports (NOT patched): ['urllib3.util (/opt/amazon/lib/python3.7/site-packages/urllib3/util/__init__.py)', 'urllib3.util.ssl_ (/opt/amazon/lib/python3.7/site-packages/urllib3/util/ssl_.py)']. \n",
      "  monkey.patch_all(subprocess=True)\u001b[0m\n",
      "\u001b[35m/opt/amazon/lib/python3.7/site-packages/gunicorn/workers/ggevent.py:65: MonkeyPatchWarning: Monkey-patching ssl after ssl has already been imported may lead to errors, including RecursionError on Python 3.6. It may also silently lead to incorrect behaviour on Python 3.7. Please monkey-patch earlier. See https://github.com/gevent/gevent/issues/1016. Modules that had direct imports (NOT patched): ['urllib3.util (/opt/amazon/lib/python3.7/site-packages/urllib3/util/__init__.py)', 'urllib3.util.ssl_ (/opt/amazon/lib/python3.7/site-packages/urllib3/util/ssl_.py)']. \n",
      "  monkey.patch_all(subprocess=True)\u001b[0m\n",
      "\u001b[35m/opt/amazon/lib/python3.7/site-packages/gunicorn/workers/ggevent.py:65: MonkeyPatchWarning: Monkey-patching ssl after ssl has already been imported may lead to errors, including RecursionError on Python 3.6. It may also silently lead to incorrect behaviour on Python 3.7. Please monkey-patch earlier. See https://github.com/gevent/gevent/issues/1016. Modules that had direct imports (NOT patched): ['urllib3.util (/opt/amazon/lib/python3.7/site-packages/urllib3/util/__init__.py)', 'urllib3.util.ssl_ (/opt/amazon/lib/python3.7/site-packages/urllib3/util/ssl_.py)']. \n",
      "  monkey.patch_all(subprocess=True)\u001b[0m\n",
      "\u001b[35m[2022-04-25:17:59:46:INFO] Model loaded successfully for worker : 22\u001b[0m\n",
      "\u001b[34m[2022-04-25:17:59:46:INFO] Model loaded successfully for worker : 21\u001b[0m\n",
      "\u001b[34m[2022-04-25:17:59:46:INFO] Model loaded successfully for worker : 23\u001b[0m\n",
      "\u001b[34m/opt/amazon/lib/python3.7/site-packages/gunicorn/workers/ggevent.py:65: MonkeyPatchWarning: Monkey-patching ssl after ssl has already been imported may lead to errors, including RecursionError on Python 3.6. It may also silently lead to incorrect behaviour on Python 3.7. Please monkey-patch earlier. See https://github.com/gevent/gevent/issues/1016. Modules that had direct imports (NOT patched): ['urllib3.util (/opt/amazon/lib/python3.7/site-packages/urllib3/util/__init__.py)', 'urllib3.util.ssl_ (/opt/amazon/lib/python3.7/site-packages/urllib3/util/ssl_.py)']. \n",
      "  monkey.patch_all(subprocess=True)\u001b[0m\n",
      "\u001b[34m[2022-04-25:17:59:46:INFO] Model loaded successfully for worker : 24\u001b[0m\n",
      "\u001b[35m[2022-04-25:17:59:46:INFO] Model loaded successfully for worker : 21\u001b[0m\n",
      "\u001b[35m[2022-04-25:17:59:46:INFO] Model loaded successfully for worker : 23\u001b[0m\n",
      "\u001b[35m/opt/amazon/lib/python3.7/site-packages/gunicorn/workers/ggevent.py:65: MonkeyPatchWarning: Monkey-patching ssl after ssl has already been imported may lead to errors, including RecursionError on Python 3.6. It may also silently lead to incorrect behaviour on Python 3.7. Please monkey-patch earlier. See https://github.com/gevent/gevent/issues/1016. Modules that had direct imports (NOT patched): ['urllib3.util (/opt/amazon/lib/python3.7/site-packages/urllib3/util/__init__.py)', 'urllib3.util.ssl_ (/opt/amazon/lib/python3.7/site-packages/urllib3/util/ssl_.py)']. \n",
      "  monkey.patch_all(subprocess=True)\u001b[0m\n",
      "\u001b[35m[2022-04-25:17:59:46:INFO] Model loaded successfully for worker : 24\u001b[0m\n",
      "\u001b[34m[2022-04-25:17:59:53:INFO] Sniff delimiter as ','\u001b[0m\n",
      "\u001b[34m[2022-04-25:17:59:53:INFO] Determined delimiter of CSV input is ','\u001b[0m\n",
      "\u001b[34m[2022-04-25:17:59:53:INFO] Sniff delimiter as ','\u001b[0m\n",
      "\u001b[34m[2022-04-25:17:59:53:INFO] Determined delimiter of CSV input is ','\u001b[0m\n",
      "\u001b[35m[2022-04-25:17:59:53:INFO] Sniff delimiter as ','\u001b[0m\n",
      "\u001b[35m[2022-04-25:17:59:53:INFO] Determined delimiter of CSV input is ','\u001b[0m\n",
      "\u001b[35m[2022-04-25:17:59:53:INFO] Sniff delimiter as ','\u001b[0m\n",
      "\u001b[35m[2022-04-25:17:59:53:INFO] Determined delimiter of CSV input is ','\u001b[0m\n",
      "\u001b[32m2022-04-25T17:59:50.411:[sagemaker logs]: MaxConcurrentTransforms=4, MaxPayloadInMB=6, BatchStrategy=MULTI_RECORD\u001b[0m\n",
      "\u001b[34m[2022-04-25:17:59:53:INFO] Sniff delimiter as ','\u001b[0m\n",
      "\u001b[34m[2022-04-25:17:59:53:INFO] Determined delimiter of CSV input is ','\u001b[0m\n",
      "\u001b[34m[2022-04-25:17:59:54:INFO] Sniff delimiter as ','\u001b[0m\n",
      "\u001b[34m[2022-04-25:17:59:54:INFO] Determined delimiter of CSV input is ','\u001b[0m\n",
      "\u001b[35m[2022-04-25:17:59:53:INFO] Sniff delimiter as ','\u001b[0m\n",
      "\u001b[35m[2022-04-25:17:59:53:INFO] Determined delimiter of CSV input is ','\u001b[0m\n",
      "\u001b[35m[2022-04-25:17:59:54:INFO] Sniff delimiter as ','\u001b[0m\n",
      "\u001b[35m[2022-04-25:17:59:54:INFO] Determined delimiter of CSV input is ','\u001b[0m\n",
      "\u001b[34m[2022-04-25:17:59:57:INFO] Sniff delimiter as ','\u001b[0m\n",
      "\u001b[34m[2022-04-25:17:59:57:INFO] Determined delimiter of CSV input is ','\u001b[0m\n",
      "\u001b[34m[2022-04-25:17:59:57:INFO] Sniff delimiter as ','\u001b[0m\n",
      "\u001b[34m[2022-04-25:17:59:57:INFO] Determined delimiter of CSV input is ','\u001b[0m\n",
      "\u001b[34m[2022-04-25:17:59:57:INFO] Sniff delimiter as ','\u001b[0m\n",
      "\u001b[34m[2022-04-25:17:59:57:INFO] Determined delimiter of CSV input is ','\u001b[0m\n",
      "\u001b[35m[2022-04-25:17:59:57:INFO] Sniff delimiter as ','\u001b[0m\n",
      "\u001b[35m[2022-04-25:17:59:57:INFO] Determined delimiter of CSV input is ','\u001b[0m\n",
      "\u001b[35m[2022-04-25:17:59:57:INFO] Sniff delimiter as ','\u001b[0m\n",
      "\u001b[35m[2022-04-25:17:59:57:INFO] Determined delimiter of CSV input is ','\u001b[0m\n",
      "\u001b[35m[2022-04-25:17:59:57:INFO] Sniff delimiter as ','\u001b[0m\n",
      "\u001b[35m[2022-04-25:17:59:57:INFO] Determined delimiter of CSV input is ','\u001b[0m\n",
      "\u001b[34m[2022-04-25:17:59:58:INFO] Sniff delimiter as ','\u001b[0m\n",
      "\u001b[34m[2022-04-25:17:59:58:INFO] Determined delimiter of CSV input is ','\u001b[0m\n",
      "\u001b[35m[2022-04-25:17:59:58:INFO] Sniff delimiter as ','\u001b[0m\n",
      "\u001b[35m[2022-04-25:17:59:58:INFO] Determined delimiter of CSV input is ','\u001b[0m\n",
      "\u001b[34m[2022-04-25:18:00:01:INFO] Sniff delimiter as ','\u001b[0m\n",
      "\u001b[34m[2022-04-25:18:00:01:INFO] Determined delimiter of CSV input is ','\u001b[0m\n",
      "\u001b[34m[2022-04-25:18:00:01:INFO] Sniff delimiter as ','\u001b[0m\n",
      "\u001b[34m[2022-04-25:18:00:01:INFO] Determined delimiter of CSV input is ','\u001b[0m\n",
      "\u001b[35m[2022-04-25:18:00:01:INFO] Sniff delimiter as ','\u001b[0m\n",
      "\u001b[35m[2022-04-25:18:00:01:INFO] Determined delimiter of CSV input is ','\u001b[0m\n",
      "\u001b[35m[2022-04-25:18:00:01:INFO] Sniff delimiter as ','\u001b[0m\n",
      "\u001b[35m[2022-04-25:18:00:01:INFO] Determined delimiter of CSV input is ','\u001b[0m\n",
      "\u001b[34m[2022-04-25:18:00:01:INFO] Sniff delimiter as ','\u001b[0m\n",
      "\u001b[34m[2022-04-25:18:00:01:INFO] Determined delimiter of CSV input is ','\u001b[0m\n",
      "\u001b[35m[2022-04-25:18:00:01:INFO] Sniff delimiter as ','\u001b[0m\n",
      "\u001b[35m[2022-04-25:18:00:01:INFO] Determined delimiter of CSV input is ','\u001b[0m\n",
      "\u001b[34m[2022-04-25:18:00:01:INFO] Sniff delimiter as ','\u001b[0m\n",
      "\u001b[34m[2022-04-25:18:00:01:INFO] Determined delimiter of CSV input is ','\u001b[0m\n",
      "\u001b[35m[2022-04-25:18:00:01:INFO] Sniff delimiter as ','\u001b[0m\n",
      "\u001b[35m[2022-04-25:18:00:01:INFO] Determined delimiter of CSV input is ','\u001b[0m\n",
      "\u001b[34m[2022-04-25:18:00:05:INFO] Sniff delimiter as ','\u001b[0m\n",
      "\u001b[34m[2022-04-25:18:00:05:INFO] Determined delimiter of CSV input is ','\u001b[0m\n",
      "\u001b[34m[2022-04-25:18:00:05:INFO] Sniff delimiter as ','\u001b[0m\n",
      "\u001b[35m[2022-04-25:18:00:05:INFO] Sniff delimiter as ','\u001b[0m\n",
      "\u001b[35m[2022-04-25:18:00:05:INFO] Determined delimiter of CSV input is ','\u001b[0m\n",
      "\u001b[35m[2022-04-25:18:00:05:INFO] Sniff delimiter as ','\u001b[0m\n",
      "\u001b[34m[2022-04-25:18:00:05:INFO] Determined delimiter of CSV input is ','\u001b[0m\n",
      "\u001b[34m[2022-04-25:18:00:05:INFO] Sniff delimiter as ','\u001b[0m\n",
      "\u001b[34m[2022-04-25:18:00:05:INFO] Determined delimiter of CSV input is ','\u001b[0m\n",
      "\u001b[35m[2022-04-25:18:00:05:INFO] Determined delimiter of CSV input is ','\u001b[0m\n",
      "\u001b[35m[2022-04-25:18:00:05:INFO] Sniff delimiter as ','\u001b[0m\n",
      "\u001b[35m[2022-04-25:18:00:05:INFO] Determined delimiter of CSV input is ','\u001b[0m\n",
      "\u001b[34m[2022-04-25:18:00:08:INFO] Sniff delimiter as ','\u001b[0m\n",
      "\u001b[34m[2022-04-25:18:00:08:INFO] Determined delimiter of CSV input is ','\u001b[0m\n",
      "\u001b[34m[2022-04-25:18:00:08:INFO] Sniff delimiter as ','\u001b[0m\n",
      "\u001b[34m[2022-04-25:18:00:08:INFO] Determined delimiter of CSV input is ','\u001b[0m\n",
      "\u001b[34m[2022-04-25:18:00:09:INFO] Sniff delimiter as ','\u001b[0m\n",
      "\u001b[34m[2022-04-25:18:00:09:INFO] Determined delimiter of CSV input is ','\u001b[0m\n",
      "\u001b[34m[2022-04-25:18:00:09:INFO] Sniff delimiter as ','\u001b[0m\n",
      "\u001b[34m[2022-04-25:18:00:09:INFO] Determined delimiter of CSV input is ','\u001b[0m\n",
      "\u001b[35m[2022-04-25:18:00:08:INFO] Sniff delimiter as ','\u001b[0m\n",
      "\u001b[35m[2022-04-25:18:00:08:INFO] Determined delimiter of CSV input is ','\u001b[0m\n",
      "\u001b[35m[2022-04-25:18:00:08:INFO] Sniff delimiter as ','\u001b[0m\n",
      "\u001b[35m[2022-04-25:18:00:08:INFO] Determined delimiter of CSV input is ','\u001b[0m\n",
      "\u001b[35m[2022-04-25:18:00:09:INFO] Sniff delimiter as ','\u001b[0m\n",
      "\u001b[35m[2022-04-25:18:00:09:INFO] Determined delimiter of CSV input is ','\u001b[0m\n",
      "\u001b[35m[2022-04-25:18:00:09:INFO] Sniff delimiter as ','\u001b[0m\n",
      "\u001b[35m[2022-04-25:18:00:09:INFO] Determined delimiter of CSV input is ','\u001b[0m\n",
      "\u001b[34m[2022-04-25:18:00:12:INFO] Sniff delimiter as ','\u001b[0m\n",
      "\u001b[34m[2022-04-25:18:00:12:INFO] Determined delimiter of CSV input is ','\u001b[0m\n",
      "\u001b[35m[2022-04-25:18:00:12:INFO] Sniff delimiter as ','\u001b[0m\n",
      "\u001b[35m[2022-04-25:18:00:12:INFO] Determined delimiter of CSV input is ','\u001b[0m\n",
      "\u001b[34m[2022-04-25:18:00:12:INFO] Sniff delimiter as ','\u001b[0m\n",
      "\u001b[34m[2022-04-25:18:00:12:INFO] Determined delimiter of CSV input is ','\u001b[0m\n",
      "\u001b[34m[2022-04-25:18:00:13:INFO] Sniff delimiter as ','\u001b[0m\n",
      "\u001b[34m[2022-04-25:18:00:13:INFO] Determined delimiter of CSV input is ','\u001b[0m\n",
      "\u001b[34m[2022-04-25:18:00:13:INFO] Sniff delimiter as ','\u001b[0m\n",
      "\u001b[34m[2022-04-25:18:00:13:INFO] Determined delimiter of CSV input is ','\u001b[0m\n",
      "\u001b[35m[2022-04-25:18:00:12:INFO] Sniff delimiter as ','\u001b[0m\n",
      "\u001b[35m[2022-04-25:18:00:12:INFO] Determined delimiter of CSV input is ','\u001b[0m\n",
      "\u001b[35m[2022-04-25:18:00:13:INFO] Sniff delimiter as ','\u001b[0m\n",
      "\u001b[35m[2022-04-25:18:00:13:INFO] Determined delimiter of CSV input is ','\u001b[0m\n",
      "\u001b[35m[2022-04-25:18:00:13:INFO] Sniff delimiter as ','\u001b[0m\n",
      "\u001b[35m[2022-04-25:18:00:13:INFO] Determined delimiter of CSV input is ','\u001b[0m\n",
      "\u001b[34m[2022-04-25:18:00:16:INFO] Sniff delimiter as ','\u001b[0m\n",
      "\u001b[34m[2022-04-25:18:00:16:INFO] Determined delimiter of CSV input is ','\u001b[0m\n",
      "\u001b[34m[2022-04-25:18:00:16:INFO] Sniff delimiter as ','\u001b[0m\n",
      "\u001b[35m[2022-04-25:18:00:16:INFO] Sniff delimiter as ','\u001b[0m\n",
      "\u001b[35m[2022-04-25:18:00:16:INFO] Determined delimiter of CSV input is ','\u001b[0m\n",
      "\u001b[35m[2022-04-25:18:00:16:INFO] Sniff delimiter as ','\u001b[0m\n",
      "\u001b[34m[2022-04-25:18:00:16:INFO] Determined delimiter of CSV input is ','\u001b[0m\n",
      "\u001b[35m[2022-04-25:18:00:16:INFO] Determined delimiter of CSV input is ','\u001b[0m\n",
      "\u001b[34m[2022-04-25:18:00:16:INFO] Determined delimiter of CSV input is ','\u001b[0m\n",
      "\u001b[34m[2022-04-25:18:00:16:INFO] Sniff delimiter as ','\u001b[0m\n",
      "\u001b[34m[2022-04-25:18:00:16:INFO] Determined delimiter of CSV input is ','\u001b[0m\n",
      "\u001b[35m[2022-04-25:18:00:16:INFO] Determined delimiter of CSV input is ','\u001b[0m\n",
      "\u001b[35m[2022-04-25:18:00:16:INFO] Sniff delimiter as ','\u001b[0m\n",
      "\u001b[35m[2022-04-25:18:00:16:INFO] Determined delimiter of CSV input is ','\u001b[0m\n",
      "\u001b[34m[2022-04-25:18:00:20:INFO] Sniff delimiter as ','\u001b[0m\n",
      "\u001b[34m[2022-04-25:18:00:20:INFO] Determined delimiter of CSV input is ','\u001b[0m\n",
      "\u001b[35m[2022-04-25:18:00:20:INFO] Sniff delimiter as ','\u001b[0m\n",
      "\u001b[35m[2022-04-25:18:00:20:INFO] Determined delimiter of CSV input is ','\u001b[0m\n",
      "\u001b[34m[2022-04-25:18:00:20:INFO] Sniff delimiter as ','\u001b[0m\n",
      "\u001b[34m[2022-04-25:18:00:20:INFO] Determined delimiter of CSV input is ','\u001b[0m\n",
      "\u001b[34m[2022-04-25:18:00:20:INFO] Sniff delimiter as ','\u001b[0m\n",
      "\u001b[34m[2022-04-25:18:00:20:INFO] Determined delimiter of CSV input is ','\u001b[0m\n",
      "\u001b[35m[2022-04-25:18:00:20:INFO] Sniff delimiter as ','\u001b[0m\n",
      "\u001b[35m[2022-04-25:18:00:20:INFO] Determined delimiter of CSV input is ','\u001b[0m\n",
      "\u001b[35m[2022-04-25:18:00:20:INFO] Sniff delimiter as ','\u001b[0m\n",
      "\u001b[35m[2022-04-25:18:00:20:INFO] Determined delimiter of CSV input is ','\u001b[0m\n",
      "\u001b[34m[2022-04-25:18:00:20:INFO] Sniff delimiter as ','\u001b[0m\n",
      "\u001b[34m[2022-04-25:18:00:20:INFO] Determined delimiter of CSV input is ','\u001b[0m\n",
      "\u001b[35m[2022-04-25:18:00:20:INFO] Sniff delimiter as ','\u001b[0m\n",
      "\u001b[35m[2022-04-25:18:00:20:INFO] Determined delimiter of CSV input is ','\u001b[0m\n",
      "\u001b[34m[2022-04-25:18:00:24:INFO] Sniff delimiter as ','\u001b[0m\n",
      "\u001b[34m[2022-04-25:18:00:24:INFO] Determined delimiter of CSV input is ','\u001b[0m\n",
      "\u001b[34m[2022-04-25:18:00:24:INFO] Sniff delimiter as ','\u001b[0m\n",
      "\u001b[35m[2022-04-25:18:00:24:INFO] Sniff delimiter as ','\u001b[0m\n",
      "\u001b[35m[2022-04-25:18:00:24:INFO] Determined delimiter of CSV input is ','\u001b[0m\n",
      "\u001b[35m[2022-04-25:18:00:24:INFO] Sniff delimiter as ','\u001b[0m\n",
      "\u001b[34m[2022-04-25:18:00:24:INFO] Determined delimiter of CSV input is ','\u001b[0m\n",
      "\u001b[34m[2022-04-25:18:00:24:INFO] Sniff delimiter as ','\u001b[0m\n",
      "\u001b[34m[2022-04-25:18:00:24:INFO] Determined delimiter of CSV input is ','\u001b[0m\n",
      "\u001b[35m[2022-04-25:18:00:24:INFO] Determined delimiter of CSV input is ','\u001b[0m\n",
      "\u001b[35m[2022-04-25:18:00:24:INFO] Sniff delimiter as ','\u001b[0m\n",
      "\u001b[35m[2022-04-25:18:00:24:INFO] Determined delimiter of CSV input is ','\u001b[0m\n",
      "\u001b[34m[2022-04-25:18:00:28:INFO] Sniff delimiter as ','\u001b[0m\n",
      "\u001b[34m[2022-04-25:18:00:28:INFO] Determined delimiter of CSV input is ','\u001b[0m\n",
      "\u001b[34m[2022-04-25:18:00:28:INFO] Sniff delimiter as ','\u001b[0m\n",
      "\u001b[34m[2022-04-25:18:00:28:INFO] Determined delimiter of CSV input is ','\u001b[0m\n",
      "\u001b[34m[2022-04-25:18:00:28:INFO] Sniff delimiter as ','\u001b[0m\n",
      "\u001b[34m[2022-04-25:18:00:28:INFO] Determined delimiter of CSV input is ','\u001b[0m\n",
      "\u001b[34m[2022-04-25:18:00:28:INFO] Sniff delimiter as ','\u001b[0m\n",
      "\u001b[34m[2022-04-25:18:00:28:INFO] Determined delimiter of CSV input is ','\u001b[0m\n",
      "\u001b[35m[2022-04-25:18:00:28:INFO] Sniff delimiter as ','\u001b[0m\n",
      "\u001b[35m[2022-04-25:18:00:28:INFO] Determined delimiter of CSV input is ','\u001b[0m\n",
      "\u001b[35m[2022-04-25:18:00:28:INFO] Sniff delimiter as ','\u001b[0m\n",
      "\u001b[35m[2022-04-25:18:00:28:INFO] Determined delimiter of CSV input is ','\u001b[0m\n",
      "\u001b[35m[2022-04-25:18:00:28:INFO] Sniff delimiter as ','\u001b[0m\n",
      "\u001b[35m[2022-04-25:18:00:28:INFO] Determined delimiter of CSV input is ','\u001b[0m\n",
      "\u001b[35m[2022-04-25:18:00:28:INFO] Sniff delimiter as ','\u001b[0m\n",
      "\u001b[35m[2022-04-25:18:00:28:INFO] Determined delimiter of CSV input is ','\u001b[0m\n",
      "\n"
     ]
    }
   ],
   "source": [
    "xgb_transformer.wait()"
   ]
  },
  {
   "cell_type": "markdown",
   "metadata": {},
   "source": [
    "Now the transform job has executed and the result, the estimated sentiment of each review, has been saved on S3. Since we would rather work on this file locally we can perform a bit of notebook magic to copy the file to the `data_dir`."
   ]
  },
  {
   "cell_type": "code",
   "execution_count": 47,
   "metadata": {},
   "outputs": [
    {
     "name": "stdout",
     "output_type": "stream",
     "text": [
      "download: s3://sagemaker-us-east-1-984973086835/xgboost-2022-04-25-17-54-10-828/test.csv.out to ../data/sentiment_web_app/test.csv.out\r\n"
     ]
    }
   ],
   "source": [
    "!aws s3 cp --recursive $xgb_transformer.output_path $data_dir"
   ]
  },
  {
   "cell_type": "markdown",
   "metadata": {},
   "source": [
    "The last step is now to read in the output from our model, convert the output to something a little more usable, in this case we want the sentiment to be either `1` (positive) or `0` (negative), and then compare to the ground truth labels."
   ]
  },
  {
   "cell_type": "code",
   "execution_count": 48,
   "metadata": {},
   "outputs": [],
   "source": [
    "predictions = pd.read_csv(os.path.join(data_dir, 'test.csv.out'), header=None)\n",
    "predictions = [round(num) for num in predictions.squeeze().values]"
   ]
  },
  {
   "cell_type": "code",
   "execution_count": 49,
   "metadata": {},
   "outputs": [
    {
     "data": {
      "text/plain": [
       "0.85708"
      ]
     },
     "execution_count": 49,
     "metadata": {},
     "output_type": "execute_result"
    }
   ],
   "source": [
    "from sklearn.metrics import accuracy_score\n",
    "accuracy_score(test_y, predictions)"
   ]
  },
  {
   "cell_type": "markdown",
   "metadata": {},
   "source": [
    "## Step 6: Deploying the model\n",
    "\n",
    "Once we construct and fit our model, SageMaker stores the resulting model artifacts and we can use those to deploy an endpoint (inference code). To see this, look in the SageMaker console and you should see that a model has been created along with a link to the S3 location where the model artifacts have been stored.\n",
    "\n",
    "Deploying an endpoint is a lot like training the model with a few important differences. The first is that a deployed model doesn't change the model artifacts, so as you send it various testing instances the model won't change. Another difference is that since we aren't performing a fixed computation, as we were in the training step or while performing a batch transform, the compute instance that gets started stays running until we tell it to stop. This is important to note as if we forget and leave it running we will be charged the entire time.\n",
    "\n",
    "In other words **If you are no longer using a deployed endpoint, shut it down!**"
   ]
  },
  {
   "cell_type": "code",
   "execution_count": 50,
   "metadata": {},
   "outputs": [
    {
     "name": "stderr",
     "output_type": "stream",
     "text": [
      "Parameter image will be renamed to image_uri in SageMaker Python SDK v2.\n",
      "Using already existing model: xgboost-2022-04-25-17-44-48-121\n"
     ]
    },
    {
     "name": "stdout",
     "output_type": "stream",
     "text": [
      "------!"
     ]
    }
   ],
   "source": [
    "xgb_predictor = xgb.deploy(initial_instance_count = 1, instance_type = 'ml.m4.xlarge')"
   ]
  },
  {
   "cell_type": "markdown",
   "metadata": {},
   "source": [
    "### Testing the model (again)\n",
    "\n",
    "Now that we have deployed our endpoint, we can send the testing data to it and get back the inference results. We already did this earlier using the batch transform functionality of SageMaker, however, we will test our model again using the newly deployed endpoint so that we can make sure that it works properly and to get a bit of a feel for how the endpoint works.\n",
    "\n",
    "When using the created endpoint it is important to know that we are limited in the amount of information we can send in each call so we need to break the testing data up into chunks and then send each chunk. Also, we need to serialize our data before we send it to the endpoint to ensure that our data is transmitted properly. Fortunately, SageMaker can do the serialization part for us provided we tell it the format of our data."
   ]
  },
  {
   "cell_type": "code",
   "execution_count": 51,
   "metadata": {},
   "outputs": [],
   "source": [
    "from sagemaker.predictor import csv_serializer\n",
    "\n",
    "# We need to tell the endpoint what format the data we are sending is in so that SageMaker can perform the serialization.\n",
    "xgb_predictor.content_type = 'text/csv'\n",
    "xgb_predictor.serializer = csv_serializer"
   ]
  },
  {
   "cell_type": "code",
   "execution_count": 52,
   "metadata": {},
   "outputs": [],
   "source": [
    "# We split the data into chunks and send each chunk seperately, accumulating the results.\n",
    "\n",
    "def predict(data, rows=512):\n",
    "    split_array = np.array_split(data, int(data.shape[0] / float(rows) + 1))\n",
    "    predictions = ''\n",
    "    for array in split_array:\n",
    "        predictions = ','.join([predictions, xgb_predictor.predict(array).decode('utf-8')])\n",
    "    \n",
    "    return np.fromstring(predictions[1:], sep=',')"
   ]
  },
  {
   "cell_type": "code",
   "execution_count": 53,
   "metadata": {},
   "outputs": [],
   "source": [
    "test_X = pd.read_csv(os.path.join(data_dir, 'test.csv'), header=None).values\n",
    "\n",
    "predictions = predict(test_X)\n",
    "predictions = [round(num) for num in predictions]"
   ]
  },
  {
   "cell_type": "markdown",
   "metadata": {},
   "source": [
    "Lastly, we check to see what the accuracy of our model is."
   ]
  },
  {
   "cell_type": "code",
   "execution_count": 54,
   "metadata": {},
   "outputs": [
    {
     "data": {
      "text/plain": [
       "0.85708"
      ]
     },
     "execution_count": 54,
     "metadata": {},
     "output_type": "execute_result"
    }
   ],
   "source": [
    "from sklearn.metrics import accuracy_score\n",
    "accuracy_score(test_y, predictions)"
   ]
  },
  {
   "cell_type": "markdown",
   "metadata": {},
   "source": [
    "And the results here should agree with the model testing that we did earlier using the batch transform job.\n",
    "\n",
    "### Cleaning up\n",
    "\n",
    "Now that we've determined that deploying our model works as expected, we are going to shut it down. Remember that the longer the endpoint is left running, the greater the cost and since we have a bit more work to do before we are able to use our endpoint with our simple web app, we should shut everything down."
   ]
  },
  {
   "cell_type": "code",
   "execution_count": 55,
   "metadata": {},
   "outputs": [],
   "source": [
    "xgb_predictor.delete_endpoint()"
   ]
  },
  {
   "cell_type": "markdown",
   "metadata": {},
   "source": [
    "## Step 7: Putting our model to work\n",
    "\n",
    "As we've mentioned a few times now, our goal is to have our model deployed and then access it using a very simple web app. The intent is for this web app to take some user submitted data (a review), send it off to our endpoint (the model) and then display the result.\n",
    "\n",
    "However, there is a small catch. Currently the only way we can access the endpoint to send it data is using the SageMaker API. We can, if we wish, expose the actual URL that our model's endpoint is receiving data from, however, if we just send it data ourselves we will not get anything in return. This is because the endpoint created by SageMaker requires the entity accessing it have the correct permissions. So, we would need to somehow authenticate our web app with AWS.\n",
    "\n",
    "Having a website that authenticates to AWS seems a bit beyond the scope of this lesson so we will opt for an alternative approach. Namely, we will create a new endpoint which does not require authentication and which acts as a proxy for the SageMaker endpoint.\n",
    "\n",
    "As an additional constraint, we will try to avoid doing any data processing in the web app itself. Remember that when we constructed and tested our model we started with a movie review, then we simplified it by removing any html formatting and punctuation, then we constructed a bag of words embedding and the resulting vector is what we sent to our model. All of this needs to be done to our user input as well.\n",
    "\n",
    "Fortunately we can do all of this data processing in the backend, using Amazon's Lambda service.\n",
    "\n",
    "<img src=\"Web App Diagram.svg\">\n",
    "\n",
    "The diagram above gives an overview of how the various services will work together. On the far right is the model which we trained above and which will be deployed using SageMaker. On the far left is our web app that collects a user's movie review, sends it off and expects a positive or negative sentiment in return.\n",
    "\n",
    "In the middle is where some of the magic happens. We will construct a Lambda function, which you can think of as a straightforward Python function that can be executed whenever a specified event occurs. This Python function will do the data processing we need to perform on a user submitted review. In addition, we will give this function permission to send and recieve data from a SageMaker endpoint.\n",
    "\n",
    "Lastly, the method we will use to execute the Lambda function is a new endpoint that we will create using API Gateway. This endpoint will be a url that listens for data to be sent to it. Once it gets some data it will pass that data on to the Lambda function and then return whatever the Lambda function returns. Essentially it will act as an interface that lets our web app communicate with the Lambda function.\n",
    "\n",
    "### Processing a single review\n",
    "\n",
    "For now, suppose we are given a movie review by our user in the form of a string, like so:"
   ]
  },
  {
   "cell_type": "code",
   "execution_count": 56,
   "metadata": {},
   "outputs": [],
   "source": [
    "test_review = \"Nothing but a disgusting materialistic pageant of glistening abed remote control greed zombies, totally devoid of any heart or heat. A romantic comedy that has zero romantic chemestry and zero laughs!\""
   ]
  },
  {
   "cell_type": "markdown",
   "metadata": {},
   "source": [
    "How do we go from this string to the bag of words feature vector that is expected by our model?\n",
    "\n",
    "If we recall at the beginning of this notebook, the first step is to remove any unnecessary characters using the `review_to_words` method. Remember that we intentionally did this in a very simplistic way. This is because we are going to have to copy this method to our (eventual) Lambda function (we will go into more detail later) and this means it needs to be rather simplistic."
   ]
  },
  {
   "cell_type": "code",
   "execution_count": 57,
   "metadata": {},
   "outputs": [
    {
     "name": "stdout",
     "output_type": "stream",
     "text": [
      "nothing but a disgusting materialistic pageant of glistening abed remote control greed zombies totally devoid of any heart or heat a romantic comedy that has zero romantic chemestry and zero laughs\n"
     ]
    }
   ],
   "source": [
    "test_words = review_to_words(test_review)\n",
    "print(test_words)"
   ]
  },
  {
   "cell_type": "markdown",
   "metadata": {},
   "source": [
    "Next, we need to construct a bag of words embedding of the `test_words` string. To do this, remember that a bag of words embedding uses a `vocabulary` consisting of the most frequently appearing words in a set of documents. Then, for each word in the vocabulary we record the number of times that word appears in `test_words`. We constructed the `vocabulary` earlier using the training set for our problem so encoding `test_words` is relatively straightforward."
   ]
  },
  {
   "cell_type": "code",
   "execution_count": 58,
   "metadata": {},
   "outputs": [],
   "source": [
    "def bow_encoding(words, vocabulary):\n",
    "    bow = [0] * len(vocabulary) # Start by setting the count for each word in the vocabulary to zero.\n",
    "    for word in words.split():  # For each word in the string\n",
    "        if word in vocabulary:  # If the word is one that occurs in the vocabulary, increase its count.\n",
    "            bow[vocabulary[word]] += 1\n",
    "    return bow"
   ]
  },
  {
   "cell_type": "code",
   "execution_count": 59,
   "metadata": {},
   "outputs": [
    {
     "name": "stdout",
     "output_type": "stream",
     "text": [
      "[0, 0, 0, 0, 0, 0, 0, 0, 0, 0, 0, 0, 0, 0, 0, 0, 0, 0, 0, 0, 0, 0, 0, 0, 0, 0, 0, 0, 0, 0, 0, 0, 0, 0, 0, 0, 0, 0, 0, 0, 0, 0, 0, 0, 0, 0, 0, 0, 0, 0, 0, 0, 0, 0, 0, 0, 0, 0, 0, 0, 0, 0, 0, 0, 0, 0, 0, 0, 0, 0, 0, 0, 0, 0, 0, 0, 0, 0, 0, 0, 0, 0, 0, 0, 0, 0, 0, 0, 0, 0, 0, 0, 0, 0, 0, 0, 0, 0, 0, 0, 0, 0, 0, 0, 0, 0, 0, 0, 0, 0, 0, 0, 0, 0, 0, 0, 0, 0, 0, 0, 0, 0, 0, 0, 0, 0, 0, 0, 0, 0, 0, 0, 0, 0, 0, 0, 0, 0, 0, 0, 0, 0, 0, 0, 0, 0, 0, 0, 0, 0, 0, 0, 0, 0, 0, 0, 0, 0, 0, 0, 0, 0, 0, 0, 0, 0, 0, 0, 0, 0, 0, 0, 0, 0, 0, 0, 0, 0, 0, 0, 0, 0, 0, 0, 0, 0, 0, 0, 0, 0, 0, 0, 0, 0, 0, 0, 0, 0, 0, 0, 0, 0, 0, 0, 0, 0, 0, 0, 0, 0, 0, 0, 0, 0, 0, 0, 0, 0, 0, 0, 0, 0, 0, 0, 0, 0, 1, 0, 0, 0, 0, 0, 0, 0, 0, 0, 0, 0, 0, 0, 0, 0, 0, 0, 0, 0, 0, 0, 0, 0, 0, 0, 0, 0, 0, 0, 1, 0, 0, 0, 0, 0, 0, 0, 0, 0, 0, 0, 0, 0, 0, 0, 0, 0, 0, 0, 0, 0, 0, 0, 0, 0, 0, 0, 0, 0, 0, 0, 0, 0, 0, 0, 0, 0, 0, 0, 0, 0, 0, 0, 0, 0, 0, 0, 0, 0, 0, 0, 0, 0, 0, 0, 0, 0, 0, 0, 0, 0, 0, 0, 0, 0, 0, 0, 0, 0, 0, 0, 0, 0, 0, 0, 0, 0, 0, 0, 0, 0, 0, 0, 0, 0, 0, 0, 0, 0, 0, 0, 0, 0, 0, 0, 0, 0, 0, 0, 0, 0, 0, 0, 0, 0, 0, 0, 0, 0, 0, 0, 0, 0, 0, 0, 0, 0, 0, 0, 0, 0, 0, 0, 0, 0, 0, 0, 0, 0, 0, 0, 0, 0, 0, 0, 0, 0, 0, 0, 0, 0, 0, 0, 0, 0, 0, 0, 0, 0, 0, 0, 0, 0, 0, 0, 0, 0, 0, 0, 0, 0, 0, 0, 0, 0, 0, 0, 0, 0, 0, 0, 0, 0, 0, 0, 0, 0, 0, 0, 0, 0, 0, 0, 0, 0, 0, 0, 0, 0, 0, 0, 0, 0, 0, 0, 0, 0, 0, 0, 0, 0, 0, 0, 0, 0, 0, 0, 0, 0, 0, 0, 0, 0, 0, 0, 0, 0, 0, 0, 0, 0, 0, 0, 0, 0, 0, 0, 0, 0, 0, 0, 0, 0, 0, 0, 0, 0, 0, 0, 0, 0, 0, 0, 0, 0, 0, 0, 0, 0, 0, 0, 0, 0, 0, 0, 0, 0, 0, 0, 0, 0, 0, 0, 0, 0, 0, 0, 0, 0, 0, 0, 0, 0, 0, 0, 0, 0, 0, 0, 0, 0, 0, 0, 0, 0, 0, 0, 0, 0, 0, 0, 0, 0, 0, 0, 0, 0, 0, 0, 0, 0, 0, 0, 0, 0, 0, 0, 0, 0, 0, 0, 0, 0, 0, 0, 0, 0, 0, 0, 0, 0, 0, 0, 0, 0, 0, 0, 0, 0, 0, 0, 0, 0, 0, 0, 0, 0, 0, 0, 0, 0, 0, 0, 0, 0, 0, 0, 0, 0, 0, 0, 0, 0, 0, 0, 0, 0, 0, 0, 0, 0, 0, 0, 0, 0, 0, 0, 0, 0, 0, 0, 0, 0, 0, 0, 0, 0, 0, 0, 1, 0, 0, 0, 0, 0, 0, 0, 0, 0, 0, 0, 0, 0, 0, 0, 0, 0, 0, 0, 0, 0, 0, 0, 0, 0, 0, 0, 0, 0, 0, 0, 0, 0, 0, 0, 0, 0, 0, 0, 0, 0, 0, 0, 0, 0, 0, 0, 0, 0, 0, 0, 0, 0, 0, 0, 0, 0, 0, 0, 0, 0, 0, 0, 0, 0, 0, 0, 0, 0, 0, 0, 0, 0, 0, 0, 0, 0, 0, 0, 0, 0, 0, 0, 0, 0, 0, 0, 0, 0, 0, 0, 0, 0, 0, 0, 0, 0, 0, 0, 0, 0, 0, 0, 0, 0, 0, 0, 0, 0, 0, 0, 0, 0, 0, 0, 0, 0, 0, 0, 0, 0, 0, 0, 0, 0, 0, 0, 0, 0, 0, 0, 0, 0, 0, 0, 0, 0, 0, 0, 0, 0, 0, 0, 0, 0, 0, 0, 0, 0, 0, 0, 0, 0, 0, 0, 0, 0, 0, 0, 0, 0, 0, 0, 0, 0, 0, 0, 0, 0, 0, 0, 0, 0, 0, 0, 0, 0, 0, 0, 0, 0, 0, 0, 0, 0, 0, 0, 0, 0, 0, 0, 0, 0, 0, 0, 0, 0, 0, 0, 0, 0, 0, 0, 0, 0, 0, 0, 0, 0, 0, 0, 0, 0, 0, 0, 0, 0, 0, 0, 0, 0, 0, 0, 0, 0, 0, 0, 0, 0, 0, 0, 0, 0, 0, 0, 0, 0, 0, 0, 0, 0, 0, 0, 0, 0, 0, 0, 0, 0, 0, 0, 0, 0, 1, 0, 0, 0, 0, 0, 0, 0, 0, 0, 0, 0, 0, 0, 0, 0, 0, 0, 0, 0, 0, 0, 0, 0, 0, 0, 0, 0, 0, 0, 0, 0, 0, 0, 0, 0, 0, 0, 0, 0, 0, 0, 0, 0, 0, 0, 0, 0, 0, 0, 0, 0, 0, 0, 0, 0, 0, 0, 0, 0, 0, 0, 0, 0, 0, 0, 0, 0, 0, 0, 0, 0, 0, 0, 0, 0, 0, 0, 0, 0, 0, 0, 0, 0, 0, 0, 0, 1, 0, 0, 0, 0, 0, 0, 0, 0, 0, 0, 0, 0, 0, 0, 0, 0, 0, 0, 0, 0, 0, 0, 0, 0, 0, 0, 0, 0, 0, 0, 0, 0, 0, 0, 0, 0, 0, 0, 0, 0, 0, 0, 0, 0, 0, 0, 0, 0, 0, 0, 0, 0, 0, 0, 0, 0, 0, 0, 0, 0, 0, 0, 0, 0, 0, 0, 0, 0, 0, 0, 0, 0, 0, 0, 0, 0, 0, 0, 0, 0, 0, 0, 0, 0, 0, 0, 0, 0, 0, 0, 0, 0, 0, 0, 0, 0, 0, 0, 0, 0, 0, 0, 0, 0, 0, 0, 0, 0, 0, 0, 0, 0, 0, 0, 0, 0, 0, 0, 0, 0, 0, 0, 0, 0, 0, 0, 0, 0, 0, 0, 0, 0, 0, 0, 0, 0, 0, 0, 0, 0, 0, 0, 0, 0, 0, 0, 0, 0, 0, 0, 0, 0, 0, 0, 0, 0, 0, 0, 0, 0, 0, 0, 0, 0, 0, 0, 0, 0, 0, 0, 0, 0, 0, 0, 0, 0, 0, 0, 0, 0, 0, 0, 0, 0, 0, 0, 0, 0, 0, 0, 0, 0, 0, 0, 0, 0, 0, 0, 0, 0, 0, 0, 0, 0, 0, 0, 0, 0, 0, 0, 0, 0, 0, 0, 0, 0, 0, 0, 0, 0, 0, 0, 0, 0, 0, 0, 0, 0, 0, 0, 0, 0, 0, 0, 0, 0, 0, 0, 0, 0, 0, 0, 0, 0, 0, 0, 0, 0, 0, 0, 0, 0, 1, 0, 0, 0, 0, 0, 0, 0, 0, 0, 0, 0, 0, 0, 0, 0, 0, 0, 0, 0, 0, 0, 0, 0, 0, 0, 0, 0, 0, 0, 0, 0, 0, 0, 0, 0, 0, 0, 0, 0, 0, 0, 0, 0, 0, 0, 0, 0, 0, 0, 0, 0, 0, 0, 0, 0, 1, 0, 0, 0, 0, 0, 0, 0, 0, 0, 0, 0, 0, 0, 0, 0, 0, 0, 0, 0, 0, 0, 0, 0, 0, 0, 0, 0, 0, 0, 0, 0, 0, 0, 0, 0, 0, 0, 0, 0, 0, 0, 0, 0, 0, 0, 0, 0, 0, 0, 0, 0, 0, 0, 0, 0, 0, 0, 0, 0, 0, 0, 0, 0, 0, 0, 0, 0, 0, 0, 0, 0, 0, 0, 0, 0, 0, 0, 0, 0, 0, 0, 0, 0, 0, 0, 0, 0, 0, 0, 0, 0, 0, 0, 0, 0, 0, 0, 0, 0, 0, 0, 0, 0, 0, 0, 0, 0, 0, 0, 0, 0, 0, 0, 0, 0, 0, 0, 0, 0, 0, 0, 0, 0, 0, 0, 0, 0, 0, 0, 0, 0, 0, 0, 0, 0, 0, 0, 0, 0, 0, 0, 0, 0, 0, 0, 0, 0, 0, 0, 0, 0, 0, 0, 0, 0, 0, 0, 0, 0, 0, 0, 0, 0, 0, 0, 0, 0, 0, 0, 0, 0, 0, 0, 0, 0, 0, 0, 0, 0, 0, 0, 0, 0, 0, 0, 0, 0, 0, 0, 0, 0, 0, 0, 0, 0, 0, 0, 0, 0, 0, 0, 0, 0, 0, 0, 0, 0, 0, 0, 0, 0, 0, 0, 0, 0, 0, 0, 0, 0, 0, 0, 0, 0, 0, 0, 0, 0, 0, 0, 0, 0, 0, 0, 0, 0, 0, 0, 0, 0, 0, 0, 0, 0, 0, 0, 0, 0, 0, 0, 0, 0, 0, 0, 0, 0, 0, 0, 0, 0, 0, 0, 0, 0, 0, 0, 0, 0, 0, 0, 0, 0, 0, 0, 0, 0, 0, 0, 0, 0, 0, 0, 0, 0, 0, 0, 0, 0, 0, 0, 0, 0, 0, 0, 0, 0, 0, 0, 0, 0, 0, 0, 0, 0, 0, 0, 0, 0, 0, 0, 0, 0, 0, 0, 0, 0, 0, 0, 0, 0, 0, 0, 0, 0, 0, 0, 0, 0, 0, 0, 0, 0, 0, 0, 0, 0, 0, 0, 0, 0, 0, 0, 0, 0, 0, 0, 0, 0, 0, 0, 0, 0, 0, 0, 0, 0, 0, 0, 0, 0, 0, 0, 0, 0, 0, 0, 0, 0, 0, 0, 0, 0, 0, 0, 0, 0, 0, 0, 0, 0, 0, 0, 0, 0, 0, 0, 0, 0, 0, 0, 0, 0, 0, 0, 0, 0, 0, 0, 0, 0, 0, 0, 0, 0, 0, 0, 0, 0, 0, 0, 0, 0, 0, 0, 0, 0, 0, 0, 0, 0, 0, 0, 0, 0, 0, 0, 0, 0, 0, 0, 0, 0, 0, 0, 0, 0, 0, 0, 0, 0, 0, 0, 0, 0, 0, 0, 0, 0, 0, 0, 0, 0, 0, 0, 0, 0, 0, 0, 0, 0, 0, 0, 0, 0, 0, 0, 0, 0, 0, 0, 0, 0, 0, 0, 0, 0, 0, 0, 0, 0, 0, 0, 0, 0, 0, 0, 0, 0, 0, 0, 0, 0, 0, 0, 0, 0, 0, 0, 0, 0, 0, 0, 0, 0, 0, 0, 0, 0, 0, 0, 0, 0, 0, 0, 0, 0, 0, 0, 0, 0, 0, 0, 0, 0, 0, 0, 0, 0, 0, 0, 0, 0, 0, 0, 0, 0, 0, 0, 0, 0, 0, 0, 0, 0, 0, 0, 0, 0, 0, 0, 0, 0, 0, 0, 0, 0, 0, 0, 0, 0, 0, 0, 0, 0, 0, 0, 0, 0, 0, 0, 0, 0, 0, 0, 0, 0, 0, 0, 0, 0, 0, 0, 0, 0, 0, 0, 0, 0, 0, 0, 0, 0, 0, 0, 0, 0, 0, 0, 0, 0, 0, 0, 0, 0, 0, 0, 0, 0, 0, 0, 0, 0, 0, 0, 0, 0, 0, 0, 0, 0, 0, 0, 0, 0, 0, 0, 0, 0, 0, 0, 0, 0, 0, 0, 0, 0, 0, 0, 0, 0, 0, 0, 0, 0, 0, 0, 0, 0, 0, 0, 0, 0, 0, 0, 0, 0, 0, 0, 0, 0, 0, 0, 0, 0, 0, 0, 0, 0, 0, 0, 0, 0, 0, 0, 0, 0, 0, 0, 0, 0, 0, 0, 1, 0, 0, 0, 0, 0, 0, 0, 0, 0, 0, 0, 0, 0, 0, 0, 0, 0, 0, 0, 0, 0, 0, 0, 0, 0, 0, 0, 0, 0, 0, 0, 0, 0, 0, 0, 0, 0, 0, 0, 0, 0, 0, 0, 0, 0, 0, 0, 0, 0, 0, 0, 0, 0, 0, 0, 0, 0, 0, 0, 0, 0, 0, 0, 0, 0, 0, 0, 0, 0, 0, 0, 0, 0, 0, 1, 0, 0, 0, 0, 0, 0, 0, 0, 0, 0, 0, 0, 0, 0, 0, 0, 0, 0, 0, 0, 1, 0, 0, 1, 0, 0, 0, 0, 0, 0, 0, 0, 0, 0, 0, 0, 0, 0, 0, 0, 0, 0, 0, 0, 0, 0, 0, 0, 0, 0, 0, 0, 0, 0, 0, 0, 0, 0, 0, 0, 0, 0, 0, 0, 0, 0, 0, 0, 0, 0, 0, 0, 0, 0, 0, 0, 0, 0, 0, 0, 0, 0, 0, 0, 0, 0, 0, 0, 0, 0, 0, 0, 0, 0, 0, 0, 0, 0, 0, 0, 0, 0, 0, 0, 0, 0, 0, 0, 0, 0, 0, 0, 0, 0, 0, 0, 0, 0, 0, 0, 0, 0, 0, 0, 0, 0, 0, 0, 0, 0, 0, 0, 0, 0, 0, 0, 0, 0, 0, 0, 0, 0, 0, 0, 0, 0, 0, 0, 0, 0, 0, 0, 0, 0, 0, 0, 0, 0, 0, 0, 0, 0, 0, 0, 0, 0, 0, 0, 0, 0, 0, 0, 0, 0, 0, 0, 0, 0, 0, 0, 0, 0, 0, 0, 0, 0, 0, 0, 0, 0, 0, 0, 0, 0, 0, 0, 0, 0, 0, 0, 0, 0, 0, 0, 0, 0, 0, 0, 0, 0, 0, 0, 0, 0, 0, 0, 0, 0, 0, 0, 0, 0, 0, 0, 0, 0, 0, 0, 0, 0, 0, 0, 0, 0, 0, 0, 0, 0, 0, 0, 0, 0, 0, 0, 0, 0, 0, 0, 0, 0, 0, 0, 0, 0, 0, 0, 0, 0, 0, 0, 0, 0, 0, 0, 0, 0, 0, 0, 0, 0, 0, 0, 0, 0, 0, 0, 0, 0, 0, 0, 0, 0, 0, 0, 0, 0, 0, 0, 0, 0, 0, 0, 0, 0, 0, 0, 0, 0, 0, 0, 0, 0, 0, 0, 0, 0, 0, 0, 0, 0, 0, 0, 0, 0, 0, 0, 0, 0, 0, 0, 0, 0, 0, 0, 0, 0, 0, 0, 0, 0, 0, 0, 0, 0, 0, 0, 0, 0, 0, 0, 0, 0, 0, 0, 0, 0, 0, 0, 0, 0, 0, 0, 0, 0, 0, 0, 0, 0, 0, 0, 0, 0, 0, 0, 0, 0, 0, 0, 0, 0, 0, 0, 0, 0, 0, 0, 0, 0, 0, 0, 0, 0, 0, 0, 0, 0, 0, 0, 0, 0, 0, 0, 0, 0, 0, 0, 0, 0, 0, 0, 0, 0, 0, 0, 0, 0, 0, 0, 0, 0, 0, 0, 0, 0, 0, 0, 0, 0, 0, 0, 0, 0, 0, 0, 0, 0, 0, 0, 0, 0, 0, 0, 0, 0, 0, 0, 0, 0, 0, 0, 0, 0, 0, 0, 0, 0, 0, 0, 0, 0, 0, 0, 0, 0, 0, 0, 0, 0, 0, 0, 0, 0, 0, 0, 0, 0, 0, 0, 0, 0, 0, 0, 0, 0, 0, 0, 0, 0, 0, 0, 0, 0, 0, 0, 0, 0, 0, 0, 0, 0, 1, 0, 0, 0, 0, 0, 0, 0, 0, 0, 0, 0, 0, 0, 0, 0, 0, 0, 0, 0, 0, 0, 0, 0, 0, 0, 0, 0, 0, 0, 0, 0, 0, 0, 0, 0, 0, 0, 0, 0, 0, 0, 0, 0, 0, 0, 0, 0, 0, 0, 0, 0, 0, 0, 0, 0, 0, 0, 0, 0, 0, 0, 0, 0, 0, 0, 0, 0, 0, 0, 0, 0, 0, 0, 0, 0, 0, 0, 0, 0, 0, 0, 0, 0, 0, 0, 0, 0, 0, 0, 0, 0, 0, 0, 0, 0, 0, 0, 0, 0, 0, 0, 0, 0, 0, 0, 0, 0, 0, 0, 0, 0, 0, 0, 0, 0, 0, 0, 0, 0, 0, 0, 0, 0, 0, 0, 0, 0, 0, 0, 0, 0, 0, 0, 0, 0, 0, 0, 0, 0, 0, 0, 0, 0, 0, 0, 0, 0, 0, 0, 0, 0, 0, 0, 0, 0, 0, 0, 0, 0, 0, 0, 0, 0, 0, 0, 0, 0, 0, 0, 0, 0, 0, 0, 0, 0, 0, 0, 0, 0, 0, 0, 0, 0, 0, 0, 0, 0, 0, 0, 0, 0, 0, 0, 0, 0, 0, 0, 0, 0, 0, 0, 0, 0, 0, 0, 0, 0, 0, 0, 0, 0, 0, 0, 0, 0, 0, 0, 0, 0, 0, 0, 0, 0, 0, 0, 0, 0, 0, 0, 0, 0, 0, 0, 0, 0, 0, 0, 0, 0, 0, 0, 0, 0, 0, 0, 0, 0, 0, 0, 0, 0, 0, 0, 0, 0, 0, 0, 0, 0, 0, 0, 0, 0, 0, 0, 0, 0, 0, 0, 0, 0, 0, 0, 0, 0, 0, 0, 0, 0, 0, 0, 0, 0, 0, 0, 0, 0, 0, 0, 0, 0, 0, 0, 0, 0, 0, 0, 0, 0, 0, 0, 0, 0, 0, 0, 0, 0, 0, 0, 0, 0, 0, 0, 0, 0, 0, 0, 0, 0, 0, 0, 0, 0, 0, 0, 0, 0, 0, 0, 0, 0, 0, 0, 0, 0, 0, 0, 0, 0, 0, 0, 0, 0, 0, 0, 0, 0, 0, 0, 0, 0, 0, 0, 0, 0, 0, 0, 0, 0, 0, 0, 0, 0, 0, 0, 0, 0, 0, 0, 0, 0, 0, 0, 0, 0, 0, 0, 0, 0, 0, 0, 0, 0, 0, 0, 0, 0, 0, 0, 0, 0, 0, 0, 0, 0, 0, 0, 0, 0, 0, 0, 0, 0, 0, 0, 0, 0, 0, 0, 0, 0, 0, 0, 0, 0, 0, 0, 0, 0, 0, 0, 0, 0, 0, 0, 0, 0, 0, 0, 0, 0, 0, 0, 0, 0, 0, 0, 0, 0, 0, 0, 0, 0, 0, 0, 0, 0, 0, 0, 0, 0, 0, 0, 0, 0, 0, 0, 0, 0, 0, 0, 0, 0, 0, 0, 0, 0, 0, 0, 0, 0, 0, 0, 0, 0, 0, 0, 0, 0, 0, 0, 0, 0, 0, 0, 0, 0, 0, 0, 0, 0, 0, 0, 0, 0, 0, 0, 0, 0, 0, 0, 0, 0, 0, 0, 0, 0, 0, 0, 0, 0, 0, 1, 0, 0, 0, 0, 0, 0, 0, 0, 0, 0, 0, 0, 0, 0, 0, 0, 0, 0, 0, 0, 0, 0, 0, 0, 0, 0, 0, 0, 0, 0, 0, 0, 0, 0, 0, 2, 0, 0, 0, 0, 0, 0, 0, 0, 0, 0, 0, 0, 0, 0, 0, 0, 0, 0, 0, 0, 0, 0, 0, 0, 0, 0, 0, 0, 0, 0, 0, 0, 0, 0, 0, 0, 0, 0, 0, 0, 1, 0, 0, 0, 0, 0, 0, 0, 0, 0, 0, 0, 0, 0, 0, 0, 0, 0, 0, 0, 0, 0, 0, 0, 0, 0, 0, 0, 0, 0, 0, 0, 0, 0, 0, 0, 0, 0, 0, 0, 0, 0, 0, 0, 0, 0, 0, 0, 0, 0, 0, 0, 0, 0, 0, 0, 0, 0, 0, 0, 0, 0, 0, 0, 0, 0, 0, 0, 0, 0, 0, 0, 0, 0, 0, 0, 0, 0, 0, 0, 0, 0, 0, 0, 0, 0, 0, 0, 0, 0, 0, 0, 0, 0, 0, 0, 0, 0, 0, 0, 0, 0, 0, 0, 0, 0, 0, 0, 0, 0, 0, 0, 0, 0, 0, 0, 0, 0, 0, 0, 0, 0, 0, 0, 0, 0, 0, 0, 0, 0, 0, 0, 0, 0, 0, 0, 0, 0, 0, 0, 0, 0, 0, 0, 0, 0, 0, 0, 0, 0, 0, 0, 0, 0, 0, 0, 0, 0, 0, 0, 0, 0, 0, 0, 0, 0, 0, 0, 0, 0, 0, 0, 0, 0, 0, 0, 0, 0, 0, 0, 0, 0, 0, 0, 0, 0, 0, 0, 0, 0, 0, 0, 0, 0, 0, 0, 0, 0, 0, 0, 0, 0, 0, 0, 0, 0, 0, 0, 0, 0, 0, 0, 0, 0, 0, 0, 0, 0, 0, 0, 0, 0, 0, 0, 0, 0, 0, 0, 0, 0, 0, 0, 0, 0, 0, 0, 0, 0, 0, 0, 0, 0, 0, 0, 0, 0, 0, 0, 0, 0, 0, 0, 0, 0, 0, 0, 0, 0, 0, 0, 0, 0, 0, 0, 0, 0, 0, 0, 0, 0, 0, 0, 0, 0, 0, 0, 0, 0, 0, 0, 0, 0, 0, 0, 0, 0, 0, 0, 0, 0, 0, 0, 0, 0, 0, 0, 0, 0, 0, 0, 0, 0, 0, 0, 0, 0, 0, 0, 0, 0, 0, 0, 0, 0, 0, 0, 0, 0, 0, 0, 0, 0, 0, 0, 0, 0, 0, 0, 0, 0, 0, 0, 0, 0, 0, 0, 0, 0, 0, 0, 0, 0, 0, 0, 0, 0, 0, 0, 0, 0, 0, 0, 0, 0, 0, 0, 0, 0, 0, 0, 0, 0, 0, 0, 0, 0, 0, 0, 0, 0, 0, 0, 0, 0, 0, 0, 0, 0, 0, 0, 0, 0, 0, 0, 0, 0, 0, 0, 0, 0, 0, 0, 0, 0, 0, 0, 0, 0, 0, 0, 0, 0, 0, 0, 0, 0, 0, 0, 0, 0, 0, 0, 0, 0, 0, 0, 0, 0, 0, 0, 0, 0, 0, 0, 0, 0, 0, 0, 0, 0, 0, 0, 0, 0, 0, 0, 0, 0, 0, 0, 0, 0, 0, 0, 0, 0, 0, 0, 0, 0, 0, 0, 0, 0, 0, 0, 0, 0, 0, 0, 0, 0, 0, 0, 0, 0, 0, 0, 0, 0, 0, 0, 0, 0, 0, 0, 0, 0, 0, 0, 0, 0, 0, 0, 0, 0, 0, 0, 0, 0, 0, 0, 0, 0, 0, 0, 0, 0, 1, 0, 0, 0, 0, 0, 0, 0, 0, 0, 0, 0, 0, 0, 0, 0, 0, 0, 0, 0, 0, 0, 0, 0, 0, 0, 0, 0, 0, 0, 0, 0, 0, 0, 0, 0, 0, 0, 0, 0, 0, 0, 0, 0, 0, 0, 0, 0, 0, 0, 0, 0, 0, 0, 0, 0, 0, 0, 0, 0, 0, 0, 0, 0, 0, 0, 0, 0, 0, 0, 0, 0, 0, 0, 0, 0, 0, 0, 0, 0, 0, 0, 0, 0, 0, 0, 0, 0, 0, 0, 0, 0, 0, 0, 0, 0, 0, 0, 0, 0, 0, 0, 0, 0, 0, 0, 0, 0, 0, 0, 0, 2, 0, 0, 0, 0, 0, 0, 0, 0, 0, 0, 0, 0, 0, 0, 0, 0, 0, 0, 0, 0, 0, 0, 0, 0, 0, 0, 0, 0, 0, 0, 0, 0, 0, 0, 0, 0, 0, 0, 0, 0, 0, 0, 0, 0, 0, 0, 0, 0, 0, 0, 0, 0, 0, 0, 0, 0, 0, 0, 0, 0, 0, 0, 0, 0, 0, 0, 0, 0, 0, 0, 0, 0, 0, 0, 0, 0, 0, 0, 0, 0, 0, 0, 0, 0, 0, 0, 0, 0, 0, 0, 0, 0, 0, 0, 0, 0, 0, 0, 0, 0, 0, 0, 0, 0, 0, 0, 0, 0, 0, 0, 0, 0, 0, 0, 0, 0, 0, 0, 0, 0, 0, 0, 0, 0, 0, 0, 0, 0, 0, 0, 0, 0, 0, 0, 0, 0, 0, 0, 0, 0, 0, 0, 0, 0, 0, 0, 0, 0, 0, 0, 0, 0, 0, 0, 0, 0, 0, 0, 0, 0, 0, 0, 0, 0, 0, 0, 0, 0, 0, 0, 0, 0, 0, 0, 0, 0, 0, 0, 0, 0, 0, 0, 0, 0, 0, 0, 0, 0, 0, 0, 0, 0, 0, 0, 0, 0, 0, 0, 0, 0, 0, 0, 0, 0, 0, 0, 0, 0, 0, 0, 0, 0, 0, 0, 0, 0, 0, 0, 0, 0, 0, 0, 0, 0, 0, 0, 0, 0, 0, 0, 0, 0, 0, 0, 0, 0, 0, 0, 0, 0, 0, 0, 0, 0, 0, 0, 0, 0, 0, 0, 0, 0, 0, 0, 0, 0, 0, 0, 0, 0, 0, 0, 0, 0, 0, 0, 0, 0, 0, 0, 0, 0, 0, 0, 0, 0, 0, 0, 0, 0, 0, 0, 0, 0, 0, 0, 0, 0, 0, 0, 0, 0, 0, 0, 0, 0, 0, 0, 0, 0, 0, 0, 0, 0, 0, 0, 0, 0, 0, 0, 0, 0, 0, 0, 0, 0, 0, 0, 0, 0, 0, 0, 0, 0, 0, 0, 0, 0, 0, 0, 0, 0, 0, 0, 0, 0, 0, 0, 0, 0, 0, 0, 0, 0, 0, 0, 0, 0, 0, 0, 0, 0, 0, 0, 0, 0, 0, 0, 0, 0, 0, 0, 0, 0, 0, 0, 0, 0, 0, 0, 0, 0, 0, 0, 0, 0, 0, 0, 0, 0, 0, 0, 0, 0, 0, 0, 0, 0, 0, 0, 0, 0, 0, 0, 0, 0, 0, 0, 0, 0, 0, 0, 0, 0, 0, 0, 0, 0, 0, 0, 0, 0, 0, 0, 0, 0, 0, 0, 0, 0, 0, 0, 0, 0, 0, 0, 0, 0, 0, 0, 0, 0, 0, 0, 0, 0, 0, 0, 0, 0, 0, 0, 0, 0, 0, 0, 0, 0, 0, 0, 0, 0, 0, 0, 0, 0, 0, 0, 0, 0, 0, 0, 0, 0, 0, 0, 0, 0, 0, 0, 0, 0, 0, 0, 0, 0, 0, 0, 0, 0, 0, 0, 0, 0, 0, 0, 0, 0, 0, 0, 0, 0, 0, 0, 0, 0, 0, 0, 0, 0, 0, 0, 0, 0, 0, 0, 0, 0, 0, 0, 0, 0, 0, 0, 0, 0, 0, 0, 0, 0, 0, 0, 0, 0, 0, 0, 0, 0, 0, 0, 0, 0, 0, 0, 0, 0, 0, 0, 0, 0, 0, 0, 0, 0, 0, 0, 0, 0, 0, 0, 0, 0, 0, 0, 0, 0, 0, 0, 0, 0, 0, 0, 0, 0, 0, 0, 0, 0, 0, 0, 0, 0, 0, 0, 0, 0, 0, 0, 0, 0, 0, 0, 0, 0, 0, 0, 0, 0, 0, 0, 0, 0, 0, 0, 0, 0, 0, 0, 0, 0, 0, 0, 0, 0, 0, 0, 0, 0, 0, 0, 0, 0, 0, 0, 0, 0, 0, 0, 0, 0, 0, 0, 0, 0, 0, 0, 0, 0, 0, 0, 0, 0, 0, 0, 0, 0, 0, 0, 0, 0, 0, 0, 0, 0, 0, 0, 0, 0, 0, 0, 0, 0, 0, 0, 0, 0, 0, 0, 0, 0, 0, 0, 0, 0, 0, 0, 0, 0, 0, 0, 0, 0, 0, 0, 0, 0, 0, 0, 0, 0, 0, 0, 0, 0, 0, 0, 0, 0, 0, 0, 1, 0, 0, 0, 0, 0, 0, 0, 0, 0, 0, 0, 0, 0, 0, 0, 0, 0, 0, 0, 0, 0, 0, 0, 0, 0, 0, 0, 0, 0, 0, 0, 0, 0, 0, 0, 0, 0, 0, 0, 0, 0, 0, 0, 0, 0, 0, 0, 0, 0, 0, 0, 0, 0, 0, 0, 0, 0, 0, 0, 0, 0, 0, 0, 0, 0, 0, 0, 0, 0, 0, 0, 0, 0, 0, 0, 0, 0, 0, 0, 0, 0, 0, 0, 0, 0, 0, 0, 0, 0, 0, 0, 0, 0, 0, 0, 0, 0, 0, 0, 0, 0, 0, 0, 0, 0, 0, 0, 1, 0, 0, 0, 0, 0, 0, 0, 0, 0, 0, 0, 0, 0, 0, 0, 0, 0, 0, 0, 0, 0, 0, 0, 0, 0, 0, 0, 0, 0, 0, 0, 0, 0, 0, 0, 0, 0, 0, 0, 0, 0, 0, 0, 0, 0, 0, 0, 0, 0, 0, 0, 0, 0, 0, 0, 0, 0, 0, 0, 0, 0, 0, 0, 0, 0, 0, 0, 0, 0, 0, 0, 0, 0, 0, 0, 0, 0, 0, 0, 0, 0, 0, 0, 0, 0, 0, 0, 0, 0, 0, 0, 0, 0, 0, 0, 0, 0, 0, 0, 0, 0, 0, 0, 0, 0, 0, 0, 0, 0, 0, 0, 0, 0, 0, 0, 0, 0, 0, 0, 0, 0, 0, 0, 0, 0, 0, 0, 0, 0, 0, 0, 0, 0, 0, 0, 0, 0, 0, 0, 0, 0, 0, 0, 0, 0, 0, 0, 0, 0, 0, 0, 0, 0, 0, 0, 0, 0, 0, 0, 0, 0, 0, 0, 0, 0, 0, 0, 0, 0, 0, 0, 0, 0, 0, 0, 0, 0, 0, 0, 0, 0, 0, 0, 0, 0, 0, 0, 0, 0, 0, 0, 0, 0, 0, 0, 0, 0, 0, 0, 0, 0, 0, 0, 0, 0, 0, 0, 0, 0, 0, 0, 0, 0, 0, 0, 0, 0, 0, 0, 0, 0, 0, 0, 0, 0, 0, 0, 0, 0, 0, 0, 0, 0, 0, 0, 0, 0, 0, 0, 0, 0, 0, 0, 0, 0, 0, 0, 0, 0, 0, 0, 0, 0, 0, 0, 0, 0, 0, 0, 0, 0, 0, 0, 0, 0, 0, 0, 0, 0, 0, 0, 0, 0, 0, 0, 0, 0, 0, 0, 0, 0, 0, 0, 0, 0, 0, 0, 0, 0, 0, 0, 0, 0, 0, 0, 0, 0, 0, 0, 0, 0, 0, 0, 0, 0, 0, 0, 0, 0, 0, 0, 0, 0, 0, 0, 0, 0, 0, 0, 0, 0, 0, 0, 0, 0, 0, 0, 0, 0, 0, 0, 0, 0, 0, 0, 0, 0, 0, 0, 0, 0, 0, 0, 0, 0, 0, 0, 0, 0, 0, 0, 0, 0, 0, 0, 0, 0, 0, 0, 0, 0, 0, 0, 0, 0, 0, 0, 0, 0, 0, 0, 0, 0, 0, 0, 0, 0, 0, 0, 0, 0, 0, 0, 0, 0, 0, 0, 0, 0, 0, 0, 0, 0, 0, 0, 0, 0, 0, 0, 0, 0, 0, 0, 0, 0, 0, 0, 0, 0, 0, 0, 0, 0, 0, 0, 0, 0, 0, 0, 0, 0, 0, 0, 0, 0, 0, 0, 0, 0, 0, 0, 0, 0, 0, 0, 0, 0, 0, 0, 0, 0, 0, 0, 0, 0, 0, 0, 0, 0, 0, 0, 0, 0, 0, 0, 0, 0, 0, 0, 0, 0, 0, 0, 2, 0, 1, 0]\n"
     ]
    }
   ],
   "source": [
    "test_bow = bow_encoding(test_words, vocabulary)\n",
    "print(test_bow)"
   ]
  },
  {
   "cell_type": "code",
   "execution_count": 60,
   "metadata": {},
   "outputs": [
    {
     "data": {
      "text/plain": [
       "5000"
      ]
     },
     "execution_count": 60,
     "metadata": {},
     "output_type": "execute_result"
    }
   ],
   "source": [
    "len(test_bow)"
   ]
  },
  {
   "cell_type": "markdown",
   "metadata": {},
   "source": [
    "So now we know how to construct a bag of words encoding of a user provided review, how to we send it to our endpoint? First, we need to start the endpoint back up."
   ]
  },
  {
   "cell_type": "code",
   "execution_count": 61,
   "metadata": {},
   "outputs": [
    {
     "name": "stderr",
     "output_type": "stream",
     "text": [
      "Parameter image will be renamed to image_uri in SageMaker Python SDK v2.\n",
      "Using already existing model: xgboost-2022-04-25-17-44-48-121\n"
     ]
    },
    {
     "ename": "ClientError",
     "evalue": "An error occurred (ValidationException) when calling the CreateEndpoint operation: Cannot create already existing endpoint \"arn:aws:sagemaker:us-east-1:984973086835:endpoint/xgboost-2022-04-25-17-44-48-121\".",
     "output_type": "error",
     "traceback": [
      "\u001b[0;31m---------------------------------------------------------------------------\u001b[0m",
      "\u001b[0;31mClientError\u001b[0m                               Traceback (most recent call last)",
      "\u001b[0;32m<ipython-input-61-ccb632c8fb45>\u001b[0m in \u001b[0;36m<module>\u001b[0;34m\u001b[0m\n\u001b[0;32m----> 1\u001b[0;31m \u001b[0mxgb_predictor\u001b[0m \u001b[0;34m=\u001b[0m \u001b[0mxgb\u001b[0m\u001b[0;34m.\u001b[0m\u001b[0mdeploy\u001b[0m\u001b[0;34m(\u001b[0m\u001b[0minitial_instance_count\u001b[0m \u001b[0;34m=\u001b[0m \u001b[0;36m1\u001b[0m\u001b[0;34m,\u001b[0m \u001b[0minstance_type\u001b[0m \u001b[0;34m=\u001b[0m \u001b[0;34m'ml.m4.xlarge'\u001b[0m\u001b[0;34m)\u001b[0m\u001b[0;34m\u001b[0m\u001b[0;34m\u001b[0m\u001b[0m\n\u001b[0m",
      "\u001b[0;32m~/anaconda3/envs/python3/lib/python3.6/site-packages/sagemaker/estimator.py\u001b[0m in \u001b[0;36mdeploy\u001b[0;34m(self, initial_instance_count, instance_type, accelerator_type, endpoint_name, use_compiled_model, update_endpoint, wait, model_name, kms_key, data_capture_config, tags, **kwargs)\u001b[0m\n\u001b[1;32m    743\u001b[0m             \u001b[0mwait\u001b[0m\u001b[0;34m=\u001b[0m\u001b[0mwait\u001b[0m\u001b[0;34m,\u001b[0m\u001b[0;34m\u001b[0m\u001b[0;34m\u001b[0m\u001b[0m\n\u001b[1;32m    744\u001b[0m             \u001b[0mkms_key\u001b[0m\u001b[0;34m=\u001b[0m\u001b[0mkms_key\u001b[0m\u001b[0;34m,\u001b[0m\u001b[0;34m\u001b[0m\u001b[0;34m\u001b[0m\u001b[0m\n\u001b[0;32m--> 745\u001b[0;31m             \u001b[0mdata_capture_config\u001b[0m\u001b[0;34m=\u001b[0m\u001b[0mdata_capture_config\u001b[0m\u001b[0;34m,\u001b[0m\u001b[0;34m\u001b[0m\u001b[0;34m\u001b[0m\u001b[0m\n\u001b[0m\u001b[1;32m    746\u001b[0m         )\n\u001b[1;32m    747\u001b[0m \u001b[0;34m\u001b[0m\u001b[0m\n",
      "\u001b[0;32m~/anaconda3/envs/python3/lib/python3.6/site-packages/sagemaker/model.py\u001b[0m in \u001b[0;36mdeploy\u001b[0;34m(self, initial_instance_count, instance_type, accelerator_type, endpoint_name, update_endpoint, tags, kms_key, wait, data_capture_config)\u001b[0m\n\u001b[1;32m    577\u001b[0m                 \u001b[0mkms_key\u001b[0m\u001b[0;34m=\u001b[0m\u001b[0mkms_key\u001b[0m\u001b[0;34m,\u001b[0m\u001b[0;34m\u001b[0m\u001b[0;34m\u001b[0m\u001b[0m\n\u001b[1;32m    578\u001b[0m                 \u001b[0mwait\u001b[0m\u001b[0;34m=\u001b[0m\u001b[0mwait\u001b[0m\u001b[0;34m,\u001b[0m\u001b[0;34m\u001b[0m\u001b[0;34m\u001b[0m\u001b[0m\n\u001b[0;32m--> 579\u001b[0;31m                 \u001b[0mdata_capture_config_dict\u001b[0m\u001b[0;34m=\u001b[0m\u001b[0mdata_capture_config_dict\u001b[0m\u001b[0;34m,\u001b[0m\u001b[0;34m\u001b[0m\u001b[0;34m\u001b[0m\u001b[0m\n\u001b[0m\u001b[1;32m    580\u001b[0m             )\n\u001b[1;32m    581\u001b[0m \u001b[0;34m\u001b[0m\u001b[0m\n",
      "\u001b[0;32m~/anaconda3/envs/python3/lib/python3.6/site-packages/sagemaker/session.py\u001b[0m in \u001b[0;36mendpoint_from_production_variants\u001b[0;34m(self, name, production_variants, tags, kms_key, wait, data_capture_config_dict)\u001b[0m\n\u001b[1;32m   2903\u001b[0m \u001b[0;34m\u001b[0m\u001b[0m\n\u001b[1;32m   2904\u001b[0m             \u001b[0mself\u001b[0m\u001b[0;34m.\u001b[0m\u001b[0msagemaker_client\u001b[0m\u001b[0;34m.\u001b[0m\u001b[0mcreate_endpoint_config\u001b[0m\u001b[0;34m(\u001b[0m\u001b[0;34m**\u001b[0m\u001b[0mconfig_options\u001b[0m\u001b[0;34m)\u001b[0m\u001b[0;34m\u001b[0m\u001b[0;34m\u001b[0m\u001b[0m\n\u001b[0;32m-> 2905\u001b[0;31m         \u001b[0;32mreturn\u001b[0m \u001b[0mself\u001b[0m\u001b[0;34m.\u001b[0m\u001b[0mcreate_endpoint\u001b[0m\u001b[0;34m(\u001b[0m\u001b[0mendpoint_name\u001b[0m\u001b[0;34m=\u001b[0m\u001b[0mname\u001b[0m\u001b[0;34m,\u001b[0m \u001b[0mconfig_name\u001b[0m\u001b[0;34m=\u001b[0m\u001b[0mname\u001b[0m\u001b[0;34m,\u001b[0m \u001b[0mtags\u001b[0m\u001b[0;34m=\u001b[0m\u001b[0mtags\u001b[0m\u001b[0;34m,\u001b[0m \u001b[0mwait\u001b[0m\u001b[0;34m=\u001b[0m\u001b[0mwait\u001b[0m\u001b[0;34m)\u001b[0m\u001b[0;34m\u001b[0m\u001b[0;34m\u001b[0m\u001b[0m\n\u001b[0m\u001b[1;32m   2906\u001b[0m \u001b[0;34m\u001b[0m\u001b[0m\n\u001b[1;32m   2907\u001b[0m     \u001b[0;32mdef\u001b[0m \u001b[0mexpand_role\u001b[0m\u001b[0;34m(\u001b[0m\u001b[0mself\u001b[0m\u001b[0;34m,\u001b[0m \u001b[0mrole\u001b[0m\u001b[0;34m)\u001b[0m\u001b[0;34m:\u001b[0m\u001b[0;34m\u001b[0m\u001b[0;34m\u001b[0m\u001b[0m\n",
      "\u001b[0;32m~/anaconda3/envs/python3/lib/python3.6/site-packages/sagemaker/session.py\u001b[0m in \u001b[0;36mcreate_endpoint\u001b[0;34m(self, endpoint_name, config_name, tags, wait)\u001b[0m\n\u001b[1;32m   2420\u001b[0m \u001b[0;34m\u001b[0m\u001b[0m\n\u001b[1;32m   2421\u001b[0m         self.sagemaker_client.create_endpoint(\n\u001b[0;32m-> 2422\u001b[0;31m             \u001b[0mEndpointName\u001b[0m\u001b[0;34m=\u001b[0m\u001b[0mendpoint_name\u001b[0m\u001b[0;34m,\u001b[0m \u001b[0mEndpointConfigName\u001b[0m\u001b[0;34m=\u001b[0m\u001b[0mconfig_name\u001b[0m\u001b[0;34m,\u001b[0m \u001b[0mTags\u001b[0m\u001b[0;34m=\u001b[0m\u001b[0mtags\u001b[0m\u001b[0;34m\u001b[0m\u001b[0;34m\u001b[0m\u001b[0m\n\u001b[0m\u001b[1;32m   2423\u001b[0m         )\n\u001b[1;32m   2424\u001b[0m         \u001b[0;32mif\u001b[0m \u001b[0mwait\u001b[0m\u001b[0;34m:\u001b[0m\u001b[0;34m\u001b[0m\u001b[0;34m\u001b[0m\u001b[0m\n",
      "\u001b[0;32m~/anaconda3/envs/python3/lib/python3.6/site-packages/botocore/client.py\u001b[0m in \u001b[0;36m_api_call\u001b[0;34m(self, *args, **kwargs)\u001b[0m\n\u001b[1;32m    413\u001b[0m                     \"%s() only accepts keyword arguments.\" % py_operation_name)\n\u001b[1;32m    414\u001b[0m             \u001b[0;31m# The \"self\" in this scope is referring to the BaseClient.\u001b[0m\u001b[0;34m\u001b[0m\u001b[0;34m\u001b[0m\u001b[0;34m\u001b[0m\u001b[0m\n\u001b[0;32m--> 415\u001b[0;31m             \u001b[0;32mreturn\u001b[0m \u001b[0mself\u001b[0m\u001b[0;34m.\u001b[0m\u001b[0m_make_api_call\u001b[0m\u001b[0;34m(\u001b[0m\u001b[0moperation_name\u001b[0m\u001b[0;34m,\u001b[0m \u001b[0mkwargs\u001b[0m\u001b[0;34m)\u001b[0m\u001b[0;34m\u001b[0m\u001b[0;34m\u001b[0m\u001b[0m\n\u001b[0m\u001b[1;32m    416\u001b[0m \u001b[0;34m\u001b[0m\u001b[0m\n\u001b[1;32m    417\u001b[0m         \u001b[0m_api_call\u001b[0m\u001b[0;34m.\u001b[0m\u001b[0m__name__\u001b[0m \u001b[0;34m=\u001b[0m \u001b[0mstr\u001b[0m\u001b[0;34m(\u001b[0m\u001b[0mpy_operation_name\u001b[0m\u001b[0;34m)\u001b[0m\u001b[0;34m\u001b[0m\u001b[0;34m\u001b[0m\u001b[0m\n",
      "\u001b[0;32m~/anaconda3/envs/python3/lib/python3.6/site-packages/botocore/client.py\u001b[0m in \u001b[0;36m_make_api_call\u001b[0;34m(self, operation_name, api_params)\u001b[0m\n\u001b[1;32m    743\u001b[0m             \u001b[0merror_code\u001b[0m \u001b[0;34m=\u001b[0m \u001b[0mparsed_response\u001b[0m\u001b[0;34m.\u001b[0m\u001b[0mget\u001b[0m\u001b[0;34m(\u001b[0m\u001b[0;34m\"Error\"\u001b[0m\u001b[0;34m,\u001b[0m \u001b[0;34m{\u001b[0m\u001b[0;34m}\u001b[0m\u001b[0;34m)\u001b[0m\u001b[0;34m.\u001b[0m\u001b[0mget\u001b[0m\u001b[0;34m(\u001b[0m\u001b[0;34m\"Code\"\u001b[0m\u001b[0;34m)\u001b[0m\u001b[0;34m\u001b[0m\u001b[0;34m\u001b[0m\u001b[0m\n\u001b[1;32m    744\u001b[0m             \u001b[0merror_class\u001b[0m \u001b[0;34m=\u001b[0m \u001b[0mself\u001b[0m\u001b[0;34m.\u001b[0m\u001b[0mexceptions\u001b[0m\u001b[0;34m.\u001b[0m\u001b[0mfrom_code\u001b[0m\u001b[0;34m(\u001b[0m\u001b[0merror_code\u001b[0m\u001b[0;34m)\u001b[0m\u001b[0;34m\u001b[0m\u001b[0;34m\u001b[0m\u001b[0m\n\u001b[0;32m--> 745\u001b[0;31m             \u001b[0;32mraise\u001b[0m \u001b[0merror_class\u001b[0m\u001b[0;34m(\u001b[0m\u001b[0mparsed_response\u001b[0m\u001b[0;34m,\u001b[0m \u001b[0moperation_name\u001b[0m\u001b[0;34m)\u001b[0m\u001b[0;34m\u001b[0m\u001b[0;34m\u001b[0m\u001b[0m\n\u001b[0m\u001b[1;32m    746\u001b[0m         \u001b[0;32melse\u001b[0m\u001b[0;34m:\u001b[0m\u001b[0;34m\u001b[0m\u001b[0;34m\u001b[0m\u001b[0m\n\u001b[1;32m    747\u001b[0m             \u001b[0;32mreturn\u001b[0m \u001b[0mparsed_response\u001b[0m\u001b[0;34m\u001b[0m\u001b[0;34m\u001b[0m\u001b[0m\n",
      "\u001b[0;31mClientError\u001b[0m: An error occurred (ValidationException) when calling the CreateEndpoint operation: Cannot create already existing endpoint \"arn:aws:sagemaker:us-east-1:984973086835:endpoint/xgboost-2022-04-25-17-44-48-121\"."
     ]
    }
   ],
   "source": [
    "xgb_predictor = xgb.deploy(initial_instance_count = 1, instance_type = 'ml.m4.xlarge')"
   ]
  },
  {
   "cell_type": "markdown",
   "metadata": {},
   "source": [
    "At this point we could just do the same thing that we did earlier when we tested our deployed model and send `test_bow` to our endpoint using the `xgb_predictor` object. However, when we eventually construct our Lambda function we won't have access to this object, so how do we call a SageMaker endpoint?\n",
    "\n",
    "It turns out that Python functions that are used in Lambda have access to another Amazon library called `boto3`. This library provides an API for working with Amazon services, including SageMaker. To start with, we need to get a handle to the SageMaker runtime."
   ]
  },
  {
   "cell_type": "code",
   "execution_count": 62,
   "metadata": {},
   "outputs": [],
   "source": [
    "import boto3\n",
    "\n",
    "runtime = boto3.Session().client('sagemaker-runtime')"
   ]
  },
  {
   "cell_type": "markdown",
   "metadata": {},
   "source": [
    "And now that we have access to the SageMaker runtime, we can ask it to make use of (invoke) an endpoint that has already been created. However, we need to provide SageMaker with the name of the deployed endpoint. To find this out we can print it out using the `xgb_predictor` object."
   ]
  },
  {
   "cell_type": "code",
   "execution_count": 63,
   "metadata": {},
   "outputs": [
    {
     "data": {
      "text/plain": [
       "'xgboost-2022-04-25-17-44-48-121'"
      ]
     },
     "execution_count": 63,
     "metadata": {},
     "output_type": "execute_result"
    }
   ],
   "source": [
    "xgb_predictor.endpoint"
   ]
  },
  {
   "cell_type": "code",
   "execution_count": 66,
   "metadata": {},
   "outputs": [
    {
     "name": "stderr",
     "output_type": "stream",
     "text": [
      "Parameter image will be renamed to image_uri in SageMaker Python SDK v2.\n",
      "Using already existing model: xgboost-2022-04-25-17-44-48-121\n"
     ]
    },
    {
     "name": "stdout",
     "output_type": "stream",
     "text": [
      "----------!"
     ]
    }
   ],
   "source": [
    "xgb_predictor = xgb.deploy(initial_instance_count = 1, instance_type = 'ml.m4.xlarge')"
   ]
  },
  {
   "cell_type": "markdown",
   "metadata": {},
   "source": [
    "Using the SageMaker runtime and the name of our endpoint, we can invoke the endpoint and send it the `test_bow` data."
   ]
  },
  {
   "cell_type": "code",
   "execution_count": 67,
   "metadata": {},
   "outputs": [
    {
     "ename": "ParamValidationError",
     "evalue": "Parameter validation failed:\nInvalid type for parameter Body, value: [0, 0, 0, 0, 0, 0, 0, 0, 0, 0, 0, 0, 0, 0, 0, 0, 0, 0, 0, 0, 0, 0, 0, 0, 0, 0, 0, 0, 0, 0, 0, 0, 0, 0, 0, 0, 0, 0, 0, 0, 0, 0, 0, 0, 0, 0, 0, 0, 0, 0, 0, 0, 0, 0, 0, 0, 0, 0, 0, 0, 0, 0, 0, 0, 0, 0, 0, 0, 0, 0, 0, 0, 0, 0, 0, 0, 0, 0, 0, 0, 0, 0, 0, 0, 0, 0, 0, 0, 0, 0, 0, 0, 0, 0, 0, 0, 0, 0, 0, 0, 0, 0, 0, 0, 0, 0, 0, 0, 0, 0, 0, 0, 0, 0, 0, 0, 0, 0, 0, 0, 0, 0, 0, 0, 0, 0, 0, 0, 0, 0, 0, 0, 0, 0, 0, 0, 0, 0, 0, 0, 0, 0, 0, 0, 0, 0, 0, 0, 0, 0, 0, 0, 0, 0, 0, 0, 0, 0, 0, 0, 0, 0, 0, 0, 0, 0, 0, 0, 0, 0, 0, 0, 0, 0, 0, 0, 0, 0, 0, 0, 0, 0, 0, 0, 0, 0, 0, 0, 0, 0, 0, 0, 0, 0, 0, 0, 0, 0, 0, 0, 0, 0, 0, 0, 0, 0, 0, 0, 0, 0, 0, 0, 0, 0, 0, 0, 0, 0, 0, 0, 0, 0, 0, 0, 0, 0, 1, 0, 0, 0, 0, 0, 0, 0, 0, 0, 0, 0, 0, 0, 0, 0, 0, 0, 0, 0, 0, 0, 0, 0, 0, 0, 0, 0, 0, 0, 1, 0, 0, 0, 0, 0, 0, 0, 0, 0, 0, 0, 0, 0, 0, 0, 0, 0, 0, 0, 0, 0, 0, 0, 0, 0, 0, 0, 0, 0, 0, 0, 0, 0, 0, 0, 0, 0, 0, 0, 0, 0, 0, 0, 0, 0, 0, 0, 0, 0, 0, 0, 0, 0, 0, 0, 0, 0, 0, 0, 0, 0, 0, 0, 0, 0, 0, 0, 0, 0, 0, 0, 0, 0, 0, 0, 0, 0, 0, 0, 0, 0, 0, 0, 0, 0, 0, 0, 0, 0, 0, 0, 0, 0, 0, 0, 0, 0, 0, 0, 0, 0, 0, 0, 0, 0, 0, 0, 0, 0, 0, 0, 0, 0, 0, 0, 0, 0, 0, 0, 0, 0, 0, 0, 0, 0, 0, 0, 0, 0, 0, 0, 0, 0, 0, 0, 0, 0, 0, 0, 0, 0, 0, 0, 0, 0, 0, 0, 0, 0, 0, 0, 0, 0, 0, 0, 0, 0, 0, 0, 0, 0, 0, 0, 0, 0, 0, 0, 0, 0, 0, 0, 0, 0, 0, 0, 0, 0, 0, 0, 0, 0, 0, 0, 0, 0, 0, 0, 0, 0, 0, 0, 0, 0, 0, 0, 0, 0, 0, 0, 0, 0, 0, 0, 0, 0, 0, 0, 0, 0, 0, 0, 0, 0, 0, 0, 0, 0, 0, 0, 0, 0, 0, 0, 0, 0, 0, 0, 0, 0, 0, 0, 0, 0, 0, 0, 0, 0, 0, 0, 0, 0, 0, 0, 0, 0, 0, 0, 0, 0, 0, 0, 0, 0, 0, 0, 0, 0, 0, 0, 0, 0, 0, 0, 0, 0, 0, 0, 0, 0, 0, 0, 0, 0, 0, 0, 0, 0, 0, 0, 0, 0, 0, 0, 0, 0, 0, 0, 0, 0, 0, 0, 0, 0, 0, 0, 0, 0, 0, 0, 0, 0, 0, 0, 0, 0, 0, 0, 0, 0, 0, 0, 0, 0, 0, 0, 0, 0, 0, 0, 0, 0, 0, 0, 0, 0, 0, 0, 0, 0, 0, 0, 0, 0, 0, 0, 0, 0, 0, 0, 0, 0, 0, 0, 0, 0, 0, 0, 0, 0, 0, 0, 0, 0, 0, 0, 0, 0, 0, 0, 0, 0, 0, 0, 0, 0, 0, 0, 0, 0, 0, 0, 0, 0, 0, 0, 0, 0, 0, 0, 1, 0, 0, 0, 0, 0, 0, 0, 0, 0, 0, 0, 0, 0, 0, 0, 0, 0, 0, 0, 0, 0, 0, 0, 0, 0, 0, 0, 0, 0, 0, 0, 0, 0, 0, 0, 0, 0, 0, 0, 0, 0, 0, 0, 0, 0, 0, 0, 0, 0, 0, 0, 0, 0, 0, 0, 0, 0, 0, 0, 0, 0, 0, 0, 0, 0, 0, 0, 0, 0, 0, 0, 0, 0, 0, 0, 0, 0, 0, 0, 0, 0, 0, 0, 0, 0, 0, 0, 0, 0, 0, 0, 0, 0, 0, 0, 0, 0, 0, 0, 0, 0, 0, 0, 0, 0, 0, 0, 0, 0, 0, 0, 0, 0, 0, 0, 0, 0, 0, 0, 0, 0, 0, 0, 0, 0, 0, 0, 0, 0, 0, 0, 0, 0, 0, 0, 0, 0, 0, 0, 0, 0, 0, 0, 0, 0, 0, 0, 0, 0, 0, 0, 0, 0, 0, 0, 0, 0, 0, 0, 0, 0, 0, 0, 0, 0, 0, 0, 0, 0, 0, 0, 0, 0, 0, 0, 0, 0, 0, 0, 0, 0, 0, 0, 0, 0, 0, 0, 0, 0, 0, 0, 0, 0, 0, 0, 0, 0, 0, 0, 0, 0, 0, 0, 0, 0, 0, 0, 0, 0, 0, 0, 0, 0, 0, 0, 0, 0, 0, 0, 0, 0, 0, 0, 0, 0, 0, 0, 0, 0, 0, 0, 0, 0, 0, 0, 0, 0, 0, 0, 0, 0, 0, 0, 0, 0, 0, 0, 0, 0, 0, 0, 0, 0, 1, 0, 0, 0, 0, 0, 0, 0, 0, 0, 0, 0, 0, 0, 0, 0, 0, 0, 0, 0, 0, 0, 0, 0, 0, 0, 0, 0, 0, 0, 0, 0, 0, 0, 0, 0, 0, 0, 0, 0, 0, 0, 0, 0, 0, 0, 0, 0, 0, 0, 0, 0, 0, 0, 0, 0, 0, 0, 0, 0, 0, 0, 0, 0, 0, 0, 0, 0, 0, 0, 0, 0, 0, 0, 0, 0, 0, 0, 0, 0, 0, 0, 0, 0, 0, 0, 0, 1, 0, 0, 0, 0, 0, 0, 0, 0, 0, 0, 0, 0, 0, 0, 0, 0, 0, 0, 0, 0, 0, 0, 0, 0, 0, 0, 0, 0, 0, 0, 0, 0, 0, 0, 0, 0, 0, 0, 0, 0, 0, 0, 0, 0, 0, 0, 0, 0, 0, 0, 0, 0, 0, 0, 0, 0, 0, 0, 0, 0, 0, 0, 0, 0, 0, 0, 0, 0, 0, 0, 0, 0, 0, 0, 0, 0, 0, 0, 0, 0, 0, 0, 0, 0, 0, 0, 0, 0, 0, 0, 0, 0, 0, 0, 0, 0, 0, 0, 0, 0, 0, 0, 0, 0, 0, 0, 0, 0, 0, 0, 0, 0, 0, 0, 0, 0, 0, 0, 0, 0, 0, 0, 0, 0, 0, 0, 0, 0, 0, 0, 0, 0, 0, 0, 0, 0, 0, 0, 0, 0, 0, 0, 0, 0, 0, 0, 0, 0, 0, 0, 0, 0, 0, 0, 0, 0, 0, 0, 0, 0, 0, 0, 0, 0, 0, 0, 0, 0, 0, 0, 0, 0, 0, 0, 0, 0, 0, 0, 0, 0, 0, 0, 0, 0, 0, 0, 0, 0, 0, 0, 0, 0, 0, 0, 0, 0, 0, 0, 0, 0, 0, 0, 0, 0, 0, 0, 0, 0, 0, 0, 0, 0, 0, 0, 0, 0, 0, 0, 0, 0, 0, 0, 0, 0, 0, 0, 0, 0, 0, 0, 0, 0, 0, 0, 0, 0, 0, 0, 0, 0, 0, 0, 0, 0, 0, 0, 0, 0, 0, 0, 0, 0, 1, 0, 0, 0, 0, 0, 0, 0, 0, 0, 0, 0, 0, 0, 0, 0, 0, 0, 0, 0, 0, 0, 0, 0, 0, 0, 0, 0, 0, 0, 0, 0, 0, 0, 0, 0, 0, 0, 0, 0, 0, 0, 0, 0, 0, 0, 0, 0, 0, 0, 0, 0, 0, 0, 0, 0, 1, 0, 0, 0, 0, 0, 0, 0, 0, 0, 0, 0, 0, 0, 0, 0, 0, 0, 0, 0, 0, 0, 0, 0, 0, 0, 0, 0, 0, 0, 0, 0, 0, 0, 0, 0, 0, 0, 0, 0, 0, 0, 0, 0, 0, 0, 0, 0, 0, 0, 0, 0, 0, 0, 0, 0, 0, 0, 0, 0, 0, 0, 0, 0, 0, 0, 0, 0, 0, 0, 0, 0, 0, 0, 0, 0, 0, 0, 0, 0, 0, 0, 0, 0, 0, 0, 0, 0, 0, 0, 0, 0, 0, 0, 0, 0, 0, 0, 0, 0, 0, 0, 0, 0, 0, 0, 0, 0, 0, 0, 0, 0, 0, 0, 0, 0, 0, 0, 0, 0, 0, 0, 0, 0, 0, 0, 0, 0, 0, 0, 0, 0, 0, 0, 0, 0, 0, 0, 0, 0, 0, 0, 0, 0, 0, 0, 0, 0, 0, 0, 0, 0, 0, 0, 0, 0, 0, 0, 0, 0, 0, 0, 0, 0, 0, 0, 0, 0, 0, 0, 0, 0, 0, 0, 0, 0, 0, 0, 0, 0, 0, 0, 0, 0, 0, 0, 0, 0, 0, 0, 0, 0, 0, 0, 0, 0, 0, 0, 0, 0, 0, 0, 0, 0, 0, 0, 0, 0, 0, 0, 0, 0, 0, 0, 0, 0, 0, 0, 0, 0, 0, 0, 0, 0, 0, 0, 0, 0, 0, 0, 0, 0, 0, 0, 0, 0, 0, 0, 0, 0, 0, 0, 0, 0, 0, 0, 0, 0, 0, 0, 0, 0, 0, 0, 0, 0, 0, 0, 0, 0, 0, 0, 0, 0, 0, 0, 0, 0, 0, 0, 0, 0, 0, 0, 0, 0, 0, 0, 0, 0, 0, 0, 0, 0, 0, 0, 0, 0, 0, 0, 0, 0, 0, 0, 0, 0, 0, 0, 0, 0, 0, 0, 0, 0, 0, 0, 0, 0, 0, 0, 0, 0, 0, 0, 0, 0, 0, 0, 0, 0, 0, 0, 0, 0, 0, 0, 0, 0, 0, 0, 0, 0, 0, 0, 0, 0, 0, 0, 0, 0, 0, 0, 0, 0, 0, 0, 0, 0, 0, 0, 0, 0, 0, 0, 0, 0, 0, 0, 0, 0, 0, 0, 0, 0, 0, 0, 0, 0, 0, 0, 0, 0, 0, 0, 0, 0, 0, 0, 0, 0, 0, 0, 0, 0, 0, 0, 0, 0, 0, 0, 0, 0, 0, 0, 0, 0, 0, 0, 0, 0, 0, 0, 0, 0, 0, 0, 0, 0, 0, 0, 0, 0, 0, 0, 0, 0, 0, 0, 0, 0, 0, 0, 0, 0, 0, 0, 0, 0, 0, 0, 0, 0, 0, 0, 0, 0, 0, 0, 0, 0, 0, 0, 0, 0, 0, 0, 0, 0, 0, 0, 0, 0, 0, 0, 0, 0, 0, 0, 0, 0, 0, 0, 0, 0, 0, 0, 0, 0, 0, 0, 0, 0, 0, 0, 0, 0, 0, 0, 0, 0, 0, 0, 0, 0, 0, 0, 0, 0, 0, 0, 0, 0, 0, 0, 0, 0, 0, 0, 0, 0, 0, 0, 0, 0, 0, 0, 0, 0, 0, 0, 0, 0, 0, 0, 0, 0, 0, 0, 0, 0, 0, 0, 0, 0, 0, 0, 0, 0, 0, 0, 0, 0, 0, 0, 0, 0, 0, 0, 0, 0, 0, 0, 0, 0, 0, 0, 0, 0, 0, 0, 0, 0, 0, 0, 0, 0, 0, 0, 0, 0, 0, 0, 0, 0, 0, 0, 0, 0, 0, 0, 0, 0, 0, 0, 0, 0, 0, 0, 0, 0, 0, 0, 0, 0, 0, 0, 0, 0, 0, 0, 0, 0, 0, 0, 0, 0, 0, 0, 0, 0, 0, 0, 0, 0, 0, 0, 0, 0, 0, 0, 0, 0, 0, 0, 0, 0, 0, 0, 0, 0, 0, 0, 0, 0, 0, 0, 0, 0, 0, 0, 0, 0, 0, 0, 0, 0, 0, 0, 0, 0, 0, 0, 0, 0, 0, 0, 0, 0, 0, 0, 0, 0, 0, 0, 0, 0, 0, 0, 0, 0, 0, 0, 0, 0, 0, 0, 0, 0, 0, 0, 0, 0, 0, 0, 0, 0, 0, 0, 0, 0, 0, 0, 1, 0, 0, 0, 0, 0, 0, 0, 0, 0, 0, 0, 0, 0, 0, 0, 0, 0, 0, 0, 0, 0, 0, 0, 0, 0, 0, 0, 0, 0, 0, 0, 0, 0, 0, 0, 0, 0, 0, 0, 0, 0, 0, 0, 0, 0, 0, 0, 0, 0, 0, 0, 0, 0, 0, 0, 0, 0, 0, 0, 0, 0, 0, 0, 0, 0, 0, 0, 0, 0, 0, 0, 0, 0, 0, 1, 0, 0, 0, 0, 0, 0, 0, 0, 0, 0, 0, 0, 0, 0, 0, 0, 0, 0, 0, 0, 1, 0, 0, 1, 0, 0, 0, 0, 0, 0, 0, 0, 0, 0, 0, 0, 0, 0, 0, 0, 0, 0, 0, 0, 0, 0, 0, 0, 0, 0, 0, 0, 0, 0, 0, 0, 0, 0, 0, 0, 0, 0, 0, 0, 0, 0, 0, 0, 0, 0, 0, 0, 0, 0, 0, 0, 0, 0, 0, 0, 0, 0, 0, 0, 0, 0, 0, 0, 0, 0, 0, 0, 0, 0, 0, 0, 0, 0, 0, 0, 0, 0, 0, 0, 0, 0, 0, 0, 0, 0, 0, 0, 0, 0, 0, 0, 0, 0, 0, 0, 0, 0, 0, 0, 0, 0, 0, 0, 0, 0, 0, 0, 0, 0, 0, 0, 0, 0, 0, 0, 0, 0, 0, 0, 0, 0, 0, 0, 0, 0, 0, 0, 0, 0, 0, 0, 0, 0, 0, 0, 0, 0, 0, 0, 0, 0, 0, 0, 0, 0, 0, 0, 0, 0, 0, 0, 0, 0, 0, 0, 0, 0, 0, 0, 0, 0, 0, 0, 0, 0, 0, 0, 0, 0, 0, 0, 0, 0, 0, 0, 0, 0, 0, 0, 0, 0, 0, 0, 0, 0, 0, 0, 0, 0, 0, 0, 0, 0, 0, 0, 0, 0, 0, 0, 0, 0, 0, 0, 0, 0, 0, 0, 0, 0, 0, 0, 0, 0, 0, 0, 0, 0, 0, 0, 0, 0, 0, 0, 0, 0, 0, 0, 0, 0, 0, 0, 0, 0, 0, 0, 0, 0, 0, 0, 0, 0, 0, 0, 0, 0, 0, 0, 0, 0, 0, 0, 0, 0, 0, 0, 0, 0, 0, 0, 0, 0, 0, 0, 0, 0, 0, 0, 0, 0, 0, 0, 0, 0, 0, 0, 0, 0, 0, 0, 0, 0, 0, 0, 0, 0, 0, 0, 0, 0, 0, 0, 0, 0, 0, 0, 0, 0, 0, 0, 0, 0, 0, 0, 0, 0, 0, 0, 0, 0, 0, 0, 0, 0, 0, 0, 0, 0, 0, 0, 0, 0, 0, 0, 0, 0, 0, 0, 0, 0, 0, 0, 0, 0, 0, 0, 0, 0, 0, 0, 0, 0, 0, 0, 0, 0, 0, 0, 0, 0, 0, 0, 0, 0, 0, 0, 0, 0, 0, 0, 0, 0, 0, 0, 0, 0, 0, 0, 0, 0, 0, 0, 0, 0, 0, 0, 0, 0, 0, 0, 0, 0, 0, 0, 0, 0, 0, 0, 0, 0, 0, 0, 0, 0, 0, 0, 0, 0, 0, 0, 0, 0, 0, 0, 0, 0, 0, 0, 0, 0, 0, 0, 0, 0, 0, 0, 0, 0, 0, 0, 0, 0, 0, 0, 0, 0, 0, 0, 0, 0, 0, 0, 0, 0, 0, 0, 0, 0, 0, 0, 0, 0, 0, 0, 0, 0, 0, 0, 0, 0, 0, 0, 0, 0, 0, 0, 0, 0, 0, 0, 0, 0, 0, 0, 0, 0, 1, 0, 0, 0, 0, 0, 0, 0, 0, 0, 0, 0, 0, 0, 0, 0, 0, 0, 0, 0, 0, 0, 0, 0, 0, 0, 0, 0, 0, 0, 0, 0, 0, 0, 0, 0, 0, 0, 0, 0, 0, 0, 0, 0, 0, 0, 0, 0, 0, 0, 0, 0, 0, 0, 0, 0, 0, 0, 0, 0, 0, 0, 0, 0, 0, 0, 0, 0, 0, 0, 0, 0, 0, 0, 0, 0, 0, 0, 0, 0, 0, 0, 0, 0, 0, 0, 0, 0, 0, 0, 0, 0, 0, 0, 0, 0, 0, 0, 0, 0, 0, 0, 0, 0, 0, 0, 0, 0, 0, 0, 0, 0, 0, 0, 0, 0, 0, 0, 0, 0, 0, 0, 0, 0, 0, 0, 0, 0, 0, 0, 0, 0, 0, 0, 0, 0, 0, 0, 0, 0, 0, 0, 0, 0, 0, 0, 0, 0, 0, 0, 0, 0, 0, 0, 0, 0, 0, 0, 0, 0, 0, 0, 0, 0, 0, 0, 0, 0, 0, 0, 0, 0, 0, 0, 0, 0, 0, 0, 0, 0, 0, 0, 0, 0, 0, 0, 0, 0, 0, 0, 0, 0, 0, 0, 0, 0, 0, 0, 0, 0, 0, 0, 0, 0, 0, 0, 0, 0, 0, 0, 0, 0, 0, 0, 0, 0, 0, 0, 0, 0, 0, 0, 0, 0, 0, 0, 0, 0, 0, 0, 0, 0, 0, 0, 0, 0, 0, 0, 0, 0, 0, 0, 0, 0, 0, 0, 0, 0, 0, 0, 0, 0, 0, 0, 0, 0, 0, 0, 0, 0, 0, 0, 0, 0, 0, 0, 0, 0, 0, 0, 0, 0, 0, 0, 0, 0, 0, 0, 0, 0, 0, 0, 0, 0, 0, 0, 0, 0, 0, 0, 0, 0, 0, 0, 0, 0, 0, 0, 0, 0, 0, 0, 0, 0, 0, 0, 0, 0, 0, 0, 0, 0, 0, 0, 0, 0, 0, 0, 0, 0, 0, 0, 0, 0, 0, 0, 0, 0, 0, 0, 0, 0, 0, 0, 0, 0, 0, 0, 0, 0, 0, 0, 0, 0, 0, 0, 0, 0, 0, 0, 0, 0, 0, 0, 0, 0, 0, 0, 0, 0, 0, 0, 0, 0, 0, 0, 0, 0, 0, 0, 0, 0, 0, 0, 0, 0, 0, 0, 0, 0, 0, 0, 0, 0, 0, 0, 0, 0, 0, 0, 0, 0, 0, 0, 0, 0, 0, 0, 0, 0, 0, 0, 0, 0, 0, 0, 0, 0, 0, 0, 0, 0, 0, 0, 0, 0, 0, 0, 0, 0, 0, 0, 0, 0, 0, 0, 0, 0, 0, 0, 0, 0, 0, 0, 0, 0, 0, 0, 0, 0, 0, 0, 0, 0, 0, 0, 0, 0, 0, 0, 0, 0, 0, 0, 0, 0, 0, 0, 0, 0, 0, 0, 0, 0, 0, 0, 0, 0, 0, 0, 0, 0, 0, 0, 0, 0, 0, 0, 0, 0, 0, 0, 0, 0, 0, 0, 0, 0, 0, 0, 0, 0, 0, 0, 0, 0, 0, 0, 0, 0, 0, 0, 0, 0, 0, 0, 0, 0, 0, 0, 0, 0, 0, 1, 0, 0, 0, 0, 0, 0, 0, 0, 0, 0, 0, 0, 0, 0, 0, 0, 0, 0, 0, 0, 0, 0, 0, 0, 0, 0, 0, 0, 0, 0, 0, 0, 0, 0, 0, 2, 0, 0, 0, 0, 0, 0, 0, 0, 0, 0, 0, 0, 0, 0, 0, 0, 0, 0, 0, 0, 0, 0, 0, 0, 0, 0, 0, 0, 0, 0, 0, 0, 0, 0, 0, 0, 0, 0, 0, 0, 1, 0, 0, 0, 0, 0, 0, 0, 0, 0, 0, 0, 0, 0, 0, 0, 0, 0, 0, 0, 0, 0, 0, 0, 0, 0, 0, 0, 0, 0, 0, 0, 0, 0, 0, 0, 0, 0, 0, 0, 0, 0, 0, 0, 0, 0, 0, 0, 0, 0, 0, 0, 0, 0, 0, 0, 0, 0, 0, 0, 0, 0, 0, 0, 0, 0, 0, 0, 0, 0, 0, 0, 0, 0, 0, 0, 0, 0, 0, 0, 0, 0, 0, 0, 0, 0, 0, 0, 0, 0, 0, 0, 0, 0, 0, 0, 0, 0, 0, 0, 0, 0, 0, 0, 0, 0, 0, 0, 0, 0, 0, 0, 0, 0, 0, 0, 0, 0, 0, 0, 0, 0, 0, 0, 0, 0, 0, 0, 0, 0, 0, 0, 0, 0, 0, 0, 0, 0, 0, 0, 0, 0, 0, 0, 0, 0, 0, 0, 0, 0, 0, 0, 0, 0, 0, 0, 0, 0, 0, 0, 0, 0, 0, 0, 0, 0, 0, 0, 0, 0, 0, 0, 0, 0, 0, 0, 0, 0, 0, 0, 0, 0, 0, 0, 0, 0, 0, 0, 0, 0, 0, 0, 0, 0, 0, 0, 0, 0, 0, 0, 0, 0, 0, 0, 0, 0, 0, 0, 0, 0, 0, 0, 0, 0, 0, 0, 0, 0, 0, 0, 0, 0, 0, 0, 0, 0, 0, 0, 0, 0, 0, 0, 0, 0, 0, 0, 0, 0, 0, 0, 0, 0, 0, 0, 0, 0, 0, 0, 0, 0, 0, 0, 0, 0, 0, 0, 0, 0, 0, 0, 0, 0, 0, 0, 0, 0, 0, 0, 0, 0, 0, 0, 0, 0, 0, 0, 0, 0, 0, 0, 0, 0, 0, 0, 0, 0, 0, 0, 0, 0, 0, 0, 0, 0, 0, 0, 0, 0, 0, 0, 0, 0, 0, 0, 0, 0, 0, 0, 0, 0, 0, 0, 0, 0, 0, 0, 0, 0, 0, 0, 0, 0, 0, 0, 0, 0, 0, 0, 0, 0, 0, 0, 0, 0, 0, 0, 0, 0, 0, 0, 0, 0, 0, 0, 0, 0, 0, 0, 0, 0, 0, 0, 0, 0, 0, 0, 0, 0, 0, 0, 0, 0, 0, 0, 0, 0, 0, 0, 0, 0, 0, 0, 0, 0, 0, 0, 0, 0, 0, 0, 0, 0, 0, 0, 0, 0, 0, 0, 0, 0, 0, 0, 0, 0, 0, 0, 0, 0, 0, 0, 0, 0, 0, 0, 0, 0, 0, 0, 0, 0, 0, 0, 0, 0, 0, 0, 0, 0, 0, 0, 0, 0, 0, 0, 0, 0, 0, 0, 0, 0, 0, 0, 0, 0, 0, 0, 0, 0, 0, 0, 0, 0, 0, 0, 0, 0, 0, 0, 0, 0, 0, 0, 0, 0, 0, 0, 0, 0, 0, 0, 0, 0, 0, 0, 0, 0, 0, 0, 0, 0, 0, 0, 0, 0, 0, 0, 0, 0, 0, 0, 0, 0, 0, 0, 0, 0, 0, 0, 0, 0, 0, 0, 0, 0, 0, 0, 0, 0, 1, 0, 0, 0, 0, 0, 0, 0, 0, 0, 0, 0, 0, 0, 0, 0, 0, 0, 0, 0, 0, 0, 0, 0, 0, 0, 0, 0, 0, 0, 0, 0, 0, 0, 0, 0, 0, 0, 0, 0, 0, 0, 0, 0, 0, 0, 0, 0, 0, 0, 0, 0, 0, 0, 0, 0, 0, 0, 0, 0, 0, 0, 0, 0, 0, 0, 0, 0, 0, 0, 0, 0, 0, 0, 0, 0, 0, 0, 0, 0, 0, 0, 0, 0, 0, 0, 0, 0, 0, 0, 0, 0, 0, 0, 0, 0, 0, 0, 0, 0, 0, 0, 0, 0, 0, 0, 0, 0, 0, 0, 0, 2, 0, 0, 0, 0, 0, 0, 0, 0, 0, 0, 0, 0, 0, 0, 0, 0, 0, 0, 0, 0, 0, 0, 0, 0, 0, 0, 0, 0, 0, 0, 0, 0, 0, 0, 0, 0, 0, 0, 0, 0, 0, 0, 0, 0, 0, 0, 0, 0, 0, 0, 0, 0, 0, 0, 0, 0, 0, 0, 0, 0, 0, 0, 0, 0, 0, 0, 0, 0, 0, 0, 0, 0, 0, 0, 0, 0, 0, 0, 0, 0, 0, 0, 0, 0, 0, 0, 0, 0, 0, 0, 0, 0, 0, 0, 0, 0, 0, 0, 0, 0, 0, 0, 0, 0, 0, 0, 0, 0, 0, 0, 0, 0, 0, 0, 0, 0, 0, 0, 0, 0, 0, 0, 0, 0, 0, 0, 0, 0, 0, 0, 0, 0, 0, 0, 0, 0, 0, 0, 0, 0, 0, 0, 0, 0, 0, 0, 0, 0, 0, 0, 0, 0, 0, 0, 0, 0, 0, 0, 0, 0, 0, 0, 0, 0, 0, 0, 0, 0, 0, 0, 0, 0, 0, 0, 0, 0, 0, 0, 0, 0, 0, 0, 0, 0, 0, 0, 0, 0, 0, 0, 0, 0, 0, 0, 0, 0, 0, 0, 0, 0, 0, 0, 0, 0, 0, 0, 0, 0, 0, 0, 0, 0, 0, 0, 0, 0, 0, 0, 0, 0, 0, 0, 0, 0, 0, 0, 0, 0, 0, 0, 0, 0, 0, 0, 0, 0, 0, 0, 0, 0, 0, 0, 0, 0, 0, 0, 0, 0, 0, 0, 0, 0, 0, 0, 0, 0, 0, 0, 0, 0, 0, 0, 0, 0, 0, 0, 0, 0, 0, 0, 0, 0, 0, 0, 0, 0, 0, 0, 0, 0, 0, 0, 0, 0, 0, 0, 0, 0, 0, 0, 0, 0, 0, 0, 0, 0, 0, 0, 0, 0, 0, 0, 0, 0, 0, 0, 0, 0, 0, 0, 0, 0, 0, 0, 0, 0, 0, 0, 0, 0, 0, 0, 0, 0, 0, 0, 0, 0, 0, 0, 0, 0, 0, 0, 0, 0, 0, 0, 0, 0, 0, 0, 0, 0, 0, 0, 0, 0, 0, 0, 0, 0, 0, 0, 0, 0, 0, 0, 0, 0, 0, 0, 0, 0, 0, 0, 0, 0, 0, 0, 0, 0, 0, 0, 0, 0, 0, 0, 0, 0, 0, 0, 0, 0, 0, 0, 0, 0, 0, 0, 0, 0, 0, 0, 0, 0, 0, 0, 0, 0, 0, 0, 0, 0, 0, 0, 0, 0, 0, 0, 0, 0, 0, 0, 0, 0, 0, 0, 0, 0, 0, 0, 0, 0, 0, 0, 0, 0, 0, 0, 0, 0, 0, 0, 0, 0, 0, 0, 0, 0, 0, 0, 0, 0, 0, 0, 0, 0, 0, 0, 0, 0, 0, 0, 0, 0, 0, 0, 0, 0, 0, 0, 0, 0, 0, 0, 0, 0, 0, 0, 0, 0, 0, 0, 0, 0, 0, 0, 0, 0, 0, 0, 0, 0, 0, 0, 0, 0, 0, 0, 0, 0, 0, 0, 0, 0, 0, 0, 0, 0, 0, 0, 0, 0, 0, 0, 0, 0, 0, 0, 0, 0, 0, 0, 0, 0, 0, 0, 0, 0, 0, 0, 0, 0, 0, 0, 0, 0, 0, 0, 0, 0, 0, 0, 0, 0, 0, 0, 0, 0, 0, 0, 0, 0, 0, 0, 0, 0, 0, 0, 0, 0, 0, 0, 0, 0, 0, 0, 0, 0, 0, 0, 0, 0, 0, 0, 0, 0, 0, 0, 0, 0, 0, 0, 0, 0, 0, 0, 0, 0, 0, 0, 0, 0, 0, 0, 0, 0, 0, 0, 0, 0, 0, 0, 0, 0, 0, 0, 0, 0, 0, 0, 0, 0, 0, 0, 0, 0, 0, 0, 0, 0, 0, 0, 0, 0, 0, 0, 0, 0, 0, 0, 0, 0, 0, 0, 0, 0, 0, 0, 0, 0, 0, 0, 0, 0, 0, 0, 0, 0, 0, 0, 0, 0, 0, 0, 0, 0, 0, 0, 0, 0, 0, 0, 0, 0, 0, 0, 0, 0, 0, 0, 0, 0, 0, 0, 0, 0, 0, 0, 0, 0, 0, 0, 0, 0, 0, 0, 0, 0, 0, 0, 0, 0, 0, 0, 0, 0, 0, 0, 1, 0, 0, 0, 0, 0, 0, 0, 0, 0, 0, 0, 0, 0, 0, 0, 0, 0, 0, 0, 0, 0, 0, 0, 0, 0, 0, 0, 0, 0, 0, 0, 0, 0, 0, 0, 0, 0, 0, 0, 0, 0, 0, 0, 0, 0, 0, 0, 0, 0, 0, 0, 0, 0, 0, 0, 0, 0, 0, 0, 0, 0, 0, 0, 0, 0, 0, 0, 0, 0, 0, 0, 0, 0, 0, 0, 0, 0, 0, 0, 0, 0, 0, 0, 0, 0, 0, 0, 0, 0, 0, 0, 0, 0, 0, 0, 0, 0, 0, 0, 0, 0, 0, 0, 0, 0, 0, 0, 1, 0, 0, 0, 0, 0, 0, 0, 0, 0, 0, 0, 0, 0, 0, 0, 0, 0, 0, 0, 0, 0, 0, 0, 0, 0, 0, 0, 0, 0, 0, 0, 0, 0, 0, 0, 0, 0, 0, 0, 0, 0, 0, 0, 0, 0, 0, 0, 0, 0, 0, 0, 0, 0, 0, 0, 0, 0, 0, 0, 0, 0, 0, 0, 0, 0, 0, 0, 0, 0, 0, 0, 0, 0, 0, 0, 0, 0, 0, 0, 0, 0, 0, 0, 0, 0, 0, 0, 0, 0, 0, 0, 0, 0, 0, 0, 0, 0, 0, 0, 0, 0, 0, 0, 0, 0, 0, 0, 0, 0, 0, 0, 0, 0, 0, 0, 0, 0, 0, 0, 0, 0, 0, 0, 0, 0, 0, 0, 0, 0, 0, 0, 0, 0, 0, 0, 0, 0, 0, 0, 0, 0, 0, 0, 0, 0, 0, 0, 0, 0, 0, 0, 0, 0, 0, 0, 0, 0, 0, 0, 0, 0, 0, 0, 0, 0, 0, 0, 0, 0, 0, 0, 0, 0, 0, 0, 0, 0, 0, 0, 0, 0, 0, 0, 0, 0, 0, 0, 0, 0, 0, 0, 0, 0, 0, 0, 0, 0, 0, 0, 0, 0, 0, 0, 0, 0, 0, 0, 0, 0, 0, 0, 0, 0, 0, 0, 0, 0, 0, 0, 0, 0, 0, 0, 0, 0, 0, 0, 0, 0, 0, 0, 0, 0, 0, 0, 0, 0, 0, 0, 0, 0, 0, 0, 0, 0, 0, 0, 0, 0, 0, 0, 0, 0, 0, 0, 0, 0, 0, 0, 0, 0, 0, 0, 0, 0, 0, 0, 0, 0, 0, 0, 0, 0, 0, 0, 0, 0, 0, 0, 0, 0, 0, 0, 0, 0, 0, 0, 0, 0, 0, 0, 0, 0, 0, 0, 0, 0, 0, 0, 0, 0, 0, 0, 0, 0, 0, 0, 0, 0, 0, 0, 0, 0, 0, 0, 0, 0, 0, 0, 0, 0, 0, 0, 0, 0, 0, 0, 0, 0, 0, 0, 0, 0, 0, 0, 0, 0, 0, 0, 0, 0, 0, 0, 0, 0, 0, 0, 0, 0, 0, 0, 0, 0, 0, 0, 0, 0, 0, 0, 0, 0, 0, 0, 0, 0, 0, 0, 0, 0, 0, 0, 0, 0, 0, 0, 0, 0, 0, 0, 0, 0, 0, 0, 0, 0, 0, 0, 0, 0, 0, 0, 0, 0, 0, 0, 0, 0, 0, 0, 0, 0, 0, 0, 0, 0, 0, 0, 0, 0, 0, 0, 0, 0, 0, 0, 0, 0, 0, 0, 0, 0, 0, 0, 0, 0, 0, 0, 0, 0, 0, 0, 0, 0, 0, 0, 0, 0, 0, 0, 0, 0, 0, 0, 0, 0, 0, 0, 0, 0, 0, 0, 0, 0, 0, 0, 0, 0, 0, 0, 0, 0, 0, 0, 2, 0, 1, 0], type: <class 'list'>, valid types: <class 'bytes'>, <class 'bytearray'>, file-like object",
     "output_type": "error",
     "traceback": [
      "\u001b[0;31m---------------------------------------------------------------------------\u001b[0m",
      "\u001b[0;31mParamValidationError\u001b[0m                      Traceback (most recent call last)",
      "\u001b[0;32m<ipython-input-67-c9ab54ae3a48>\u001b[0m in \u001b[0;36m<module>\u001b[0;34m\u001b[0m\n\u001b[1;32m      1\u001b[0m response = runtime.invoke_endpoint(EndpointName = xgb_predictor.endpoint, # The name of the endpoint we created\n\u001b[1;32m      2\u001b[0m                                        \u001b[0mContentType\u001b[0m \u001b[0;34m=\u001b[0m \u001b[0;34m'text/csv'\u001b[0m\u001b[0;34m,\u001b[0m                     \u001b[0;31m# The data format that is expected\u001b[0m\u001b[0;34m\u001b[0m\u001b[0;34m\u001b[0m\u001b[0m\n\u001b[0;32m----> 3\u001b[0;31m                                        Body = test_bow)\n\u001b[0m",
      "\u001b[0;32m~/anaconda3/envs/python3/lib/python3.6/site-packages/botocore/client.py\u001b[0m in \u001b[0;36m_api_call\u001b[0;34m(self, *args, **kwargs)\u001b[0m\n\u001b[1;32m    413\u001b[0m                     \"%s() only accepts keyword arguments.\" % py_operation_name)\n\u001b[1;32m    414\u001b[0m             \u001b[0;31m# The \"self\" in this scope is referring to the BaseClient.\u001b[0m\u001b[0;34m\u001b[0m\u001b[0;34m\u001b[0m\u001b[0;34m\u001b[0m\u001b[0m\n\u001b[0;32m--> 415\u001b[0;31m             \u001b[0;32mreturn\u001b[0m \u001b[0mself\u001b[0m\u001b[0;34m.\u001b[0m\u001b[0m_make_api_call\u001b[0m\u001b[0;34m(\u001b[0m\u001b[0moperation_name\u001b[0m\u001b[0;34m,\u001b[0m \u001b[0mkwargs\u001b[0m\u001b[0;34m)\u001b[0m\u001b[0;34m\u001b[0m\u001b[0;34m\u001b[0m\u001b[0m\n\u001b[0m\u001b[1;32m    416\u001b[0m \u001b[0;34m\u001b[0m\u001b[0m\n\u001b[1;32m    417\u001b[0m         \u001b[0m_api_call\u001b[0m\u001b[0;34m.\u001b[0m\u001b[0m__name__\u001b[0m \u001b[0;34m=\u001b[0m \u001b[0mstr\u001b[0m\u001b[0;34m(\u001b[0m\u001b[0mpy_operation_name\u001b[0m\u001b[0;34m)\u001b[0m\u001b[0;34m\u001b[0m\u001b[0;34m\u001b[0m\u001b[0m\n",
      "\u001b[0;32m~/anaconda3/envs/python3/lib/python3.6/site-packages/botocore/client.py\u001b[0m in \u001b[0;36m_make_api_call\u001b[0;34m(self, operation_name, api_params)\u001b[0m\n\u001b[1;32m    714\u001b[0m         }\n\u001b[1;32m    715\u001b[0m         request_dict = self._convert_to_request_dict(\n\u001b[0;32m--> 716\u001b[0;31m             api_params, operation_model, context=request_context)\n\u001b[0m\u001b[1;32m    717\u001b[0m         \u001b[0mresolve_checksum_context\u001b[0m\u001b[0;34m(\u001b[0m\u001b[0mrequest_dict\u001b[0m\u001b[0;34m,\u001b[0m \u001b[0moperation_model\u001b[0m\u001b[0;34m,\u001b[0m \u001b[0mapi_params\u001b[0m\u001b[0;34m)\u001b[0m\u001b[0;34m\u001b[0m\u001b[0;34m\u001b[0m\u001b[0m\n\u001b[1;32m    718\u001b[0m \u001b[0;34m\u001b[0m\u001b[0m\n",
      "\u001b[0;32m~/anaconda3/envs/python3/lib/python3.6/site-packages/botocore/client.py\u001b[0m in \u001b[0;36m_convert_to_request_dict\u001b[0;34m(self, api_params, operation_model, context)\u001b[0m\n\u001b[1;32m    764\u001b[0m             api_params, operation_model, context)\n\u001b[1;32m    765\u001b[0m         request_dict = self._serializer.serialize_to_request(\n\u001b[0;32m--> 766\u001b[0;31m             api_params, operation_model)\n\u001b[0m\u001b[1;32m    767\u001b[0m         \u001b[0;32mif\u001b[0m \u001b[0;32mnot\u001b[0m \u001b[0mself\u001b[0m\u001b[0;34m.\u001b[0m\u001b[0m_client_config\u001b[0m\u001b[0;34m.\u001b[0m\u001b[0minject_host_prefix\u001b[0m\u001b[0;34m:\u001b[0m\u001b[0;34m\u001b[0m\u001b[0;34m\u001b[0m\u001b[0m\n\u001b[1;32m    768\u001b[0m             \u001b[0mrequest_dict\u001b[0m\u001b[0;34m.\u001b[0m\u001b[0mpop\u001b[0m\u001b[0;34m(\u001b[0m\u001b[0;34m'host_prefix'\u001b[0m\u001b[0;34m,\u001b[0m \u001b[0;32mNone\u001b[0m\u001b[0;34m)\u001b[0m\u001b[0;34m\u001b[0m\u001b[0;34m\u001b[0m\u001b[0m\n",
      "\u001b[0;32m~/anaconda3/envs/python3/lib/python3.6/site-packages/botocore/validate.py\u001b[0m in \u001b[0;36mserialize_to_request\u001b[0;34m(self, parameters, operation_model)\u001b[0m\n\u001b[1;32m    357\u001b[0m                                                     operation_model.input_shape)\n\u001b[1;32m    358\u001b[0m             \u001b[0;32mif\u001b[0m \u001b[0mreport\u001b[0m\u001b[0;34m.\u001b[0m\u001b[0mhas_errors\u001b[0m\u001b[0;34m(\u001b[0m\u001b[0;34m)\u001b[0m\u001b[0;34m:\u001b[0m\u001b[0;34m\u001b[0m\u001b[0;34m\u001b[0m\u001b[0m\n\u001b[0;32m--> 359\u001b[0;31m                 \u001b[0;32mraise\u001b[0m \u001b[0mParamValidationError\u001b[0m\u001b[0;34m(\u001b[0m\u001b[0mreport\u001b[0m\u001b[0;34m=\u001b[0m\u001b[0mreport\u001b[0m\u001b[0;34m.\u001b[0m\u001b[0mgenerate_report\u001b[0m\u001b[0;34m(\u001b[0m\u001b[0;34m)\u001b[0m\u001b[0;34m)\u001b[0m\u001b[0;34m\u001b[0m\u001b[0;34m\u001b[0m\u001b[0m\n\u001b[0m\u001b[1;32m    360\u001b[0m         return self._serializer.serialize_to_request(parameters,\n\u001b[1;32m    361\u001b[0m                                                      operation_model)\n",
      "\u001b[0;31mParamValidationError\u001b[0m: Parameter validation failed:\nInvalid type for parameter Body, value: [0, 0, 0, 0, 0, 0, 0, 0, 0, 0, 0, 0, 0, 0, 0, 0, 0, 0, 0, 0, 0, 0, 0, 0, 0, 0, 0, 0, 0, 0, 0, 0, 0, 0, 0, 0, 0, 0, 0, 0, 0, 0, 0, 0, 0, 0, 0, 0, 0, 0, 0, 0, 0, 0, 0, 0, 0, 0, 0, 0, 0, 0, 0, 0, 0, 0, 0, 0, 0, 0, 0, 0, 0, 0, 0, 0, 0, 0, 0, 0, 0, 0, 0, 0, 0, 0, 0, 0, 0, 0, 0, 0, 0, 0, 0, 0, 0, 0, 0, 0, 0, 0, 0, 0, 0, 0, 0, 0, 0, 0, 0, 0, 0, 0, 0, 0, 0, 0, 0, 0, 0, 0, 0, 0, 0, 0, 0, 0, 0, 0, 0, 0, 0, 0, 0, 0, 0, 0, 0, 0, 0, 0, 0, 0, 0, 0, 0, 0, 0, 0, 0, 0, 0, 0, 0, 0, 0, 0, 0, 0, 0, 0, 0, 0, 0, 0, 0, 0, 0, 0, 0, 0, 0, 0, 0, 0, 0, 0, 0, 0, 0, 0, 0, 0, 0, 0, 0, 0, 0, 0, 0, 0, 0, 0, 0, 0, 0, 0, 0, 0, 0, 0, 0, 0, 0, 0, 0, 0, 0, 0, 0, 0, 0, 0, 0, 0, 0, 0, 0, 0, 0, 0, 0, 0, 0, 0, 1, 0, 0, 0, 0, 0, 0, 0, 0, 0, 0, 0, 0, 0, 0, 0, 0, 0, 0, 0, 0, 0, 0, 0, 0, 0, 0, 0, 0, 0, 1, 0, 0, 0, 0, 0, 0, 0, 0, 0, 0, 0, 0, 0, 0, 0, 0, 0, 0, 0, 0, 0, 0, 0, 0, 0, 0, 0, 0, 0, 0, 0, 0, 0, 0, 0, 0, 0, 0, 0, 0, 0, 0, 0, 0, 0, 0, 0, 0, 0, 0, 0, 0, 0, 0, 0, 0, 0, 0, 0, 0, 0, 0, 0, 0, 0, 0, 0, 0, 0, 0, 0, 0, 0, 0, 0, 0, 0, 0, 0, 0, 0, 0, 0, 0, 0, 0, 0, 0, 0, 0, 0, 0, 0, 0, 0, 0, 0, 0, 0, 0, 0, 0, 0, 0, 0, 0, 0, 0, 0, 0, 0, 0, 0, 0, 0, 0, 0, 0, 0, 0, 0, 0, 0, 0, 0, 0, 0, 0, 0, 0, 0, 0, 0, 0, 0, 0, 0, 0, 0, 0, 0, 0, 0, 0, 0, 0, 0, 0, 0, 0, 0, 0, 0, 0, 0, 0, 0, 0, 0, 0, 0, 0, 0, 0, 0, 0, 0, 0, 0, 0, 0, 0, 0, 0, 0, 0, 0, 0, 0, 0, 0, 0, 0, 0, 0, 0, 0, 0, 0, 0, 0, 0, 0, 0, 0, 0, 0, 0, 0, 0, 0, 0, 0, 0, 0, 0, 0, 0, 0, 0, 0, 0, 0, 0, 0, 0, 0, 0, 0, 0, 0, 0, 0, 0, 0, 0, 0, 0, 0, 0, 0, 0, 0, 0, 0, 0, 0, 0, 0, 0, 0, 0, 0, 0, 0, 0, 0, 0, 0, 0, 0, 0, 0, 0, 0, 0, 0, 0, 0, 0, 0, 0, 0, 0, 0, 0, 0, 0, 0, 0, 0, 0, 0, 0, 0, 0, 0, 0, 0, 0, 0, 0, 0, 0, 0, 0, 0, 0, 0, 0, 0, 0, 0, 0, 0, 0, 0, 0, 0, 0, 0, 0, 0, 0, 0, 0, 0, 0, 0, 0, 0, 0, 0, 0, 0, 0, 0, 0, 0, 0, 0, 0, 0, 0, 0, 0, 0, 0, 0, 0, 0, 0, 0, 0, 0, 0, 0, 0, 0, 0, 0, 0, 0, 0, 0, 0, 0, 0, 0, 0, 0, 0, 0, 0, 0, 0, 0, 0, 0, 0, 0, 0, 0, 0, 0, 0, 0, 0, 0, 0, 0, 0, 0, 0, 0, 0, 0, 0, 0, 1, 0, 0, 0, 0, 0, 0, 0, 0, 0, 0, 0, 0, 0, 0, 0, 0, 0, 0, 0, 0, 0, 0, 0, 0, 0, 0, 0, 0, 0, 0, 0, 0, 0, 0, 0, 0, 0, 0, 0, 0, 0, 0, 0, 0, 0, 0, 0, 0, 0, 0, 0, 0, 0, 0, 0, 0, 0, 0, 0, 0, 0, 0, 0, 0, 0, 0, 0, 0, 0, 0, 0, 0, 0, 0, 0, 0, 0, 0, 0, 0, 0, 0, 0, 0, 0, 0, 0, 0, 0, 0, 0, 0, 0, 0, 0, 0, 0, 0, 0, 0, 0, 0, 0, 0, 0, 0, 0, 0, 0, 0, 0, 0, 0, 0, 0, 0, 0, 0, 0, 0, 0, 0, 0, 0, 0, 0, 0, 0, 0, 0, 0, 0, 0, 0, 0, 0, 0, 0, 0, 0, 0, 0, 0, 0, 0, 0, 0, 0, 0, 0, 0, 0, 0, 0, 0, 0, 0, 0, 0, 0, 0, 0, 0, 0, 0, 0, 0, 0, 0, 0, 0, 0, 0, 0, 0, 0, 0, 0, 0, 0, 0, 0, 0, 0, 0, 0, 0, 0, 0, 0, 0, 0, 0, 0, 0, 0, 0, 0, 0, 0, 0, 0, 0, 0, 0, 0, 0, 0, 0, 0, 0, 0, 0, 0, 0, 0, 0, 0, 0, 0, 0, 0, 0, 0, 0, 0, 0, 0, 0, 0, 0, 0, 0, 0, 0, 0, 0, 0, 0, 0, 0, 0, 0, 0, 0, 0, 0, 0, 0, 0, 0, 0, 0, 1, 0, 0, 0, 0, 0, 0, 0, 0, 0, 0, 0, 0, 0, 0, 0, 0, 0, 0, 0, 0, 0, 0, 0, 0, 0, 0, 0, 0, 0, 0, 0, 0, 0, 0, 0, 0, 0, 0, 0, 0, 0, 0, 0, 0, 0, 0, 0, 0, 0, 0, 0, 0, 0, 0, 0, 0, 0, 0, 0, 0, 0, 0, 0, 0, 0, 0, 0, 0, 0, 0, 0, 0, 0, 0, 0, 0, 0, 0, 0, 0, 0, 0, 0, 0, 0, 0, 1, 0, 0, 0, 0, 0, 0, 0, 0, 0, 0, 0, 0, 0, 0, 0, 0, 0, 0, 0, 0, 0, 0, 0, 0, 0, 0, 0, 0, 0, 0, 0, 0, 0, 0, 0, 0, 0, 0, 0, 0, 0, 0, 0, 0, 0, 0, 0, 0, 0, 0, 0, 0, 0, 0, 0, 0, 0, 0, 0, 0, 0, 0, 0, 0, 0, 0, 0, 0, 0, 0, 0, 0, 0, 0, 0, 0, 0, 0, 0, 0, 0, 0, 0, 0, 0, 0, 0, 0, 0, 0, 0, 0, 0, 0, 0, 0, 0, 0, 0, 0, 0, 0, 0, 0, 0, 0, 0, 0, 0, 0, 0, 0, 0, 0, 0, 0, 0, 0, 0, 0, 0, 0, 0, 0, 0, 0, 0, 0, 0, 0, 0, 0, 0, 0, 0, 0, 0, 0, 0, 0, 0, 0, 0, 0, 0, 0, 0, 0, 0, 0, 0, 0, 0, 0, 0, 0, 0, 0, 0, 0, 0, 0, 0, 0, 0, 0, 0, 0, 0, 0, 0, 0, 0, 0, 0, 0, 0, 0, 0, 0, 0, 0, 0, 0, 0, 0, 0, 0, 0, 0, 0, 0, 0, 0, 0, 0, 0, 0, 0, 0, 0, 0, 0, 0, 0, 0, 0, 0, 0, 0, 0, 0, 0, 0, 0, 0, 0, 0, 0, 0, 0, 0, 0, 0, 0, 0, 0, 0, 0, 0, 0, 0, 0, 0, 0, 0, 0, 0, 0, 0, 0, 0, 0, 0, 0, 0, 0, 0, 0, 0, 0, 0, 1, 0, 0, 0, 0, 0, 0, 0, 0, 0, 0, 0, 0, 0, 0, 0, 0, 0, 0, 0, 0, 0, 0, 0, 0, 0, 0, 0, 0, 0, 0, 0, 0, 0, 0, 0, 0, 0, 0, 0, 0, 0, 0, 0, 0, 0, 0, 0, 0, 0, 0, 0, 0, 0, 0, 0, 1, 0, 0, 0, 0, 0, 0, 0, 0, 0, 0, 0, 0, 0, 0, 0, 0, 0, 0, 0, 0, 0, 0, 0, 0, 0, 0, 0, 0, 0, 0, 0, 0, 0, 0, 0, 0, 0, 0, 0, 0, 0, 0, 0, 0, 0, 0, 0, 0, 0, 0, 0, 0, 0, 0, 0, 0, 0, 0, 0, 0, 0, 0, 0, 0, 0, 0, 0, 0, 0, 0, 0, 0, 0, 0, 0, 0, 0, 0, 0, 0, 0, 0, 0, 0, 0, 0, 0, 0, 0, 0, 0, 0, 0, 0, 0, 0, 0, 0, 0, 0, 0, 0, 0, 0, 0, 0, 0, 0, 0, 0, 0, 0, 0, 0, 0, 0, 0, 0, 0, 0, 0, 0, 0, 0, 0, 0, 0, 0, 0, 0, 0, 0, 0, 0, 0, 0, 0, 0, 0, 0, 0, 0, 0, 0, 0, 0, 0, 0, 0, 0, 0, 0, 0, 0, 0, 0, 0, 0, 0, 0, 0, 0, 0, 0, 0, 0, 0, 0, 0, 0, 0, 0, 0, 0, 0, 0, 0, 0, 0, 0, 0, 0, 0, 0, 0, 0, 0, 0, 0, 0, 0, 0, 0, 0, 0, 0, 0, 0, 0, 0, 0, 0, 0, 0, 0, 0, 0, 0, 0, 0, 0, 0, 0, 0, 0, 0, 0, 0, 0, 0, 0, 0, 0, 0, 0, 0, 0, 0, 0, 0, 0, 0, 0, 0, 0, 0, 0, 0, 0, 0, 0, 0, 0, 0, 0, 0, 0, 0, 0, 0, 0, 0, 0, 0, 0, 0, 0, 0, 0, 0, 0, 0, 0, 0, 0, 0, 0, 0, 0, 0, 0, 0, 0, 0, 0, 0, 0, 0, 0, 0, 0, 0, 0, 0, 0, 0, 0, 0, 0, 0, 0, 0, 0, 0, 0, 0, 0, 0, 0, 0, 0, 0, 0, 0, 0, 0, 0, 0, 0, 0, 0, 0, 0, 0, 0, 0, 0, 0, 0, 0, 0, 0, 0, 0, 0, 0, 0, 0, 0, 0, 0, 0, 0, 0, 0, 0, 0, 0, 0, 0, 0, 0, 0, 0, 0, 0, 0, 0, 0, 0, 0, 0, 0, 0, 0, 0, 0, 0, 0, 0, 0, 0, 0, 0, 0, 0, 0, 0, 0, 0, 0, 0, 0, 0, 0, 0, 0, 0, 0, 0, 0, 0, 0, 0, 0, 0, 0, 0, 0, 0, 0, 0, 0, 0, 0, 0, 0, 0, 0, 0, 0, 0, 0, 0, 0, 0, 0, 0, 0, 0, 0, 0, 0, 0, 0, 0, 0, 0, 0, 0, 0, 0, 0, 0, 0, 0, 0, 0, 0, 0, 0, 0, 0, 0, 0, 0, 0, 0, 0, 0, 0, 0, 0, 0, 0, 0, 0, 0, 0, 0, 0, 0, 0, 0, 0, 0, 0, 0, 0, 0, 0, 0, 0, 0, 0, 0, 0, 0, 0, 0, 0, 0, 0, 0, 0, 0, 0, 0, 0, 0, 0, 0, 0, 0, 0, 0, 0, 0, 0, 0, 0, 0, 0, 0, 0, 0, 0, 0, 0, 0, 0, 0, 0, 0, 0, 0, 0, 0, 0, 0, 0, 0, 0, 0, 0, 0, 0, 0, 0, 0, 0, 0, 0, 0, 0, 0, 0, 0, 0, 0, 0, 0, 0, 0, 0, 0, 0, 0, 0, 0, 0, 0, 0, 0, 0, 0, 0, 0, 0, 0, 0, 0, 0, 0, 0, 0, 0, 0, 0, 0, 0, 0, 0, 0, 0, 0, 0, 0, 0, 0, 0, 0, 0, 0, 0, 0, 0, 0, 0, 0, 0, 0, 0, 0, 0, 0, 0, 0, 0, 0, 0, 0, 0, 0, 0, 0, 0, 0, 0, 0, 0, 0, 0, 0, 0, 0, 0, 0, 0, 0, 0, 0, 0, 0, 0, 0, 0, 0, 0, 0, 0, 0, 0, 0, 0, 0, 0, 0, 0, 0, 0, 0, 0, 0, 0, 0, 0, 0, 0, 0, 0, 0, 0, 0, 0, 0, 0, 0, 0, 0, 0, 0, 0, 0, 0, 0, 0, 0, 0, 0, 0, 0, 0, 0, 0, 0, 0, 0, 0, 0, 0, 0, 0, 0, 0, 0, 0, 0, 0, 0, 0, 1, 0, 0, 0, 0, 0, 0, 0, 0, 0, 0, 0, 0, 0, 0, 0, 0, 0, 0, 0, 0, 0, 0, 0, 0, 0, 0, 0, 0, 0, 0, 0, 0, 0, 0, 0, 0, 0, 0, 0, 0, 0, 0, 0, 0, 0, 0, 0, 0, 0, 0, 0, 0, 0, 0, 0, 0, 0, 0, 0, 0, 0, 0, 0, 0, 0, 0, 0, 0, 0, 0, 0, 0, 0, 0, 1, 0, 0, 0, 0, 0, 0, 0, 0, 0, 0, 0, 0, 0, 0, 0, 0, 0, 0, 0, 0, 1, 0, 0, 1, 0, 0, 0, 0, 0, 0, 0, 0, 0, 0, 0, 0, 0, 0, 0, 0, 0, 0, 0, 0, 0, 0, 0, 0, 0, 0, 0, 0, 0, 0, 0, 0, 0, 0, 0, 0, 0, 0, 0, 0, 0, 0, 0, 0, 0, 0, 0, 0, 0, 0, 0, 0, 0, 0, 0, 0, 0, 0, 0, 0, 0, 0, 0, 0, 0, 0, 0, 0, 0, 0, 0, 0, 0, 0, 0, 0, 0, 0, 0, 0, 0, 0, 0, 0, 0, 0, 0, 0, 0, 0, 0, 0, 0, 0, 0, 0, 0, 0, 0, 0, 0, 0, 0, 0, 0, 0, 0, 0, 0, 0, 0, 0, 0, 0, 0, 0, 0, 0, 0, 0, 0, 0, 0, 0, 0, 0, 0, 0, 0, 0, 0, 0, 0, 0, 0, 0, 0, 0, 0, 0, 0, 0, 0, 0, 0, 0, 0, 0, 0, 0, 0, 0, 0, 0, 0, 0, 0, 0, 0, 0, 0, 0, 0, 0, 0, 0, 0, 0, 0, 0, 0, 0, 0, 0, 0, 0, 0, 0, 0, 0, 0, 0, 0, 0, 0, 0, 0, 0, 0, 0, 0, 0, 0, 0, 0, 0, 0, 0, 0, 0, 0, 0, 0, 0, 0, 0, 0, 0, 0, 0, 0, 0, 0, 0, 0, 0, 0, 0, 0, 0, 0, 0, 0, 0, 0, 0, 0, 0, 0, 0, 0, 0, 0, 0, 0, 0, 0, 0, 0, 0, 0, 0, 0, 0, 0, 0, 0, 0, 0, 0, 0, 0, 0, 0, 0, 0, 0, 0, 0, 0, 0, 0, 0, 0, 0, 0, 0, 0, 0, 0, 0, 0, 0, 0, 0, 0, 0, 0, 0, 0, 0, 0, 0, 0, 0, 0, 0, 0, 0, 0, 0, 0, 0, 0, 0, 0, 0, 0, 0, 0, 0, 0, 0, 0, 0, 0, 0, 0, 0, 0, 0, 0, 0, 0, 0, 0, 0, 0, 0, 0, 0, 0, 0, 0, 0, 0, 0, 0, 0, 0, 0, 0, 0, 0, 0, 0, 0, 0, 0, 0, 0, 0, 0, 0, 0, 0, 0, 0, 0, 0, 0, 0, 0, 0, 0, 0, 0, 0, 0, 0, 0, 0, 0, 0, 0, 0, 0, 0, 0, 0, 0, 0, 0, 0, 0, 0, 0, 0, 0, 0, 0, 0, 0, 0, 0, 0, 0, 0, 0, 0, 0, 0, 0, 0, 0, 0, 0, 0, 0, 0, 0, 0, 0, 0, 0, 0, 0, 0, 0, 0, 0, 0, 0, 0, 0, 0, 0, 0, 0, 0, 0, 0, 0, 0, 0, 0, 0, 0, 0, 0, 0, 0, 0, 0, 0, 0, 0, 0, 0, 0, 0, 0, 0, 0, 0, 0, 0, 0, 0, 0, 0, 0, 0, 0, 0, 0, 0, 0, 0, 0, 0, 0, 0, 0, 0, 0, 1, 0, 0, 0, 0, 0, 0, 0, 0, 0, 0, 0, 0, 0, 0, 0, 0, 0, 0, 0, 0, 0, 0, 0, 0, 0, 0, 0, 0, 0, 0, 0, 0, 0, 0, 0, 0, 0, 0, 0, 0, 0, 0, 0, 0, 0, 0, 0, 0, 0, 0, 0, 0, 0, 0, 0, 0, 0, 0, 0, 0, 0, 0, 0, 0, 0, 0, 0, 0, 0, 0, 0, 0, 0, 0, 0, 0, 0, 0, 0, 0, 0, 0, 0, 0, 0, 0, 0, 0, 0, 0, 0, 0, 0, 0, 0, 0, 0, 0, 0, 0, 0, 0, 0, 0, 0, 0, 0, 0, 0, 0, 0, 0, 0, 0, 0, 0, 0, 0, 0, 0, 0, 0, 0, 0, 0, 0, 0, 0, 0, 0, 0, 0, 0, 0, 0, 0, 0, 0, 0, 0, 0, 0, 0, 0, 0, 0, 0, 0, 0, 0, 0, 0, 0, 0, 0, 0, 0, 0, 0, 0, 0, 0, 0, 0, 0, 0, 0, 0, 0, 0, 0, 0, 0, 0, 0, 0, 0, 0, 0, 0, 0, 0, 0, 0, 0, 0, 0, 0, 0, 0, 0, 0, 0, 0, 0, 0, 0, 0, 0, 0, 0, 0, 0, 0, 0, 0, 0, 0, 0, 0, 0, 0, 0, 0, 0, 0, 0, 0, 0, 0, 0, 0, 0, 0, 0, 0, 0, 0, 0, 0, 0, 0, 0, 0, 0, 0, 0, 0, 0, 0, 0, 0, 0, 0, 0, 0, 0, 0, 0, 0, 0, 0, 0, 0, 0, 0, 0, 0, 0, 0, 0, 0, 0, 0, 0, 0, 0, 0, 0, 0, 0, 0, 0, 0, 0, 0, 0, 0, 0, 0, 0, 0, 0, 0, 0, 0, 0, 0, 0, 0, 0, 0, 0, 0, 0, 0, 0, 0, 0, 0, 0, 0, 0, 0, 0, 0, 0, 0, 0, 0, 0, 0, 0, 0, 0, 0, 0, 0, 0, 0, 0, 0, 0, 0, 0, 0, 0, 0, 0, 0, 0, 0, 0, 0, 0, 0, 0, 0, 0, 0, 0, 0, 0, 0, 0, 0, 0, 0, 0, 0, 0, 0, 0, 0, 0, 0, 0, 0, 0, 0, 0, 0, 0, 0, 0, 0, 0, 0, 0, 0, 0, 0, 0, 0, 0, 0, 0, 0, 0, 0, 0, 0, 0, 0, 0, 0, 0, 0, 0, 0, 0, 0, 0, 0, 0, 0, 0, 0, 0, 0, 0, 0, 0, 0, 0, 0, 0, 0, 0, 0, 0, 0, 0, 0, 0, 0, 0, 0, 0, 0, 0, 0, 0, 0, 0, 0, 0, 0, 0, 0, 0, 0, 0, 0, 0, 0, 0, 0, 0, 0, 0, 0, 0, 0, 0, 0, 0, 0, 0, 0, 0, 0, 0, 0, 0, 0, 0, 0, 0, 0, 0, 0, 0, 0, 0, 0, 0, 0, 0, 0, 0, 0, 0, 0, 0, 0, 0, 0, 0, 0, 0, 0, 0, 0, 0, 0, 0, 0, 0, 0, 0, 0, 0, 0, 0, 0, 0, 0, 0, 0, 0, 0, 0, 0, 0, 0, 0, 0, 0, 0, 0, 0, 1, 0, 0, 0, 0, 0, 0, 0, 0, 0, 0, 0, 0, 0, 0, 0, 0, 0, 0, 0, 0, 0, 0, 0, 0, 0, 0, 0, 0, 0, 0, 0, 0, 0, 0, 0, 2, 0, 0, 0, 0, 0, 0, 0, 0, 0, 0, 0, 0, 0, 0, 0, 0, 0, 0, 0, 0, 0, 0, 0, 0, 0, 0, 0, 0, 0, 0, 0, 0, 0, 0, 0, 0, 0, 0, 0, 0, 1, 0, 0, 0, 0, 0, 0, 0, 0, 0, 0, 0, 0, 0, 0, 0, 0, 0, 0, 0, 0, 0, 0, 0, 0, 0, 0, 0, 0, 0, 0, 0, 0, 0, 0, 0, 0, 0, 0, 0, 0, 0, 0, 0, 0, 0, 0, 0, 0, 0, 0, 0, 0, 0, 0, 0, 0, 0, 0, 0, 0, 0, 0, 0, 0, 0, 0, 0, 0, 0, 0, 0, 0, 0, 0, 0, 0, 0, 0, 0, 0, 0, 0, 0, 0, 0, 0, 0, 0, 0, 0, 0, 0, 0, 0, 0, 0, 0, 0, 0, 0, 0, 0, 0, 0, 0, 0, 0, 0, 0, 0, 0, 0, 0, 0, 0, 0, 0, 0, 0, 0, 0, 0, 0, 0, 0, 0, 0, 0, 0, 0, 0, 0, 0, 0, 0, 0, 0, 0, 0, 0, 0, 0, 0, 0, 0, 0, 0, 0, 0, 0, 0, 0, 0, 0, 0, 0, 0, 0, 0, 0, 0, 0, 0, 0, 0, 0, 0, 0, 0, 0, 0, 0, 0, 0, 0, 0, 0, 0, 0, 0, 0, 0, 0, 0, 0, 0, 0, 0, 0, 0, 0, 0, 0, 0, 0, 0, 0, 0, 0, 0, 0, 0, 0, 0, 0, 0, 0, 0, 0, 0, 0, 0, 0, 0, 0, 0, 0, 0, 0, 0, 0, 0, 0, 0, 0, 0, 0, 0, 0, 0, 0, 0, 0, 0, 0, 0, 0, 0, 0, 0, 0, 0, 0, 0, 0, 0, 0, 0, 0, 0, 0, 0, 0, 0, 0, 0, 0, 0, 0, 0, 0, 0, 0, 0, 0, 0, 0, 0, 0, 0, 0, 0, 0, 0, 0, 0, 0, 0, 0, 0, 0, 0, 0, 0, 0, 0, 0, 0, 0, 0, 0, 0, 0, 0, 0, 0, 0, 0, 0, 0, 0, 0, 0, 0, 0, 0, 0, 0, 0, 0, 0, 0, 0, 0, 0, 0, 0, 0, 0, 0, 0, 0, 0, 0, 0, 0, 0, 0, 0, 0, 0, 0, 0, 0, 0, 0, 0, 0, 0, 0, 0, 0, 0, 0, 0, 0, 0, 0, 0, 0, 0, 0, 0, 0, 0, 0, 0, 0, 0, 0, 0, 0, 0, 0, 0, 0, 0, 0, 0, 0, 0, 0, 0, 0, 0, 0, 0, 0, 0, 0, 0, 0, 0, 0, 0, 0, 0, 0, 0, 0, 0, 0, 0, 0, 0, 0, 0, 0, 0, 0, 0, 0, 0, 0, 0, 0, 0, 0, 0, 0, 0, 0, 0, 0, 0, 0, 0, 0, 0, 0, 0, 0, 0, 0, 0, 0, 0, 0, 0, 0, 0, 0, 0, 0, 0, 0, 0, 0, 0, 0, 0, 0, 0, 0, 0, 0, 0, 0, 0, 0, 0, 0, 0, 0, 0, 0, 0, 0, 0, 0, 0, 0, 0, 0, 0, 0, 0, 0, 0, 0, 0, 0, 0, 0, 0, 0, 0, 0, 0, 0, 0, 0, 0, 0, 0, 0, 0, 0, 0, 0, 0, 0, 0, 0, 0, 0, 0, 1, 0, 0, 0, 0, 0, 0, 0, 0, 0, 0, 0, 0, 0, 0, 0, 0, 0, 0, 0, 0, 0, 0, 0, 0, 0, 0, 0, 0, 0, 0, 0, 0, 0, 0, 0, 0, 0, 0, 0, 0, 0, 0, 0, 0, 0, 0, 0, 0, 0, 0, 0, 0, 0, 0, 0, 0, 0, 0, 0, 0, 0, 0, 0, 0, 0, 0, 0, 0, 0, 0, 0, 0, 0, 0, 0, 0, 0, 0, 0, 0, 0, 0, 0, 0, 0, 0, 0, 0, 0, 0, 0, 0, 0, 0, 0, 0, 0, 0, 0, 0, 0, 0, 0, 0, 0, 0, 0, 0, 0, 0, 2, 0, 0, 0, 0, 0, 0, 0, 0, 0, 0, 0, 0, 0, 0, 0, 0, 0, 0, 0, 0, 0, 0, 0, 0, 0, 0, 0, 0, 0, 0, 0, 0, 0, 0, 0, 0, 0, 0, 0, 0, 0, 0, 0, 0, 0, 0, 0, 0, 0, 0, 0, 0, 0, 0, 0, 0, 0, 0, 0, 0, 0, 0, 0, 0, 0, 0, 0, 0, 0, 0, 0, 0, 0, 0, 0, 0, 0, 0, 0, 0, 0, 0, 0, 0, 0, 0, 0, 0, 0, 0, 0, 0, 0, 0, 0, 0, 0, 0, 0, 0, 0, 0, 0, 0, 0, 0, 0, 0, 0, 0, 0, 0, 0, 0, 0, 0, 0, 0, 0, 0, 0, 0, 0, 0, 0, 0, 0, 0, 0, 0, 0, 0, 0, 0, 0, 0, 0, 0, 0, 0, 0, 0, 0, 0, 0, 0, 0, 0, 0, 0, 0, 0, 0, 0, 0, 0, 0, 0, 0, 0, 0, 0, 0, 0, 0, 0, 0, 0, 0, 0, 0, 0, 0, 0, 0, 0, 0, 0, 0, 0, 0, 0, 0, 0, 0, 0, 0, 0, 0, 0, 0, 0, 0, 0, 0, 0, 0, 0, 0, 0, 0, 0, 0, 0, 0, 0, 0, 0, 0, 0, 0, 0, 0, 0, 0, 0, 0, 0, 0, 0, 0, 0, 0, 0, 0, 0, 0, 0, 0, 0, 0, 0, 0, 0, 0, 0, 0, 0, 0, 0, 0, 0, 0, 0, 0, 0, 0, 0, 0, 0, 0, 0, 0, 0, 0, 0, 0, 0, 0, 0, 0, 0, 0, 0, 0, 0, 0, 0, 0, 0, 0, 0, 0, 0, 0, 0, 0, 0, 0, 0, 0, 0, 0, 0, 0, 0, 0, 0, 0, 0, 0, 0, 0, 0, 0, 0, 0, 0, 0, 0, 0, 0, 0, 0, 0, 0, 0, 0, 0, 0, 0, 0, 0, 0, 0, 0, 0, 0, 0, 0, 0, 0, 0, 0, 0, 0, 0, 0, 0, 0, 0, 0, 0, 0, 0, 0, 0, 0, 0, 0, 0, 0, 0, 0, 0, 0, 0, 0, 0, 0, 0, 0, 0, 0, 0, 0, 0, 0, 0, 0, 0, 0, 0, 0, 0, 0, 0, 0, 0, 0, 0, 0, 0, 0, 0, 0, 0, 0, 0, 0, 0, 0, 0, 0, 0, 0, 0, 0, 0, 0, 0, 0, 0, 0, 0, 0, 0, 0, 0, 0, 0, 0, 0, 0, 0, 0, 0, 0, 0, 0, 0, 0, 0, 0, 0, 0, 0, 0, 0, 0, 0, 0, 0, 0, 0, 0, 0, 0, 0, 0, 0, 0, 0, 0, 0, 0, 0, 0, 0, 0, 0, 0, 0, 0, 0, 0, 0, 0, 0, 0, 0, 0, 0, 0, 0, 0, 0, 0, 0, 0, 0, 0, 0, 0, 0, 0, 0, 0, 0, 0, 0, 0, 0, 0, 0, 0, 0, 0, 0, 0, 0, 0, 0, 0, 0, 0, 0, 0, 0, 0, 0, 0, 0, 0, 0, 0, 0, 0, 0, 0, 0, 0, 0, 0, 0, 0, 0, 0, 0, 0, 0, 0, 0, 0, 0, 0, 0, 0, 0, 0, 0, 0, 0, 0, 0, 0, 0, 0, 0, 0, 0, 0, 0, 0, 0, 0, 0, 0, 0, 0, 0, 0, 0, 0, 0, 0, 0, 0, 0, 0, 0, 0, 0, 0, 0, 0, 0, 0, 0, 0, 0, 0, 0, 0, 0, 0, 0, 0, 0, 0, 0, 0, 0, 0, 0, 0, 0, 0, 0, 0, 0, 0, 0, 0, 0, 0, 0, 0, 0, 0, 0, 0, 0, 0, 0, 0, 0, 0, 0, 0, 0, 0, 0, 0, 0, 0, 0, 0, 0, 0, 0, 0, 0, 0, 0, 0, 0, 0, 0, 0, 0, 0, 0, 0, 0, 0, 0, 0, 0, 0, 0, 0, 0, 0, 0, 0, 0, 0, 0, 0, 0, 0, 0, 0, 0, 0, 0, 0, 0, 0, 0, 0, 0, 0, 0, 0, 0, 0, 0, 0, 0, 0, 0, 0, 0, 0, 0, 0, 0, 0, 0, 0, 0, 0, 0, 0, 0, 0, 0, 0, 0, 0, 0, 0, 0, 0, 0, 0, 0, 0, 1, 0, 0, 0, 0, 0, 0, 0, 0, 0, 0, 0, 0, 0, 0, 0, 0, 0, 0, 0, 0, 0, 0, 0, 0, 0, 0, 0, 0, 0, 0, 0, 0, 0, 0, 0, 0, 0, 0, 0, 0, 0, 0, 0, 0, 0, 0, 0, 0, 0, 0, 0, 0, 0, 0, 0, 0, 0, 0, 0, 0, 0, 0, 0, 0, 0, 0, 0, 0, 0, 0, 0, 0, 0, 0, 0, 0, 0, 0, 0, 0, 0, 0, 0, 0, 0, 0, 0, 0, 0, 0, 0, 0, 0, 0, 0, 0, 0, 0, 0, 0, 0, 0, 0, 0, 0, 0, 0, 1, 0, 0, 0, 0, 0, 0, 0, 0, 0, 0, 0, 0, 0, 0, 0, 0, 0, 0, 0, 0, 0, 0, 0, 0, 0, 0, 0, 0, 0, 0, 0, 0, 0, 0, 0, 0, 0, 0, 0, 0, 0, 0, 0, 0, 0, 0, 0, 0, 0, 0, 0, 0, 0, 0, 0, 0, 0, 0, 0, 0, 0, 0, 0, 0, 0, 0, 0, 0, 0, 0, 0, 0, 0, 0, 0, 0, 0, 0, 0, 0, 0, 0, 0, 0, 0, 0, 0, 0, 0, 0, 0, 0, 0, 0, 0, 0, 0, 0, 0, 0, 0, 0, 0, 0, 0, 0, 0, 0, 0, 0, 0, 0, 0, 0, 0, 0, 0, 0, 0, 0, 0, 0, 0, 0, 0, 0, 0, 0, 0, 0, 0, 0, 0, 0, 0, 0, 0, 0, 0, 0, 0, 0, 0, 0, 0, 0, 0, 0, 0, 0, 0, 0, 0, 0, 0, 0, 0, 0, 0, 0, 0, 0, 0, 0, 0, 0, 0, 0, 0, 0, 0, 0, 0, 0, 0, 0, 0, 0, 0, 0, 0, 0, 0, 0, 0, 0, 0, 0, 0, 0, 0, 0, 0, 0, 0, 0, 0, 0, 0, 0, 0, 0, 0, 0, 0, 0, 0, 0, 0, 0, 0, 0, 0, 0, 0, 0, 0, 0, 0, 0, 0, 0, 0, 0, 0, 0, 0, 0, 0, 0, 0, 0, 0, 0, 0, 0, 0, 0, 0, 0, 0, 0, 0, 0, 0, 0, 0, 0, 0, 0, 0, 0, 0, 0, 0, 0, 0, 0, 0, 0, 0, 0, 0, 0, 0, 0, 0, 0, 0, 0, 0, 0, 0, 0, 0, 0, 0, 0, 0, 0, 0, 0, 0, 0, 0, 0, 0, 0, 0, 0, 0, 0, 0, 0, 0, 0, 0, 0, 0, 0, 0, 0, 0, 0, 0, 0, 0, 0, 0, 0, 0, 0, 0, 0, 0, 0, 0, 0, 0, 0, 0, 0, 0, 0, 0, 0, 0, 0, 0, 0, 0, 0, 0, 0, 0, 0, 0, 0, 0, 0, 0, 0, 0, 0, 0, 0, 0, 0, 0, 0, 0, 0, 0, 0, 0, 0, 0, 0, 0, 0, 0, 0, 0, 0, 0, 0, 0, 0, 0, 0, 0, 0, 0, 0, 0, 0, 0, 0, 0, 0, 0, 0, 0, 0, 0, 0, 0, 0, 0, 0, 0, 0, 0, 0, 0, 0, 0, 0, 0, 0, 0, 0, 0, 0, 0, 0, 0, 0, 0, 0, 0, 0, 0, 0, 0, 0, 0, 0, 0, 0, 0, 0, 0, 0, 0, 0, 0, 0, 0, 0, 0, 0, 0, 0, 0, 0, 0, 0, 0, 0, 0, 0, 0, 0, 0, 0, 0, 0, 0, 0, 0, 0, 0, 0, 0, 0, 0, 0, 0, 0, 0, 0, 0, 2, 0, 1, 0], type: <class 'list'>, valid types: <class 'bytes'>, <class 'bytearray'>, file-like object"
     ]
    }
   ],
   "source": [
    "response = runtime.invoke_endpoint(EndpointName = xgb_predictor.endpoint, # The name of the endpoint we created\n",
    "                                       ContentType = 'text/csv',                     # The data format that is expected\n",
    "                                       Body = test_bow)"
   ]
  },
  {
   "cell_type": "markdown",
   "metadata": {},
   "source": [
    "So why did we get an error?\n",
    "\n",
    "Because we tried to send the endpoint a list of integers but it expected us to send data of type `text/csv`. So, we need to convert it."
   ]
  },
  {
   "cell_type": "code",
   "execution_count": 68,
   "metadata": {},
   "outputs": [],
   "source": [
    "response = runtime.invoke_endpoint(EndpointName = xgb_predictor.endpoint, # The name of the endpoint we created\n",
    "                                       ContentType = 'text/csv',                     # The data format that is expected\n",
    "                                       Body = ','.join([str(val) for val in test_bow]).encode('utf-8'))"
   ]
  },
  {
   "cell_type": "code",
   "execution_count": 69,
   "metadata": {},
   "outputs": [
    {
     "name": "stdout",
     "output_type": "stream",
     "text": [
      "{'ResponseMetadata': {'RequestId': '7def52e0-495e-436d-85a8-71a83da9f460', 'HTTPStatusCode': 200, 'HTTPHeaders': {'x-amzn-requestid': '7def52e0-495e-436d-85a8-71a83da9f460', 'x-amzn-invoked-production-variant': 'AllTraffic', 'date': 'Mon, 25 Apr 2022 18:14:25 GMT', 'content-type': 'text/csv; charset=utf-8', 'content-length': '19'}, 'RetryAttempts': 0}, 'ContentType': 'text/csv; charset=utf-8', 'InvokedProductionVariant': 'AllTraffic', 'Body': <botocore.response.StreamingBody object at 0x7fd17bb8ba20>}\n"
     ]
    }
   ],
   "source": [
    "print(response)"
   ]
  },
  {
   "cell_type": "markdown",
   "metadata": {},
   "source": [
    "As we can see, the response from our model is a somewhat complicated looking dict that contains a bunch of information. The bit that we are most interested in is `'Body'` object which is a streaming object that we need to `read` in order to make use of."
   ]
  },
  {
   "cell_type": "code",
   "execution_count": 70,
   "metadata": {},
   "outputs": [
    {
     "name": "stdout",
     "output_type": "stream",
     "text": [
      "0.42773810029029846\n"
     ]
    }
   ],
   "source": [
    "response = response['Body'].read().decode('utf-8')\n",
    "print(response)"
   ]
  },
  {
   "cell_type": "markdown",
   "metadata": {},
   "source": [
    "Now that we know how to process the incoming user data we can start setting up the infrastructure to make our simple web app work. To do this we will make use of two different services. Amazon's Lambda and API Gateway services.\n",
    "\n",
    "Lambda is a service which allows someone to write some relatively simple code and have it executed whenever a chosen trigger occurs. For example, you may want to update a database whenever new data is uploaded to a folder stored on S3.\n",
    "\n",
    "API Gateway is a service that allows you to create HTTP endpoints (url addresses) which are connected to other AWS services. One of the benefits to this is that you get to decide what credentials, if any, are required to access these endpoints.\n",
    "\n",
    "In our case we are going to set up an HTTP endpoint through API Gateway which is open to the public. Then, whenever anyone sends data to our public endpoint we will trigger a Lambda function which will send the input (in our case a review) to our model's endpoint and then return the result."
   ]
  },
  {
   "cell_type": "markdown",
   "metadata": {},
   "source": [
    "### Setting up a Lambda function\n",
    "\n",
    "The first thing we are going to do is set up a Lambda function. This Lambda function will be executed whenever our public API has data sent to it. When it is executed it will receive the data, perform any sort of processing that is required, send the data (the review) to the SageMaker endpoint we've created and then return the result.\n",
    "\n",
    "#### Part A: Create an IAM Role for the Lambda function\n",
    "\n",
    "Since we want the Lambda function to call a SageMaker endpoint, we need to make sure that it has permission to do so. To do this, we will construct a role that we can later give the Lambda function.\n",
    "\n",
    "Using the AWS Console, navigate to the **IAM** page and click on **Roles**. Then, click on **Create role**. Make sure that the **AWS service** is the type of trusted entity selected and choose **Lambda** as the service that will use this role, then click **Next: Permissions**.\n",
    "\n",
    "In the search box type `sagemaker` and select the check box next to the **AmazonSageMakerFullAccess** policy. Then, click on **Next: Review**.\n",
    "\n",
    "Lastly, give this role a name. Make sure you use a name that you will remember later on, for example `LambdaSageMakerRole`. Then, click on **Create role**."
   ]
  },
  {
   "cell_type": "markdown",
   "metadata": {},
   "source": [
    "#### Part B: Create a Lambda function\n",
    "\n",
    "Now it is time to actually create the Lambda function. Remember from earlier that in order to process the user provided input and send it to our endpoint we need to gather two pieces of information:\n",
    "\n",
    " - The name of the endpoint, and\n",
    " - the vocabulary object.\n",
    "\n",
    "We will copy these pieces of information to our Lambda function after we create it.\n",
    "\n",
    "To start, using the AWS Console, navigate to the AWS Lambda page and click on **Create a function**. When you get to the next page, make sure that **Author from scratch** is selected. Now, name your Lambda function, using a name that you will remember later on, for example `sentiment_analysis_xgboost_func`. Make sure that the **Python 3.6** runtime is selected and then choose the role that you created in the previous part. Then, click on **Create Function**.\n",
    "\n",
    "On the next page you will see some information about the Lambda function you've just created. If you scroll down you should see an editor in which you can write the code that will be executed when your Lambda function is triggered. Collecting the code we wrote above to process a single review and adding it to the provided example `lambda_handler` we arrive at the following.\n",
    "\n",
    "```python\n",
    "# We need to use the low-level library to interact with SageMaker since the SageMaker API\n",
    "# is not available natively through Lambda.\n",
    "import boto3\n",
    "\n",
    "# And we need the regular expression library to do some of the data processing\n",
    "import re\n",
    "\n",
    "REPLACE_NO_SPACE = re.compile(\"(\\.)|(\\;)|(\\:)|(\\!)|(\\')|(\\?)|(\\,)|(\\\")|(\\()|(\\))|(\\[)|(\\])\")\n",
    "REPLACE_WITH_SPACE = re.compile(\"(<br\\s*/><br\\s*/>)|(\\-)|(\\/)\")\n",
    "\n",
    "def review_to_words(review):\n",
    "    words = REPLACE_NO_SPACE.sub(\"\", review.lower())\n",
    "    words = REPLACE_WITH_SPACE.sub(\" \", words)\n",
    "    return words\n",
    "    \n",
    "def bow_encoding(words, vocabulary):\n",
    "    bow = [0] * len(vocabulary) # Start by setting the count for each word in the vocabulary to zero.\n",
    "    for word in words.split():  # For each word in the string\n",
    "        if word in vocabulary:  # If the word is one that occurs in the vocabulary, increase its count.\n",
    "            bow[vocabulary[word]] += 1\n",
    "    return bow\n",
    "\n",
    "\n",
    "def lambda_handler(event, context):\n",
    "    \n",
    "    vocab = \"*** ACTUAL VOCABULARY GOES HERE ***\"\n",
    "    \n",
    "    words = review_to_words(event['body'])\n",
    "    bow = bow_encoding(words, vocab)\n",
    "\n",
    "    # The SageMaker runtime is what allows us to invoke the endpoint that we've created.\n",
    "    runtime = boto3.Session().client('sagemaker-runtime')\n",
    "\n",
    "    # Now we use the SageMaker runtime to invoke our endpoint, sending the review we were given\n",
    "    response = runtime.invoke_endpoint(EndpointName = '***ENDPOINT NAME HERE***',# The name of the endpoint we created\n",
    "                                       ContentType = 'text/csv',                 # The data format that is expected\n",
    "                                       Body = ','.join([str(val) for val in bow]).encode('utf-8')) # The actual review\n",
    "\n",
    "    # The response is an HTTP response whose body contains the result of our inference\n",
    "    result = response['Body'].read().decode('utf-8')\n",
    "    \n",
    "    # Round the result so that our web app only gets '1' or '0' as a response.\n",
    "    result = round(float(result))\n",
    "\n",
    "    return {\n",
    "        'statusCode' : 200,\n",
    "        'headers' : { 'Content-Type' : 'text/plain', 'Access-Control-Allow-Origin' : '*' },\n",
    "        'body' : str(result)\n",
    "    }\n",
    "```"
   ]
  },
  {
   "cell_type": "markdown",
   "metadata": {},
   "source": [
    "Once you have copy and pasted the code above into the Lambda code editor, replace the `**ENDPOINT NAME HERE**` portion with the name of the endpoint that we deployed earlier. You can determine the name of the endpoint using the code cell below."
   ]
  },
  {
   "cell_type": "code",
   "execution_count": 71,
   "metadata": {},
   "outputs": [
    {
     "data": {
      "text/plain": [
       "'xgboost-2022-04-25-17-44-48-121'"
      ]
     },
     "execution_count": 71,
     "metadata": {},
     "output_type": "execute_result"
    }
   ],
   "source": [
    "xgb_predictor.endpoint"
   ]
  },
  {
   "cell_type": "markdown",
   "metadata": {},
   "source": [
    "In addition, you will need to copy the vocabulary dict to the appropriate place in the code at the beginning of the `lambda_handler` method. The cell below prints out the vocabulary dict in a way that is easy to copy and paste."
   ]
  },
  {
   "cell_type": "code",
   "execution_count": 72,
   "metadata": {},
   "outputs": [
    {
     "name": "stdout",
     "output_type": "stream",
     "text": [
      "{'surprise': 4312, 'thriller': 4472, 'with': 4911, 'more': 2904, 'twists': 4619, 'and': 226, 'double': 1331, 'than': 4420, 'great': 1964, 'cast': 710, 'it': 2366, 'up': 4683, 'an': 223, 'intriguing': 2335, 'plot': 3309, 'by': 642, 'twin': 4615, 'influence': 2286, 'in': 2257, 'director': 1264, 'nicholas': 3010, 'cage': 645, 'is': 2360, 'very': 4723, 'underrated': 4642, 'actor': 103, 'shows': 3960, 'portrayal': 3341, 'of': 3083, 'man': 2721, 'looking': 2648, 'for': 1784, 'the': 4426, 'right': 3696, 'thing': 4450, 'to': 4507, 'do': 1302, 'rip': 3700, 'always': 203, 'wonderful': 4928, 'villain': 4744, 'as': 311, 'dennis': 1179, 'hopper': 2161, 'its': 2370, 'such': 4268, 'shame': 3918, 'he': 2056, 'never': 3001, 'made': 2697, 'higher': 2101, 'im': 2232, 'sure': 4308, 'has': 2043, 'his': 2118, 'though': 4461, 'all': 187, 'this': 4457, 'film': 1716, 'that': 4424, 'you': 4986, 'dont': 1324, 'need': 2987, 'big': 478, 'or': 3124, 'commercial': 902, 'soundtrack': 4085, 'be': 418, 'entertaining': 1499, 'will': 4886, 'go': 1924, 'down': 1335, 'one': 3107, 'most': 2909, 'legendary': 2565, 'games': 1865, 'history': 2121, 'their': 4431, 'no': 3020, 'doubt': 1332, 'about': 67, 'but': 636, 'game': 1864, 'although': 201, 'quite': 3495, 'different': 1248, 'could': 1007, 'possibly': 3351, 'modern': 2882, 'day': 1129, 'bond': 532, 'time': 4495, 'was': 4805, 'not': 3040, 'based': 404, 'on': 3105, 'material': 2766, 'from': 1840, 'another': 250, 'medium': 2792, 'completely': 922, 'new': 3003, 'scripted': 3835, 'which': 4867, 'even': 1533, 'had': 2003, 'own': 3158, 'theme': 4433, 'song': 4071, 'wouldnt': 4958, 'without': 4913, 'excellent': 1555, 'if': 2222, 'youre': 4992, 'fan': 1648, 'films': 1721, 'alike': 185, 'youll': 4988, 'enjoy': 1484, 'unlike': 4670, 'some': 4061, 'these': 4441, 'members': 2801, 'portrayed': 3342, 'characters': 760, 'themselves': 4435, 'opposed': 3122, 'fictional': 1703, 'gives': 1914, 'cinematic': 818, 'feel': 1684, 'able': 66, 'storyline': 4208, 'like': 2599, 'much': 2934, 'get': 1899, 'lost': 2660, 'movie': 2926, 'enjoyable': 1485, 'aspects': 322, 'start': 4156, 'finish': 1732, 'after': 143, 'beating': 425, 'theres': 4440, 'still': 4188, 'plenty': 3307, 'done': 1322, 'system': 4345, 'achieved': 93, 'well': 4843, 'multi': 2935, 'player': 3298, 'stand': 4143, 'out': 3141, 'despite': 1211, 'being': 448, 'old': 3100, 'now': 3054, 'video': 4733, 'years': 4979, 'good': 1937, 'can': 665, 'pick': 3265, 'play': 3296, 'whenever': 4863, 'little': 2624, 'your': 4991, 'life': 2592, 'just': 2437, 'thinking': 4453, 'ive': 2372, 'got': 1944, 'stuck': 4237, 'my': 2951, 'head': 2057, 'written': 4972, 'story': 4207, 'comes': 891, 'screen': 3829, 'almost': 193, 'actors': 104, 'were': 4848, 'front': 1841, 'every': 1539, 'bit': 488, 'itself': 2371, 'superbly': 4297, 'true': 4596, 'fashion': 1659, 'only': 3110, 'named': 2961, 'awesome': 371, 'gotta': 1946, 'throw': 4479, 'havent': 2053, 'played': 3297, 'yet': 4984, 'missing': 2869, 'naked': 2959, 'body': 527, 'those': 4460, 'things': 4451, 'make': 2713, 'believe': 454, 'god': 1926, 'other': 3135, 'two': 4620, 'women': 4923, 'especially': 1520, 'who': 4871, 'plays': 3301, 'have': 2052, 'bodies': 526, 'then': 4436, 'why': 4878, 'grade': 1951, 'give': 1912, 'quality': 3484, 'nudity': 3059, '10': 0, 'because': 432, 'unbelievable': 4634, 'we': 4823, 'sit': 4003, 'through': 4477, 'otherwise': 3137, 'unfunny': 4655, 'boring': 543, 'keep': 2449, 'mind': 2849, 'watched': 4813, 'full': 1846, 'minute': 2858, 'version': 4720, 'american': 213, 'probably': 3407, 'cuts': 1091, 'lot': 2661, 'typical': 4623, 'italian': 2367, 'comedy': 890, 'tradition': 4549, 'are': 285, 'exaggerated': 1552, 'army': 295, 'freak': 1824, 'latin': 2527, 'lover': 2672, 'constant': 957, 'drunk': 1375, 'naive': 2958, 'funny': 1852, 'simply': 3986, 'final': 1722, 'word': 4937, 'watch': 4811, 'finger': 1731, 'fast': 1661, 'forward': 1808, 'button': 639, 'gonna': 1936, 'wealthy': 4827, 'dude': 1381, 'falls': 1640, 'poor': 3328, 'chick': 786, 'father': 1666, 'ray': 3533, 'sappy': 3784, 'battle': 414, 'classes': 834, 'when': 4862, 'rich': 3685, 'kid': 2464, 'ryan': 3765, 'brings': 587, 'home': 2142, 'parents': 3188, 'social': 4049, 'mouth': 2920, 'while': 4868, 'john': 2409, 'her': 2085, 'catholic': 720, 'annoying': 249, 'himself': 2111, 'followed': 1773, 'later': 2525, 'loved': 2670, 'times': 4497, 'rest': 3657, 'many': 2732, 'love': 2669, 'reading': 3544, 'intelligent': 2314, 'commentary': 899, 'writers': 4969, 'show': 3953, 'fantastic': 1651, 'beyond': 476, 'talented': 4355, 'answer': 251, 'superior': 4300, 'positive': 3346, 'happened': 2027, 'james': 2378, 'killed': 2469, 'accident': 84, 'remember': 3616, 'car': 680, 'episode': 1507, 'first': 1736, 'aired': 165, 'tiny': 4500, 'so': 4046, 'sad': 3767, 'me': 2778, 'florida': 1761, 'children': 792, 'actually': 109, 'projects': 3428, 'become': 433, 'neighbors': 2994, 'how': 2181, 'last': 2521, 'ended': 1470, 'dreams': 1355, 'found': 1811, 'opportunity': 3121, 'each': 1395, 'ending': 1471, 'cried': 1054, 'happy': 2032, 'them': 4432, 'seemed': 3862, 'realistic': 3550, 'believed': 455, 'fate': 1665, 'hope': 2155, 'kind': 2476, 'rings': 3699, 'including': 2264, 'period': 3236, 'african': 142, 'television': 4394, 'best': 469, 'at': 331, 'tv': 4610, 'land': 2511, 'memories': 2803, 'cannot': 670, 'junk': 2436, 'watching': 4815, 'today': 4508, 'back': 378, '1970s': 17, '1980s': 21, 'viewers': 4739, 'dying': 1393, 'here': 2086, 'better': 472, 'original': 3129, 'sitcom': 4004, '70s': 56, '80s': 59, 'they': 4442, 'sing': 3992, 'days': 1130, 'really': 3556, 'hate': 2046, 'knew': 2486, 'terrible': 4407, 'lines': 2612, 'both': 547, 'poorly': 3329, 'executed': 1565, 'jokes': 2415, 'mean': 2779, 'off': 3084, 'johnny': 2410, 'quest': 3486, 'obnoxious': 3067, 'boy': 557, 'blond': 510, 'hair': 2005, 'genius': 1887, 'sisters': 4002, 'talking': 4360, 'dog': 1310, 'stay': 4166, 'dad': 1095, 'smart': 4035, 'super': 4295, 'busy': 635, 'oh': 3096, 'mother': 2911, 'crazy': 1035, 'maker': 2714, 'isnt': 2362, 'gay': 1876, 'would': 4957, 'personally': 3243, 'die': 1243, 'nothing': 3047, 'else': 1448, 'travesty': 4570, 'count': 1010, 'words': 4938, 'describe': 1194, 'lame': 2510, 'stupid': 4247, 'above': 68, 'thats': 4425, 'say': 3799, 'folks': 1771, 'definitely': 1162, 'making': 2718, 'list': 2617, 'worst': 4952, 'animated': 241, 'series': 3890, 'minor': 2857, 'spoilers': 4124, 'cant': 671, 'liked': 2600, 'strange': 4211, 'bad': 382, 'example': 1553, 'shark': 3921, 'came': 656, 'nowhere': 3056, 'cgi': 740, 'cut': 1089, 'part': 3193, 'gave': 1875, 'urge': 4689, 'stop': 4201, 'seeing': 3857, 'people': 3221, 'cause': 723, 'lacks': 2505, 'action': 100, 'feels': 1687, 'sometimes': 4067, 'take': 4349, 'scene': 3809, 'friends': 1837, 'died': 1244, 'next': 3007, 'doing': 1312, 'what': 4858, 'telling': 4396, 'horror': 2168, 'stories': 4205, 'crying': 1074, 'hes': 2093, 'inside': 2297, 'boat': 523, 'hundreds': 2196, 'table': 4346, 'surrounded': 4318, 'thought': 4462, 'dumb': 1385, 'using': 4698, 'besides': 468, 'high': 2100, 'sea': 3838, 'alone': 194, 'scary': 3807, 'scenes': 3811, 'nicely': 3009, 'works': 4945, 'hidden': 2096, 'behind': 447, 'something': 4066, 'instead': 2307, 'showing': 3958, 'does': 1308, 'maybe': 2776, 'low': 2676, 'budget': 610, 'know': 2489, 'fine': 1729, 'tension': 4404, 'forget': 1793, 'holes': 2133, 'ones': 3108, 'mentioned': 2811, 'expect': 1575, 'patient': 3211, 'try': 4600, 'lol': 2640, 'sorry': 4076, 'raw': 3532, 'english': 1483, 'am': 204, 'huge': 2185, 'warrior': 4802, 'movies': 2927, 'favorites': 1672, 'samurai': 3779, 'absolutely': 72, 'strongly': 4231, 'recommend': 3571, 'expectations': 1576, 'awful': 372, 'pathetic': 3210, 'strong': 4229, 'case': 707, 'whole': 4873, 'waiting': 4772, 'exciting': 1563, 'happen': 2026, 'didnt': 1242, 'least': 2554, 'expecting': 1578, 'epic': 1506, 'end': 1468, 'disappointment': 1275, 'random': 3514, 'running': 3756, 'around': 297, 'there': 4438, 'long': 2644, 'superman': 4301, 'comics': 895, '1950s': 14, 'chris': 806, 'clark': 832, 'finally': 1724, 'hoping': 2160, 'clever': 841, 'returns': 3668, 'attempt': 340, 'real': 3547, 'estate': 1525, 'beaten': 424, 'wearing': 4831, 'sequence': 3887, 'couldnt': 1008, 'falling': 1639, 'into': 2332, 'ocean': 3079, 'breaks': 571, 'leaving': 2557, 'him': 2110, 'space': 4090, 'hero': 2088, 'partner': 3198, 'name': 2960, 'hand': 2015, 'did': 1241, 'kinds': 2478, 'saving': 3797, 'heroic': 2090, 'guts': 1999, 'skill': 4013, 'normal': 3033, 'human': 2188, 'small': 4033, 'fighting': 1709, 'save': 3794, 'universe': 4666, 'general': 1880, 'petty': 3249, 'think': 4452, 'ill': 2228, 'stick': 4185, 'should': 3951, 'too': 4522, 'somehow': 4063, 'woman': 4921, 'working': 4944, 'scientist': 3818, 'puts': 3481, 'round': 3742, 'metal': 2823, 'balls': 390, 'peoples': 3222, 'supposedly': 4307, 'changes': 751, 'personality': 3242, 'reality': 3551, 'turns': 4609, 'zombie': 4997, 'killers': 2471, 'experiment': 1583, 'young': 4989, 'desperate': 1208, 'acting': 99, 'lessons': 2578, 'atrocious': 335, 'amazingly': 210, 'logic': 2638, 'script': 3834, 'trouble': 4592, 'following': 1774, 'going': 1931, 'special': 4097, 'effects': 1431, 'computer': 927, 'scientific': 3817, 'looks': 2649, 'worse': 4951, 'also': 199, 'felt': 1692, 'lonely': 2643, 'summer': 4291, 'camp': 662, 'george': 1893, 'personal': 3240, 'leading': 2547, 'actress': 105, 'throughout': 4478, 'idiotic': 2219, 'loads': 2633, 'barely': 399, 'nude': 3058, 'girls': 1911, 'bar': 396, 'guys': 2001, 'background': 380, 'spiritual': 4116, 'discovery': 1282, 'taken': 4350, 'place': 3282, 'none': 3028, 'gore': 1941, 'filmed': 1717, 'put': 3480, 'together': 4511, 'henry': 2084, 'trade': 4547, 'bored': 541, 'silly': 3976, 'let': 2579, 'secret': 3849, 'figure': 1711, 'spent': 4108, 'garbage': 1870, 'beginning': 443, 'weekend': 4838, 'nightmare': 3014, 'bore': 540, 'air': 164, 'dark': 1115, 'fairy': 1632, 'tale': 4353, 'child': 789, 'protagonists': 3442, 'forest': 1791, 'setting': 3900, 'ruins': 3752, 'core': 995, 'essentially': 1523, 'unusual': 4681, 'study': 4242, 'opening': 3114, 'dream': 1354, 'subtle': 4260, 'wrestling': 4966, 'menacing': 2807, 'details': 1219, 'psychological': 3458, 'laura': 2536, 'girl': 1909, 'romance': 3732, 'equally': 1510, 'merit': 2816, 'depiction': 1185, 'sex': 3907, 'look': 2646, 'relies': 3606, 'gorgeous': 1942, 'locations': 2636, 'rather': 3528, 'particular': 3194, 'greatest': 1966, 'creepy': 1052, 'childrens': 793, 'odd': 3080, 'interesting': 2325, 'louis': 2665, 'surreal': 4317, 'brilliant': 583, 'black': 493, 'moon': 2900, 'same': 3778, 'era': 1513, 'certainly': 738, 'art': 304, 'versus': 4722, 'banned': 395, 'larry': 2520, 'ken': 2453, 'park': 3190, 'instance': 2304, 'artistic': 308, 'perspective': 3245, 'cinema': 816, 'seems': 3864, 'gradually': 1952, 'losing': 2658, 'ability': 65, 'shock': 3938, 'perhaps': 3235, 'power': 3359, 'thirty': 4456, 'release': 3602, 'however': 2183, 'value': 4709, 'reason': 3557, 'memorable': 2802, 'note': 3044, 'mad': 2696, 'scientists': 3819, 'everywhere': 1545, 'turn': 4605, 'son': 4070, 'monster': 2892, 'paul': 3214, 'care': 684, 'frightening': 1839, 'sharp': 3922, 'teeth': 4393, 'water': 4816, 'dry': 1377, 'worthy': 4956, 'rock': 3720, 'laughing': 2533, 'ha': 2002, 'load': 2631, 'entire': 1502, 'flick': 1754, 'makes': 2716, 'been': 438, 'decent': 1147, 'seem': 3861, 'arent': 288, 'campy': 664, 'contrived': 976, 'parts': 3199, 'spend': 4105, 'wandering': 4785, 'along': 195, 'island': 2361, 'sudden': 4272, 'starts': 4159, 'walking': 4779, 'feet': 1688, 'course': 1019, 'allows': 192, 'come': 886, 'kill': 2468, 'channel': 753, 'live': 2625, 'silver': 3977, 'disappointing': 1274, 'known': 2492, 'inducing': 2279, 'style': 4249, 'rented': 3628, 'nevertheless': 3002, 'took': 4523, 'shot': 3949, 'lasted': 2522, 'forty': 1807, 'minutes': 2859, 'before': 440, 'giving': 1915, 'pretentious': 3383, 'french': 1830, 'saw': 3798, 'pretty': 3384, 'camera': 659, 'popularity': 3334, 'itll': 2369, 'catch': 714, 'america': 212, 'called': 652, 'average': 362, 'number': 3060, 'eye': 1611, 'dear': 1140, 'religion': 3607, 'depressing': 1188, 'nonsense': 3030, 'featuring': 1681, 'freedom': 1828, 'initial': 2290, 'reaction': 3541, 'credits': 1050, 'started': 4157, 'over': 3148, 'hour': 2176, 'half': 2007, 'state': 4160, 'superb': 4296, 'wedding': 4836, 'between': 475, 'sean': 3840, 'kelly': 2452, 'slight': 4027, 'problem': 3408, 'since': 3990, 'theyre': 4445, 'getting': 1901, 'married': 2744, 'church': 813, 'order': 3126, 'takes': 4351, 'brought': 600, 'attend': 344, 'school': 3813, 'enough': 1491, 'set': 3898, 'jumps': 2432, 'few': 1700, 'daughters': 1122, 'decided': 1149, 'theyll': 4444, 'local': 2634, 'priest': 3392, 'cards': 683, 'having': 2054, 'irish': 2353, 'scottish': 3825, 'considered': 951, 'myself': 2953, 'adult': 125, 'fact': 1621, 'consider': 949, 'cynical': 1093, 'weapon': 4828, 'used': 4693, 'happens': 2029, 'self': 3869, 'moral': 2902, 'upon': 4684, 'tell': 4395, 'may': 2775, 'hed': 2072, 'call': 651, 'masterpiece': 2759, 'shouldnt': 3952, 'drama': 1346, 'couple': 1016, 'reviewers': 3678, 'claimed': 829, 'propaganda': 3435, 'sort': 4077, 'claim': 828, 'exact': 1550, 'herself': 2092, 'living': 2629, 'rural': 3758, 'village': 4743, 'ireland': 2352, 'bring': 585, 'believes': 456, 'consequences': 947, 'warning': 4800, 'against': 147, 'taking': 4352, 'keeping': 2450, 'she': 3923, 'pieces': 3273, 'lives': 2628, 'picked': 3266, 'character': 758, 'any': 256, 'type': 4621, 'sense': 3877, 'former': 1800, 'andy': 230, 'shown': 3959, 'member': 2800, 'change': 749, 'devils': 1229, 'agree': 155, 'criticism': 1063, 'essential': 1522, 'viewing': 4740, 'anyone': 259, 'thinks': 4454, 'masses': 2755, 'often': 3095, 'confused': 941, 'horrible': 2163, 'editing': 1421, 'sympathy': 4343, 'developed': 1223, 'extremely': 1610, 'superficial': 4298, 'cheesy': 781, 'stereotypes': 4179, 'subplots': 4256, 'went': 4847, 'attempting': 342, 'shocked': 3939, 'showed': 3956, 'trash': 4565, 'youd': 4987, 'lesbian': 2573, 'celluloid': 731, 'closet': 858, 'documentary': 1307, 'thoroughly': 4459, 'enjoyed': 1486, 'others': 3136, 'moment': 2886, 'trying': 4601, 'wasnt': 4807, 'worth': 4953, 'ok': 3098, 'bother': 548, 'three': 4469, 'four': 1812, 'shots': 3950, 'looked': 2647, 'nice': 3008, 'cinematography': 820, 'crappy': 1032, 'lighting': 2596, 'way': 4820, 'places': 3284, 'add': 115, 'practically': 3362, 'rebel': 3561, 'hot': 2174, 'porn': 3336, 'buddy': 609, 'wanted': 4789, 'see': 3855, 'magazine': 2701, 'highly': 2105, 'recommended': 3572, 'critic': 1061, 'hands': 2020, 'directing': 1260, 'feeling': 1685, 'bunch': 623, 'unoriginal': 4673, 'awkward': 374, 'seen': 3865, 'disappointed': 1273, 'akshay': 169, 'guy': 2000, 'manages': 2725, 'touching': 4536, '2nd': 41, '1st': 28, 'flat': 1748, 'involving': 2349, 'major': 2711, 'stupidity': 4248, 'decision': 1151, 'straight': 4210, 'brutally': 604, 'insulting': 2310, 'sons': 4073, 'soul': 4079, 'possible': 3350, 'likely': 2601, 'ruin': 3750, 'relationship': 3597, 'responsibility': 3655, 'truth': 4599, 'soft': 4051, 'bear': 420, 'soon': 4074, 'due': 1382, 'stronger': 4230, 'doesnt': 1309, 'easily': 1406, 'biggest': 480, 'flaw': 1749, 'becoming': 435, 'stunt': 4245, 'told': 4513, 'finished': 1733, 'college': 875, 'year': 4978, 'degree': 1164, 'arrives': 302, 'support': 4303, 'pregnant': 3369, 'wife': 4884, 'becomes': 434, 'job': 2405, 'field': 1704, 'heck': 2071, 'anywhere': 263, 'where': 4864, 'danger': 1109, 'incredibly': 2270, 'writing': 4971, 'melodramatic': 2798, 'crap': 1031, 'everything': 1544, 'pushed': 3478, 'our': 3139, 'reminded': 3619, 'please': 3304, 'illness': 2230, 'run': 3755, '20': 29, 'thus': 4486, 'obvious': 3071, 'emotionally': 1460, 'less': 2575, 'em': 1452, 'fancy': 1649, 'filled': 1715, 'star': 4150, 'happily': 2030, 'reminiscent': 3621, 're': 3535, 'similar': 3978, 'doctor': 1304, 'develops': 1226, 'pain': 3170, 'death': 1141, 'apparently': 270, 'winds': 4895, 'brain': 562, 'eating': 1413, 'person': 3238, 'unfortunately': 4654, 'slow': 4031, 'resulting': 3661, 'soap': 4047, 'opera': 3116, 'compelled': 915, 'us': 4690, 'white': 4870, 'letters': 2582, 'across': 96, 'important': 2247, 'provide': 3448, 'passing': 3204, 'present': 3374, 'moments': 2887, 'victim': 4729, 'hammer': 2014, 'victims': 4730, 'close': 853, 'sign': 3970, 'runs': 3757, 'fully': 1847, 'lit': 2621, 'hospital': 2172, 'light': 2595, 'floor': 1759, 'world': 4946, 'second': 3846, 'walks': 4780, 'examples': 1554, 'directorial': 1265, 'frequently': 1832, 'ways': 4822, 'goes': 1930, 'independent': 2272, 'lately': 2524, 'terms': 4406, 'technical': 4381, 'sound': 4081, 'photography': 3260, 'polished': 3323, 'dvd': 1391, 'deal': 1135, 'wooden': 4934, 'particularly': 3195, 'lead': 2545, 'nonsensical': 3031, 'disbelief': 1277, 'continuity': 972, 'involved': 2346, 'eventually': 1537, 'experience': 1580, 'problems': 3409, 'filmmakers': 1720, 'remake': 3612, 'popular': 3333, 'bigger': 479, 'appreciate': 279, 'opinion': 3118, 'anyway': 261, 'category': 718, 'performance': 3228, 'martial': 2747, 'angel': 231, 'tells': 4397, 'cat': 713, 'professional': 3421, 'thief': 4448, 'turned': 4606, 'past': 3207, 'kidnapped': 2466, 'security': 3854, 'company': 910, 'rescue': 3643, 'calls': 654, 'six': 4010, 'synopsis': 4344, 'direction': 1261, 'lacked': 2503, 'dialogue': 1234, 'meaningless': 2782, 'thin': 4449, 'paper': 3183, 'sum': 4289, 'jackie': 2374, 'chan': 746, 'choreography': 802, 'away': 369, 'angels': 234, 'formulaic': 1803, 'piece': 3272, 'work': 4940, 'imagination': 2236, 'credit': 1049, 'okay': 3099, 'manage': 2722, 'dig': 1250, 'role': 3726, 'sandra': 3782, 'impression': 2252, 'mostly': 2910, 'brief': 579, 'elsewhere': 1449, 'fell': 1690, 'obviously': 3072, 'cheap': 774, 'clean': 838, 'persons': 3244, 'mask': 2752, 'blue': 518, 'numerous': 3062, 'fight': 1707, 'angles': 237, 'guess': 1989, 'affair': 135, 'blown': 516, 'enthusiasm': 1501, 'seven': 3903, 'leave': 2555, 'frankly': 1823, 'aint': 163, 'apparent': 269, 'book': 535, 'evil': 1548, 'knowing': 2490, 'press': 3379, 'break': 569, 'far': 1653, 'began': 441, 'question': 3487, 'guilt': 1994, 'author': 359, 'intended': 2315, 'understand': 4643, 'public': 3460, 'jumped': 2430, 'presented': 3376, 'dr': 1340, 'baby': 376, 'clothes': 860, 'bloody': 513, 'print': 3399, 'etc': 1527, 'convincingly': 986, 'fields': 1705, 'lie': 2590, 'evidence': 1546, 'wrong': 4973, 'difficult': 1249, 'point': 3316, 'hardly': 2036, 'ever': 1538, 'heard': 2062, 'suspicious': 4332, 'whose': 4877, 'appear': 273, 'cult': 1077, 'sorts': 4078, 'wild': 4885, 'beliefs': 452, 'appearance': 274, 'dedicated': 1153, 'worked': 4941, 'investigate': 2342, 'counter': 1011, 'trial': 4580, 'finding': 1727, 'jail': 2376, 'conclusion': 936, 'sam': 3777, 'identify': 2216, 'perfect': 3224, 'beautiful': 428, 'haunting': 2051, 'music': 2946, 'receive': 3563, 'released': 3603, 'directed': 1259, 'silent': 3975, 'sci': 3815, 'fi': 1701, 'contemporary': 965, 'thrillers': 4473, 'points': 3319, 'guide': 1993, 'reaching': 3539, 'analysis': 224, 'section': 3853, 'cover': 1022, 'territory': 4411, 'documentaries': 1306, 'definite': 1161, 'primarily': 3393, 'hitchcock': 2123, 'lynch': 2691, 'chaplin': 756, 'find': 1726, 'luck': 2681, 'psycho': 3457, 'sexual': 3908, 'manner': 2729, 'anything': 260, 'opens': 3115, 'might': 2835, 'brothers': 599, 'id': 2212, 'ego': 1435, 'dead': 1132, 'classics': 837, 'food': 1778, 'matrix': 2767, 'club': 863, 'split': 4120, 'fantasy': 1652, 'needs': 2990, 'energy': 1478, 'violence': 4747, 'dealing': 1136, 'latter': 2528, 'throws': 4482, 'revenge': 3675, 'under': 4639, 'male': 2719, 'sexuality': 3909, 'view': 4736, 'turning': 4608, 'nightmares': 3015, 'creation': 1040, 'female': 1693, 'explored': 1595, 'sincere': 3991, 'excited': 1561, 'plausible': 3295, 'face': 1616, 'voice': 4761, 'step': 4175, 'further': 1853, 'spread': 4133, 'ie': 2221, 'putting': 3482, 'funniest': 1851, 'towards': 4540, 'heads': 2059, 'birds': 485, 'waters': 4817, 'explain': 1586, 'frank': 1821, 'fun': 1848, 'potential': 3355, 'wouldve': 4959, 'expected': 1577, 'treat': 4572, 'buffs': 612, 'titled': 4505, 'top': 4525, 'disney': 1289, 'cartoon': 704, 'albeit': 173, 'hasnt': 2044, 'among': 217, 'feelings': 1686, 'wow': 4962, 'immediately': 2242, 'questions': 3489, 'asked': 317, 'powerful': 3360, 'writer': 4968, 'reminds': 3620, 'entertained': 1498, 'actual': 108, 'sitting': 4007, 'toilet': 4512, 'regarding': 3589, 'desire': 1205, 'supernatural': 4302, 'distribution': 1298, 'kicks': 2463, 'levels': 2585, 'short': 3946, 'war': 4792, 'wwii': 4975, 'north': 3036, 'complete': 921, 'talk': 4358, 'depression': 1189, 'hitler': 2124, 'fair': 1630, 'everyone': 1542, 'roles': 3727, 'nations': 2971, 'footage': 1782, 'color': 877, 'witnesses': 4916, 'alive': 186, 'narrator': 2967, 'comment': 898, 'predictable': 3367, 'crew': 1053, 'murders': 2943, 'occurred': 3077, 'total': 4531, 'bomb': 531, 'fairly': 1631, 'faith': 1633, 'carradine': 695, 'performances': 3229, 'reasonably': 3559, 'blood': 512, 'mild': 2839, 'pg': 3250, 'rating': 3529, 'totally': 4532, 'quiet': 3492, 'night': 3013, 'impossible': 2249, 'cool': 989, 'surprised': 4313, 'basically': 407, 'till': 4493, 'catches': 715, 'guard': 1988, 'lucky': 2683, 'hit': 2122, 'pat': 3208, 'quickly': 3491, 'tim': 4494, 'ladies': 2506, 'somewhere': 4069, 'usually': 4700, 'snl': 4044, 'radio': 3504, 'answers': 252, 'relationships': 3598, 'ultimately': 4628, 'butt': 638, 'pushing': 3479, 'station': 4164, 'manager': 2724, 'producer': 3415, 'julie': 2428, 'gets': 1900, 'fired': 1735, 'letter': 2581, 'ex': 1549, 'offers': 3090, 'wealth': 4826, 'signed': 3971, 'track': 4544, 'billy': 482, 'williams': 4888, 'says': 3801, 'standing': 4146, 'sub': 4252, 'whos': 4876, 'wives': 4918, 'want': 4788, 'singing': 3995, 'dancing': 1107, 'stuff': 4243, 'worthless': 4954, 'fault': 1668, 'main': 2707, 'centers': 734, 'wont': 4932, 'carries': 699, 'guest': 1992, 'host': 2173, 'cameron': 661, 'stayed': 4167, 'laid': 2508, 'persona': 3239, 'until': 4680, 'transformation': 4560, 'speech': 4102, 'tie': 4488, 'changing': 752, 'crude': 1069, 'substance': 4258, 'said': 3774, 'earlier': 1399, 'laugh': 2529, 'loud': 2664, 'spin': 4112, 'supposed': 4306, 'concept': 930, '80': 58, 'needed': 2988, 'overall': 3150, 'dragged': 1343, 'unnecessary': 4672, 'purpose': 3474, 'bottom': 551, 'line': 2610, 'unless': 4669, 'revealing': 3672, 'clothing': 861, 'driven': 1365, 'plane': 3288, 'flight': 1757, 'ago': 154, 'truly': 4597, 'created': 1037, 'safe': 3771, 'knowledge': 2491, 'suffer': 4275, 'again': 146, 'amazing': 209, 'inane': 2258, 'angry': 238, 'listening': 2620, 'utterly': 4702, 'whilst': 4869, 'joke': 2414, 'gangster': 1868, 'con': 928, 'whatever': 4859, 'offer': 3087, 'utter': 4701, 'inept': 2281, 'legs': 2566, 'carry': 700, 'solution': 4059, 'men': 2805, 'therefore': 4439, 'must': 2950, 'cure': 1081, 'wonder': 4926, 'drop': 1369, 'third': 4455, 'happening': 2028, 'audience': 352, 'painfully': 3172, 'phone': 3255, 'jake': 2377, 'moving': 2928, 'humour': 2194, 'provides': 3450, 'thankfully': 4422, 'standard': 4144, 'previous': 3387, 'redeeming': 3577, 'amusing': 221, 'managed': 2723, 'genuinely': 1892, 'hear': 2061, 'packed': 3166, 'knows': 2493, 'planning': 3291, 'hanging': 2023, 'ask': 316, 'satisfying': 3791, 'hearing': 2063, 'coming': 896, 'directions': 1262, 'desperately': 1209, 'free': 1827, 'youve': 4995, 'vampire': 4711, 'bat': 410, 'german': 1896, 'holding': 2130, 'meeting': 2794, 'inspector': 2299, 'douglas': 1334, 'recent': 3566, 'discovered': 1280, 'weeks': 4839, 'single': 3996, 'clue': 864, 'deaths': 1142, 'convinced': 984, 'scared': 3805, 'tales': 4357, 'large': 2517, 'meanwhile': 2785, 'latest': 2526, 'solve': 4060, 'giant': 1905, 'responsible': 3656, 'pictures': 3270, 'cash': 709, 'success': 4265, 'stars': 4155, 'murder': 2939, 'mystery': 2956, 'title': 4504, 'dull': 1384, 'edward': 1426, 'jr': 2423, 'seriously': 3892, 'sets': 3899, 'basic': 406, 'killing': 2472, 'focuses': 1768, 'incompetent': 2266, 'identity': 2217, 'crisis': 1060, 'wants': 4791, 'suggest': 4280, 'majority': 2712, 'described': 1195, 'attempts': 343, 'fool': 1779, 'broad': 590, 'excuse': 1564, 'moved': 2922, '1933': 12, 'bland': 500, 'king': 2479, 'kong': 2494, 'brilliantly': 584, 'holds': 2131, 'either': 1438, 'simple': 3983, 'age': 148, 'shoot': 3942, 'atmosphere': 333, 'scares': 3806, 'already': 197, 'house': 2178, 'european': 1530, 'certain': 737, 'technically': 4382, 'compare': 911, 'remotely': 3623, 'alright': 198, 'suppose': 4305, 'draw': 1349, 'attention': 345, 'speaking': 4095, 'fay': 1674, 'icon': 2211, 'imagine': 2238, 'admit': 122, 'dynamic': 1394, 'emotional': 1459, 'experiences': 1582, 'during': 1387, 'vacation': 4704, 'family': 1645, 'clear': 839, 'storytelling': 4209, 'ups': 4686, 'teenager': 4390, 'learn': 2550, 'via': 4726, 'asian': 314, 'minimal': 2855, 'given': 1913, 'read': 3543, 'negative': 2991, 'reviews': 3679, 'page': 3167, 'imdb': 2240, 'literally': 2622, 'issues': 2365, 'pure': 3471, 'colour': 880, 'situations': 4009, 'escape': 1517, 'everyday': 1541, 'mundane': 2938, 'exceptionally': 1559, 'season': 3843, 'bought': 552, 'box': 555, 'follows': 1775, 'adventures': 131, 'ned': 2986, 'magic': 2703, 'childhood': 790, 'charlotte': 766, 'charles': 764, 'private': 3404, 'pie': 3271, 'hole': 2132, 'waitress': 4773, 'lily': 2605, 'whom': 4875, 'chuck': 812, 'allowed': 190, 'wonderfully': 4929, 'bright': 581, 'jim': 2402, 'praise': 3364, 'saying': 3800, 'strike': 4224, 'episodes': 1508, 'providing': 3451, 'yes': 4982, 'rushed': 3760, 'whether': 4866, 'creative': 1041, 'included': 2262, 'future': 1856, 'left': 2561, '40': 48, 'entertainment': 1500, 'seagal': 3839, 'pile': 3275, 'drug': 1373, 'hard': 2033, 'forth': 1804, 'rooms': 3736, 'blows': 517, 'dubbing': 1380, 'sounded': 4082, 'avoid': 363, 'costs': 1004, 'animation': 242, 'cartoons': 705, 'level': 2584, 'mistake': 2871, 'measure': 2786, 'grow': 1982, 'significant': 3972, 'april': 284, 'succeeds': 4264, 'ensemble': 1492, 'rate': 3526, 'lawrence': 2539, 'joan': 2404, 'richardson': 3688, 'usual': 4699, 'romantic': 3733, 'heart': 2064, 'kim': 2475, 'interest': 2323, 'reads': 3545, 'simplicity': 3984, 'late': 2523, 'survival': 4320, 'woods': 4935, 'witnessed': 4915, 'rent': 3626, 'cop': 991, 'aid': 160, 'ugly': 4625, 'structure': 4233, 'hang': 2022, 'actions': 101, 'endless': 1473, 'chain': 741, 'events': 1536, 'stereotypical': 4180, 'led': 2558, 'unconvincing': 4638, 'loose': 2650, 'threatening': 4468, 'red': 3576, 'wannabe': 4787, 'became': 431, 'ridiculous': 3693, 'emotion': 1458, 'clumsy': 866, 'craft': 1028, 'empathy': 1462, 'craig': 1030, 'headed': 2058, 'husband': 2204, 'strangely': 4212, 'eyes': 1613, 'constantly': 958, 'carrying': 701, 'use': 4692, 'choices': 798, 'situation': 4008, 'empty': 1465, 'tone': 4517, 'miles': 2843, 'ahead': 159, 'susan': 4326, 'slick': 4026, 'score': 3822, 'effective': 1429, 'feature': 1678, 'joy': 2422, 'grab': 1949, 'listen': 2619, 'achievement': 94, 'indian': 2274, 'visually': 4758, 'overwhelming': 3157, 'breathtaking': 574, 'songs': 4072, 'costumes': 1006, 'element': 1442, 'pointed': 3317, 'post': 3352, 'user': 4696, 'touch': 4533, 'warned': 4798, '11': 2, '2001': 31, 'terrorist': 4413, 'attacks': 339, 'nyc': 3065, 'produced': 3414, 'co': 867, 'oscar': 3133, 'nominated': 3025, 'la': 2500, 'screenwriter': 3833, 'won': 4925, 'gandhi': 1866, 'international': 2326, 'heavy': 2070, 'handed': 2016, 'unintentional': 4658, 'horribly': 2164, 'acted': 98, 'mess': 2818, 'tried': 4584, 'genre': 1888, 'fails': 1628, 'carrie': 697, 'fury': 1855, 'brian': 576, 'dealt': 1138, 'subject': 4253, 'matter': 2769, 'comments': 901, 'colonel': 876, 'steve': 4181, 'west': 4852, 'alex': 179, 'earth': 1403, 'historical': 2119, 'bizarre': 492, 'unknown': 4668, 'disease': 1285, 'bed': 436, 'mirror': 2861, 'melting': 2799, 'surrounding': 4319, 'town': 4541, 'develop': 1222, 'growing': 1983, 'satisfied': 3789, 'feed': 1683, 'flesh': 1753, 'drink': 1361, 'survive': 4321, 'begins': 444, 'terror': 4412, 'friend': 1835, 'ted': 4386, 'nelson': 2997, 'help': 2079, 'boss': 546, 'perry': 3237, 'kept': 2456, 'ultra': 4629, 'judy': 2426, 'ann': 244, 'sheriff': 3929, 'blake': 498, 'eaten': 1412, 'rick': 3689, 'rubbish': 3748, 'william': 4887, 'afraid': 140, 'incredible': 2269, 'hold': 2129, 'create': 1036, 'sees': 3866, 'reflection': 3585, 'factory': 1623, 'premise': 3370, 'near': 2979, 'fat': 1663, 'nurse': 3063, 'motion': 2913, 'screams': 3828, 'sounds': 4084, 'fans': 1650, 'favourite': 1673, 'mine': 2853, 'devil': 1228, 'greek': 1970, 'tragedy': 4551, 'robbery': 3711, 'continues': 971, 'control': 977, 'theyve': 4446, 'gotten': 1947, 'philip': 3252, 'hoffman': 2128, 'ethan': 1528, 'playing': 3300, 'aforementioned': 139, 'notable': 3041, 'includes': 2263, 'albert': 174, 'brother': 598, 'compelling': 916, 'narrative': 2966, 'keeps': 2451, 'frequent': 1831, 'somewhat': 4068, 'early': 1400, 'impressive': 2253, 'debut': 1143, 'sidney': 3968, 'handled': 2019, 'impressed': 2251, 'carter': 703, 'proves': 3447, 'presentation': 3375, 'similarities': 3979, 'remains': 3611, 'unique': 4662, 'brad': 560, 'pitt': 3280, 'tough': 4537, 'famous': 1647, 'extra': 1606, 'everybody': 1540, 'talks': 4361, 'pulls': 3464, 'brando': 566, 'gary': 1873, 'cooper': 990, 'dean': 1139, 'tom': 4514, 'cruise': 1071, 'law': 2538, 'garbo': 1871, 'grace': 1950, 'streep': 4215, 'julia': 2427, 'roberts': 3714, 'recently': 3567, 'buy': 640, 'ticket': 4487, 'popcorn': 3331, 'theatre': 4429, 'business': 633, 'seasons': 3844, 'plain': 3286, 'donald': 1321, 'fest': 1696, 'granted': 1957, 'arrogant': 303, 'unrealistic': 4677, 'team': 4378, 'jack': 2373, 'infamous': 2284, 'accused': 91, 'defense': 1159, 'australian': 357, 'cry': 1073, 'presents': 3377, 'scenario': 3808, 'witch': 4909, 'hunt': 2198, 'easy': 1410, 'target': 4366, 'someone': 4064, 'spoke': 4125, 'card': 681, 'move': 2921, 'horrific': 2166, 'suspect': 4327, 'hated': 2047, 'media': 2789, 'invasion': 2340, 'nation': 2969, 'michael': 2829, 'apart': 264, 'strength': 4219, 'react': 3540, 'occasionally': 3075, 'blank': 501, 'decides': 1150, 'begin': 442, 'creates': 1038, 'cold': 872, 'stood': 4199, 'cost': 1003, 'slowly': 4032, 'despair': 1207, 'except': 1556, 'news': 3005, 'eat': 1411, 'train': 4556, 'omen': 3104, 'sequel': 3885, 'satan': 3787, 'ends': 1474, 'struggle': 4234, 'factor': 1622, 'suspenseful': 4331, 'compared': 912, 'yelling': 4980, 'leads': 2548, 'miscast': 2862, 'chemistry': 782, 'richard': 3686, 'kissing': 2484, 'covers': 1024, 'tortured': 4530, 'developing': 1224, 'reasons': 3560, 'detail': 1217, 'martin': 2748, 'adam': 111, 'goldberg': 1933, 'shine': 3931, 'renting': 3629, 'money': 2888, 'driving': 1368, 'heavily': 2069, 'importantly': 2248, 'inspiration': 2300, 'sake': 3775, 'advise': 134, 'pass': 3201, 'lord': 2652, 'rated': 3527, 'below': 462, 'raped': 3522, 'boyfriend': 558, 'suffers': 4278, 'torture': 4529, 'pointless': 3318, 'kitchen': 2485, 'suffering': 4277, '30': 42, 'emily': 1456, 'waste': 4808, 'racist': 3503, 'issue': 2364, 'racism': 3502, 'countless': 1012, 'learning': 2552, 'pack': 3165, 'deals': 1137, 'ham': 2011, 'yeah': 4977, 'frankenstein': 1822, 'repeatedly': 3632, 'brutal': 603, 'dimensional': 1253, 'feminist': 1695, 'cheated': 775, 'rape': 3521, 'date': 1118, 'behave': 445, 'exactly': 1551, 'twist': 4617, 'violent': 4748, 'neo': 2998, 'nazis': 2978, 'act': 97, 'gritty': 1977, 'hitting': 2126, 'breaking': 570, 'ground': 1979, 'villains': 4745, '1930s': 11, 'challenge': 743, 'bold': 528, 'anti': 254, 'nazi': 2977, 'controversial': 978, 'dollar': 1314, 'smile': 4036, 'dreadful': 1353, 'unfolds': 4651, 'inevitably': 2283, 'vengeance': 4719, 'lots': 2662, 'mistakes': 2873, 'dialogues': 1235, 'kidding': 2465, 'deserves': 1201, 'picture': 3269, 'awards': 367, 'oscars': 3134, 'jean': 2389, 'de': 1131, 'hello': 2078, 'involves': 2348, 'shape': 3919, 'form': 1798, 'remind': 3618, 'clearly': 840, 'shooting': 3943, 'scream': 3826, 'worker': 4942, 'office': 3091, 'meets': 2795, 'party': 3200, 'convince': 983, 'belong': 459, 'loses': 2657, 'kills': 2474, 'cameos': 658, 'slightly': 4029, 'roll': 3728, 'yourself': 4993, 'theater': 4427, 'wanting': 4790, 'pay': 3216, 'anymore': 258, 'qualities': 3483, 'service': 3896, 'younger': 4990, 'distracting': 1297, 'lets': 2580, 'honest': 2146, 'hype': 2207, 'cg': 739, 'reasonable': 3558, 'idea': 2213, 'franchise': 1817, 'spending': 4106, 'months': 2897, 'panic': 3181, '2000': 30, 'choice': 797, 'macy': 2695, 'tracy': 4546, 'ritter': 3705, 'campbell': 663, 'sutherland': 4333, 'barbara': 397, 'david': 1124, 'un': 4630, 'casting': 711, 'welcome': 4842, 'normally': 3034, 'mail': 2706, 'appearances': 275, 'unhappy': 4656, 'seeks': 3860, 'psychiatrist': 3455, 'room': 3735, 'attracted': 349, 'promise': 3430, 'receives': 3565, 'discovers': 1281, 'profound': 3423, 'gentle': 1890, 'killer': 2470, 'mothers': 2912, 'quit': 3494, 'rage': 3505, 'deep': 1154, 'nearly': 2981, 'moves': 2925, 'mark': 2739, 'difference': 1246, 'loss': 2659, 'loving': 2675, 'distant': 1295, 'monsters': 2893, 'cared': 685, 'damn': 1100, 'realizes': 3554, 'repeated': 3631, 'york': 4985, 'century': 736, 'account': 89, 'brooklyn': 595, 'spanish': 4092, 'beautifully': 429, 'singer': 3993, 'hearted': 2065, 'boys': 559, 'pilot': 3276, 'misses': 2868, 'chance': 747, 'heaven': 2068, 'soldiers': 4054, 'arrive': 300, 'poignant': 3315, 'roger': 3724, 'deeply': 1156, 'appreciated': 280, 'hunter': 2199, 'planet': 3289, 'apes': 267, 'steven': 4182, 'spielberg': 4110, 'chief': 788, 'elderly': 1440, 'speaks': 4096, 'festival': 1697, 'shower': 3957, 'traditional': 4550, 'chinese': 796, 'aged': 149, 'retarded': 3663, 'city': 825, 'visit': 4755, 'cliche': 843, 'names': 2963, 'mainstream': 2709, 'hollywood': 2137, 'womens': 4924, 'jane': 2380, 'fonda': 1777, 'hell': 2077, 'visuals': 4759, 'settings': 3901, 'winner': 4897, 'cousin': 1021, 'deceased': 1146, 'morning': 2906, 'mildly': 2840, 'instant': 2305, 'humor': 2192, 'caused': 724, 'plus': 3311, 'anne': 246, 'candy': 668, 'lee': 2559, 'baker': 385, 'topless': 4527, 'elaborate': 1439, 'criminals': 1058, 'product': 3418, 'society': 4050, 'carl': 692, 'held': 2074, 'notion': 3050, 'tries': 4585, 'flashbacks': 1747, 'youth': 4994, 'viewer': 4738, 'corrupt': 1001, 'sick': 3963, 'bay': 416, 'prison': 3401, 'sadistic': 3768, 'lesser': 2576, 'robert': 3713, 'leonard': 2572, 'pity': 3281, 'gruesome': 1986, 'explanation': 1590, 'pulp': 3465, 'intelligence': 2313, 'surely': 4309, 'tends': 4402, 'crimes': 1056, 'highlight': 2103, 'loyal': 2679, 'friendly': 1836, 'judging': 2425, 'starring': 4154, 'themes': 4434, 'integrity': 2311, 'scope': 3821, 'performers': 3232, 'shes': 3930, 'ideas': 2215, 'environment': 1505, 'shop': 3945, 'science': 3816, 'eric': 1514, 'ludicrous': 2685, 'hey': 2095, 'possessed': 3347, 'heat': 2067, 'darkness': 1117, 'model': 2880, 'grows': 1985, 'charismatic': 763, 'animal': 239, 'dogs': 1311, 'teachers': 4376, 'force': 1786, 'arm': 292, 'chosen': 805, 'moronic': 2907, 'travels': 4569, 'search': 3841, 'ancient': 225, 'wall': 4781, 'painting': 3175, 'advice': 133, 'learned': 2551, 'mountain': 2917, 'curtis': 1087, 'whats': 4860, 'helen': 2075, 'ruby': 3749, 'wait': 4770, 'mysterious': 2955, 'cute': 1090, 'fire': 1734, 'bullets': 621, 'spooky': 4128, 'musical': 2947, 'tunes': 4603, 'shadow': 3912, 'hilarious': 2106, 'sister': 4001, 'hyde': 2206, 'terrifying': 4410, 'queen': 3485, 'daughter': 1121, 'ice': 2210, 'assault': 324, '13': 4, 'mentally': 2809, 'horrendous': 2162, 'coherent': 871, 'unbelievably': 4635, 'ironically': 2356, 'cringe': 1059, '60s': 54, 'sword': 4340, 'asking': 318, 'grew': 1972, 'scooby': 3820, 'doo': 1325, 'peter': 3247, 'pan': 3180, 'jerry': 2396, 'kids': 2467, 'voices': 4763, 'tune': 4602, 'appears': 278, 'gang': 1867, 'chasing': 772, 'cox': 1026, 'makers': 2715, 'credible': 1048, 'closing': 859, 'accidentally': 85, 'mixed': 2877, 'acid': 95, 'combined': 885, 'snow': 4045, 'country': 1014, '50s': 52, 'group': 1980, 'vote': 4766, 'understanding': 4645, 'copy': 994, 'amazed': 208, 'lower': 2677, 'strikes': 4225, 'girlfriend': 1910, 'questionable': 3488, 'sat': 3786, 'enjoying': 1487, 'agent': 150, 'jaw': 2384, 'agents': 151, 'gold': 1932, 'gone': 1935, 'jamie': 2379, 'bin': 483, 'zone': 4999, 'mike': 2838, 'fall': 1637, 'horse': 2170, 'race': 3499, 'tied': 4489, 'chair': 742, 'door': 1328, 'checking': 778, 'ps': 3453, 'reviewer': 3677, 'contains': 964, 'cutting': 1092, 'buck': 605, 'del': 1165, 'once': 3106, 'stomach': 4196, 'disgusting': 1286, 'brave': 567, 'shocking': 3940, 'images': 2235, 'amount': 219, 'sweet': 4336, '1983': 22, 'bo': 521, 'shirley': 3936, 'patrick': 3213, 'fifteen': 1706, 'desert': 1198, 'detective': 1220, 'clues': 865, 'nancy': 2964, 'drew': 1360, 'friday': 1834, '13th': 5, 'native': 2972, 'americans': 214, 'prime': 3395, 'suspects': 4328, 'upset': 4687, 'birthday': 487, 'slasher': 4020, 'corny': 997, 'fit': 1740, 'eighties': 1437, 'friendship': 1838, 'wear': 4830, 'multiple': 2936, 'gratuitous': 1961, 'indians': 2275, 'ed': 1415, 'intense': 2316, 'failed': 1626, 'deliver': 1169, 'side': 3965, 'obscure': 3068, 'follow': 1772, 'direct': 1258, 'stephen': 4176, 'dick': 1239, 'older': 3101, 'presence': 3373, 'mummy': 2937, 'nature': 2975, 'arms': 294, 'within': 4912, 'wed': 4835, 'dies': 1245, 'babe': 375, 'comic': 893, 'wasted': 4809, 'chase': 769, 'mob': 2879, 'burn': 625, 'familiar': 1643, 'introduced': 2337, 'audiences': 353, 'leaves': 2556, 'exotic': 1574, 'von': 4765, 'charge': 761, 'universal': 4665, 'jay': 2386, 'wrote': 4974, 'don': 1320, 'navy': 2976, 'featured': 1679, 'joe': 2407, 'darker': 1116, 'atmospheric': 334, 'shadows': 3913, 'excitement': 1562, 'semi': 3874, 'watchable': 4812, 'virtually': 4751, 'whatsoever': 4861, 'relief': 3605, 'tired': 4501, 'seconds': 3848, 'canadian': 667, 'supporting': 4304, 'commercials': 903, 'aware': 368, 'entirely': 1503, 'recognized': 3570, 'buildings': 616, 'drive': 1363, 'torn': 4528, '70': 55, 'retired': 3664, 'sentimental': 3882, 'rarely': 3524, '1972': 18, 'los': 2653, 'angeles': 233, 'museum': 2945, 'screening': 3830, 'starred': 4153, 'davies': 1125, 'worried': 4949, 'laughter': 2535, 'pleasantly': 3303, 'delightful': 1168, 'satire': 3788, 'charm': 767, 'wit': 4908, 'needless': 2989, 'technology': 4385, 'changed': 750, 'stands': 4147, 'surviving': 4323, 'performer': 3231, 'career': 686, 'concerned': 932, 'newspaper': 3006, 'enormous': 1490, 'gift': 1906, 'costume': 1005, 'dramas': 1347, 'several': 3905, 'comedies': 889, 'mill': 2845, 'showcase': 3954, 'engaging': 1481, 'likable': 2598, 'southern': 4088, 'accompanied': 86, 'determined': 1221, 'veteran': 4724, 'bits': 490, 'studio': 4240, 'suggests': 4282, 'emotions': 1461, 'portray': 3340, 'drops': 1372, 'appropriate': 283, 'expression': 1602, 'hired': 2117, 'discover': 1279, 'cops': 993, 'serious': 3891, 'occur': 3076, 'rival': 3706, 'rising': 3703, 'miss': 2866, 'hat': 2045, 'treatment': 4574, 'wicked': 4879, 'parody': 3192, 'seemingly': 3863, 'aimed': 162, 'interview': 2329, 'delivers': 1172, 'spot': 4131, 'spoof': 4127, 'relations': 3596, 'event': 1535, 'charlie': 765, 'makeup': 2717, 'seeking': 3859, 'cameo': 657, 'evening': 1534, 'taste': 4369, 'belongs': 460, 'rain': 3506, 'hollywoods': 2138, 'unlikely': 4671, 'afternoon': 144, 'classical': 836, 'trained': 4557, 'students': 4239, 'grasp': 1960, 'execution': 1566, 'forgettable': 1794, 'pop': 3330, 'ears': 1402, 'teacher': 4375, 'skip': 4016, 'accent': 78, 'theaters': 4428, 'realized': 3553, 'reached': 3537, 'natural': 2973, 'screaming': 3827, 'mid': 2832, 'means': 2783, 'weve': 4856, 'steal': 4170, 'plan': 3287, 'sell': 3871, 'countries': 1013, 'gags': 1862, 'lies': 2591, 'starting': 4158, 'uses': 4697, 'dressed': 1358, 'twelve': 4611, 'hours': 2177, 'nicholson': 3011, 'damage': 1099, 'et': 1526, 'al': 170, 'master': 2757, 'andrews': 229, 'gene': 1879, 'sophisticated': 4075, 'dress': 1357, 'parties': 3196, 'dozen': 1338, 'beat': 423, 'caught': 722, 'investigation': 2343, 'information': 2288, 'complicated': 925, 'mans': 2730, 'morgan': 2905, 'taylor': 4372, 'outstanding': 3147, 'terrific': 4409, 'features': 1680, 'solid': 4057, 'notch': 3043, 'complaint': 920, 'admittedly': 123, 'realism': 3549, 'review': 3676, 'werent': 4849, 'fights': 1710, 'interaction': 2322, 'pro': 3406, 'models': 2881, 'descent': 1193, 'forgot': 1796, 'shakespeare': 3915, 'balance': 387, 'notice': 3048, 'testament': 4417, 'gods': 1928, 'richards': 3687, 'remembered': 3617, 'reach': 3536, 'impress': 2250, 'soldier': 4053, 'orange': 3125, 'glad': 1916, 'academy': 77, 'pleased': 3305, 'suddenly': 4273, 'dance': 1103, 'musicals': 2948, 'result': 3660, 'catchy': 717, 'edited': 1420, 'weak': 4824, 'gun': 1996, 'serial': 3889, 'nick': 3012, 'trail': 4553, 'allen': 188, 'sympathetic': 4342, 'clichéd': 845, 'ready': 3546, 'dire': 1257, 'dvds': 1392, 'online': 3109, 'abc': 63, 'chicks': 787, 'movements': 2924, 'complain': 919, 'flicks': 1755, 'store': 4204, 'bugs': 613, 'faced': 1617, 'bank': 394, 'rolled': 3729, 'rabbit': 3498, 'bathroom': 412, 'interested': 2324, 'classic': 835, 'boot': 538, 'elizabeth': 1445, 'christopher': 811, 'lloyd': 2630, 'mars': 2746, 'calling': 653, 'uncle': 4636, 'lovely': 2671, 'smooth': 4041, 'alien': 183, 'bill': 481, 'overacting': 3149, 'storm': 4206, 'adequate': 120, 'production': 3419, 'adults': 126, 'kenneth': 2455, 'hamlet': 2013, 'hits': 2125, 'marks': 2742, 'magnificent': 2705, 'stunning': 4244, 'sensitive': 3879, 'screenplay': 3831, 'critics': 1064, 'branagh': 564, 'fourth': 1813, 'text': 4419, 'fly': 1763, 'hall': 2009, 'robin': 3715, 'lemmon': 2567, 'principal': 3398, 'derek': 1192, 'captures': 678, 'kate': 2446, 'depicts': 1186, 'madness': 2698, 'passion': 3205, 'pitch': 3279, 'potentially': 3356, 'delivered': 1170, 'extent': 1605, 'theatrical': 4430, 'ambitious': 211, 'successful': 4266, 'match': 2762, 'poetry': 3314, 'language': 2516, 'imagery': 2234, 'arguably': 289, 'adaptation': 113, 'deserved': 1200, 'offered': 3088, 'andrew': 228, 'miller': 2846, 'losers': 2656, 'police': 3322, 'refuses': 3587, 'outside': 3146, 'met': 2822, 'mom': 2885, 'disappear': 1270, 'realize': 3552, 'cars': 702, 'road': 3709, '60': 53, 'improve': 2254, 'elements': 1443, 'response': 3654, 'russell': 3761, 'talent': 4354, 'blend': 504, 'approach': 282, 'pace': 3161, 'contrast': 975, 'previously': 3388, 'jason': 2383, 'effort': 1432, 'outcome': 3142, '90s': 61, 'foreign': 1790, 'non': 3027, 'existent': 1572, 'hopeless': 2158, 'par': 3184, 'plots': 3310, 'broken': 594, 'remain': 3609, 'weird': 4841, 'indie': 2276, 'abysmal': 76, 'crash': 1033, 'prepared': 3371, 'poster': 3353, 'missed': 2867, 'opportunities': 3120, 'inspired': 2301, 'striking': 4226, 'struggling': 4236, 'molly': 2884, 'segment': 3867, 'hysterical': 2208, 'teen': 4388, 'sexy': 3911, 'outrageous': 3145, 'badly': 383, 'london': 2641, 'mighty': 2836, 'forced': 1787, 'corpse': 999, 'versions': 4721, 'suggested': 4281, 'zombies': 4998, 'hilariously': 2107, 'witty': 4917, 'wars': 4804, 'landscape': 2513, 'status': 4165, 'familys': 1646, 'robinson': 3716, 'fear': 1676, 'pair': 3176, 'cliché': 844, 'pet': 3246, 'routine': 3743, 'mrs': 2930, 'contain': 962, 'connection': 946, 'beloved': 461, 'ages': 152, 'twisted': 4618, 'unsettling': 4679, '17': 9, 'wish': 4904, 'helping': 2081, 'books': 536, 'emma': 1457, 'recall': 3562, 'adorable': 124, 'proud': 3444, 'aside': 315, 'decade': 1144, 'cook': 988, 'continue': 969, 'grown': 1984, 'central': 735, 'fathers': 1667, 'standards': 4145, 'adapted': 114, 'ear': 1397, 'project': 3427, 'niro': 3019, 'producers': 3416, 'faithful': 1634, 'cuba': 1075, 'class': 833, 'courage': 1018, 'honor': 2150, 'respect': 3652, 'favorite': 1671, 'corporate': 998, 'lawyer': 2541, 'ordinary': 3128, 'greater': 1965, 'vs': 4767, 'practice': 3363, 'huh': 2187, 'key': 2458, 'eerie': 1427, 'pulling': 3463, 'attorney': 348, 'treats': 4575, 'process': 3412, 'safety': 3772, 'le': 2544, 'million': 2847, 'cinemas': 817, 'directors': 1266, 'gem': 1877, 'influenced': 2287, 'subsequent': 4257, 'artist': 307, 'wins': 4899, 'device': 1227, 'middle': 2833, 'paris': 3189, 'stolen': 4195, 'football': 1783, 'blonde': 511, 'delight': 1167, 'deadly': 1133, 'rolling': 3730, 'highest': 2102, 'embarrassment': 1455, 'stereotype': 4178, 'community': 908, 'mention': 2810, 'talents': 4356, 'davis': 1126, 'scale': 3802, 'speed': 4103, 'relative': 3599, '100': 1, 'sports': 4130, 'relatively': 3600, 'required': 3641, 'amongst': 218, 'mere': 2814, 'frame': 1815, 'swear': 4334, 'wet': 4855, 'pants': 3182, 'japanese': 2382, 'ford': 1789, 'alongside': 196, 'doors': 1329, 'perfectly': 3226, 'whoever': 4872, 'millions': 2848, 'blow': 514, 'pretend': 3381, 'dirty': 1268, 'tall': 4362, 'heroine': 2091, 'statement': 4162, 'finds': 1728, 'oil': 3097, 'performs': 3234, 'band': 391, 'lyrics': 2692, 'laughable': 2530, 'string': 4227, 'wishes': 4906, 'illegal': 2229, 'eddie': 1416, 'drawn': 1351, 'leo': 2571, 'iraq': 2351, 'sleazy': 4023, 'serves': 3895, 'limited': 2606, 'mile': 2842, 'block': 508, 'walker': 4778, 'sun': 4292, 'faces': 1618, 'vegas': 4717, 'strictly': 4223, 'sucks': 4271, 'ratings': 3530, 'relate': 3593, 'trust': 4598, 'meet': 2793, 'everyones': 1543, 'stage': 4139, 'worthwhile': 4955, 'ralph': 3510, 'olivier': 3103, 'covered': 1023, 'painful': 3171, 'russian': 3762, 'terrorists': 4414, 'christmas': 810, 'september': 3884, 'results': 3662, 'mexican': 2826, 'restaurant': 3658, 'types': 4622, 'generally': 1881, 'gory': 1943, 'site': 4005, 'philosophy': 3254, 'comparison': 914, 'sunday': 4293, 'streisand': 4218, 'vehicle': 4718, 'lady': 2507, 'wishing': 4907, 'insight': 2298, 'nowadays': 3055, 'vampires': 4712, 'trick': 4582, 'executive': 1567, 'tragic': 4552, 'jon': 2416, 'convincing': 985, 'plague': 3285, 'likes': 2602, 'robot': 3717, 'jones': 2418, 'maggie': 2702, 'kevin': 2457, 'lively': 2627, 'fail': 1625, 'mr': 2929, 'builds': 617, 'neither': 2996, 'bringing': 586, 'bride': 577, 'occasional': 3074, 'tongue': 4518, 'cheek': 779, 'check': 777, 'grant': 1956, 'absolute': 71, 'mouse': 2919, 'pre': 3365, 'tarzan': 4367, 'numbers': 3061, 'slapstick': 4019, 'pit': 3278, 'fiction': 1702, 'regardless': 3590, 'exceptional': 1558, 'aspect': 321, 'juvenile': 2441, 'uninspired': 4657, 'cardboard': 682, 'clichés': 846, 'dialog': 1232, 'touched': 4534, 'matters': 2770, 'oddly': 3081, 'california': 650, 'purple': 3473, 'mary': 2751, 'drives': 1367, 'handful': 2017, 'scott': 3824, 'bucks': 606, 'companion': 909, 'explicit': 1591, 'blatant': 502, 'jealous': 2388, 'burt': 629, 'surprisingly': 4316, 'circumstances': 822, 'ingredients': 2289, 'melodrama': 2797, 'remarkable': 3613, 'damon': 1101, 'square': 4136, 'prior': 3400, 'basis': 408, 'joseph': 2419, 'nostalgic': 3039, 'tribute': 4581, 'area': 286, 'toward': 4539, 'lights': 2597, 'possibilities': 3348, 'street': 4216, 'letting': 2583, 'repeat': 3630, 'closely': 855, 'abilities': 64, 'sinatra': 3989, 'simmons': 3981, 'sky': 4017, 'sarah': 3785, 'brown': 601, 'portraying': 3343, 'ms': 2931, 'johnson': 2411, 'laughed': 2532, 'randomly': 3515, 'dinosaur': 1255, 'complexity': 924, 'wanna': 4786, 'thrown': 4481, 'added': 116, 'intensity': 2317, 'blair': 497, 'produce': 3413, 'gripping': 1976, 'focus': 1766, 'established': 1524, 'british': 589, 'student': 4238, 'st': 4137, 'explained': 1587, 'hood': 2151, 'ride': 3692, 'outfit': 3144, 'hide': 2097, 'michelle': 2830, 'addition': 118, 'eve': 1532, 'sid': 3964, 'return': 3665, 'enjoyment': 1488, 'related': 3594, 'grandmother': 1955, 'england': 1482, 'attitudes': 347, 'experienced': 1581, 'represent': 3637, 'transfer': 4559, 'vietnam': 4735, 'breasts': 572, 'exposed': 1598, 'effectively': 1430, 'edge': 1418, 'mix': 2876, 'sadness': 3770, 'listed': 2618, 'available': 361, 'remaining': 3610, 'painted': 3174, 'stock': 4193, 'visual': 4757, 'bag': 384, 'separate': 3883, 'blame': 499, 'trip': 4588, 'price': 3389, 'rental': 3627, 'magical': 2704, 'board': 522, 'associated': 327, 'crime': 1055, 'filmmaker': 1719, 'maria': 2736, 'ii': 2226, 'spends': 4107, 'marriage': 2743, 'willing': 4889, 'necessary': 2984, 'expert': 1585, 'glimpse': 1919, 'germany': 1898, 'shines': 3932, 'decide': 1148, 'suck': 4269, 'insult': 2309, 'contrary': 974, 'arnold': 296, 'raise': 3507, 'paid': 3169, 'equipment': 1511, 'vice': 4727, 'affect': 136, '90': 60, 'hurt': 2202, 'shorts': 3948, 'appeal': 271, 'absurd': 73, 'ironic': 2355, 'childish': 791, 'common': 906, 'centered': 733, 'cross': 1066, 'include': 2261, 'noise': 3024, 'five': 1743, 'empire': 1464, 'roots': 3738, 'figures': 1713, 'effect': 1428, 'idiots': 2220, 'fish': 1738, 'excessive': 1560, 'closest': 857, 'chorus': 803, 'neck': 2985, 'removed': 3624, 'unexpected': 4650, 'foul': 1810, 'someones': 4065, 'closer': 856, 'stanley': 4148, 'directs': 1267, 'thrills': 4475, 'domino': 1319, 'perform': 3227, 'task': 4368, 'widmark': 4882, 'presumably': 3380, 'government': 1948, 'asks': 319, 'confusion': 943, 'boredom': 542, 'photographed': 3258, 'devoid': 1230, 'nasty': 2968, 'cruel': 1070, 'mickey': 2831, 'sidekick': 3966, 'trailer': 4554, 'suited': 4286, 'revolution': 3680, '25': 40, 'europe': 1529, 'surprising': 4315, 'political': 3324, 'crowd': 1067, 'heroes': 2089, 'captain': 674, 'returned': 3666, 'currently': 1085, 'blew': 505, 'vhs': 4725, 'internet': 2327, 'worlds': 4947, 'website': 4834, 'rendition': 3625, 'translation': 4562, 'cd': 728, 'sadly': 3769, 'dramatic': 1348, 'various': 4715, 'green': 1971, 'sequences': 3888, 'secondly': 3847, 'terribly': 4408, 'thru': 4483, '45': 50, 'opened': 3113, 'reveal': 3670, 'constructed': 959, 'attached': 336, 'mechanical': 2788, 'murdered': 2940, 'overly': 3155, 'shoots': 3944, 'walk': 4775, 'depth': 1190, 'machines': 2694, 'rangers': 3517, 'humans': 2190, 'scenery': 3810, 'shortly': 3947, 'choreographed': 801, 'li': 2587, 'ya': 4976, 'glass': 1917, 'flying': 1764, 'ass': 323, 'fellow': 1691, 'anthony': 253, 'unfortunate': 4653, 'jobs': 2406, 'countryside': 1015, 'proper': 3436, 'explosions': 1597, 'arts': 310, 'dreary': 1356, 'animals': 240, 'winter': 4900, 'forgotten': 1797, 'lived': 2626, 'imagined': 2239, 'river': 3707, 'fascinating': 1658, 'recorded': 3574, 'western': 4853, 'titles': 4506, 'record': 3573, 'duty': 1390, 'ball': 388, 'wind': 4893, '1999': 27, 'advance': 127, 'thousands': 4466, 'namely': 2962, 'root': 3737, 'ridden': 3691, 'bite': 489, 'rare': 3523, 'web': 4833, 'struck': 4232, 'alas': 172, 'shall': 3916, 'steps': 4177, 'lincoln': 2608, 'wise': 4903, 'court': 1020, 'vivid': 4760, 'historically': 2120, 'accurate': 90, 'shake': 3914, 'hopes': 2159, 'sequels': 3886, 'figured': 1712, 'officer': 3092, 'annoyed': 248, 'placed': 3283, 'goofy': 1939, 'dinosaurs': 1256, 'drag': 1342, '50': 51, 'ran': 3513, 'rex': 3683, 'smiling': 4037, 'walked': 4776, 'wayne': 4821, 'stiff': 4187, 'noticed': 3049, 'harder': 2035, 'military': 2844, 'weapons': 4829, 'stooges': 4200, '15': 7, 'week': 4837, 'judge': 2424, 'dancers': 1105, 'easier': 1405, 'indeed': 2271, 'dubbed': 1379, 'singers': 3994, 'commit': 904, 'guilty': 1995, 'smaller': 4034, 'passed': 3202, 'network': 3000, 'cable': 644, 'breath': 573, 'fresh': 1833, 'thank': 4421, 'graphics': 1959, 'considering': 952, 'marvelous': 2750, 'lisa': 2616, 'creating': 1039, 'lovable': 2668, 'jewish': 2401, 'context': 968, 'deserve': 1199, 'pride': 3391, 'speak': 4094, 'accents': 79, 'creators': 1044, 'hopefully': 2157, 'bette': 471, 'leslie': 2574, 'howard': 2182, 'shed': 3924, 'legend': 2564, 'manipulative': 2727, 'mildred': 2841, 'rogers': 3725, 'dangerous': 1110, 'award': 366, 'received': 3564, 'interviews': 2330, 'videos': 4734, 'recognize': 3569, 'borrowed': 545, '20th': 38, 'earned': 1401, 'golden': 1934, 'characterization': 759, 'center': 732, 'whereas': 4865, 'born': 544, 'gifted': 1907, 'anna': 245, 'smith': 4038, 'comparing': 913, 'goal': 1925, 'sent': 3880, 'message': 2819, 'arrived': 301, 'hop': 2154, 'lake': 2509, 'regret': 3591, 'jesus': 2399, 'christ': 807, 'humble': 2191, 'lousy': 2667, 'buddies': 608, 'ships': 3935, 'ginger': 1908, 'competition': 918, 'sally': 3776, 'anyways': 262, 'industry': 2280, 'dutch': 1389, 'complex': 923, 'fallen': 1638, 'ship': 3934, 'mainly': 2708, 'believable': 453, 'tooth': 4524, '35': 45, 'minimum': 2856, 'design': 1202, 'lack': 2502, 'suicide': 4283, 'mission': 2870, 'medical': 2790, 'reactions': 3542, 'patients': 3212, 'allowing': 191, 'values': 4710, 'replaced': 3634, 'kapoor': 2443, 'acts': 107, 'india': 2273, 'flawless': 1751, 'basketball': 409, 'coach': 868, 'winning': 4898, 'lees': 2560, 'hill': 2108, 'competent': 917, 'write': 4967, 'protagonist': 3441, 'capital': 673, 'gain': 1863, 'unable': 4631, 'laughs': 2534, 'homosexual': 2145, 'relevant': 3604, 'border': 539, 'extreme': 1609, 'development': 1225, 'serving': 3897, 'forbidden': 1785, 'owner': 3159, 'source': 4086, 'crafted': 1029, 'expressions': 1603, 'touches': 4535, 'onto': 3111, 'current': 1084, 'virgin': 4749, 'bible': 477, 'stops': 4203, 'beauty': 430, 'largely': 2518, 'individuals': 2278, 'travel': 4567, 'attraction': 350, 'escaped': 1518, 'photographer': 3259, 'van': 4713, 'seek': 3858, 'solely': 4056, 'families': 1644, 'inappropriate': 2259, 'mood': 2898, 'punch': 3466, 'ridiculously': 3694, 'batman': 413, 'grey': 1973, 'evident': 1547, 'paced': 3162, 'teenage': 4389, 'werewolf': 4850, 'colorful': 878, 'alice': 182, 'ghost': 1902, 'broke': 593, 'hint': 2112, 'uneven': 4649, 'pops': 3332, 'actresses': 106, 'remote': 3622, 'sexually': 3910, 'demon': 1177, 'saved': 3795, 'facing': 1620, 'victoria': 4732, 'struggles': 4235, 'blunt': 520, 'wears': 4832, 'transition': 4561, 'sides': 3967, 'vulnerable': 4768, 'prince': 3396, 'share': 3920, 'sir': 4000, 'focused': 1767, 'impact': 2244, 'tend': 4400, 'nor': 3032, 'princess': 3397, 'rose': 3739, 'adds': 119, 'length': 2569, 'lose': 2654, 'appreciation': 281, 'afterwards': 145, 'ruined': 3751, 'blues': 519, 'folk': 1770, 'hideous': 2098, 'silence': 3974, 'refreshing': 3586, 'gas': 1874, 'ensues': 1493, 'womans': 4922, 'farm': 1656, 'charming': 768, 'build': 614, 'successfully': 4267, 'pulled': 3462, 'spring': 4134, 'dozens': 1339, 'choose': 799, 'chose': 804, '1990': 24, '2007': 37, 'revolves': 3682, 'criminal': 1057, 'stealing': 4171, 'houses': 2180, 'voight': 4764, 'prove': 3445, 'godfather': 1927, 'masterpieces': 2760, 'stretched': 4222, 'cinematographer': 819, 'range': 3516, '40s': 49, 'noir': 3023, 'occurs': 3078, 'opinions': 3119, 'appalling': 268, 'fred': 1825, 'shelf': 3926, 'closed': 854, 'dropping': 1371, 'wacky': 4769, 'necessarily': 2983, 'assume': 328, 'neighborhood': 2993, 'paint': 3173, 'reel': 3581, 'downright': 1337, 'attack': 337, 'consists': 955, 'reference': 3582, 'summary': 4290, 'drugs': 1374, 'creature': 1045, 'hills': 2109, 'twenty': 4612, 'journey': 2421, 'sunshine': 4294, '75': 57, 'embarrassed': 1453, 'steel': 4173, 'murderer': 2941, 'suffered': 4276, 'confusing': 942, 'conversation': 980, 'sucked': 4270, 'coffee': 870, 'wondering': 4930, '12': 3, 'stones': 4198, 'honestly': 2147, 'halfway': 2008, 'quick': 3490, 'wasting': 4810, 'favor': 1670, 'adventure': 130, 'novel': 3052, 'columbo': 881, 'helped': 2080, 'france': 1816, 'combination': 883, 'sue': 4274, 'fbi': 1675, 'viewed': 4737, 'edgar': 1417, 'stewart': 4184, 'hamilton': 2012, 'highlights': 2104, 'undoubtedly': 4648, 'chicago': 785, 'operation': 3117, 'depicted': 1183, 'treated': 4573, 'ignored': 2225, 'threat': 4467, 'mafia': 2700, 'south': 4087, 'blacks': 494, 'yesterday': 4983, 'deeper': 1155, 'brosnan': 597, 'noble': 3021, 'danny': 1112, 'mexico': 2827, 'drinking': 1362, 'loser': 2655, 'admire': 121, 'simpson': 3987, 'bus': 631, 'driver': 1366, 'tour': 4538, 'combine': 884, 'image': 2233, 'tight': 4492, 'jumping': 2431, 'building': 615, 'max': 2774, 'promises': 3432, 'appealing': 272, 'capable': 672, 'eg': 1434, 'unintentionally': 4659, 'hip': 2114, 'mtv': 2933, 'overcome': 3151, 'drags': 1345, 'distinct': 1296, 'bergman': 466, 'scare': 3803, 'domestic': 1318, 'ashley': 313, 'victor': 4731, 'decisions': 1152, 'lacking': 2504, 'tense': 4403, 'unpredictable': 4675, 'failure': 1629, 'suspense': 4330, 'credibility': 1047, 'frustrated': 1842, 'achieve': 92, 'appearing': 277, 'sleep': 4024, 'teens': 4392, 'teenagers': 4391, 'fake': 1635, 'enter': 1494, 'staff': 4138, 'prevent': 3385, 'sport': 4129, 'detailed': 1218, 'generous': 1886, 'misery': 2865, 'meaning': 2780, 'term': 4405, 'ring': 3698, 'royal': 3746, 'cameras': 660, 'spectacular': 4101, 'accepted': 82, 'wound': 4960, 'agrees': 157, 'amounts': 220, 'hooked': 2153, 'mate': 2765, 'meant': 2784, 'skin': 4015, 'department': 1182, 'lab': 2501, 'variety': 4714, 'texas': 4418, 'caring': 691, 'spoiled': 4122, 'clown': 862, 'physical': 3262, 'daddy': 1096, 'absence': 70, 'copies': 992, 'dislike': 1288, 'harsh': 2040, 'fix': 1744, 'slap': 4018, 'accomplished': 87, 'carrey': 696, 'freeman': 1829, 'jennifer': 2392, 'size': 4012, 'stays': 4169, 'heston': 2094, 'enters': 1496, 'gangsters': 1869, 'tony': 4521, 'buying': 641, 'bourne': 554, 'alfred': 181, 'spider': 4109, 'doc': 1303, 'destiny': 1212, 'jump': 2429, 'physically': 3263, 'humorous': 2193, 'originally': 3131, 'reynolds': 3684, 'twice': 4613, 'marie': 2737, 'chases': 771, 'revelation': 3674, 'menace': 2806, 'sinister': 3998, 'composed': 926, 'secretary': 3850, 'bob': 524, 'switch': 4339, 'destroy': 1213, 'wood': 4933, 'editor': 1423, 'cabin': 643, 'fever': 1699, 'regular': 3592, 'captivating': 675, 'neil': 2995, 'felix': 1689, 'massive': 2756, 'row': 3744, 'sends': 3876, 'agreed': 156, 'attitude': 346, 'shelley': 3928, 'priceless': 3390, 'walter': 4784, 'open': 3112, 'cusack': 1088, 'inspiring': 2302, 'resources': 3651, 'tons': 4520, 'guns': 1998, 'aliens': 184, 'precious': 3366, 'market': 2740, 'filming': 1718, 'blob': 507, 'birth': 486, 'revealed': 3671, 'carol': 693, 'reed': 3580, '2004': 34, 'uk': 4626, 'oliver': 3102, 'decades': 1145, 'display': 1291, 'motivations': 2915, 'beings': 449, 'hearts': 2066, 'consistent': 953, 'pleasant': 3302, 'content': 966, 'lone': 2642, 'wisdom': 4902, 'innocence': 2293, 'condition': 937, 'join': 2412, 'messages': 2820, 'opposite': 3123, 'stranger': 4213, 'aunt': 355, 'kennedy': 2454, 'property': 3438, 'comedic': 888, 'hart': 2041, 'dorothy': 1330, 'buff': 611, 'parallel': 3185, 'rise': 3702, 'mgm': 2828, 'national': 2970, 'reunion': 3669, 'collection': 874, 'sold': 4052, 'president': 3378, 'pot': 3354, 'deaf': 1134, 'blind': 506, 'loves': 2674, 'gag': 1861, 'promised': 3431, 'existed': 1570, 'amateur': 206, 'moody': 2899, 'farce': 1654, 'errors': 1516, 'broadway': 592, 'asleep': 320, 'correct': 1000, 'flash': 1745, 'spirit': 4113, 'essence': 1521, 'usa': 4691, 'bridge': 578, 'westerns': 4854, 'roy': 3745, 'captured': 677, 'taught': 4370, 'kick': 2460, 'command': 897, 'furthermore': 1854, 'lou': 2663, 'diamond': 1236, 'differences': 1247, 'mysteries': 2954, 'troubled': 4593, 'horses': 2171, 'canada': 666, 'writes': 4970, 'trek': 4578, 'formula': 1802, 'entry': 1504, 'triumph': 4590, 'allow': 189, 'enterprise': 1495, 'kirk': 2482, 'lewis': 2586, 'encounter': 1466, 'tiger': 4491, 'anybody': 257, 'topic': 4526, 'funnier': 1850, 'notably': 3042, 'recognition': 3568, 'unseen': 4678, 'definition': 1163, 'roman': 3731, 'polanski': 3321, 'fame': 1642, 'knife': 2487, 'embarrassing': 1454, '1968': 16, 'thanks': 4423, 'finale': 1723, 'destroying': 1215, '1960s': 15, 'irritating': 2359, 'circle': 821, 'thrilling': 4474, 'pacing': 3163, 'ten': 4399, 'argument': 291, 'upper': 4685, 'hotel': 2175, 'mistaken': 2872, '30s': 44, 'nostalgia': 3038, 'poetic': 3313, 'description': 1197, 'throat': 4476, 'instantly': 2306, 'wore': 4939, 'endearing': 1469, 'sight': 3969, 'prefer': 3368, 'cup': 1080, 'ward': 4793, 'flashback': 1746, 'keaton': 2448, 'acceptable': 81, 'abusive': 75, 'selfish': 3870, 'causes': 725, 'phantom': 3251, 'seat': 3845, 'picks': 3268, 'norman': 3035, 'awfully': 373, 'introduces': 2338, 'brady': 561, 'realizing': 3555, 'chooses': 800, 'emphasis': 1463, 'notes': 3046, 'weight': 4840, 'sings': 3997, 'paying': 3217, 'attractive': 351, 'promising': 3433, 'method': 2824, 'innovative': 2295, 'laughably': 2531, 'arthur': 305, 'powell': 3358, 'comical': 894, 'contained': 963, 'valuable': 4708, 'politically': 3325, 'population': 3335, 'americas': 215, 'larger': 2519, 'combat': 882, 'forces': 1788, 'irony': 2357, 'hook': 2152, 'waited': 4771, 'contact': 961, 'literature': 2623, 'creativity': 1042, 'moore': 2901, 'genres': 1889, 'francis': 1818, 'studios': 4241, 'jimmy': 2403, 'cagney': 646, 'wing': 4896, 'strip': 4228, 'twilight': 4614, 'rights': 3697, 'individual': 2277, 'references': 3583, 'yellow': 4981, 'finest': 1730, 'lying': 2690, 'chilling': 794, 'artificial': 306, 'timeless': 4496, 'plant': 3293, 'rocky': 3723, 'relatives': 3601, 'antics': 255, 'curiosity': 1082, 'requires': 3642, 'clips': 852, '2005': 35, 'luke': 2687, 'duke': 1383, 'jessica': 2398, 'pink': 3277, 'dave': 1123, 'harris': 2038, 'longer': 2645, 'guessed': 1990, 'nuts': 3064, 'beer': 439, 'corner': 996, 'proceeds': 3411, 'planned': 3290, 'plans': 3292, 'alcohol': 176, '24': 39, 'foot': 1781, 'digital': 1251, 'dating': 1120, 'rid': 3690, 'fits': 1741, 'spoil': 4121, 'fare': 1655, 'alan': 171, 'authority': 360, 'dignity': 1252, 'civilization': 827, 'glory': 1922, 'experiments': 1584, 'exception': 1557, 'wake': 4774, 'irrelevant': 2358, 'position': 3345, 'performed': 3230, 'workers': 4943, 'merely': 2815, 'states': 4163, 'explains': 1589, 'mini': 2854, 'improvement': 2256, 'todays': 4509, 'forgive': 1795, 'ron': 3734, 'merits': 2817, 'pseudo': 3454, 'views': 4742, 'timing': 4498, 'capture': 676, 'productions': 3420, 'warm': 4794, 'sleeping': 4025, 'harry': 2039, 'succeed': 4262, 'hanks': 2025, 'fox': 1814, 'turner': 4607, 'perfection': 3225, 'groups': 1981, 'staring': 4152, 'soviet': 4089, 'somebody': 4062, 'wave': 4818, 'financial': 1725, 'vast': 4716, 'zero': 4996, 'traveling': 4568, 'hiding': 2099, 'tea': 4373, 'portrays': 3344, 'provided': 3449, 'hates': 2048, 'bird': 484, 'drivel': 1364, 'understandable': 4644, 'pays': 3218, 'backdrop': 379, 'bang': 393, 'disjointed': 1287, 'understated': 4646, 'bone': 533, 'challenging': 744, 'distance': 1294, 'kicking': 2462, 'masters': 2761, 'outer': 3143, 'limits': 2607, 'sole': 4055, 'dracula': 1341, 'lugosi': 2686, 'gross': 1978, 'suits': 4287, 'snake': 4042, 'mental': 2808, 'crack': 1027, 'bedroom': 437, 'erotic': 1515, 'spite': 4117, 'freddy': 1826, 'rubber': 3747, 'powers': 3361, 'dan': 1102, 'blockbuster': 509, 'cheese': 780, 'delivering': 1171, 'specific': 4099, 'shy': 3962, 'suit': 4284, 'facial': 1619, 'demands': 1175, 'streets': 4217, 'concerns': 934, 'hollow': 2135, 'sits': 4006, 'specifically': 4100, 'alert': 178, 'wide': 4880, 'designs': 1204, 'scheme': 3812, 'nonetheless': 3029, 'denzel': 1181, 'washington': 4806, 'skills': 4014, 'connect': 944, 'lifestyle': 2593, 'china': 795, 'disaster': 1276, 'reporter': 3636, 'causing': 726, 'ruthless': 3764, 'chased': 770, 'faults': 1669, 'endure': 1475, 'corruption': 1002, 'ben': 463, 'daniel': 1111, 'genuine': 1891, 'fabulous': 1615, 'piano': 3264, 'proceedings': 3410, 'false': 1641, 'bound': 553, 'san': 3780, 'scores': 3823, 'kung': 2498, 'fu': 1844, 'connected': 945, 'similarly': 3980, 'clint': 850, 'eastwood': 1409, 'suitable': 4285, 'adams': 112, 'beats': 426, 'smoking': 4040, 'flop': 1760, 'ad': 110, 'landing': 2512, 'proof': 3434, 'inner': 2292, 'conspiracy': 956, 'theory': 4437, 'logical': 2639, 'properly': 3437, 'basement': 405, 'firstly': 1737, 'dated': 1119, 'revolutionary': 3681, 'intellectual': 2312, 'ourselves': 3140, 'educational': 1425, 'ties': 4490, 'hence': 2083, 'witness': 4914, 'involve': 2345, 'nobody': 3022, 'uncomfortable': 4637, 'bleak': 503, 'baseball': 403, 'players': 3299, 'win': 4892, 'championship': 745, 'partly': 3197, 'bargain': 400, 'lena': 2568, 'lovers': 2673, 'angela': 232, 'glover': 1923, 'provoking': 3452, 'mindless': 2851, 'improved': 2255, 'tedious': 4387, 'tremendous': 4579, 'creator': 1043, 'existence': 1571, 'minds': 2852, 'exist': 1569, 'greatly': 1967, 'neat': 2982, 'mentioning': 2812, 'facts': 1624, 'university': 4667, 'caliber': 649, 'expressed': 1601, 'eyed': 1612, 'devoted': 1231, 'window': 4894, 'object': 3066, 'obsession': 3070, 'forever': 1792, 'designed': 1203, 'guarantee': 1987, 'treasure': 4571, 'nervous': 2999, 'disturbing': 1300, 'hong': 2149, 'surface': 4310, 'humanity': 2189, 'abuse': 74, 'anger': 235, 'redemption': 3578, 'obsessed': 3069, 'purchased': 3470, 'flaws': 1752, 'personalities': 3241, 'regard': 3588, 'saturday': 3792, 'liberal': 2588, 'marketing': 2741, 'mature': 2773, 'daring': 1114, 'disturbed': 1299, 'technique': 4383, 'justify': 2439, 'program': 3424, 'remarks': 3615, 'messed': 2821, 'tomatoes': 4515, 'nights': 3016, 'paranoia': 3186, 'selling': 3873, 'tricks': 4583, 'fashioned': 1660, 'dinner': 1254, 'bell': 458, 'splendid': 4119, 'buried': 624, 'enjoys': 1489, 'instinct': 2308, 'stone': 4197, 'vicious': 4728, 'resemblance': 3645, 'catherine': 719, 'rank': 3518, 'destroyed': 1214, 'japan': 2381, 'bonus': 534, 'activities': 102, 'pull': 3461, 'entertain': 1497, 'halloween': 2010, 'downhill': 1336, 'disagree': 1269, 'shining': 3933, 'ranks': 3519, 'training': 4558, 'unit': 4663, 'typically': 4624, 'unbearable': 4633, 'jazz': 2387, 'march': 2734, 'creatures': 1046, 'disneys': 1290, 'eager': 1396, 'exploitation': 1592, 'sheer': 3925, 'grim': 1974, 'bumbling': 622, 'idiot': 2218, 'cinderella': 815, 'grand': 1953, 'handsome': 2021, 'teaching': 4377, 'wholly': 4874, 'thumbs': 4485, 'robots': 3718, 'plastic': 3294, 'prize': 3405, 'progresses': 3426, 'meaningful': 2781, 'trilogy': 4586, 'faster': 1662, 'staged': 4140, 'tiresome': 4502, 'dollars': 1315, 'signs': 3973, 'raymond': 3534, 'bitter': 491, 'korean': 2495, 'discussion': 1284, 'intimate': 2331, 'overlooked': 3154, 'cases': 708, 'innocent': 2294, 'underground': 4640, 'religious': 3608, 'pleasure': 3306, 'offended': 3085, '3000': 43, 'riding': 3695, 'widow': 4883, 'apartment': 265, 'lay': 2542, 'claims': 830, 'graphic': 1958, 'cannibal': 669, 'push': 3477, 'ho': 2127, 'hardcore': 2034, 'notorious': 3051, 'reputation': 3640, 'bollywood': 530, 'hundred': 2195, 'thousand': 4465, 'bullet': 620, 'invisible': 2344, 'spell': 4104, 'trapped': 4564, 'ignore': 2224, 'shallow': 3917, 'glenn': 1918, 'committed': 905, 'sacrifice': 3766, 'communist': 907, 'politics': 3326, 'subtitles': 4259, 'library': 2589, 'understood': 4647, 'guessing': 1991, 'raised': 3508, 'kicked': 2461, 'thugs': 4484, 'soccer': 4048, 'quirky': 3493, 'sticks': 4186, 'hurts': 2203, 'luckily': 2682, 'stylish': 4251, 'matches': 2764, 'lengthy': 2570, 'hoped': 2156, 'mixture': 2878, 'portrait': 3339, 'jeffrey': 2391, 'floating': 1758, 'cowboy': 1025, 'ruth': 3763, 'mann': 2728, 'jeff': 2390, 'memory': 2804, 'homage': 2141, 'cleverly': 842, 'originality': 3130, 'picking': 3267, 'global': 1920, 'warming': 4795, 'belief': 451, 'failing': 1627, 'disc': 1278, 'official': 3094, 'inventive': 2341, 'nose': 3037, 'delivery': 1173, 'props': 3439, 'behavior': 446, 'threw': 4470, 'test': 4416, 'east': 1407, 'odds': 3082, 'peace': 3219, 'stole': 4194, 'concert': 935, 'hbo': 2055, 'performing': 3233, 'charisma': 762, 'rap': 3520, 'advantage': 129, 'beneath': 464, 'thrill': 4471, 'cube': 1076, 'send': 3875, 'minded': 2850, 'areas': 287, 'resolution': 3649, 'argue': 290, 'purely': 3472, 'per': 3223, 'unpleasant': 4674, 'hatred': 2049, 'amitabh': 216, 'ignorant': 2223, 'built': 618, 'intrigued': 2334, 'express': 1600, 'tape': 4365, 'carefully': 689, 'flawed': 1750, 'initially': 2291, 'increasingly': 2268, 'desperation': 1210, 'doctors': 1305, 'union': 4661, 'inevitable': 2282, 'offering': 3089, 'demand': 1174, 'league': 2549, 'unforgettable': 4652, 'succeeded': 4263, 'loosely': 2651, 'pig': 3274, 'brand': 565, 'meat': 2787, 'twins': 4616, 'explore': 1594, 'introduce': 2336, 'worn': 4948, 'bare': 398, 'united': 4664, 'naturally': 2974, 'shut': 3961, 'wreck': 4965, 'offensive': 3086, 'dolph': 1317, 'hunting': 2201, 'fisher': 1739, 'according': 88, 'cares': 690, 'fortune': 1806, 'location': 2635, 'flow': 1762, 'dropped': 1370, 'encounters': 1467, 'bobby': 525, 'lazy': 2543, 'tender': 4401, 'saga': 3773, 'tear': 4379, 'watches': 4814, 'protect': 3443, 'castle': 712, 'imaginative': 2237, 'extras': 1608, 'trailers': 4555, 'curious': 1083, 'chapter': 757, 'displayed': 1292, 'cultural': 1078, 'link': 2613, 'alternate': 200, 'spy': 4135, 'enemies': 1476, 'matt': 2768, 'cities': 823, 'crush': 1072, 'served': 3894, 'miserable': 2863, 'joined': 2413, 'equal': 1509, 'rotten': 3740, 'swedish': 4335, 'turkey': 4604, 'cake': 648, 'lifetime': 2594, 'conflicts': 940, 'risk': 3704, 'modesty': 2883, 'novels': 3053, 'commented': 900, 'weakest': 4825, 'handle': 2018, 'useless': 4695, 'troops': 4591, 'culture': 1079, 'spirits': 4115, 'learns': 2553, 'marry': 2745, 'da': 1094, 'hippie': 2115, 'continued': 970, 'ninja': 3018, 'bears': 421, 'explaining': 1588, 'artists': 309, 'drawing': 1350, 'grandfather': 1954, 'ashamed': 312, 'bettie': 473, 'kudos': 2497, 'thick': 4447, 'bush': 632, 'pages': 3168, 'photos': 3261, 'matched': 2763, 'celebrity': 729, 'photo': 3257, 'generation': 1883, 'madonna': 2699, 'household': 2179, 'secrets': 3852, 'brenda': 575, 'exploration': 1593, 'strangers': 4214, 'sullivan': 4288, 'jeremy': 2394, 'foster': 1809, 'lucy': 2684, 'path': 3209, 'creep': 1051, 'exercise': 1568, 'appeared': 276, 'parker': 3191, 'convey': 982, 'burning': 627, 'importance': 2246, 'gundam': 1997, 'conflict': 939, 'neighbor': 2992, 'secretly': 3851, 'battles': 415, 'armed': 293, 'worry': 4950, 'satisfy': 3790, 'anime': 243, 'horrors': 2169, 'todd': 4510, 'dances': 1106, 'research': 3644, 'christian': 808, 'glorious': 1921, 'rob': 3710, 'hints': 2113, 'amanda': 205, 'generic': 1885, 'superhero': 4299, 'morality': 2903, 'troubles': 4594, 'slaughter': 4021, 'machine': 2693, 'murderous': 2942, 'walls': 4783, 'laws': 2540, 'abandoned': 62, 'ah': 158, 'cliff': 847, 'uwe': 4703, 'boll': 529, 'nail': 2957, 'cia': 814, '1980': 20, 'concerning': 933, 'lips': 2615, 'wolf': 4920, 'fortunately': 1805, 'joey': 2408, 'junior': 2435, 'surprises': 4314, 'mitchell': 2875, 'defend': 1158, 'rule': 3753, 'justice': 2438, 'species': 4098, 'vincent': 4746, 'spoiler': 4123, 'curse': 1086, 'massacre': 2754, 'prom': 3429, 'taxi': 4371, 'annie': 247, 'tracks': 4545, 'careful': 688, 'ultimate': 4627, 'tears': 4380, 'nuclear': 3057, 'explosion': 1596, 'visible': 4753, 'sandler': 3781, 'quote': 3496, 'daily': 1097, 'poverty': 3357, 'africa': 141, 'civil': 826, 'slave': 4022, 'eastern': 1408, 'pal': 3177, 'jesse': 2397, 'generated': 1882, 'focusing': 1769, 'calm': 655, 'fed': 1682, 'lust': 2689, 'shirt': 3937, 'couples': 1017, 'rachel': 3500, 'rocks': 3722, 'passionate': 3206, 'honesty': 2148, 'bothered': 549, 'nomination': 3026, 'wondered': 4927, 'narration': 2965, 'ideal': 2214, 'whale': 4857, 'italy': 2368, 'haunted': 2050, 'visits': 4756, 'portion': 3338, 'gothic': 1945, 'drunken': 1376, 'linda': 2609, 'steals': 4172, 'butler': 637, 'demented': 1176, 'gordon': 1940, '2003': 33, 'introduction': 2339, 'bruce': 602, 'intentionally': 2320, 'betty': 474, 'critical': 1062, 'saves': 3796, 'fighter': 1708, 'jet': 2400, 'iron': 2354, 'ballet': 389, 'holiday': 2134, 'format': 1799, 'stellar': 4174, 'edie': 1419, 'construction': 960, 'miracle': 2860, 'respected': 3653, 'amateurish': 207, 'consistently': 954, 'health': 2060, 'benefit': 465, 'chances': 748, 'mass': 2753, 'depressed': 1187, 'pool': 3327, 'holy': 2140, 'alexander': 180, 'june': 2433, 'colors': 879, 'attacked': 338, 'fears': 1677, 'spoken': 4126, 'accept': 80, 'wrapped': 4964, 'pacino': 3164, 'purchase': 3469, 'liners': 2611, 'sentence': 3881, 'landscapes': 2514, 'warren': 4801, 'assigned': 325, 'racial': 3501, 'warriors': 4803, 'careers': 687, 'wes': 4851, 'installment': 2303, 'awake': 365, 'staying': 4168, 'journalist': 2420, 'chaos': 755, 'carried': 698, 'represented': 3638, 'sloppy': 4030, 'jaws': 2385, 'stunts': 4246, 'horrid': 2165, 'monkey': 2890, 'locked': 2637, 'virus': 4752, 'dancer': 1104, 'afford': 138, 'aka': 168, 'insane': 2296, 'brazil': 568, 'spare': 4093, 'motivation': 2914, 'vague': 4705, 'wonders': 4931, 'greed': 1968, 'mistress': 2874, 'schools': 3814, 'education': 1424, 'month': 2896, '14': 6, 'kay': 2447, '18': 10, 'stan': 4142, 'contest': 967, 'barry': 401, 'bbc': 417, '1990s': 25, 'woody': 4936, 'khan': 2459, 'segments': 3868, 'fitting': 1742, 'prequel': 3372, 'audio': 354, 'vision': 4754, 'stress': 4220, 'iii': 2227, 'methods': 2825, 'movement': 2923, 'scripts': 3836, 'resident': 3647, 'aids': 161, 'extraordinary': 1607, 'donna': 1323, 'trees': 4577, 'aging': 153, 'altogether': 202, 'access': 83, 'husbands': 2205, 'cary': 706, 'boom': 537, 'leg': 2562, 'montana': 2895, 'recording': 3575, 'lumet': 2688, 'conceived': 929, 'dressing': 1359, 'draws': 1352, 'useful': 4694, 'slightest': 4028, '1973': 19, 'ramones': 3512, 'punk': 3468, 'eva': 1531, 'edition': 1422, 'depicting': 1184, 'climax': 849, 'inferior': 2285, 'trashy': 4566, 'happiness': 2031, 'greedy': 1969, 'dialogs': 1233, 'dragon': 1344, 'savage': 3793, 'virginia': 4750, 'mansion': 2731, 'senseless': 3878, 'spike': 4111, 'swim': 4337, 'fascinated': 1657, 'poem': 3312, 'efforts': 1433, 'professor': 3422, 'hire': 2116, 'orson': 3132, 'welles': 4844, 'voiced': 4762, 'futuristic': 1857, 'displays': 1293, 'remarkably': 3614, 'lane': 2515, 'overrated': 3156, 'myers': 2952, 'dickens': 1240, 'officers': 3093, 'murphy': 2944, 'duo': 1386, 'leader': 2546, 'catching': 716, 'horrifying': 2167, 'restored': 3659, 'talked': 4359, 'rough': 3741, 'lesson': 2577, 'mediocre': 2791, 'goodness': 1938, 'diane': 1238, 'businessman': 634, 'liking': 2604, 'hadnt': 2004, 'wrap': 4963, 'burned': 626, 'broadcast': 591, 'cats': 721, 'subplot': 4255, 'sellers': 3872, 'elm': 1447, 'muslim': 2949, 'wounded': 4961, 'shell': 3927, 'vaguely': 4706, 'plight': 3308, 'kings': 2481, 'severe': 3906, 'rules': 3754, 'monk': 2889, 'gender': 1878, 'australia': 356, 'attempted': 341, 'anderson': 227, 'confidence': 938, 'paulie': 3215, 'smoke': 4039, 'heres': 2087, '2002': 32, '2006': 36, 'comedian': 887, 'couldve': 1009, 'winters': 4901, 'brains': 563, 'rocket': 3721, 'forms': 1801, 'homer': 2144, 'spots': 4132, 'stretch': 4221, 'thoughtful': 4463, 'settle': 3902, 'blah': 496, 'trite': 4589, 'rats': 3531, 'rat': 3525, 'sixties': 4011, 'montage': 2894, 'urban': 4688, 'simplistic': 3985, 'earl': 1398, 'mst3k': 2932, 'occasion': 3073, 'suspend': 4329, 'ought': 3138, 'burton': 630, 'ape': 266, 'females': 1694, 'theyd': 4443, 'conventional': 979, 'hank': 2024, 'dare': 1113, 'fill': 1714, 'searching': 3842, 'fooled': 1780, 'cell': 730, 'bet': 470, 'base': 402, 'subtlety': 4261, 'helicopter': 2076, 'channels': 754, 'funeral': 1849, 'blowing': 515, 'lion': 2614, 'styles': 4250, 'imitation': 2241, 'grave': 1962, 'purposes': 3475, 'eccentric': 1414, 'exists': 1573, 'philosophical': 3253, 'santa': 3783, 'parent': 3187, 'tad': 4347, 'willis': 4890, 'simon': 3982, 'tame': 4363, 'proved': 3446, 'dentist': 1180, 'reveals': 3673, 'warn': 4797, 'warner': 4799, 'ripped': 3701, 'intrigue': 2333, 'tap': 4364, 'jungle': 2434, 'incomprehensible': 2267, 'believing': 457, 'reaches': 3538, 'kurt': 2499, '1984': 23, 'chess': 783, 'resort': 3650, 'engaged': 1480, 'crucial': 1068, 'relation': 3595, 'intention': 2319, 'rambo': 3511, 'reduced': 3579, 'represents': 3639, 'caine': 647, 'illogical': 2231, 'dolls': 1316, 'cheating': 776, 'frustration': 1843, 'stiller': 4189, 'matthew': 2772, 'isolated': 2363, 'mario': 2738, 'giallo': 1904, 'doomed': 1327, 'astaire': 330, 'fetched': 1698, 'extended': 1604, 'trademark': 4548, 'masterful': 2758, 'underlying': 4641, 'claire': 831, 'primary': 3394, 'airplane': 166, 'kinda': 2477, 'briefly': 580, 'resembles': 3646, 'unwatchable': 4682, 'noted': 3045, 'psychic': 3456, 'jackson': 2375, 'tree': 4576, 'divorce': 1301, 'heights': 2073, 'uninteresting': 4660, 'returning': 3667, 'endings': 1472, 'viewings': 4741, 'helps': 2082, 'fond': 1776, 'stevens': 4183, 'awe': 370, 'toy': 4542, 'deliberately': 1166, '3d': 46, 'likewise': 2603, 'elegant': 1441, 'phony': 3256, 'exposure': 1599, 'hardy': 2037, 'miserably': 2864, 'escapes': 1519, 'newly': 3004, 'lowest': 2678, 'arrival': 299, 'enemy': 1477, 'incident': 2260, 'maintain': 2710, 'dub': 1378, 'valley': 4707, 'demons': 1178, 'kane': 2442, 'tag': 4348, 'fatal': 1664, 'nearby': 2980, 'eight': 1436, 'unreal': 4676, 'stinker': 4191, 'shoes': 3941, 'robbins': 3712, 'matthau': 2771, 'contract': 973, 'engage': 1479, 'angle': 236, 'mountains': 2918, 'witches': 4910, 'stopped': 4202, 'georges': 1894, 'code': 869, 'citizen': 824, 'generations': 1884, 'adding': 117, 'convoluted': 987, 'elvira': 1450, 'wallace': 4782, 'waves': 4819, 'riveting': 3708, 'climactic': 848, 'diana': 1237, 'terry': 4415, 'considerable': 950, 'directly': 1263, 'authentic': 358, 'intentions': 2321, 'beatty': 427, 'truck': 4595, 'falk': 1636, 'immensely': 2243, 'lucas': 2680, 'germans': 1897, 'bud': 607, 'overdone': 3152, 'nine': 3017, 'survivors': 4325, 'bottle': 550, 'realise': 3548, 'jonathan': 2417, 'beach': 419, 'prisoner': 3402, 'throwing': 4480, 'conservative': 948, 'interpretation': 2328, 'loaded': 2632, 'expensive': 1579, 'jenny': 2393, 'wilson': 4891, 'intent': 2318, 'stilted': 4190, 'thomas': 4458, 'wished': 4905, 'map': 2733, 'wendy': 4846, 'elvis': 1451, 'incoherent': 2265, 'disappeared': 1271, 'swimming': 4338, 'equivalent': 1512, 'subjects': 4254, 'thoughts': 4464, 'hung': 2197, 'burns': 628, 'report': 3635, 'legal': 2563, 'dust': 1388, 'disappoint': 1272, 'monkeys': 2891, '1996': 26, 'cole': 873, 'conversations': 981, 'orders': 3127, 'sounding': 4083, 'defeat': 1157, 'bakshi': 386, 'serve': 3893, 'doll': 1313, 'dawson': 1128, 'rush': 3759, 'arrested': 298, 'passes': 3203, 'blade': 495, 'ian': 2209, 'psychotic': 3459, 'sin': 3988, 'bath': 411, 'possibility': 3349, 'resist': 3648, 'punishment': 3467, 'scarecrow': 3804, 'advertising': 132, 'stinks': 4192, 'tonight': 4519, 'miike': 2837, 'motives': 2916, 'danes': 1108, 'holly': 2136, 'toys': 4543, 'justin': 2440, 'involvement': 2347, 'timothy': 4499, 'dalton': 1098, 'eyre': 1614, 'rochester': 3719, 'cave': 727, 'stanwyck': 4149, 'desired': 1206, 'carpenter': 694, 'stale': 4141, 'comfortable': 892, 'sink': 3999, 'pretending': 3382, 'capturing': 679, 'manhattan': 2726, 'doubts': 1333, 'kiss': 2483, 'elephant': 1444, 'pursuit': 3476, 'destruction': 1216, 'flies': 1756, 'britain': 588, 'widely': 4881, 'prisoners': 3403, 'defined': 1160, 'gray': 1963, 'souls': 4080, 'ghosts': 1903, 'gerard': 1895, 'walken': 4777, 'showdown': 3955, 'backgrounds': 381, 'pamela': 3179, 'preview': 3386, 'advanced': 128, 'assistant': 326, 'berlin': 467, 'titanic': 4503, 'laurel': 2537, 'boxing': 556, 'stargate': 4151, 'describes': 1196, 'airport': 167, 'harvey': 2042, 'techniques': 4384, 'beast': 422, 'killings': 2473, 'porno': 3337, 'craven': 1034, 'trap': 4563, 'stated': 4161, 'louise': 2666, 'crocodile': 1065, 'abraham': 69, 'discuss': 1283, 'progress': 3425, 'homeless': 2143, 'album': 175, 'knock': 2488, 'midnight': 2834, 'margaret': 2735, 'spirited': 4114, 'hunters': 2200, 'mall': 2720, 'jerk': 2395, '1940s': 13, 'reflect': 3584, 'survivor': 4324, 'spain': 4091, 'temple': 4398, 'franco': 1820, 'solo': 4058, 'suffice': 4279, 'warmth': 4796, 'atlantis': 332, 'karloff': 2445, 'doom': 1326, 'holmes': 2139, 'trio': 4587, 'flynn': 1765, 'pearl': 3220, 'prostitute': 3440, 'ease': 1404, 'brilliance': 582, 'hal': 2006, 'unaware': 4632, 'kubrick': 2496, 'francisco': 1819, 'concern': 931, 'karen': 2444, 'oz': 3160, 'peters': 3248, 'gabriel': 1859, 'quotes': 3497, 'splatter': 4118, 'garden': 1872, 'morris': 2908, 'tommy': 4516, 'der': 1191, '16': 8, 'grinch': 1975, 'alcoholic': 177, 'affected': 137, 'chest': 784, 'ellen': 1446, 'repetitive': 3633, 'raising': 3509, 'bela': 450, 'amy': 222, 'scrooge': 3837, 'kingdom': 2480, 'screens': 3832, 'seventies': 3904, 'teach': 4374, 'seed': 3856, 'producing': 3417, 'sneak': 4043, 'implausible': 2245, 'hudson': 2184, 'assumed': 329, 'gadget': 1860, 'brooks': 596, 'godzilla': 1929, 'surfing': 4311, 'marty': 2749, 'mel': 2796, 'symbolism': 4341, 'paltrow': 3178, 'overlook': 3153, 'fulci': 1845, 'dawn': 1127, 'avoided': 364, 'wells': 4845, 'hugh': 2186, 'wizard': 4919, 'fx': 1858, 'survived': 4322, '3rd': 47, 'christians': 809, 'bands': 392, 'mayor': 2777, 'mentions': 2813, 'iran': 2350, 'bacall': 377, 'bull': 619, 'clip': 851, 'pokemon': 3320, 'che': 773}\n"
     ]
    }
   ],
   "source": [
    "print(str(vocabulary))"
   ]
  },
  {
   "cell_type": "markdown",
   "metadata": {},
   "source": [
    "Once you have added the endpoint name to the Lambda function, click on **Save**. Your Lambda function is now up and running. Next we need to create a way for our web app to execute the Lambda function."
   ]
  },
  {
   "cell_type": "markdown",
   "metadata": {},
   "source": [
    "### Setting up API Gateway\n",
    "\n",
    "Now that our Lambda function is set up, it is time to create a new API using API Gateway that will trigger the Lambda function we have just created.\n",
    "\n",
    "Using AWS Console, navigate to **Amazon API Gateway** and then click on **Get started**.\n",
    "\n",
    "On the next page, make sure that **New API** is selected and give the new api a name, for example, `sentiment_analysis_web_app`. Then, click on **Create API**.\n",
    "\n",
    "Now we have created an API, however it doesn't currently do anything. What we want it to do is to trigger the Lambda function that we created earlier.\n",
    "\n",
    "Select the **Actions** dropdown menu and click **Create Method**. A new blank method will be created, select its dropdown menu and select **POST**, then click on the check mark beside it.\n",
    "\n",
    "For the integration point, make sure that **Lambda Function** is selected and click on the **Use Lambda Proxy integration**. This option makes sure that the data that is sent to the API is then sent directly to the Lambda function with no processing. It also means that the return value must be a proper response object as it will also not be processed by API Gateway.\n",
    "\n",
    "Type the name of the Lambda function you created earlier into the **Lambda Function** text entry box and then click on **Save**. Click on **OK** in the pop-up box that then appears, giving permission to API Gateway to invoke the Lambda function you created.\n",
    "\n",
    "The last step in creating the API Gateway is to select the **Actions** dropdown and click on **Deploy API**. You will need to create a new Deployment stage and name it anything you like, for example `prod`.\n",
    "\n",
    "You have now successfully set up a public API to access your SageMaker model. Make sure to copy or write down the URL provided to invoke your newly created public API as this will be needed in the next step. This URL can be found at the top of the page, highlighted in blue next to the text **Invoke URL**."
   ]
  },
  {
   "cell_type": "markdown",
   "metadata": {},
   "source": [
    "## Step 7: Deploying our web app\n",
    "\n",
    "Now that we have a publicly available API, we can start using it in a web app. For our purposes, we have provided a simple static html file which can make use of the public api you created earlier.\n",
    "\n",
    "In the `website` folder there should be a file called `index.html`. Download the file to your computer and open that file up in a text editor of your choice. There should be a line which contains **\\*\\*REPLACE WITH PUBLIC API URL\\*\\***. Replace this string with the url that you wrote down in the last step and then save the file.\n",
    "\n",
    "Now, if you open `index.html` on your local computer, your browser will behave as a local web server and you can use the provided site to interact with your SageMaker model.\n",
    "\n",
    "If you'd like to go further, you can host this html file anywhere you'd like, for example using github or hosting a static site on Amazon's S3. Once you have done this you can share the link with anyone you'd like and have them play with it too!\n",
    "\n",
    "> **Important Note** In order for the web app to communicate with the SageMaker endpoint, the endpoint has to actually be deployed and running. This means that you are paying for it. Make sure that the endpoint is running when you want to use the web app but that you shut it down when you don't need it, otherwise you will end up with a surprisingly large AWS bill."
   ]
  },
  {
   "cell_type": "markdown",
   "metadata": {},
   "source": [
    "### Delete the endpoint\n",
    "\n",
    "Remember to always shut down your endpoint if you are no longer using it. You are charged for the length of time that the endpoint is running so if you forget and leave it on you could end up with an unexpectedly large bill."
   ]
  },
  {
   "cell_type": "code",
   "execution_count": 73,
   "metadata": {},
   "outputs": [],
   "source": [
    "xgb_predictor.delete_endpoint()"
   ]
  },
  {
   "cell_type": "markdown",
   "metadata": {},
   "source": [
    "## Optional: Clean up\n",
    "\n",
    "The default notebook instance on SageMaker doesn't have a lot of excess disk space available. As you continue to complete and execute notebooks you will eventually fill up this disk space, leading to errors which can be difficult to diagnose. Once you are completely finished using a notebook it is a good idea to remove the files that you created along the way. Of course, you can do this from the terminal or from the notebook hub if you would like. The cell below contains some commands to clean up the created files from within the notebook."
   ]
  },
  {
   "cell_type": "code",
   "execution_count": 74,
   "metadata": {},
   "outputs": [],
   "source": [
    "# First we will remove all of the files contained in the data_dir directory\n",
    "!rm $data_dir/*\n",
    "\n",
    "# And then we delete the directory itself\n",
    "!rmdir $data_dir\n",
    "\n",
    "# Similarly we remove the files in the cache_dir directory and the directory itself\n",
    "!rm $cache_dir/*\n",
    "!rmdir $cache_dir"
   ]
  },
  {
   "cell_type": "code",
   "execution_count": null,
   "metadata": {},
   "outputs": [],
   "source": []
  }
 ],
 "metadata": {
  "kernelspec": {
   "display_name": "conda_python3",
   "language": "python",
   "name": "conda_python3"
  },
  "language_info": {
   "codemirror_mode": {
    "name": "ipython",
    "version": 3
   },
   "file_extension": ".py",
   "mimetype": "text/x-python",
   "name": "python",
   "nbconvert_exporter": "python",
   "pygments_lexer": "ipython3",
   "version": "3.6.13"
  }
 },
 "nbformat": 4,
 "nbformat_minor": 2
}
