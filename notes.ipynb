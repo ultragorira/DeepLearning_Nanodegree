{
 "cells": [
  {
   "cell_type": "markdown",
   "metadata": {},
   "source": [
    "#14012022\n",
    "\n",
    "Concepts reviewed:\n",
    "\n",
    "Training and Testing Sets = Training model and use Testing to verify how good model performs. You never use testing data to train the model. \n",
    "Overfitting and Underfitting => Underfitting means the model is too simplistic and tend to oversimplifed the problem. Called also error due to bias. \n",
    "Overfittin is the opposite. Model is way too specific and performs pefectly on training set but on testing it wil fail as it cannot generalize that well. Called also error due to variance. \n",
    "Early Stopping => We do gradient descent until the testing error stops and starts increasing. That is the right spot and called early stopping. \n",
    "Regularization (L1 and L2) => T heproblem is that large coefficients are leading to it.We want to penalize in our error function large weights by either having a sum of the absolute values of the weights multiplied by lambda or the sum of the squares mulitplied by lambda. \n",
    "The first approach is called L1 Regularization. L1 tends to result in sparse vectors means that small weights tend to go to zero. Also this is good if we want to reduce the number of weights and have a small set. For feature selection is good because we can choose the most important ones and turn the rest to zero.\n",
    "The second approach is called L2 Regularization and it is good for training purposes. \n",
    "L2 does not favor sparse vectors since it tries to mantain all the weights homogeneously small. \n",
    "\n",
    "Dropout => a parameter given when training. e.g. 0.2 means 20% of the nodes will be turned off at each epoch. Some nodes may be never turned off and some more than others but in average each node will be turned off equally.\n"
   ]
  },
  {
   "cell_type": "markdown",
   "metadata": {},
   "source": [
    "#15012022\n",
    "\n",
    "Local Minima => When there are multiple low points and gradient descent may end up not at the lowest point but the lowest local point.\n",
    "To avoid this we can do a random restart from different positions and do gradient descent from all of them. \n",
    "Momentum => Another way to avoid local minima. The general idea is that the step to take will be an average of previous steps. Previous step multiplied by 1, previous one by Beta, previous one By Beta squared etc.. \n",
    "Vanish gradient problem => The sigmoid function gets pretty flat on the sides, so when calculating the derivatives at a point fat to right or left, the derivative is almost zero. \n",
    "This is a problem because the derivative is what tells you where to move towards and it would be very tiny steps.\n",
    "\n",
    "Hyperbolic Tangent Function => Another activation function. e^x - e^-x/e^x+ e^x.\n",
    "The values returned are between -1 and 1. \n",
    "\n",
    "ReLU => Rectified Linear Unit. Simple activation function. It return x if x is positive, if x is negative returns 0. ReLU is often used instead of Sigmoid. \n",
    "\n",
    "Stochastic gradient descent => If the data is well-distributed we can subset the data and run each subset throught the network, calculate the error and backpropagate. Then you repeat for next subset. \n",
    "Each step (epoch) may be less accurate than running once with all the data but in practice it is better to take a bunch of slightly inaccurate steps than take only one good one. \n",
    "\n",
    "Learning Rate => If learning rate is too big, you take too big steps. Too low learning rate will lead to too slow model and training. \n",
    "As a rule of thumb if the model is not working, you should decrease the learning rate. "
   ]
  },
  {
   "cell_type": "markdown",
   "metadata": {},
   "source": [
    "#19112022\n",
    "\n",
    "Better initialization of the weights => In Sentiment Analysis prob 3, weights for the hidden layer to output were initialized as ```self.weights_1_2 = np.random.normal(0.0, self.output_nodes**-0.5, (self.hidden_nodes, self.output_nodes))```\n",
    "\n",
    "However, there is a better way of doing it. Normally the weights when initialized should be set to be close to zero without being too small.\n",
    "Good practice is to start the weights in the range of [-y, y] where y is 1/√n where n is the number of inputs of the layer."
   ]
  },
  {
   "cell_type": "markdown",
   "metadata": {},
   "source": [
    "#25012022\n",
    "\n",
    "`Softmax =>` The softmax function is used to calculate probabilities. This function can be used in a classifier only when the classes are mutually exclusive. \n",
    "The values returned will sum up to 1. \n",
    "<img src=\"pics/softmax_function.png\">\n",
    "\n",
    "<img src=\"pics/softmax_symbols.png\">\n",
    "\n",
    "\n",
    "The term on the bottom of the formula is the normalization term. It ensures that all the output values of the function will sum to 1 and each be in the range (0, 1), thus constituting a valid probability distribution.\n",
    "\n",
    "Simply put it you do the exponent (e^n) for each element in the vector, the sum of the value is the denominator. Then you divide each element of the input vector by the denominator and that will give you the probability. All of them summed up will result to 1."
   ]
  },
  {
   "cell_type": "markdown",
   "metadata": {},
   "source": [
    "#26012012\n",
    "\n",
    "Loss function is used to be able to adjust the weight when backpropagation is done. The loss function calculates how bad the predictions were. A typical loss function is the mean squared loss.\n",
    "\n",
    "$$\n",
    "\\large \\ell = \\frac{1}{2n}\\sum_i^n{\\left(y_i - \\hat{y}_i\\right)^2}\n",
    "$$\n",
    "\n",
    "where $n$ is the number of training examples, $y_i$ are the true labels, and $\\hat{y}_i$ are the predicted labels.\n",
    "\n",
    "\n",
    "For a classification problem such the MNIST were a softmax is used to get the probabilities, the CrossEntropyLoss is the function to be used for calculating the loss. \n",
    "However with the CrossEntropyLoss in Pytorch you need to feed the raw output and not the output of the softmax function.\n",
    "\n",
    "Alternatively you can build the model with nn.LogSoftMax or F.log_softmax. Probabilities can be then obtained by doing the exponential (torch.exp(output)). With log_softmax you would need to use the NLLLoss (Negative likelihood loss).\n"
   ]
  }
 ],
 "metadata": {
  "interpreter": {
   "hash": "9244e6e8c562ea0ec0726a39210e7e093201dbedd1fa49bbd40fbf29c80fe905"
  },
  "kernelspec": {
   "display_name": "Python 3.7.7 64-bit",
   "language": "python",
   "name": "python3"
  },
  "language_info": {
   "codemirror_mode": {
    "name": "ipython",
    "version": 3
   },
   "file_extension": ".py",
   "mimetype": "text/x-python",
   "name": "python",
   "nbconvert_exporter": "python",
   "pygments_lexer": "ipython3",
   "version": "3.7.7"
  },
  "orig_nbformat": 4
 },
 "nbformat": 4,
 "nbformat_minor": 2
}
